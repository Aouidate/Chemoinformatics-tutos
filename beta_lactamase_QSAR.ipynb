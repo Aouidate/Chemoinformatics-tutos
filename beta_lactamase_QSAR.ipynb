{
 "cells": [
  {
   "cell_type": "code",
   "execution_count": 2,
   "metadata": {},
   "outputs": [
    {
     "name": "stdout",
     "output_type": "stream",
     "text": [
      "1.19.2\n"
     ]
    }
   ],
   "source": [
    "import pandas as pd\n",
    "import numpy as np\n",
    "import matplotlib.pyplot as plt\n",
    "from mordred import descriptors, Calculator\n",
    "from rdkit import Chem\n",
    "from rdkit.Chem import AllChem\n",
    "print(np.__version__)"
   ]
  },
  {
   "cell_type": "code",
   "execution_count": 3,
   "metadata": {},
   "outputs": [],
   "source": [
    "Calc = Calculator(descs=descriptors, ignore_3D=True)"
   ]
  },
  {
   "cell_type": "code",
   "execution_count": 4,
   "metadata": {},
   "outputs": [
    {
     "data": {
      "text/html": [
       "<div>\n",
       "<style scoped>\n",
       "    .dataframe tbody tr th:only-of-type {\n",
       "        vertical-align: middle;\n",
       "    }\n",
       "\n",
       "    .dataframe tbody tr th {\n",
       "        vertical-align: top;\n",
       "    }\n",
       "\n",
       "    .dataframe thead th {\n",
       "        text-align: right;\n",
       "    }\n",
       "</style>\n",
       "<table border=\"1\" class=\"dataframe\">\n",
       "  <thead>\n",
       "    <tr style=\"text-align: right;\">\n",
       "      <th></th>\n",
       "      <th>canonical_smiles</th>\n",
       "      <th>pchembl_value</th>\n",
       "    </tr>\n",
       "    <tr>\n",
       "      <th>molecule_chembl_id</th>\n",
       "      <th></th>\n",
       "      <th></th>\n",
       "    </tr>\n",
       "  </thead>\n",
       "  <tbody>\n",
       "    <tr>\n",
       "      <th>CHEMBL1795572</th>\n",
       "      <td>CO/N=C(/C(=O)NCP(=O)(O)Oc1ccc(C#N)c(F)c1)c1ccc...</td>\n",
       "      <td>4.51</td>\n",
       "    </tr>\n",
       "    <tr>\n",
       "      <th>CHEMBL3112752</th>\n",
       "      <td>N[C@@H](Cc1ccc(NC(=O)[C@@H]2CC[C@@H]3CN2C(=O)N...</td>\n",
       "      <td>4.55</td>\n",
       "    </tr>\n",
       "    <tr>\n",
       "      <th>CHEMBL3112746</th>\n",
       "      <td>O=C(Nc1ccncc1)[C@@H]1CC[C@@H]2CN1C(=O)N2OS(=O)...</td>\n",
       "      <td>4.70</td>\n",
       "    </tr>\n",
       "    <tr>\n",
       "      <th>CHEMBL1173339</th>\n",
       "      <td>CCC(S)P(=O)(OC(C)C)OC(C)C</td>\n",
       "      <td>5.70</td>\n",
       "    </tr>\n",
       "    <tr>\n",
       "      <th>CHEMBL1172388</th>\n",
       "      <td>CCC(S)P(=O)(O)O</td>\n",
       "      <td>4.82</td>\n",
       "    </tr>\n",
       "    <tr>\n",
       "      <th>...</th>\n",
       "      <td>...</td>\n",
       "      <td>...</td>\n",
       "    </tr>\n",
       "    <tr>\n",
       "      <th>CHEMBL4088285</th>\n",
       "      <td>CC(=O)SCC(CCCc1ccccc1)c1nnn[nH]1</td>\n",
       "      <td>4.38</td>\n",
       "    </tr>\n",
       "    <tr>\n",
       "      <th>CHEMBL4064978</th>\n",
       "      <td>CC(=O)SCC(Cc1ccccc1)c1nnn[nH]1</td>\n",
       "      <td>4.17</td>\n",
       "    </tr>\n",
       "    <tr>\n",
       "      <th>CHEMBL4075406</th>\n",
       "      <td>O=P(O)(O)C(CO)CCCCc1ccccc1</td>\n",
       "      <td>5.35</td>\n",
       "    </tr>\n",
       "    <tr>\n",
       "      <th>CHEMBL4069211</th>\n",
       "      <td>O=P(O)(O)C(CO)CCCc1ccccc1</td>\n",
       "      <td>4.47</td>\n",
       "    </tr>\n",
       "    <tr>\n",
       "      <th>CHEMBL4087458</th>\n",
       "      <td>CCOP(=O)(OCC)C(CS)CCCCc1ccccc1</td>\n",
       "      <td>5.78</td>\n",
       "    </tr>\n",
       "  </tbody>\n",
       "</table>\n",
       "<p>62242 rows × 2 columns</p>\n",
       "</div>"
      ],
      "text/plain": [
       "                                                     canonical_smiles  \\\n",
       "molecule_chembl_id                                                      \n",
       "CHEMBL1795572       CO/N=C(/C(=O)NCP(=O)(O)Oc1ccc(C#N)c(F)c1)c1ccc...   \n",
       "CHEMBL3112752       N[C@@H](Cc1ccc(NC(=O)[C@@H]2CC[C@@H]3CN2C(=O)N...   \n",
       "CHEMBL3112746       O=C(Nc1ccncc1)[C@@H]1CC[C@@H]2CN1C(=O)N2OS(=O)...   \n",
       "CHEMBL1173339                               CCC(S)P(=O)(OC(C)C)OC(C)C   \n",
       "CHEMBL1172388                                         CCC(S)P(=O)(O)O   \n",
       "...                                                               ...   \n",
       "CHEMBL4088285                        CC(=O)SCC(CCCc1ccccc1)c1nnn[nH]1   \n",
       "CHEMBL4064978                          CC(=O)SCC(Cc1ccccc1)c1nnn[nH]1   \n",
       "CHEMBL4075406                              O=P(O)(O)C(CO)CCCCc1ccccc1   \n",
       "CHEMBL4069211                               O=P(O)(O)C(CO)CCCc1ccccc1   \n",
       "CHEMBL4087458                          CCOP(=O)(OCC)C(CS)CCCCc1ccccc1   \n",
       "\n",
       "                    pchembl_value  \n",
       "molecule_chembl_id                 \n",
       "CHEMBL1795572                4.51  \n",
       "CHEMBL3112752                4.55  \n",
       "CHEMBL3112746                4.70  \n",
       "CHEMBL1173339                5.70  \n",
       "CHEMBL1172388                4.82  \n",
       "...                           ...  \n",
       "CHEMBL4088285                4.38  \n",
       "CHEMBL4064978                4.17  \n",
       "CHEMBL4075406                5.35  \n",
       "CHEMBL4069211                4.47  \n",
       "CHEMBL4087458                5.78  \n",
       "\n",
       "[62242 rows x 2 columns]"
      ]
     },
     "execution_count": 4,
     "metadata": {},
     "output_type": "execute_result"
    }
   ],
   "source": [
    "df = pd.read_csv('data_all.csv',index_col=\"molecule_chembl_id\")\n",
    "df"
   ]
  },
  {
   "cell_type": "code",
   "execution_count": 5,
   "metadata": {
    "scrolled": true
   },
   "outputs": [],
   "source": [
    "df.dropna(how= 'any', inplace=True)"
   ]
  },
  {
   "cell_type": "code",
   "execution_count": 6,
   "metadata": {},
   "outputs": [
    {
     "data": {
      "text/html": [
       "<div>\n",
       "<style scoped>\n",
       "    .dataframe tbody tr th:only-of-type {\n",
       "        vertical-align: middle;\n",
       "    }\n",
       "\n",
       "    .dataframe tbody tr th {\n",
       "        vertical-align: top;\n",
       "    }\n",
       "\n",
       "    .dataframe thead th {\n",
       "        text-align: right;\n",
       "    }\n",
       "</style>\n",
       "<table border=\"1\" class=\"dataframe\">\n",
       "  <thead>\n",
       "    <tr style=\"text-align: right;\">\n",
       "      <th></th>\n",
       "      <th>canonical_smiles</th>\n",
       "      <th>pchembl_value</th>\n",
       "    </tr>\n",
       "    <tr>\n",
       "      <th>molecule_chembl_id</th>\n",
       "      <th></th>\n",
       "      <th></th>\n",
       "    </tr>\n",
       "  </thead>\n",
       "  <tbody>\n",
       "    <tr>\n",
       "      <th>CHEMBL1795572</th>\n",
       "      <td>CO/N=C(/C(=O)NCP(=O)(O)Oc1ccc(C#N)c(F)c1)c1ccc...</td>\n",
       "      <td>4.51</td>\n",
       "    </tr>\n",
       "    <tr>\n",
       "      <th>CHEMBL3112752</th>\n",
       "      <td>N[C@@H](Cc1ccc(NC(=O)[C@@H]2CC[C@@H]3CN2C(=O)N...</td>\n",
       "      <td>4.55</td>\n",
       "    </tr>\n",
       "    <tr>\n",
       "      <th>CHEMBL3112746</th>\n",
       "      <td>O=C(Nc1ccncc1)[C@@H]1CC[C@@H]2CN1C(=O)N2OS(=O)...</td>\n",
       "      <td>4.70</td>\n",
       "    </tr>\n",
       "    <tr>\n",
       "      <th>CHEMBL1173339</th>\n",
       "      <td>CCC(S)P(=O)(OC(C)C)OC(C)C</td>\n",
       "      <td>5.70</td>\n",
       "    </tr>\n",
       "    <tr>\n",
       "      <th>CHEMBL1172388</th>\n",
       "      <td>CCC(S)P(=O)(O)O</td>\n",
       "      <td>4.82</td>\n",
       "    </tr>\n",
       "    <tr>\n",
       "      <th>...</th>\n",
       "      <td>...</td>\n",
       "      <td>...</td>\n",
       "    </tr>\n",
       "    <tr>\n",
       "      <th>CHEMBL4088285</th>\n",
       "      <td>CC(=O)SCC(CCCc1ccccc1)c1nnn[nH]1</td>\n",
       "      <td>4.38</td>\n",
       "    </tr>\n",
       "    <tr>\n",
       "      <th>CHEMBL4064978</th>\n",
       "      <td>CC(=O)SCC(Cc1ccccc1)c1nnn[nH]1</td>\n",
       "      <td>4.17</td>\n",
       "    </tr>\n",
       "    <tr>\n",
       "      <th>CHEMBL4075406</th>\n",
       "      <td>O=P(O)(O)C(CO)CCCCc1ccccc1</td>\n",
       "      <td>5.35</td>\n",
       "    </tr>\n",
       "    <tr>\n",
       "      <th>CHEMBL4069211</th>\n",
       "      <td>O=P(O)(O)C(CO)CCCc1ccccc1</td>\n",
       "      <td>4.47</td>\n",
       "    </tr>\n",
       "    <tr>\n",
       "      <th>CHEMBL4087458</th>\n",
       "      <td>CCOP(=O)(OCC)C(CS)CCCCc1ccccc1</td>\n",
       "      <td>5.78</td>\n",
       "    </tr>\n",
       "  </tbody>\n",
       "</table>\n",
       "<p>62226 rows × 2 columns</p>\n",
       "</div>"
      ],
      "text/plain": [
       "                                                     canonical_smiles  \\\n",
       "molecule_chembl_id                                                      \n",
       "CHEMBL1795572       CO/N=C(/C(=O)NCP(=O)(O)Oc1ccc(C#N)c(F)c1)c1ccc...   \n",
       "CHEMBL3112752       N[C@@H](Cc1ccc(NC(=O)[C@@H]2CC[C@@H]3CN2C(=O)N...   \n",
       "CHEMBL3112746       O=C(Nc1ccncc1)[C@@H]1CC[C@@H]2CN1C(=O)N2OS(=O)...   \n",
       "CHEMBL1173339                               CCC(S)P(=O)(OC(C)C)OC(C)C   \n",
       "CHEMBL1172388                                         CCC(S)P(=O)(O)O   \n",
       "...                                                               ...   \n",
       "CHEMBL4088285                        CC(=O)SCC(CCCc1ccccc1)c1nnn[nH]1   \n",
       "CHEMBL4064978                          CC(=O)SCC(Cc1ccccc1)c1nnn[nH]1   \n",
       "CHEMBL4075406                              O=P(O)(O)C(CO)CCCCc1ccccc1   \n",
       "CHEMBL4069211                               O=P(O)(O)C(CO)CCCc1ccccc1   \n",
       "CHEMBL4087458                          CCOP(=O)(OCC)C(CS)CCCCc1ccccc1   \n",
       "\n",
       "                    pchembl_value  \n",
       "molecule_chembl_id                 \n",
       "CHEMBL1795572                4.51  \n",
       "CHEMBL3112752                4.55  \n",
       "CHEMBL3112746                4.70  \n",
       "CHEMBL1173339                5.70  \n",
       "CHEMBL1172388                4.82  \n",
       "...                           ...  \n",
       "CHEMBL4088285                4.38  \n",
       "CHEMBL4064978                4.17  \n",
       "CHEMBL4075406                5.35  \n",
       "CHEMBL4069211                4.47  \n",
       "CHEMBL4087458                5.78  \n",
       "\n",
       "[62226 rows x 2 columns]"
      ]
     },
     "execution_count": 6,
     "metadata": {},
     "output_type": "execute_result"
    }
   ],
   "source": [
    "df"
   ]
  },
  {
   "cell_type": "code",
   "execution_count": 11,
   "metadata": {},
   "outputs": [],
   "source": [
    "y = df['pchembl_value']"
   ]
  },
  {
   "cell_type": "code",
   "execution_count": 37,
   "metadata": {},
   "outputs": [],
   "source": [
    "#mols = [Chem.MolFromSmiles(smi) for smi in df.canonical_smiles ]"
   ]
  },
  {
   "cell_type": "code",
   "execution_count": 38,
   "metadata": {},
   "outputs": [
    {
     "name": "stderr",
     "output_type": "stream",
     "text": [
      "  0%|          | 78/62226 [00:17<6:26:43,  2.68it/s]"
     ]
    },
    {
     "name": "stdout",
     "output_type": "stream",
     "text": [
      "/home/adnane/.conda/envs/rdkit/lib/python3.6/site-packages/numpy/core/fromnumeric.py:87: RuntimeWarning: overflow encountered in reduce\n",
      "  return ufunc.reduce(obj, axis, dtype, out, **passkwargs)\n"
     ]
    },
    {
     "name": "stderr",
     "output_type": "stream",
     "text": [
      "  0%|          | 148/62226 [00:28<5:07:16,  3.37it/s]"
     ]
    },
    {
     "name": "stdout",
     "output_type": "stream",
     "text": [
      "/home/adnane/.conda/envs/rdkit/lib/python3.6/site-packages/numpy/core/fromnumeric.py:87: RuntimeWarning: overflow encountered in reduce\n",
      "  return ufunc.reduce(obj, axis, dtype, out, **passkwargs)\n"
     ]
    },
    {
     "name": "stderr",
     "output_type": "stream",
     "text": [
      "  1%|          | 314/62226 [08:56<675:31:45, 39.28s/it]"
     ]
    },
    {
     "name": "stdout",
     "output_type": "stream",
     "text": [
      "/home/adnane/.conda/envs/rdkit/lib/python3.6/site-packages/numpy/core/fromnumeric.py:87: RuntimeWarning: overflow encountered in reduce\n",
      "  return ufunc.reduce(obj, axis, dtype, out, **passkwargs)\n"
     ]
    },
    {
     "name": "stderr",
     "output_type": "stream",
     "text": [
      "  3%|▎         | 1755/62226 [12:51<2:28:51,  6.77it/s] "
     ]
    },
    {
     "name": "stdout",
     "output_type": "stream",
     "text": [
      "/home/adnane/.conda/envs/rdkit/lib/python3.6/site-packages/numpy/core/fromnumeric.py:87: RuntimeWarning: overflow encountered in reduce\n",
      "  return ufunc.reduce(obj, axis, dtype, out, **passkwargs)\n"
     ]
    },
    {
     "name": "stderr",
     "output_type": "stream",
     "text": [
      "  4%|▎         | 2286/62226 [14:14<3:24:46,  4.88it/s]"
     ]
    },
    {
     "name": "stdout",
     "output_type": "stream",
     "text": [
      "/home/adnane/.conda/envs/rdkit/lib/python3.6/site-packages/numpy/core/fromnumeric.py:87: RuntimeWarning: overflow encountered in reduce\n",
      "  return ufunc.reduce(obj, axis, dtype, out, **passkwargs)\n"
     ]
    },
    {
     "name": "stderr",
     "output_type": "stream",
     "text": [
      "  5%|▍         | 2986/62226 [16:02<3:21:48,  4.89it/s]"
     ]
    },
    {
     "name": "stdout",
     "output_type": "stream",
     "text": [
      "/home/adnane/.conda/envs/rdkit/lib/python3.6/site-packages/numpy/core/fromnumeric.py:87: RuntimeWarning: overflow encountered in reduce\n",
      "  return ufunc.reduce(obj, axis, dtype, out, **passkwargs)\n"
     ]
    },
    {
     "name": "stderr",
     "output_type": "stream",
     "text": [
      " 19%|█▊        | 11572/62226 [38:35<1:56:49,  7.23it/s]"
     ]
    },
    {
     "name": "stdout",
     "output_type": "stream",
     "text": [
      "/home/adnane/.conda/envs/rdkit/lib/python3.6/site-packages/numpy/core/fromnumeric.py:87: RuntimeWarning: overflow encountered in reduce\n",
      "  return ufunc.reduce(obj, axis, dtype, out, **passkwargs)\n"
     ]
    },
    {
     "name": "stderr",
     "output_type": "stream",
     "text": [
      " 33%|███▎      | 20413/62226 [1:01:55<1:17:15,  9.02it/s]"
     ]
    },
    {
     "name": "stdout",
     "output_type": "stream",
     "text": [
      "/home/adnane/.conda/envs/rdkit/lib/python3.6/site-packages/numpy/core/fromnumeric.py:87: RuntimeWarning: overflow encountered in reduce\n",
      "  return ufunc.reduce(obj, axis, dtype, out, **passkwargs)\n"
     ]
    },
    {
     "name": "stderr",
     "output_type": "stream",
     "text": [
      "100%|██████████| 62226/62226 [2:51:54<00:00,  6.03it/s]  \n"
     ]
    }
   ],
   "source": [
    "# df1 = Calc.pandas(mols)"
   ]
  },
  {
   "cell_type": "code",
   "execution_count": 40,
   "metadata": {},
   "outputs": [],
   "source": [
    "#df1.to_csv('data_mordred_descriptors.csv',index=False)"
   ]
  },
  {
   "cell_type": "code",
   "execution_count": 7,
   "metadata": {},
   "outputs": [
    {
     "name": "stderr",
     "output_type": "stream",
     "text": [
      "/home/adnane/.conda/envs/rdkit/lib/python3.6/site-packages/IPython/core/interactiveshell.py:3072: DtypeWarning: Columns (139,140,141,142,148,149,150,151,166,167,168,169,175,176,177,178,184,185,186,187,193,194,195,196,202,203,204,205,211,212,213,214,220,221,222,223,229,230,231,232,233,234,235,236,237,238,239,240,241,341,342,343,344,345,346,347,348,349,355,356,357,358,364,365,366,367,382,383,384,385,391,392,393,394,400,401,402,403,409,410,411,412,418,419,420,421,427,428,429,430,436,437,438,439,445,446,447,448,449,450,451,452,453,454,455,456,461,462,463,464,469,470,471,472,485,486,487,488,493,494,495,496,501,502,503,504,509,510,511,512,517,518,519,520,525,526,527,528,533,534,535,536,541,542,543,544,545,546,547,548,549,550,551,552,557,558,559,560,565,566,567,568,581,582,583,584,589,590,591,592,597,598,599,600,605,606,607,608,613,614,615,616,621,622,623,624,629,630,631,632,637,638,639,640,780,781,829,830,831,832,833,841,845,846,847,848,1363,1364,1366,1582) have mixed types.Specify dtype option on import or set low_memory=False.\n",
      "  interactivity=interactivity, compiler=compiler, result=result)\n"
     ]
    }
   ],
   "source": [
    "df2 = pd.read_csv('data_mordred_descriptors.csv')"
   ]
  },
  {
   "cell_type": "code",
   "execution_count": 8,
   "metadata": {},
   "outputs": [
    {
     "data": {
      "text/plain": [
       "0"
      ]
     },
     "execution_count": 8,
     "metadata": {},
     "output_type": "execute_result"
    }
   ],
   "source": [
    "df2.isnull().sum().sum()"
   ]
  },
  {
   "cell_type": "code",
   "execution_count": 9,
   "metadata": {
    "scrolled": false
   },
   "outputs": [
    {
     "data": {
      "text/html": [
       "<div>\n",
       "<style scoped>\n",
       "    .dataframe tbody tr th:only-of-type {\n",
       "        vertical-align: middle;\n",
       "    }\n",
       "\n",
       "    .dataframe tbody tr th {\n",
       "        vertical-align: top;\n",
       "    }\n",
       "\n",
       "    .dataframe thead th {\n",
       "        text-align: right;\n",
       "    }\n",
       "</style>\n",
       "<table border=\"1\" class=\"dataframe\">\n",
       "  <thead>\n",
       "    <tr style=\"text-align: right;\">\n",
       "      <th></th>\n",
       "      <th>ABC</th>\n",
       "      <th>ABCGG</th>\n",
       "      <th>nAcid</th>\n",
       "      <th>nBase</th>\n",
       "      <th>SpAbs_A</th>\n",
       "      <th>SpMax_A</th>\n",
       "      <th>SpDiam_A</th>\n",
       "      <th>SpAD_A</th>\n",
       "      <th>SpMAD_A</th>\n",
       "      <th>LogEE_A</th>\n",
       "      <th>...</th>\n",
       "      <th>SRW10</th>\n",
       "      <th>TSRW10</th>\n",
       "      <th>MW</th>\n",
       "      <th>AMW</th>\n",
       "      <th>WPath</th>\n",
       "      <th>WPol</th>\n",
       "      <th>Zagreb1</th>\n",
       "      <th>Zagreb2</th>\n",
       "      <th>mZagreb1</th>\n",
       "      <th>mZagreb2</th>\n",
       "    </tr>\n",
       "    <tr>\n",
       "      <th>molecule_chembl_id</th>\n",
       "      <th></th>\n",
       "      <th></th>\n",
       "      <th></th>\n",
       "      <th></th>\n",
       "      <th></th>\n",
       "      <th></th>\n",
       "      <th></th>\n",
       "      <th></th>\n",
       "      <th></th>\n",
       "      <th></th>\n",
       "      <th></th>\n",
       "      <th></th>\n",
       "      <th></th>\n",
       "      <th></th>\n",
       "      <th></th>\n",
       "      <th></th>\n",
       "      <th></th>\n",
       "      <th></th>\n",
       "      <th></th>\n",
       "      <th></th>\n",
       "      <th></th>\n",
       "    </tr>\n",
       "  </thead>\n",
       "  <tbody>\n",
       "    <tr>\n",
       "      <th>CHEMBL1795572</th>\n",
       "      <td>20.323676</td>\n",
       "      <td>17.505420</td>\n",
       "      <td>1</td>\n",
       "      <td>0</td>\n",
       "      <td>32.987875238195095</td>\n",
       "      <td>2.361358623596037</td>\n",
       "      <td>4.703349524078649</td>\n",
       "      <td>32.987875238195095</td>\n",
       "      <td>1.2217731569701886</td>\n",
       "      <td>4.195217540092676</td>\n",
       "      <td>...</td>\n",
       "      <td>10.028224</td>\n",
       "      <td>75.251264</td>\n",
       "      <td>430.990784</td>\n",
       "      <td>11.051046</td>\n",
       "      <td>2077</td>\n",
       "      <td>38</td>\n",
       "      <td>134.0</td>\n",
       "      <td>152.0</td>\n",
       "      <td>10.840277777777779</td>\n",
       "      <td>6.083333</td>\n",
       "    </tr>\n",
       "    <tr>\n",
       "      <th>CHEMBL3112752</th>\n",
       "      <td>22.701374</td>\n",
       "      <td>17.838830</td>\n",
       "      <td>2</td>\n",
       "      <td>1</td>\n",
       "      <td>35.77061152653783</td>\n",
       "      <td>2.513261203169073</td>\n",
       "      <td>4.8519444318822735</td>\n",
       "      <td>35.77061152653783</td>\n",
       "      <td>1.233469362984063</td>\n",
       "      <td>4.2918408172805025</td>\n",
       "      <td>...</td>\n",
       "      <td>10.296981</td>\n",
       "      <td>79.180102</td>\n",
       "      <td>428.100185</td>\n",
       "      <td>8.736738</td>\n",
       "      <td>2550</td>\n",
       "      <td>45</td>\n",
       "      <td>154.0</td>\n",
       "      <td>179.0</td>\n",
       "      <td>11.67361111111111</td>\n",
       "      <td>6.125000</td>\n",
       "    </tr>\n",
       "    <tr>\n",
       "      <th>CHEMBL3112746</th>\n",
       "      <td>18.171004</td>\n",
       "      <td>14.984087</td>\n",
       "      <td>1</td>\n",
       "      <td>0</td>\n",
       "      <td>28.871906486537828</td>\n",
       "      <td>2.51297541719471</td>\n",
       "      <td>4.840590122343192</td>\n",
       "      <td>28.871906486537828</td>\n",
       "      <td>1.2553002820233838</td>\n",
       "      <td>4.073700912247692</td>\n",
       "      <td>...</td>\n",
       "      <td>10.111761</td>\n",
       "      <td>72.159816</td>\n",
       "      <td>342.063405</td>\n",
       "      <td>9.244957</td>\n",
       "      <td>1218</td>\n",
       "      <td>35</td>\n",
       "      <td>124.0</td>\n",
       "      <td>145.0</td>\n",
       "      <td>8.340277777777779</td>\n",
       "      <td>4.847222</td>\n",
       "    </tr>\n",
       "    <tr>\n",
       "      <th>CHEMBL1173339</th>\n",
       "      <td>9.836646</td>\n",
       "      <td>10.281702</td>\n",
       "      <td>0</td>\n",
       "      <td>0</td>\n",
       "      <td>14.994417420144803</td>\n",
       "      <td>2.3421850936361013</td>\n",
       "      <td>4.684370187272203</td>\n",
       "      <td>14.994417420144803</td>\n",
       "      <td>1.0710298157246287</td>\n",
       "      <td>3.4886414968055712</td>\n",
       "      <td>...</td>\n",
       "      <td>9.286097</td>\n",
       "      <td>44.905420</td>\n",
       "      <td>240.094902</td>\n",
       "      <td>6.859854</td>\n",
       "      <td>301</td>\n",
       "      <td>18</td>\n",
       "      <td>62.0</td>\n",
       "      <td>67.0</td>\n",
       "      <td>8.145833333333332</td>\n",
       "      <td>3.250000</td>\n",
       "    </tr>\n",
       "    <tr>\n",
       "      <th>CHEMBL1172388</th>\n",
       "      <td>5.474284</td>\n",
       "      <td>5.948580</td>\n",
       "      <td>2</td>\n",
       "      <td>0</td>\n",
       "      <td>8.261125441030144</td>\n",
       "      <td>2.2059461150510957</td>\n",
       "      <td>4.411892230102192</td>\n",
       "      <td>8.261125441030146</td>\n",
       "      <td>1.0326406801287682</td>\n",
       "      <td>2.924021727636993</td>\n",
       "      <td>...</td>\n",
       "      <td>8.611594</td>\n",
       "      <td>35.861450</td>\n",
       "      <td>156.001002</td>\n",
       "      <td>9.176530</td>\n",
       "      <td>63</td>\n",
       "      <td>8</td>\n",
       "      <td>34.0</td>\n",
       "      <td>35.0</td>\n",
       "      <td>5.423611111111111</td>\n",
       "      <td>1.833333</td>\n",
       "    </tr>\n",
       "    <tr>\n",
       "      <th>...</th>\n",
       "      <td>...</td>\n",
       "      <td>...</td>\n",
       "      <td>...</td>\n",
       "      <td>...</td>\n",
       "      <td>...</td>\n",
       "      <td>...</td>\n",
       "      <td>...</td>\n",
       "      <td>...</td>\n",
       "      <td>...</td>\n",
       "      <td>...</td>\n",
       "      <td>...</td>\n",
       "      <td>...</td>\n",
       "      <td>...</td>\n",
       "      <td>...</td>\n",
       "      <td>...</td>\n",
       "      <td>...</td>\n",
       "      <td>...</td>\n",
       "      <td>...</td>\n",
       "      <td>...</td>\n",
       "      <td>...</td>\n",
       "      <td>...</td>\n",
       "    </tr>\n",
       "    <tr>\n",
       "      <th>CHEMBL4088285</th>\n",
       "      <td>15.027582</td>\n",
       "      <td>12.918010</td>\n",
       "      <td>2</td>\n",
       "      <td>0</td>\n",
       "      <td>25.63604097853057</td>\n",
       "      <td>2.2812008748639356</td>\n",
       "      <td>4.498035649632117</td>\n",
       "      <td>25.63604097853057</td>\n",
       "      <td>1.2818020489265285</td>\n",
       "      <td>3.8934074423944045</td>\n",
       "      <td>...</td>\n",
       "      <td>9.382864</td>\n",
       "      <td>65.521444</td>\n",
       "      <td>290.120132</td>\n",
       "      <td>7.634740</td>\n",
       "      <td>931</td>\n",
       "      <td>22</td>\n",
       "      <td>94.0</td>\n",
       "      <td>103.0</td>\n",
       "      <td>5.944444444444445</td>\n",
       "      <td>4.611111</td>\n",
       "    </tr>\n",
       "    <tr>\n",
       "      <th>CHEMBL4064978</th>\n",
       "      <td>13.613368</td>\n",
       "      <td>12.103860</td>\n",
       "      <td>2</td>\n",
       "      <td>0</td>\n",
       "      <td>23.090738027766694</td>\n",
       "      <td>2.3081318305656393</td>\n",
       "      <td>4.567261994797626</td>\n",
       "      <td>23.090738027766694</td>\n",
       "      <td>1.2828187793203718</td>\n",
       "      <td>3.7959137826910285</td>\n",
       "      <td>...</td>\n",
       "      <td>9.350885</td>\n",
       "      <td>63.185033</td>\n",
       "      <td>262.088832</td>\n",
       "      <td>8.190276</td>\n",
       "      <td>642</td>\n",
       "      <td>20</td>\n",
       "      <td>86.0</td>\n",
       "      <td>95.0</td>\n",
       "      <td>5.444444444444445</td>\n",
       "      <td>4.111111</td>\n",
       "    </tr>\n",
       "    <tr>\n",
       "      <th>CHEMBL4075406</th>\n",
       "      <td>12.435962</td>\n",
       "      <td>11.018284</td>\n",
       "      <td>2</td>\n",
       "      <td>0</td>\n",
       "      <td>20.381165085007243</td>\n",
       "      <td>2.254946478448244</td>\n",
       "      <td>4.509892956896488</td>\n",
       "      <td>20.381165085007243</td>\n",
       "      <td>1.1988920638239555</td>\n",
       "      <td>3.7103466262331675</td>\n",
       "      <td>...</td>\n",
       "      <td>9.334768</td>\n",
       "      <td>48.735843</td>\n",
       "      <td>258.102096</td>\n",
       "      <td>7.169503</td>\n",
       "      <td>622</td>\n",
       "      <td>20</td>\n",
       "      <td>78.0</td>\n",
       "      <td>84.0</td>\n",
       "      <td>6.784722222222222</td>\n",
       "      <td>3.916667</td>\n",
       "    </tr>\n",
       "    <tr>\n",
       "      <th>CHEMBL4069211</th>\n",
       "      <td>11.728855</td>\n",
       "      <td>10.599966</td>\n",
       "      <td>2</td>\n",
       "      <td>0</td>\n",
       "      <td>19.266744822009095</td>\n",
       "      <td>2.2604948457255754</td>\n",
       "      <td>4.520989691451152</td>\n",
       "      <td>19.266744822009098</td>\n",
       "      <td>1.2041715513755686</td>\n",
       "      <td>3.652951316892035</td>\n",
       "      <td>...</td>\n",
       "      <td>9.312265</td>\n",
       "      <td>47.535581</td>\n",
       "      <td>244.086446</td>\n",
       "      <td>7.396559</td>\n",
       "      <td>503</td>\n",
       "      <td>19</td>\n",
       "      <td>74.0</td>\n",
       "      <td>80.0</td>\n",
       "      <td>6.534722222222222</td>\n",
       "      <td>3.666667</td>\n",
       "    </tr>\n",
       "    <tr>\n",
       "      <th>CHEMBL4087458</th>\n",
       "      <td>14.946551</td>\n",
       "      <td>13.355080</td>\n",
       "      <td>0</td>\n",
       "      <td>0</td>\n",
       "      <td>25.773714186583078</td>\n",
       "      <td>2.3361488260598904</td>\n",
       "      <td>4.672297652119779</td>\n",
       "      <td>25.773714186583078</td>\n",
       "      <td>1.2273197231706228</td>\n",
       "      <td>3.912567897562612</td>\n",
       "      <td>...</td>\n",
       "      <td>9.589667</td>\n",
       "      <td>53.767594</td>\n",
       "      <td>330.141852</td>\n",
       "      <td>6.877955</td>\n",
       "      <td>1078</td>\n",
       "      <td>28</td>\n",
       "      <td>94.0</td>\n",
       "      <td>104.0</td>\n",
       "      <td>7.784722222222222</td>\n",
       "      <td>5.166667</td>\n",
       "    </tr>\n",
       "  </tbody>\n",
       "</table>\n",
       "<p>62226 rows × 1613 columns</p>\n",
       "</div>"
      ],
      "text/plain": [
       "                          ABC      ABCGG  nAcid  nBase             SpAbs_A  \\\n",
       "molecule_chembl_id                                                           \n",
       "CHEMBL1795572       20.323676  17.505420      1      0  32.987875238195095   \n",
       "CHEMBL3112752       22.701374  17.838830      2      1   35.77061152653783   \n",
       "CHEMBL3112746       18.171004  14.984087      1      0  28.871906486537828   \n",
       "CHEMBL1173339        9.836646  10.281702      0      0  14.994417420144803   \n",
       "CHEMBL1172388        5.474284   5.948580      2      0   8.261125441030144   \n",
       "...                       ...        ...    ...    ...                 ...   \n",
       "CHEMBL4088285       15.027582  12.918010      2      0   25.63604097853057   \n",
       "CHEMBL4064978       13.613368  12.103860      2      0  23.090738027766694   \n",
       "CHEMBL4075406       12.435962  11.018284      2      0  20.381165085007243   \n",
       "CHEMBL4069211       11.728855  10.599966      2      0  19.266744822009095   \n",
       "CHEMBL4087458       14.946551  13.355080      0      0  25.773714186583078   \n",
       "\n",
       "                               SpMax_A            SpDiam_A  \\\n",
       "molecule_chembl_id                                           \n",
       "CHEMBL1795572        2.361358623596037   4.703349524078649   \n",
       "CHEMBL3112752        2.513261203169073  4.8519444318822735   \n",
       "CHEMBL3112746         2.51297541719471   4.840590122343192   \n",
       "CHEMBL1173339       2.3421850936361013   4.684370187272203   \n",
       "CHEMBL1172388       2.2059461150510957   4.411892230102192   \n",
       "...                                ...                 ...   \n",
       "CHEMBL4088285       2.2812008748639356   4.498035649632117   \n",
       "CHEMBL4064978       2.3081318305656393   4.567261994797626   \n",
       "CHEMBL4075406        2.254946478448244   4.509892956896488   \n",
       "CHEMBL4069211       2.2604948457255754   4.520989691451152   \n",
       "CHEMBL4087458       2.3361488260598904   4.672297652119779   \n",
       "\n",
       "                                SpAD_A             SpMAD_A  \\\n",
       "molecule_chembl_id                                           \n",
       "CHEMBL1795572       32.987875238195095  1.2217731569701886   \n",
       "CHEMBL3112752        35.77061152653783   1.233469362984063   \n",
       "CHEMBL3112746       28.871906486537828  1.2553002820233838   \n",
       "CHEMBL1173339       14.994417420144803  1.0710298157246287   \n",
       "CHEMBL1172388        8.261125441030146  1.0326406801287682   \n",
       "...                                ...                 ...   \n",
       "CHEMBL4088285        25.63604097853057  1.2818020489265285   \n",
       "CHEMBL4064978       23.090738027766694  1.2828187793203718   \n",
       "CHEMBL4075406       20.381165085007243  1.1988920638239555   \n",
       "CHEMBL4069211       19.266744822009098  1.2041715513755686   \n",
       "CHEMBL4087458       25.773714186583078  1.2273197231706228   \n",
       "\n",
       "                               LogEE_A  ...      SRW10     TSRW10          MW  \\\n",
       "molecule_chembl_id                      ...                                     \n",
       "CHEMBL1795572        4.195217540092676  ...  10.028224  75.251264  430.990784   \n",
       "CHEMBL3112752       4.2918408172805025  ...  10.296981  79.180102  428.100185   \n",
       "CHEMBL3112746        4.073700912247692  ...  10.111761  72.159816  342.063405   \n",
       "CHEMBL1173339       3.4886414968055712  ...   9.286097  44.905420  240.094902   \n",
       "CHEMBL1172388        2.924021727636993  ...   8.611594  35.861450  156.001002   \n",
       "...                                ...  ...        ...        ...         ...   \n",
       "CHEMBL4088285       3.8934074423944045  ...   9.382864  65.521444  290.120132   \n",
       "CHEMBL4064978       3.7959137826910285  ...   9.350885  63.185033  262.088832   \n",
       "CHEMBL4075406       3.7103466262331675  ...   9.334768  48.735843  258.102096   \n",
       "CHEMBL4069211        3.652951316892035  ...   9.312265  47.535581  244.086446   \n",
       "CHEMBL4087458        3.912567897562612  ...   9.589667  53.767594  330.141852   \n",
       "\n",
       "                          AMW WPath WPol  Zagreb1  Zagreb2  \\\n",
       "molecule_chembl_id                                           \n",
       "CHEMBL1795572       11.051046  2077   38    134.0    152.0   \n",
       "CHEMBL3112752        8.736738  2550   45    154.0    179.0   \n",
       "CHEMBL3112746        9.244957  1218   35    124.0    145.0   \n",
       "CHEMBL1173339        6.859854   301   18     62.0     67.0   \n",
       "CHEMBL1172388        9.176530    63    8     34.0     35.0   \n",
       "...                       ...   ...  ...      ...      ...   \n",
       "CHEMBL4088285        7.634740   931   22     94.0    103.0   \n",
       "CHEMBL4064978        8.190276   642   20     86.0     95.0   \n",
       "CHEMBL4075406        7.169503   622   20     78.0     84.0   \n",
       "CHEMBL4069211        7.396559   503   19     74.0     80.0   \n",
       "CHEMBL4087458        6.877955  1078   28     94.0    104.0   \n",
       "\n",
       "                              mZagreb1  mZagreb2  \n",
       "molecule_chembl_id                                \n",
       "CHEMBL1795572       10.840277777777779  6.083333  \n",
       "CHEMBL3112752        11.67361111111111  6.125000  \n",
       "CHEMBL3112746        8.340277777777779  4.847222  \n",
       "CHEMBL1173339        8.145833333333332  3.250000  \n",
       "CHEMBL1172388        5.423611111111111  1.833333  \n",
       "...                                ...       ...  \n",
       "CHEMBL4088285        5.944444444444445  4.611111  \n",
       "CHEMBL4064978        5.444444444444445  4.111111  \n",
       "CHEMBL4075406        6.784722222222222  3.916667  \n",
       "CHEMBL4069211        6.534722222222222  3.666667  \n",
       "CHEMBL4087458        7.784722222222222  5.166667  \n",
       "\n",
       "[62226 rows x 1613 columns]"
      ]
     },
     "execution_count": 9,
     "metadata": {},
     "output_type": "execute_result"
    }
   ],
   "source": [
    "df2.set_index(df.index, inplace= True)\n",
    "df2"
   ]
  },
  {
   "cell_type": "code",
   "execution_count": 12,
   "metadata": {},
   "outputs": [
    {
     "data": {
      "text/plain": [
       "ABC         float64\n",
       "ABCGG       float64\n",
       "nAcid         int64\n",
       "nBase         int64\n",
       "SpAbs_A      object\n",
       "             ...   \n",
       "WPol          int64\n",
       "Zagreb1     float64\n",
       "Zagreb2     float64\n",
       "mZagreb1     object\n",
       "mZagreb2    float64\n",
       "Length: 1613, dtype: object"
      ]
     },
     "execution_count": 12,
     "metadata": {},
     "output_type": "execute_result"
    }
   ],
   "source": [
    "df2.dtypes"
   ]
  },
  {
   "cell_type": "markdown",
   "metadata": {},
   "source": [
    "### Convert values to mumerics"
   ]
  },
  {
   "cell_type": "code",
   "execution_count": 13,
   "metadata": {},
   "outputs": [
    {
     "data": {
      "text/plain": [
       "Index(['ABC', 'ABCGG', 'nAcid', 'nBase', 'SpAbs_A', 'SpMax_A', 'SpDiam_A',\n",
       "       'SpAD_A', 'SpMAD_A', 'LogEE_A',\n",
       "       ...\n",
       "       'SRW10', 'TSRW10', 'MW', 'AMW', 'WPath', 'WPol', 'Zagreb1', 'Zagreb2',\n",
       "       'mZagreb1', 'mZagreb2'],\n",
       "      dtype='object', length=1613)"
      ]
     },
     "execution_count": 13,
     "metadata": {},
     "output_type": "execute_result"
    }
   ],
   "source": [
    "data_columuns = df2.columns\n",
    "data_columuns"
   ]
  },
  {
   "cell_type": "code",
   "execution_count": 15,
   "metadata": {},
   "outputs": [],
   "source": [
    "df2 = (df2.drop(columns= data_columuns, axis=1).join(df2[data_columuns].apply(pd.to_numeric, errors='coerce')))"
   ]
  },
  {
   "cell_type": "code",
   "execution_count": 16,
   "metadata": {},
   "outputs": [
    {
     "data": {
      "text/plain": [
       "ABC         float64\n",
       "ABCGG       float64\n",
       "nAcid         int64\n",
       "nBase         int64\n",
       "SpAbs_A     float64\n",
       "             ...   \n",
       "WPol          int64\n",
       "Zagreb1     float64\n",
       "Zagreb2     float64\n",
       "mZagreb1    float64\n",
       "mZagreb2    float64\n",
       "Length: 1613, dtype: object"
      ]
     },
     "execution_count": 16,
     "metadata": {},
     "output_type": "execute_result"
    }
   ],
   "source": [
    "df2.dtypes"
   ]
  },
  {
   "cell_type": "code",
   "execution_count": 18,
   "metadata": {},
   "outputs": [],
   "source": [
    "df2.to_csv('betalactamase_mordred_all_descriptors.csv', index=True)"
   ]
  },
  {
   "cell_type": "code",
   "execution_count": 20,
   "metadata": {},
   "outputs": [
    {
     "data": {
      "text/plain": [
       "0"
      ]
     },
     "execution_count": 20,
     "metadata": {},
     "output_type": "execute_result"
    }
   ],
   "source": [
    "df.isnull().sum().sum()"
   ]
  },
  {
   "cell_type": "code",
   "execution_count": 19,
   "metadata": {},
   "outputs": [],
   "source": [
    "from sklearn.model_selection import train_test_split, StratifiedKFold\n",
    "from sklearn.preprocessing import StandardScaler"
   ]
  },
  {
   "cell_type": "code",
   "execution_count": null,
   "metadata": {},
   "outputs": [],
   "source": [
    "Scaler = StandardScaler()\n"
   ]
  }
 ],
 "metadata": {
  "kernelspec": {
   "display_name": "Python 3",
   "language": "python",
   "name": "python3"
  },
  "language_info": {
   "codemirror_mode": {
    "name": "ipython",
    "version": 3
   },
   "file_extension": ".py",
   "mimetype": "text/x-python",
   "name": "python",
   "nbconvert_exporter": "python",
   "pygments_lexer": "ipython3",
   "version": "3.6.12"
  }
 },
 "nbformat": 4,
 "nbformat_minor": 4
}
