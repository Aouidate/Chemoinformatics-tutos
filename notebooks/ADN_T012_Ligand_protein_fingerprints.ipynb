{
 "cells": [
  {
   "cell_type": "markdown",
   "id": "f100f2ee",
   "metadata": {},
   "source": [
    "# ADN_T012. Ligand Protein fingerprints\n",
    "\n",
    "Authors:\n",
    "\n",
    "* Adnane Aouidate, 2022, Structural Bioinformatics and Chemoinformatics, Institute of Organic and Analytical Chemistry (ICOA), Orléans, France.\n",
    "\n",
    "## Aim of this talktorial\n",
    "\n",
    "# Calculating Interaction Fingerprints with Python and ODDT\n",
    "\n",
    "In the current tutorial, we will embark on a journey to explore the synergy between Python and the Open Drug Discovery Toolkit (ODDT). Our primary objective is to delve into the realm of cheminformatics and learn how to calculate interaction fingerprints that encapsulate the dynamic interactions between a ligand and a protein.\n",
    "\n",
    "Interaction fingerprints offer a multidimensional perspective on the binding events occurring at the molecular level. By combining Python's powerful scripting capabilities with the specialized tools offered by ODDT, we'll uncover the intricacies of these interactions and gain insights into molecular recognition.\n",
    "\n",
    "## Tutorial Highlights\n",
    "\n",
    "- **Introduction to Interaction Fingerprints**: Gain a clear understanding of what interaction fingerprints are and why they play a crucial role in drug discovery and molecular analysis.\n",
    "\n",
    "- **Handling Ligand-Protein Complexes**: Learn how to load and prepare ligand-protein complexes for analysis, ensuring that the structures are correctly formatted.\n",
    "\n",
    "- **Calculating Interaction Fingerprints**: Dive into the core of the tutorial as we explore how to calculate interaction fingerprints using ODDT's intuitive and robust functionalities.\n",
    "\n",
    "- **Interpreting Results**: Discover how to interpret the interaction fingerprints, understanding the significance of different interaction types and their contribution to binding.\n",
    "\n",
    "- **Visualization and Analysis**: Harness the power of Python's data visualization tools to create insightful visual representations of the interaction fingerprints, facilitating easier analysis and communication of results.\n",
    "\n",
    "## Prerequisites\n",
    "\n",
    "- Basic knowledge of Python programming.\n",
    "- Familiarity with fundamental concepts of cheminformatics and molecular biology.\n",
    "\n",
    "## Let's Get Started!\n",
    "\n",
    "We're excited to embark on this journey of exploration and discovery. By the end of this tutorial, you'll be equipped with the skills to harness Python and ODDT to calculate interaction fingerprints effectively. So, without further ado, let's dive in and begin our exploration of molecular interactions in the world of drug discovery!\n",
    "\n",
    "https://oddt.readthedocs.io/en/latest/\n",
    "\n",
    "https://github.com/oddt/oddt"
   ]
  },
  {
   "cell_type": "markdown",
   "id": "4f9889df-6459-4f8e-9f91-873ce98a2ef7",
   "metadata": {},
   "source": [
    "**Protein-ligand interactions**\n",
    "\n",
    "Non-covalent interactions between the ligand and the protein pocket or protein-protein interface play a fundamental role in governing ligand binding. This process relies on a combination of electrostatic and shape complementarities, induced adaptation, desolvation processes, and many other factors."
   ]
  },
  {
   "cell_type": "code",
   "execution_count": 15,
   "id": "948d8269",
   "metadata": {},
   "outputs": [],
   "source": [
    "from pathlib import Path\n",
    "import pandas as pd\n",
    "import oddt\n",
    "import rdkit\n",
    "from rdkit import Chem\n",
    "from rdkit.Chem import PandasTools\n",
    "from oddt import interactions\n",
    "#import oddt.pandas as opd\n",
    "\n",
    "from oddt.fingerprints import PLEC\n",
    "from oddt.fingerprints import InteractionFingerprint, SimpleInteractionFingerprint"
   ]
  },
  {
   "cell_type": "markdown",
   "id": "9522e3c9-2d52-40b5-97b2-ffa87cd66930",
   "metadata": {},
   "source": [
    "**Prepare protein and ligand for ODDT**"
   ]
  },
  {
   "cell_type": "code",
   "execution_count": 11,
   "id": "a133bf0e-bd8f-432a-8bc3-9c65ea821c4d",
   "metadata": {},
   "outputs": [],
   "source": [
    "protein = next(oddt.toolkit.readfile('pdb', \"./PL/5R82_proteinH.pdb\"))\n",
    "protein.protein = True\n",
    "#data = oddt.read_sdf('./PL/Dockedligands.sdf')\n",
    "mols = list(oddt.toolkit.readfile('sdf', './PL/Dockedligands.sdf'))"
   ]
  },
  {
   "cell_type": "code",
   "execution_count": 25,
   "id": "033f913c-0b96-4180-88f1-86355d082966",
   "metadata": {},
   "outputs": [
    {
     "data": {
      "image/png": "[encoded data removed]",
      "text/html": [
       "<img src=\"data:image/png;base64,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\" alt=\"Row1\">"
      ],
      "text/plain": [
       "<img src=\"data:image/png;base64,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\" alt=\"Row1\">"
      ]
     },
     "execution_count": 25,
     "metadata": {},
     "output_type": "execute_result"
    }
   ],
   "source": [
    "mols[12]"
   ]
  },
  {
   "cell_type": "code",
   "execution_count": 22,
   "id": "6b8c4860-1557-47af-bd6e-5b0f7ee086f6",
   "metadata": {},
   "outputs": [
    {
     "ename": "ArgumentError",
     "evalue": "Python argument types in\n    rdkit.Chem.rdmolfiles.MolToSmiles(Molecule)\ndid not match C++ signature:\n    MolToSmiles(RDKit::ROMol mol, bool isomericSmiles=True, bool kekuleSmiles=False, int rootedAtAtom=-1, bool canonical=True, bool allBondsExplicit=False, bool allHsExplicit=False, bool doRandom=False)\n    MolToSmiles(RDKit::ROMol mol, RDKit::SmilesWriteParams params)",
     "output_type": "error",
     "traceback": [
      "\u001b[0;31m---------------------------------------------------------------------------\u001b[0m",
      "\u001b[0;31mArgumentError\u001b[0m                             Traceback (most recent call last)",
      "\u001b[0;32m/var/folders/lx/srv0s20d1vs78lcwbd1_625h0000gn/T/ipykernel_37466/3243872939.py\u001b[0m in \u001b[0;36m<module>\u001b[0;34m\u001b[0m\n\u001b[1;32m      2\u001b[0m \u001b[0;32mfor\u001b[0m \u001b[0mi\u001b[0m\u001b[0;34m,\u001b[0m\u001b[0mmol\u001b[0m \u001b[0;32min\u001b[0m \u001b[0menumerate\u001b[0m\u001b[0;34m(\u001b[0m\u001b[0mmols\u001b[0m\u001b[0;34m)\u001b[0m\u001b[0;34m:\u001b[0m\u001b[0;34m\u001b[0m\u001b[0;34m\u001b[0m\u001b[0m\n\u001b[1;32m      3\u001b[0m     \u001b[0;31m#Chem.SanitizeMol(mol)\u001b[0m\u001b[0;34m\u001b[0m\u001b[0;34m\u001b[0m\u001b[0;34m\u001b[0m\u001b[0m\n\u001b[0;32m----> 4\u001b[0;31m     \u001b[0mdata\u001b[0m\u001b[0;34m.\u001b[0m\u001b[0mloc\u001b[0m\u001b[0;34m[\u001b[0m\u001b[0mi\u001b[0m\u001b[0;34m,\u001b[0m\u001b[0;34m'smiles'\u001b[0m\u001b[0;34m]\u001b[0m\u001b[0;34m=\u001b[0m\u001b[0mChem\u001b[0m\u001b[0;34m.\u001b[0m\u001b[0mMolToSmiles\u001b[0m\u001b[0;34m(\u001b[0m\u001b[0mmol\u001b[0m\u001b[0;34m)\u001b[0m\u001b[0;34m\u001b[0m\u001b[0;34m\u001b[0m\u001b[0m\n\u001b[0m\u001b[1;32m      5\u001b[0m     \u001b[0mdata\u001b[0m\u001b[0;34m.\u001b[0m\u001b[0mloc\u001b[0m\u001b[0;34m[\u001b[0m\u001b[0mi\u001b[0m\u001b[0;34m,\u001b[0m \u001b[0;34m\"Mol\"\u001b[0m\u001b[0;34m]\u001b[0m \u001b[0;34m=\u001b[0m \u001b[0mmol\u001b[0m\u001b[0;34m\u001b[0m\u001b[0;34m\u001b[0m\u001b[0m\n",
      "\u001b[0;31mArgumentError\u001b[0m: Python argument types in\n    rdkit.Chem.rdmolfiles.MolToSmiles(Molecule)\ndid not match C++ signature:\n    MolToSmiles(RDKit::ROMol mol, bool isomericSmiles=True, bool kekuleSmiles=False, int rootedAtAtom=-1, bool canonical=True, bool allBondsExplicit=False, bool allHsExplicit=False, bool doRandom=False)\n    MolToSmiles(RDKit::ROMol mol, RDKit::SmilesWriteParams params)"
     ]
    }
   ],
   "source": [
    "data = pd.DataFrame()\n",
    "for i,mol in enumerate(mols):\n",
    "    #Chem.SanitizeMol(mol)\n",
    "    data.loc[i,'smiles']=Chem.MolToSmiles(mol)\n",
    "    data.loc[i, \"Mol\"] = mol"
   ]
  },
  {
   "cell_type": "code",
   "execution_count": 29,
   "id": "e561c18f-0d8a-4d64-b4ed-96890ede1f65",
   "metadata": {},
   "outputs": [],
   "source": [
    "#IFP = InteractionFingerprint(mols, protein)\n",
    "#SIFP = SimpleInteractionFingerprint(mols, protein)"
   ]
  },
  {
   "cell_type": "code",
   "execution_count": 7,
   "id": "e95cb833-5843-431f-a98a-90a6d8d918cd",
   "metadata": {},
   "outputs": [
    {
     "data": {
      "text/plain": [
       "array([0, 0, 0, ..., 0, 0, 0], dtype=uint8)"
      ]
     },
     "execution_count": 7,
     "metadata": {},
     "output_type": "execute_result"
    }
   ],
   "source": [
    "IFP"
   ]
  },
  {
   "cell_type": "code",
   "execution_count": null,
   "id": "f23a37ba-efa3-42e7-b426-1e6538a39cb5",
   "metadata": {},
   "outputs": [],
   "source": [
    "data['plec'] = data['mol'].map(lambda x: list(PLEC(x, protein=receptor, \n",
    "                                                   size=4092, \n",
    "                                                   depth_protein=5,\n",
    "                                                   depth_ligand=1,\n",
    "                                                   distance_cutoff=4.5,\n",
    "                                                   sparse="
   ]
  },
  {
   "cell_type": "code",
   "execution_count": null,
   "id": "2cf6e73c-430c-433f-bd41-0a39ea9b63c9",
   "metadata": {},
   "outputs": [],
   "source": [
    "oddt_ligand"
   ]
  },
  {
   "cell_type": "code",
   "execution_count": 4,
   "id": "b6db9a27-f9b5-496b-996c-35bc89ec6039",
   "metadata": {},
   "outputs": [],
   "source": [
    "#oddt_prot"
   ]
  },
  {
   "cell_type": "code",
   "execution_count": 5,
   "id": "7b1b7349-5106-4cda-b43a-f991ea680ef1",
   "metadata": {},
   "outputs": [],
   "source": [
    "# Get the protein atom involved in the first H-bond\n",
    "p_at = prot_atoms[0]\n",
    "p_at_resname = p_at['resname']\n",
    "p_at_resnum = p_at['resnum']"
   ]
  },
  {
   "cell_type": "code",
   "execution_count": 6,
   "id": "5b866fd2-128a-4f56-a524-8b94e3cc9e12",
   "metadata": {},
   "outputs": [],
   "source": [
    "# Map back to the atom in the protein object\n",
    "main_struct_at = oddt_prot.atoms[p_at['id']]"
   ]
  },
  {
   "cell_type": "code",
   "execution_count": 10,
   "id": "695ab0c0-6919-4fb2-817b-2b21f3057703",
   "metadata": {},
   "outputs": [
    {
     "data": {
      "text/plain": [
       "<openbabel.openbabel.OBAtom; proxy of <Swig Object of type 'OpenBabel::OBAtom *' at 0x7fe3e2881de0> >"
      ]
     },
     "execution_count": 10,
     "metadata": {},
     "output_type": "execute_result"
    }
   ],
   "source": [
    "main_struct_at.OBAtom"
   ]
  },
  {
   "cell_type": "code",
   "execution_count": 8,
   "id": "f9841bb0-7a0e-4e27-98e2-0f4e9d92f025",
   "metadata": {},
   "outputs": [
    {
     "ename": "AttributeError",
     "evalue": "'Atom' object has no attribute 'Atom'",
     "output_type": "error",
     "traceback": [
      "\u001b[0;31m---------------------------------------------------------------------------\u001b[0m",
      "\u001b[0;31mAttributeError\u001b[0m                            Traceback (most recent call last)",
      "\u001b[0;32m/var/folders/lx/srv0s20d1vs78lcwbd1_625h0000gn/T/ipykernel_56364/1153819866.py\u001b[0m in \u001b[0;36m<module>\u001b[0;34m\u001b[0m\n\u001b[1;32m      2\u001b[0m \u001b[0mmain_struct_at\u001b[0m \u001b[0;34m=\u001b[0m \u001b[0moddt_prot\u001b[0m\u001b[0;34m.\u001b[0m\u001b[0matoms\u001b[0m\u001b[0;34m[\u001b[0m\u001b[0mp_at\u001b[0m\u001b[0;34m[\u001b[0m\u001b[0;34m'id'\u001b[0m\u001b[0;34m]\u001b[0m\u001b[0;34m]\u001b[0m\u001b[0;34m\u001b[0m\u001b[0;34m\u001b[0m\u001b[0m\n\u001b[1;32m      3\u001b[0m \u001b[0;31m# Get the underlying rdkit Atom object:\u001b[0m\u001b[0;34m\u001b[0m\u001b[0;34m\u001b[0m\u001b[0;34m\u001b[0m\u001b[0m\n\u001b[0;32m----> 4\u001b[0;31m \u001b[0mmain_struct_at_rdk\u001b[0m \u001b[0;34m=\u001b[0m \u001b[0mmain_struct_at\u001b[0m\u001b[0;34m.\u001b[0m\u001b[0mAtom\u001b[0m\u001b[0;34m\u001b[0m\u001b[0;34m\u001b[0m\u001b[0m\n\u001b[0m\u001b[1;32m      5\u001b[0m \u001b[0;31m# Get the chain ID and PDB-format atom name\u001b[0m\u001b[0;34m\u001b[0m\u001b[0;34m\u001b[0m\u001b[0;34m\u001b[0m\u001b[0m\n\u001b[1;32m      6\u001b[0m \u001b[0mchain_id\u001b[0m \u001b[0;34m=\u001b[0m \u001b[0mmain_struct_at_rdk\u001b[0m\u001b[0;34m.\u001b[0m\u001b[0mGetPDBResidueInfo\u001b[0m\u001b[0;34m(\u001b[0m\u001b[0;34m)\u001b[0m\u001b[0;34m.\u001b[0m\u001b[0mGetChainId\u001b[0m\u001b[0;34m(\u001b[0m\u001b[0;34m)\u001b[0m\u001b[0;34m\u001b[0m\u001b[0;34m\u001b[0m\u001b[0m\n",
      "\u001b[0;31mAttributeError\u001b[0m: 'Atom' object has no attribute 'Atom'"
     ]
    }
   ],
   "source": [
    "# Map back to the atom in the protein object\n",
    "main_struct_at = oddt_prot.atoms[p_at['id']]\n",
    "# Get the underlying rdkit Atom object:\n",
    "main_struct_at_rdk = main_struct_at.Atom\n",
    "# Get the chain ID and PDB-format atom name\n",
    "chain_id = main_struct_at_rdk.GetPDBResidueInfo().GetChainId()\n",
    "atom_name = main_struct_at_rdk.GetPDBResidueInfo().GetName()"
   ]
  },
  {
   "cell_type": "code",
   "execution_count": 13,
   "id": "034cf40d-6b4c-43cb-863d-3370db2951c7",
   "metadata": {},
   "outputs": [
    {
     "ename": "AttributeError",
     "evalue": "'Atom' object has no attribute 'Atom'",
     "output_type": "error",
     "traceback": [
      "\u001b[0;31m---------------------------------------------------------------------------\u001b[0m",
      "\u001b[0;31mAttributeError\u001b[0m                            Traceback (most recent call last)",
      "\u001b[0;32m/var/folders/lx/srv0s20d1vs78lcwbd1_625h0000gn/T/ipykernel_43191/1091911230.py\u001b[0m in \u001b[0;36m<module>\u001b[0;34m\u001b[0m\n\u001b[1;32m     13\u001b[0m     \u001b[0mmain_struct_at\u001b[0m \u001b[0;34m=\u001b[0m \u001b[0moddt_prot\u001b[0m\u001b[0;34m.\u001b[0m\u001b[0matoms\u001b[0m\u001b[0;34m[\u001b[0m\u001b[0mp_at\u001b[0m\u001b[0;34m[\u001b[0m\u001b[0;34m'id'\u001b[0m\u001b[0;34m]\u001b[0m\u001b[0;34m]\u001b[0m\u001b[0;34m\u001b[0m\u001b[0;34m\u001b[0m\u001b[0m\n\u001b[1;32m     14\u001b[0m     \u001b[0;31m# Get the underlying rdkit Atom object:\u001b[0m\u001b[0;34m\u001b[0m\u001b[0;34m\u001b[0m\u001b[0;34m\u001b[0m\u001b[0m\n\u001b[0;32m---> 15\u001b[0;31m     \u001b[0mmain_struct_at_rdk\u001b[0m \u001b[0;34m=\u001b[0m \u001b[0mmain_struct_at\u001b[0m\u001b[0;34m.\u001b[0m\u001b[0mAtom\u001b[0m\u001b[0;34m\u001b[0m\u001b[0;34m\u001b[0m\u001b[0m\n\u001b[0m\u001b[1;32m     16\u001b[0m     \u001b[0;31m# Get the chain ID and PDB-format atom name\u001b[0m\u001b[0;34m\u001b[0m\u001b[0;34m\u001b[0m\u001b[0;34m\u001b[0m\u001b[0m\n\u001b[1;32m     17\u001b[0m     \u001b[0mchains\u001b[0m\u001b[0;34m.\u001b[0m\u001b[0mappend\u001b[0m\u001b[0;34m(\u001b[0m\u001b[0mmain_struct_at_rdk\u001b[0m\u001b[0;34m.\u001b[0m\u001b[0mGetPDBResidueInfo\u001b[0m\u001b[0;34m(\u001b[0m\u001b[0;34m)\u001b[0m\u001b[0;34m.\u001b[0m\u001b[0mGetChainId\u001b[0m\u001b[0;34m(\u001b[0m\u001b[0;34m)\u001b[0m\u001b[0;34m)\u001b[0m\u001b[0;34m\u001b[0m\u001b[0;34m\u001b[0m\u001b[0m\n",
      "\u001b[0;31mAttributeError\u001b[0m: 'Atom' object has no attribute 'Atom'"
     ]
    }
   ],
   "source": [
    "import pandas as pd \n",
    "import numpy as np\n",
    "\n",
    "resis = []\n",
    "resns = []\n",
    "chains = []\n",
    "atomns = []\n",
    "\n",
    "for p_at in prot_atoms:\n",
    "    resis.append(p_at['resnum'])\n",
    "    resns.append(p_at['resname'])\n",
    "    # Map back to the atom in the protein object\n",
    "    main_struct_at = oddt_prot.atoms[p_at['id']]\n",
    "    # Get the underlying rdkit Atom object:\n",
    "    main_struct_at_rdk = main_struct_at.Atom\n",
    "    # Get the chain ID and PDB-format atom name\n",
    "    chains.append(main_struct_at_rdk.GetPDBResidueInfo().GetChainId())\n",
    "    atomns.append(main_struct_at_rdk.GetPDBResidueInfo().GetName())\n",
    "\n",
    "colnames = ['residue_number', 'residue_name', 'chain', 'atom']\n",
    "prot_df = pd.DataFrame(data=np.array([resis, resns, chains, atomns]).T, columns = colnames)\n",
    "prot_df"
   ]
  },
  {
   "cell_type": "code",
   "execution_count": null,
   "id": "03245e4c-1158-4888-a884-3921d6bb6c2d",
   "metadata": {},
   "outputs": [],
   "source": []
  }
 ],
 "metadata": {
  "kernelspec": {
   "display_name": "Python 3 (ipykernel)",
   "language": "python",
   "name": "python3"
  },
  "language_info": {
   "codemirror_mode": {
    "name": "ipython",
    "version": 3
   },
   "file_extension": ".py",
   "mimetype": "text/x-python",
   "name": "python",
   "nbconvert_exporter": "python",
   "pygments_lexer": "ipython3",
   "version": "3.7.13"
  }
 },
 "nbformat": 4,
 "nbformat_minor": 5
}
