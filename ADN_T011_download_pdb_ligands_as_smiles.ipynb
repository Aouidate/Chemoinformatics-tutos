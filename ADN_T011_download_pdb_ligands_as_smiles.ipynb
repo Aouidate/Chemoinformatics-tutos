{
 "cells": [
  {
   "cell_type": "markdown",
   "metadata": {},
   "source": [
    "# ADN_T011. Download pdb database igands\n",
    "Authors:\n",
    "\n",
    "* Adnane Aouidate, (2019-2020), Computer Aided Drug Discovery Center, Shenzhen Institute of Advanced Technology(SIAT), Shenzhen, China.\n",
    "* Adnane Aouidate, (2021-2022), Structural Bioinformatics and Chemoinformatics, Institute of Organic and Analytical Chemistry (ICOA), Orléans, France.\n",
    "* Update , 2023, Ait Melloul Faculty of Applied Sciences, Ibn Zohr University, Agadir, Morocco,\n",
    "\n",
    "##  Aim of this jupyter notebook\n",
    "\n",
    "The aim of the Tutorial is to download all pdb database ligand visulize them and finally save them as SDF.\n",
    "\n",
    "Let's get statrt it is hyper easy."
   ]
  },
  {
   "cell_type": "code",
   "execution_count": 1,
   "metadata": {
    "scrolled": true
   },
   "outputs": [],
   "source": [
    "import requests\n",
    "import sys\n",
    "import os\n",
    "from rdkit import Chem\n",
    "from rdkit.Chem import Draw, PandasTools, AllChem\n",
    "import pandas as pd\n",
    "import numpy as np\n",
    "from pathlib import Path"
   ]
  },
  {
   "cell_type": "code",
   "execution_count": 2,
   "metadata": {},
   "outputs": [],
   "source": [
    "HERE = Path(_dh[-1])"
   ]
  },
  {
   "cell_type": "markdown",
   "metadata": {},
   "source": [
    "# Download the smiles file"
   ]
  },
  {
   "cell_type": "code",
   "execution_count": 4,
   "metadata": {},
   "outputs": [],
   "source": [
    "filename = \"Components-smiles-stereo-oe.smi\""
   ]
  },
  {
   "cell_type": "code",
   "execution_count": 20,
   "metadata": {},
   "outputs": [],
   "source": [
    "url = f\"http://ligand-expo.rcsb.org/dictionaries/{filename}\"\n",
    "r = requests.get(url, allow_redirects= True)\n",
    "with open(\"Components-smiles-stereo-oe.smi\", mode='wb') as f:\n",
    "    f.write(r.content)\n",
    "# open(\"Components-smiles-stereo-oe.smi\", mode='wb').write(r.content)"
   ]
  },
  {
   "cell_type": "markdown",
   "metadata": {},
   "source": [
    "# Read the file as dataframe"
   ]
  },
  {
   "cell_type": "code",
   "execution_count": 21,
   "metadata": {},
   "outputs": [],
   "source": [
    "ligand = pd.read_csv(filename, sep= \"\\t\",\n",
    "                     header= None,\n",
    "                     names =[\"SMILES\", \"ID\", \"Name\"])"
   ]
  },
  {
   "cell_type": "code",
   "execution_count": 22,
   "metadata": {},
   "outputs": [
    {
     "data": {
      "text/html": [
       "<div>\n",
       "<style scoped>\n",
       "    .dataframe tbody tr th:only-of-type {\n",
       "        vertical-align: middle;\n",
       "    }\n",
       "\n",
       "    .dataframe tbody tr th {\n",
       "        vertical-align: top;\n",
       "    }\n",
       "\n",
       "    .dataframe thead th {\n",
       "        text-align: right;\n",
       "    }\n",
       "</style>\n",
       "<table border=\"1\" class=\"dataframe\">\n",
       "  <thead>\n",
       "    <tr style=\"text-align: right;\">\n",
       "      <th></th>\n",
       "      <th>SMILES</th>\n",
       "      <th>ID</th>\n",
       "      <th>Name</th>\n",
       "    </tr>\n",
       "  </thead>\n",
       "  <tbody>\n",
       "    <tr>\n",
       "      <th>0</th>\n",
       "      <td>COC(=O)O</td>\n",
       "      <td>000</td>\n",
       "      <td>methyl hydrogen carbonate</td>\n",
       "    </tr>\n",
       "    <tr>\n",
       "      <th>1</th>\n",
       "      <td>COc1cc(cc(c1OC)OC)C(C(=O)N2CCCC[C@H]2C(=O)O[C@...</td>\n",
       "      <td>001</td>\n",
       "      <td>1-[2,2-difluoro-2-(3,4,5-trimethoxy-phenyl)-ac...</td>\n",
       "    </tr>\n",
       "    <tr>\n",
       "      <th>2</th>\n",
       "      <td>CC[C@H](C)[C@@H](C(=O)N[C@@H](CC(C)C)C(=O)O)NC...</td>\n",
       "      <td>002</td>\n",
       "      <td>n-[(2r)-2-benzyl-4-(hydroxyamino)-4-oxobutanoy...</td>\n",
       "    </tr>\n",
       "    <tr>\n",
       "      <th>3</th>\n",
       "      <td>CC(C)CN1c2c(c(n(n2)Cc3cccc4c3cccc4)c5ccncc5)C(...</td>\n",
       "      <td>003</td>\n",
       "      <td>5-methyl-7-(2-methylpropyl)-2-(naphthalen-1-yl...</td>\n",
       "    </tr>\n",
       "    <tr>\n",
       "      <th>4</th>\n",
       "      <td>c1ccc(cc1)[C@@H](C(=O)O)N</td>\n",
       "      <td>004</td>\n",
       "      <td>(2s)-amino(phenyl)ethanoic acid</td>\n",
       "    </tr>\n",
       "    <tr>\n",
       "      <th>...</th>\n",
       "      <td>...</td>\n",
       "      <td>...</td>\n",
       "      <td>...</td>\n",
       "    </tr>\n",
       "    <tr>\n",
       "      <th>37854</th>\n",
       "      <td>C[N@@](c1c2cccnc2c(c3c1CN(C3=O)Cc4ccc(cc4)F)O)...</td>\n",
       "      <td>ZZV</td>\n",
       "      <td>n-[7-(4-fluorobenzyl)-9-hydroxy-8-oxo-7,8-dihy...</td>\n",
       "    </tr>\n",
       "    <tr>\n",
       "      <th>37855</th>\n",
       "      <td>c1ccc2c(c1)c3cc(ncc3n2Cc4ccc(cc4)F)C(=O)NO</td>\n",
       "      <td>ZZW</td>\n",
       "      <td>9-(4-fluorobenzyl)-n-hydroxy-9h-beta-carboline...</td>\n",
       "    </tr>\n",
       "    <tr>\n",
       "      <th>37856</th>\n",
       "      <td>CCN1C[C@@H](n2c3c(c(c2C1=O)O)C(=O)N(N=C3C(=O)N...</td>\n",
       "      <td>ZZX</td>\n",
       "      <td>(6s)-2-(3-chloro-4-fluorobenzyl)-8-ethyl-10-hy...</td>\n",
       "    </tr>\n",
       "    <tr>\n",
       "      <th>37857</th>\n",
       "      <td>c1ccc(c(c1)[N+](=O)[O-])S(=O)(=O)n2ccc3c2cc(cn...</td>\n",
       "      <td>ZZY</td>\n",
       "      <td>1-[(2-nitrophenyl)sulfonyl]-1h-pyrrolo[3,2-b]p...</td>\n",
       "    </tr>\n",
       "    <tr>\n",
       "      <th>37858</th>\n",
       "      <td>C1[C@@H](NC2=C(N1)N=C(NC2=O)N)C=O</td>\n",
       "      <td>ZZZ</td>\n",
       "      <td>6-formyltetrahydropterin</td>\n",
       "    </tr>\n",
       "  </tbody>\n",
       "</table>\n",
       "<p>37859 rows × 3 columns</p>\n",
       "</div>"
      ],
      "text/plain": [
       "                                                  SMILES   ID  \\\n",
       "0                                               COC(=O)O  000   \n",
       "1      COc1cc(cc(c1OC)OC)C(C(=O)N2CCCC[C@H]2C(=O)O[C@...  001   \n",
       "2      CC[C@H](C)[C@@H](C(=O)N[C@@H](CC(C)C)C(=O)O)NC...  002   \n",
       "3      CC(C)CN1c2c(c(n(n2)Cc3cccc4c3cccc4)c5ccncc5)C(...  003   \n",
       "4                              c1ccc(cc1)[C@@H](C(=O)O)N  004   \n",
       "...                                                  ...  ...   \n",
       "37854  C[N@@](c1c2cccnc2c(c3c1CN(C3=O)Cc4ccc(cc4)F)O)...  ZZV   \n",
       "37855         c1ccc2c(c1)c3cc(ncc3n2Cc4ccc(cc4)F)C(=O)NO  ZZW   \n",
       "37856  CCN1C[C@@H](n2c3c(c(c2C1=O)O)C(=O)N(N=C3C(=O)N...  ZZX   \n",
       "37857  c1ccc(c(c1)[N+](=O)[O-])S(=O)(=O)n2ccc3c2cc(cn...  ZZY   \n",
       "37858                  C1[C@@H](NC2=C(N1)N=C(NC2=O)N)C=O  ZZZ   \n",
       "\n",
       "                                                    Name  \n",
       "0                              methyl hydrogen carbonate  \n",
       "1      1-[2,2-difluoro-2-(3,4,5-trimethoxy-phenyl)-ac...  \n",
       "2      n-[(2r)-2-benzyl-4-(hydroxyamino)-4-oxobutanoy...  \n",
       "3      5-methyl-7-(2-methylpropyl)-2-(naphthalen-1-yl...  \n",
       "4                        (2s)-amino(phenyl)ethanoic acid  \n",
       "...                                                  ...  \n",
       "37854  n-[7-(4-fluorobenzyl)-9-hydroxy-8-oxo-7,8-dihy...  \n",
       "37855  9-(4-fluorobenzyl)-n-hydroxy-9h-beta-carboline...  \n",
       "37856  (6s)-2-(3-chloro-4-fluorobenzyl)-8-ethyl-10-hy...  \n",
       "37857  1-[(2-nitrophenyl)sulfonyl]-1h-pyrrolo[3,2-b]p...  \n",
       "37858                           6-formyltetrahydropterin  \n",
       "\n",
       "[37859 rows x 3 columns]"
      ]
     },
     "execution_count": 22,
     "metadata": {},
     "output_type": "execute_result"
    }
   ],
   "source": [
    "ligand"
   ]
  },
  {
   "cell_type": "code",
   "execution_count": null,
   "metadata": {},
   "outputs": [],
   "source": []
  }
 ],
 "metadata": {
  "kernelspec": {
   "display_name": "Python 3 (ipykernel)",
   "language": "python",
   "name": "python3"
  },
  "language_info": {
   "codemirror_mode": {
    "name": "ipython",
    "version": 3
   },
   "file_extension": ".py",
   "mimetype": "text/x-python",
   "name": "python",
   "nbconvert_exporter": "python",
   "pygments_lexer": "ipython3",
   "version": "3.7.13"
  },
  "toc": {
   "base_numbering": 1,
   "nav_menu": {},
   "number_sections": true,
   "sideBar": true,
   "skip_h1_title": false,
   "title_cell": "Table of Contents similarity between molecules using either Molecular descriptors ot Molecular fingerprints.",
   "title_sidebar": "Contents",
   "toc_cell": false,
   "toc_position": {},
   "toc_section_display": true,
   "toc_window_display": false
  }
 },
 "nbformat": 4,
 "nbformat_minor": 4
}
