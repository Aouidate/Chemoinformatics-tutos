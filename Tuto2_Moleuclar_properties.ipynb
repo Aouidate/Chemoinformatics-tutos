{
 "cells": [
  {
   "cell_type": "markdown",
   "metadata": {},
   "source": [
    "# Structure Sanitization\n",
    "\n",
    "http://www.rdkit.org/docs/RDKit_Book.html#molecular-sanitization\n",
    "\n",
    "The molecule parsing functions all, by default, perform a “sanitization” operation on the molecules read. The idea is to generate useful computed properties (like hybridization, ring membership, etc.) for the rest of the code and to ensure that the molecules are “reasonable”: that they can be represented with octet-complete Lewis dot structures.\n",
    "\n",
    "Here are the steps involved, in order.\n",
    "\n",
    "Here are the steps involved, in order.\n",
    "\n",
    "        clearComputedProps: removes any computed properties that already exist\n",
    "\n",
    "            on the molecule and its atoms and bonds. This step is always performed.\n",
    "\n",
    "        cleanUp: standardizes a small number of non-standard valence states. The clean up operations are:\n",
    "\n",
    "                Neutral 5 valent Ns with double bonds to Os are converted to the zwitterionic form. Example: N(=O)=O -> [N+](=O)O-]\n",
    "\n",
    "                Neutral 5 valent Ns with triple bonds to another N are converted to the zwitterionic form. Example: C-N=N#N -> C-N=[N+]=[N-]\n",
    "\n",
    "                Neutral 5 valent phosphorus with one double bond to an O and another to either a C or a P are converted to the zwitterionic form. Example: C=P(=O)O -> C=[P+]([O-])O\n",
    "\n",
    "                Neutral Cl, Br, or I with exclusively O neighbors, and a valence of 3, 5, or 7, are converted to the zwitterionic form. This covers things like chlorous acid, chloric acid, and perchloric acid. Example: O=Cl(=O)O -> [O-][Cl+2][O-]O\n",
    "\n",
    "        This step should not generate exceptions.\n",
    "\n",
    "        updatePropertyCache: calculates the explicit and implicit valences on all atoms. This generates exceptions for atoms in higher-than-allowed valence states. This step is always performed, but if it is “skipped” the test for non-standard valences will not be carried out.\n",
    "\n",
    "        symmetrizeSSSR: calls the symmetrized smallest set of smallest rings algorithm (discussed in the Getting Started document).\n",
    "\n",
    "        Kekulize: converts aromatic rings to their Kekule form. Will raise an exception if a ring cannot be kekulized or if aromatic bonds are found outside of rings.\n",
    "\n",
    "        assignRadicals: determines the number of radical electrons (if any) on each atom.\n",
    "\n",
    "        setAromaticity: identifies the aromatic rings and ring systems (see above), sets the aromatic flag on atoms and bonds, sets bond orders to aromatic.\n",
    "\n",
    "        setConjugation: identifies which bonds are conjugated\n",
    "\n",
    "        setHybridization: calculates the hybridization state of each atom\n",
    "\n",
    "        cleanupChirality: removes chiral tags from atoms that are not sp3 hybridized.\n",
    "\n",
    "        adjustHs: adds explicit Hs where necessary to preserve the chemistry. This is typically needed for heteroatoms in aromatic rings. The classic example is the nitrogen atom in pyrrole.\n",
    "\n",
    "The individual steps can be toggled on or off when calling MolOps::sanitizeMol or Chem.SanitizeMol.\n"
   ]
  },
  {
   "cell_type": "code",
   "execution_count": 2,
   "metadata": {},
   "outputs": [],
   "source": [
    "from rdkit import Chem\n",
    "from rdkit.Chem.Draw import IPythonConsole\n",
    "from rdkit.Chem import Draw\n",
    "IPythonConsole.ipython_useSVG=True"
   ]
  },
  {
   "cell_type": "code",
   "execution_count": 3,
   "metadata": {},
   "outputs": [
    {
     "name": "stderr",
     "output_type": "stream",
     "text": [
      "RDKit ERROR: [12:37:20] non-ring atom 1 marked aromatic\n"
     ]
    }
   ],
   "source": [
    "m = Chem.MolFromSmiles('Cn(:n):o')"
   ]
  },
  {
   "cell_type": "markdown",
   "metadata": {},
   "source": [
    "## Working with molecules\n",
    "\n",
    "### Looping over atoms and bonds"
   ]
  },
  {
   "cell_type": "code",
   "execution_count": 4,
   "metadata": {},
   "outputs": [],
   "source": [
    "m = Chem.MolFromSmiles('C1OC=C1')"
   ]
  },
  {
   "cell_type": "code",
   "execution_count": 6,
   "metadata": {},
   "outputs": [
    {
     "name": "stdout",
     "output_type": "stream",
     "text": [
      "6\n",
      "8\n",
      "6\n",
      "6\n"
     ]
    }
   ],
   "source": [
    "for atom in m.GetAtoms():\n",
    "    print(atom.GetAtomicNum())"
   ]
  },
  {
   "cell_type": "code",
   "execution_count": 7,
   "metadata": {},
   "outputs": [
    {
     "name": "stdout",
     "output_type": "stream",
     "text": [
      "SINGLE\n",
      "SINGLE\n",
      "DOUBLE\n",
      "SINGLE\n"
     ]
    }
   ],
   "source": [
    "for bond in m.GetBonds():\n",
    "    print(bond.GetBondType())"
   ]
  },
  {
   "cell_type": "markdown",
   "metadata": {},
   "source": [
    "## Molecules properties\n",
    "\n",
    "\n",
    "You may set and read properties of molecules, which can be stored in property fields of sdf files."
   ]
  },
  {
   "cell_type": "code",
   "execution_count": 8,
   "metadata": {},
   "outputs": [],
   "source": [
    "m.SetProp(\"Activity\", \"active\")"
   ]
  },
  {
   "cell_type": "code",
   "execution_count": 9,
   "metadata": {},
   "outputs": [],
   "source": [
    "m.SetProp(\"PIC50\", \"9.5\")"
   ]
  },
  {
   "cell_type": "code",
   "execution_count": 10,
   "metadata": {},
   "outputs": [
    {
     "data": {
      "text/plain": [
       "'9.5'"
      ]
     },
     "execution_count": 10,
     "metadata": {},
     "output_type": "execute_result"
    }
   ],
   "source": [
    "m.GetProp(\"PIC50\")"
   ]
  },
  {
   "cell_type": "markdown",
   "metadata": {},
   "source": [
    "## Magic properties\n",
    "\n",
    "There are a lot of 'magic' properties of atoms/bonds and molecules. More details can be found at http://www.rdkit.org/docs/RDKit_Book.html#magic-property-values\n",
    "One of them is a title or a name of a molecule (\"_Name\")"
   ]
  },
  {
   "cell_type": "code",
   "execution_count": 11,
   "metadata": {},
   "outputs": [],
   "source": [
    "m.SetProp(\"_Name\", \"Give a name here\")"
   ]
  },
  {
   "cell_type": "code",
   "execution_count": 12,
   "metadata": {},
   "outputs": [
    {
     "data": {
      "text/plain": [
       "'Give a name here'"
      ]
     },
     "execution_count": 12,
     "metadata": {},
     "output_type": "execute_result"
    }
   ],
   "source": [
    "m.GetProp(\"_Name\")"
   ]
  },
  {
   "cell_type": "code",
   "execution_count": null,
   "metadata": {},
   "outputs": [],
   "source": []
  }
 ],
 "metadata": {
  "kernelspec": {
   "display_name": "Python 3",
   "language": "python",
   "name": "python3"
  },
  "language_info": {
   "codemirror_mode": {
    "name": "ipython",
    "version": 3
   },
   "file_extension": ".py",
   "mimetype": "text/x-python",
   "name": "python",
   "nbconvert_exporter": "python",
   "pygments_lexer": "ipython3",
   "version": "3.6.12"
  }
 },
 "nbformat": 4,
 "nbformat_minor": 4
}
