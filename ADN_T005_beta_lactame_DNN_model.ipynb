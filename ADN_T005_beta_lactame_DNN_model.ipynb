{
 "cells": [
  {
   "cell_type": "code",
   "execution_count": 52,
   "metadata": {},
   "outputs": [],
   "source": [
    "from pathlib import Path\n",
    "from warnings import filterwarnings\n",
    "\n",
    "# Silence some expected warnings\n",
    "filterwarnings(\"ignore\")\n",
    "\n",
    "import pandas as pd\n",
    "import numpy as np\n",
    "from rdkit import Chem\n",
    "from rdkit.Chem import MACCSkeys, Draw, AllChem, DataStructs, PandasTools\n",
    "from rdkit.Chem.SaltRemover import SaltRemover\n",
    "from sklearn.model_selection import train_test_split\n",
    "import matplotlib.pyplot as plt\n",
    "from sklearn import metrics\n",
    "import seaborn as sns\n",
    "\n",
    "# Neural network specific libraries\n",
    "from tensorflow import keras\n",
    "from tensorflow.keras.models import Sequential, load_model\n",
    "from tensorflow.keras.layers import Dense, Input\n",
    "from tensorflow.keras.callbacks import ModelCheckpoint\n",
    "\n",
    "%matplotlib inline"
   ]
  },
  {
   "cell_type": "code",
   "execution_count": 53,
   "metadata": {
    "scrolled": true
   },
   "outputs": [
    {
     "data": {
      "text/html": [
       "<div>\n",
       "<style scoped>\n",
       "    .dataframe tbody tr th:only-of-type {\n",
       "        vertical-align: middle;\n",
       "    }\n",
       "\n",
       "    .dataframe tbody tr th {\n",
       "        vertical-align: top;\n",
       "    }\n",
       "\n",
       "    .dataframe thead th {\n",
       "        text-align: right;\n",
       "    }\n",
       "</style>\n",
       "<table border=\"1\" class=\"dataframe\">\n",
       "  <thead>\n",
       "    <tr style=\"text-align: right;\">\n",
       "      <th></th>\n",
       "      <th>units</th>\n",
       "      <th>Ki</th>\n",
       "      <th>smiles</th>\n",
       "      <th>pKi</th>\n",
       "    </tr>\n",
       "    <tr>\n",
       "      <th>molecule_chembl_id</th>\n",
       "      <th></th>\n",
       "      <th></th>\n",
       "      <th></th>\n",
       "      <th></th>\n",
       "    </tr>\n",
       "  </thead>\n",
       "  <tbody>\n",
       "    <tr>\n",
       "      <th>CHEMBL11805</th>\n",
       "      <td>nM</td>\n",
       "      <td>0.104</td>\n",
       "      <td>COc1ccccc1CN(C)CCCCCC(=O)N(C)CCCCCCCCN(C)C(=O)...</td>\n",
       "      <td>9.982967</td>\n",
       "    </tr>\n",
       "    <tr>\n",
       "      <th>CHEMBL208599</th>\n",
       "      <td>nM</td>\n",
       "      <td>0.026</td>\n",
       "      <td>CCC1=CC2Cc3nc4cc(Cl)ccc4c(N)c3[C@@H](C1)C2</td>\n",
       "      <td>10.585027</td>\n",
       "    </tr>\n",
       "    <tr>\n",
       "      <th>CHEMBL60745</th>\n",
       "      <td>nM</td>\n",
       "      <td>1.630</td>\n",
       "      <td>CC[N+](C)(C)c1cccc(O)c1.[Br-]</td>\n",
       "      <td>8.787812</td>\n",
       "    </tr>\n",
       "    <tr>\n",
       "      <th>CHEMBL95</th>\n",
       "      <td>nM</td>\n",
       "      <td>151.000</td>\n",
       "      <td>Nc1c2c(nc3ccccc13)CCCC2</td>\n",
       "      <td>6.821023</td>\n",
       "    </tr>\n",
       "    <tr>\n",
       "      <th>CHEMBL173309</th>\n",
       "      <td>nM</td>\n",
       "      <td>12.200</td>\n",
       "      <td>CCN(CCCCCC(=O)N(C)CCCCCCCCN(C)C(=O)CCCCCN(CC)C...</td>\n",
       "      <td>7.913640</td>\n",
       "    </tr>\n",
       "    <tr>\n",
       "      <th>...</th>\n",
       "      <td>...</td>\n",
       "      <td>...</td>\n",
       "      <td>...</td>\n",
       "      <td>...</td>\n",
       "    </tr>\n",
       "    <tr>\n",
       "      <th>CHEMBL5220695</th>\n",
       "      <td>nM</td>\n",
       "      <td>120.000</td>\n",
       "      <td>CC(C)(C)OC(=O)Nc1ccc(O)c(C(=O)NCCCN2CCCCC2)c1</td>\n",
       "      <td>6.920819</td>\n",
       "    </tr>\n",
       "    <tr>\n",
       "      <th>CHEMBL5219239</th>\n",
       "      <td>nM</td>\n",
       "      <td>170.000</td>\n",
       "      <td>CC1CCCCN1CCCNC(=O)c1cc(NC(=O)OC(C)(C)C)ccc1O</td>\n",
       "      <td>6.769551</td>\n",
       "    </tr>\n",
       "    <tr>\n",
       "      <th>CHEMBL5218804</th>\n",
       "      <td>nM</td>\n",
       "      <td>0.264</td>\n",
       "      <td>COc1cccc2c1CCC(NC(=O)OCc1ccccc1)C2</td>\n",
       "      <td>9.578396</td>\n",
       "    </tr>\n",
       "    <tr>\n",
       "      <th>CHEMBL5219425</th>\n",
       "      <td>nM</td>\n",
       "      <td>3500.000</td>\n",
       "      <td>CCN(CC)C(=O)OC1C[N+]2(C)CCC1CC2.[I-]</td>\n",
       "      <td>5.455932</td>\n",
       "    </tr>\n",
       "    <tr>\n",
       "      <th>CHEMBL193996</th>\n",
       "      <td>nM</td>\n",
       "      <td>1000.000</td>\n",
       "      <td>O=C(Nc1ccccc1)OC1CN2CCC1CC2</td>\n",
       "      <td>6.000000</td>\n",
       "    </tr>\n",
       "  </tbody>\n",
       "</table>\n",
       "<p>472 rows × 4 columns</p>\n",
       "</div>"
      ],
      "text/plain": [
       "                   units        Ki  \\\n",
       "molecule_chembl_id                   \n",
       "CHEMBL11805           nM     0.104   \n",
       "CHEMBL208599          nM     0.026   \n",
       "CHEMBL60745           nM     1.630   \n",
       "CHEMBL95              nM   151.000   \n",
       "CHEMBL173309          nM    12.200   \n",
       "...                  ...       ...   \n",
       "CHEMBL5220695         nM   120.000   \n",
       "CHEMBL5219239         nM   170.000   \n",
       "CHEMBL5218804         nM     0.264   \n",
       "CHEMBL5219425         nM  3500.000   \n",
       "CHEMBL193996          nM  1000.000   \n",
       "\n",
       "                                                               smiles  \\\n",
       "molecule_chembl_id                                                      \n",
       "CHEMBL11805         COc1ccccc1CN(C)CCCCCC(=O)N(C)CCCCCCCCN(C)C(=O)...   \n",
       "CHEMBL208599               CCC1=CC2Cc3nc4cc(Cl)ccc4c(N)c3[C@@H](C1)C2   \n",
       "CHEMBL60745                             CC[N+](C)(C)c1cccc(O)c1.[Br-]   \n",
       "CHEMBL95                                      Nc1c2c(nc3ccccc13)CCCC2   \n",
       "CHEMBL173309        CCN(CCCCCC(=O)N(C)CCCCCCCCN(C)C(=O)CCCCCN(CC)C...   \n",
       "...                                                               ...   \n",
       "CHEMBL5220695           CC(C)(C)OC(=O)Nc1ccc(O)c(C(=O)NCCCN2CCCCC2)c1   \n",
       "CHEMBL5219239            CC1CCCCN1CCCNC(=O)c1cc(NC(=O)OC(C)(C)C)ccc1O   \n",
       "CHEMBL5218804                      COc1cccc2c1CCC(NC(=O)OCc1ccccc1)C2   \n",
       "CHEMBL5219425                    CCN(CC)C(=O)OC1C[N+]2(C)CCC1CC2.[I-]   \n",
       "CHEMBL193996                              O=C(Nc1ccccc1)OC1CN2CCC1CC2   \n",
       "\n",
       "                          pKi  \n",
       "molecule_chembl_id             \n",
       "CHEMBL11805          9.982967  \n",
       "CHEMBL208599        10.585027  \n",
       "CHEMBL60745          8.787812  \n",
       "CHEMBL95             6.821023  \n",
       "CHEMBL173309         7.913640  \n",
       "...                       ...  \n",
       "CHEMBL5220695        6.920819  \n",
       "CHEMBL5219239        6.769551  \n",
       "CHEMBL5218804        9.578396  \n",
       "CHEMBL5219425        5.455932  \n",
       "CHEMBL193996         6.000000  \n",
       "\n",
       "[472 rows x 4 columns]"
      ]
     },
     "execution_count": 53,
     "metadata": {},
     "output_type": "execute_result"
    }
   ],
   "source": [
    "df = pd.read_csv(\"databases/acetylcholinesterase_Ki_pKi_bioactivity_data_curated.csv\", index_col= 0)\n",
    "df"
   ]
  },
  {
   "cell_type": "code",
   "execution_count": 54,
   "metadata": {},
   "outputs": [
    {
     "name": "stdout",
     "output_type": "stream",
     "text": [
      "number of missing values are : 0\n",
      "The shape of the dataset is : (472, 4)\n"
     ]
    }
   ],
   "source": [
    "print( f'number of missing values are : {df.isnull().sum().sum()}')\n",
    "print (f'The shape of the dataset is : {df.shape}')"
   ]
  },
  {
   "cell_type": "code",
   "execution_count": 55,
   "metadata": {},
   "outputs": [],
   "source": [
    "df = df.dropna(how='any')"
   ]
  },
  {
   "cell_type": "code",
   "execution_count": 56,
   "metadata": {},
   "outputs": [
    {
     "name": "stdout",
     "output_type": "stream",
     "text": [
      "number of missing values are : 0\n",
      "The shape of the dataset is : (472, 4)\n"
     ]
    }
   ],
   "source": [
    "print( f'number of missing values are : {df.isnull().sum().sum()}')\n",
    "print (f'The shape of the dataset is : {df.shape}')"
   ]
  },
  {
   "cell_type": "markdown",
   "metadata": {},
   "source": [
    "I have noiced that the data contains some molecules with salts, So I decided to remove them before going forward"
   ]
  },
  {
   "cell_type": "code",
   "execution_count": 57,
   "metadata": {},
   "outputs": [],
   "source": [
    "#Strip salts\n",
    "\n",
    "def MolStripper(smiles):\n",
    "    \"\"\"\n",
    "    Delete salts from a molecule a return a molecules without ions.\n",
    "\n",
    "    Parameters\n",
    "    ----------\n",
    "    smiles : str\n",
    "        The SMILES string defining the molecule.\n",
    "\n",
    "    Returns\n",
    "    -------\n",
    "    array\n",
    "        Moleucle as Rdkit object to as pandas series.\n",
    "\n",
    "    \"\"\"\n",
    "    remover = SaltRemover() \n",
    "    mol = Chem.MolFromSmiles(smiles)\n",
    "    stripped = remover.StripMol(mol)\n",
    "    return pd.Series(Chem.MolToSmiles(stripped))\n",
    "    "
   ]
  },
  {
   "cell_type": "code",
   "execution_count": 58,
   "metadata": {},
   "outputs": [
    {
     "data": {
      "text/html": [
       "<div>\n",
       "<style scoped>\n",
       "    .dataframe tbody tr th:only-of-type {\n",
       "        vertical-align: middle;\n",
       "    }\n",
       "\n",
       "    .dataframe tbody tr th {\n",
       "        vertical-align: top;\n",
       "    }\n",
       "\n",
       "    .dataframe thead th {\n",
       "        text-align: right;\n",
       "    }\n",
       "</style>\n",
       "<table border=\"1\" class=\"dataframe\">\n",
       "  <thead>\n",
       "    <tr style=\"text-align: right;\">\n",
       "      <th></th>\n",
       "      <th>units</th>\n",
       "      <th>Ki</th>\n",
       "      <th>smiles</th>\n",
       "      <th>pKi</th>\n",
       "    </tr>\n",
       "    <tr>\n",
       "      <th>molecule_chembl_id</th>\n",
       "      <th></th>\n",
       "      <th></th>\n",
       "      <th></th>\n",
       "      <th></th>\n",
       "    </tr>\n",
       "  </thead>\n",
       "  <tbody>\n",
       "    <tr>\n",
       "      <th>CHEMBL11805</th>\n",
       "      <td>nM</td>\n",
       "      <td>0.104</td>\n",
       "      <td>COc1ccccc1CN(C)CCCCCC(=O)N(C)CCCCCCCCN(C)C(=O)...</td>\n",
       "      <td>9.982967</td>\n",
       "    </tr>\n",
       "    <tr>\n",
       "      <th>CHEMBL208599</th>\n",
       "      <td>nM</td>\n",
       "      <td>0.026</td>\n",
       "      <td>CCC1=CC2Cc3nc4cc(Cl)ccc4c(N)c3[C@@H](C1)C2</td>\n",
       "      <td>10.585027</td>\n",
       "    </tr>\n",
       "    <tr>\n",
       "      <th>CHEMBL60745</th>\n",
       "      <td>nM</td>\n",
       "      <td>1.630</td>\n",
       "      <td>CC[N+](C)(C)c1cccc(O)c1</td>\n",
       "      <td>8.787812</td>\n",
       "    </tr>\n",
       "  </tbody>\n",
       "</table>\n",
       "</div>"
      ],
      "text/plain": [
       "                   units     Ki  \\\n",
       "molecule_chembl_id                \n",
       "CHEMBL11805           nM  0.104   \n",
       "CHEMBL208599          nM  0.026   \n",
       "CHEMBL60745           nM  1.630   \n",
       "\n",
       "                                                               smiles  \\\n",
       "molecule_chembl_id                                                      \n",
       "CHEMBL11805         COc1ccccc1CN(C)CCCCCC(=O)N(C)CCCCCCCCN(C)C(=O)...   \n",
       "CHEMBL208599               CCC1=CC2Cc3nc4cc(Cl)ccc4c(N)c3[C@@H](C1)C2   \n",
       "CHEMBL60745                                   CC[N+](C)(C)c1cccc(O)c1   \n",
       "\n",
       "                          pKi  \n",
       "molecule_chembl_id             \n",
       "CHEMBL11805          9.982967  \n",
       "CHEMBL208599        10.585027  \n",
       "CHEMBL60745          8.787812  "
      ]
     },
     "execution_count": 58,
     "metadata": {},
     "output_type": "execute_result"
    }
   ],
   "source": [
    "# Add column for Stripped molecules\n",
    "df[\"smiles\"] = df[\"smiles\"].apply(MolStripper)\n",
    "df.head(3)\n",
    "# NBVAL_CHECK_OUTPUT"
   ]
  },
  {
   "cell_type": "code",
   "execution_count": 61,
   "metadata": {},
   "outputs": [],
   "source": [
    "PandasTools.AddMoleculeColumnToFrame(df, smilesCol='smiles')"
   ]
  },
  {
   "cell_type": "code",
   "execution_count": 62,
   "metadata": {},
   "outputs": [
    {
     "data": {
      "image/png": "[encoded data removed]",
      "text/plain": [
       "<IPython.core.display.Image object>"
      ]
     },
     "execution_count": 62,
     "metadata": {},
     "output_type": "execute_result"
    }
   ],
   "source": [
    "Draw.MolsToGridImage(list(df.ROMol[0:10]), legends = list(df.index[0:10]), molsPerRow=5)"
   ]
  },
  {
   "cell_type": "code",
   "execution_count": 63,
   "metadata": {},
   "outputs": [],
   "source": [
    "#mols = [Chem.MolFromSmiles(smi) for smi in df.canonical_smiles ]"
   ]
  },
  {
   "cell_type": "code",
   "execution_count": 64,
   "metadata": {},
   "outputs": [],
   "source": [
    "mols = [Chem.MolFromSmiles(smi) for smi in df.smiles ]\n",
    "fp = [AllChem.GetMorganFingerprintAsBitVect(m, 2) for m in mols]"
   ]
  },
  {
   "cell_type": "code",
   "execution_count": 65,
   "metadata": {},
   "outputs": [],
   "source": [
    "def smiles_to_fp(smiles, method=\"maccs\", n_bits=2048):\n",
    "    \"\"\"\n",
    "    Encode a molecule from a SMILES string into a fingerprint.\n",
    "\n",
    "    Parameters\n",
    "    ----------\n",
    "    smiles : str\n",
    "        The SMILES string defining the molecule.\n",
    "\n",
    "    method : str\n",
    "        The type of fingerprint to use. Default is MACCS keys.\n",
    "\n",
    "    n_bits : int\n",
    "        The length of the fingerprint.\n",
    "\n",
    "    Returns\n",
    "    -------\n",
    "    array\n",
    "        The fingerprint array.\n",
    "\n",
    "    \"\"\"\n",
    "\n",
    "    # convert smiles to RDKit mol object\n",
    "    mol = Chem.MolFromSmiles(smiles)\n",
    "\n",
    "    if method == \"maccs\":\n",
    "        return np.array(MACCSkeys.GenMACCSKeys(mol))\n",
    "    if method == \"morgan2\":\n",
    "        return np.array(GetMorganFingerprintAsBitVect(mol, 2, nBits=n_bits))\n",
    "    if method == \"morgan3\":\n",
    "        return np.array(GetMorganFingerprintAsBitVect(mol, 3, nBits=n_bits))\n",
    "    else:\n",
    "        # NBVAL_CHECK_OUTPUT\n",
    "        print(f\"Warning: Wrong method specified: {method}. Default will be used instead.\")\n",
    "        return np.array(MACCSkeys.GenMACCSKeys(mol))"
   ]
  },
  {
   "cell_type": "code",
   "execution_count": 66,
   "metadata": {
    "scrolled": true
   },
   "outputs": [
    {
     "data": {
      "text/html": [
       "<div>\n",
       "<style scoped>\n",
       "    .dataframe tbody tr th:only-of-type {\n",
       "        vertical-align: middle;\n",
       "    }\n",
       "\n",
       "    .dataframe tbody tr th {\n",
       "        vertical-align: top;\n",
       "    }\n",
       "\n",
       "    .dataframe thead th {\n",
       "        text-align: right;\n",
       "    }\n",
       "</style>\n",
       "<table border=\"1\" class=\"dataframe\">\n",
       "  <thead>\n",
       "    <tr style=\"text-align: right;\">\n",
       "      <th></th>\n",
       "      <th>units</th>\n",
       "      <th>Ki</th>\n",
       "      <th>smiles</th>\n",
       "      <th>pKi</th>\n",
       "      <th>ROMol</th>\n",
       "      <th>fp</th>\n",
       "    </tr>\n",
       "    <tr>\n",
       "      <th>molecule_chembl_id</th>\n",
       "      <th></th>\n",
       "      <th></th>\n",
       "      <th></th>\n",
       "      <th></th>\n",
       "      <th></th>\n",
       "      <th></th>\n",
       "    </tr>\n",
       "  </thead>\n",
       "  <tbody>\n",
       "    <tr>\n",
       "      <th>CHEMBL11805</th>\n",
       "      <td>nM</td>\n",
       "      <td>0.104</td>\n",
       "      <td>COc1ccccc1CN(C)CCCCCC(=O)N(C)CCCCCCCCN(C)C(=O)...</td>\n",
       "      <td>9.982967</td>\n",
       "      <td style=\"text-align: center;\"><img data-content=\"rdkit/molecule\" src=\"data:image/png;base64,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\" alt=\"Mol\"/></td>\n",
       "      <td>[0, 0, 0, 0, 0, 0, 0, 0, 0, 0, 0, 0, 0, 0, 0, ...</td>\n",
       "    </tr>\n",
       "    <tr>\n",
       "      <th>CHEMBL208599</th>\n",
       "      <td>nM</td>\n",
       "      <td>0.026</td>\n",
       "      <td>CCC1=CC2Cc3nc4cc(Cl)ccc4c(N)c3[C@@H](C1)C2</td>\n",
       "      <td>10.585027</td>\n",
       "      <td style=\"text-align: center;\"><img data-content=\"rdkit/molecule\" src=\"data:image/png;base64,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\" alt=\"Mol\"/></td>\n",
       "      <td>[0, 0, 0, 0, 0, 0, 0, 0, 0, 0, 0, 0, 0, 0, 0, ...</td>\n",
       "    </tr>\n",
       "    <tr>\n",
       "      <th>CHEMBL60745</th>\n",
       "      <td>nM</td>\n",
       "      <td>1.630</td>\n",
       "      <td>CC[N+](C)(C)c1cccc(O)c1</td>\n",
       "      <td>8.787812</td>\n",
       "      <td style=\"text-align: center;\"><img data-content=\"rdkit/molecule\" src=\"data:image/png;base64,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\" alt=\"Mol\"/></td>\n",
       "      <td>[0, 0, 0, 0, 0, 0, 0, 0, 0, 0, 0, 0, 0, 0, 0, ...</td>\n",
       "    </tr>\n",
       "  </tbody>\n",
       "</table>\n",
       "</div>"
      ],
      "text/plain": [
       "                   units     Ki  \\\n",
       "molecule_chembl_id                \n",
       "CHEMBL11805           nM  0.104   \n",
       "CHEMBL208599          nM  0.026   \n",
       "CHEMBL60745           nM  1.630   \n",
       "\n",
       "                                                               smiles  \\\n",
       "molecule_chembl_id                                                      \n",
       "CHEMBL11805         COc1ccccc1CN(C)CCCCCC(=O)N(C)CCCCCCCCN(C)C(=O)...   \n",
       "CHEMBL208599               CCC1=CC2Cc3nc4cc(Cl)ccc4c(N)c3[C@@H](C1)C2   \n",
       "CHEMBL60745                                   CC[N+](C)(C)c1cccc(O)c1   \n",
       "\n",
       "                          pKi  \\\n",
       "molecule_chembl_id              \n",
       "CHEMBL11805          9.982967   \n",
       "CHEMBL208599        10.585027   \n",
       "CHEMBL60745          8.787812   \n",
       "\n",
       "                                                                ROMol  \\\n",
       "molecule_chembl_id                                                      \n",
       "CHEMBL11805         <img data-content=\"rdkit/molecule\" src=\"data:i...   \n",
       "CHEMBL208599        <img data-content=\"rdkit/molecule\" src=\"data:i...   \n",
       "CHEMBL60745         <img data-content=\"rdkit/molecule\" src=\"data:i...   \n",
       "\n",
       "                                                                   fp  \n",
       "molecule_chembl_id                                                     \n",
       "CHEMBL11805         [0, 0, 0, 0, 0, 0, 0, 0, 0, 0, 0, 0, 0, 0, 0, ...  \n",
       "CHEMBL208599        [0, 0, 0, 0, 0, 0, 0, 0, 0, 0, 0, 0, 0, 0, 0, ...  \n",
       "CHEMBL60745         [0, 0, 0, 0, 0, 0, 0, 0, 0, 0, 0, 0, 0, 0, 0, ...  "
      ]
     },
     "execution_count": 66,
     "metadata": {},
     "output_type": "execute_result"
    }
   ],
   "source": [
    "# Add column for fingerprint\n",
    "df[\"fp\"] = df[\"smiles\"].apply(smiles_to_fp)\n",
    "df.head(3)"
   ]
  },
  {
   "cell_type": "markdown",
   "metadata": {},
   "source": [
    "### The fp_from_smiles function is very slow and running it kill the kernel of the jupyter "
   ]
  },
  {
   "cell_type": "code",
   "execution_count": 9,
   "metadata": {},
   "outputs": [],
   "source": [
    "# def fp_from_smiles(smiles):\n",
    "#     output = []\n",
    "#     for f in fp :\n",
    "#         arr = np.zeros((1,))\n",
    "#         DataStructs.ConvertToNumpyArray(f, arr)\n",
    "#         output.append(arr)\n",
    "#     return np.asarray(output)\n",
    "#     #return pd.DataFrame(data = output, index= df.index)"
   ]
  },
  {
   "cell_type": "code",
   "execution_count": 10,
   "metadata": {},
   "outputs": [
    {
     "data": {
      "text/plain": [
       "molecule_chembl_id\n",
       "CHEMBL1795572    CO/N=C(/C(=O)NCP(=O)(O)Oc1ccc(C#N)c(F)c1)c1ccc...\n",
       "CHEMBL3112752    N[C@@H](Cc1ccc(NC(=O)[C@@H]2CC[C@@H]3CN2C(=O)N...\n",
       "CHEMBL3112746    O=C(Nc1ccncc1)[C@@H]1CC[C@@H]2CN1C(=O)N2OS(=O)...\n",
       "CHEMBL1173339                            CCC(S)P(=O)(OC(C)C)OC(C)C\n",
       "CHEMBL1172388                                      CCC(S)P(=O)(O)O\n",
       "                                       ...                        \n",
       "CHEMBL4088285                     CC(=O)SCC(CCCc1ccccc1)c1nnn[nH]1\n",
       "CHEMBL4064978                       CC(=O)SCC(Cc1ccccc1)c1nnn[nH]1\n",
       "CHEMBL4075406                           O=P(O)(O)C(CO)CCCCc1ccccc1\n",
       "CHEMBL4069211                            O=P(O)(O)C(CO)CCCc1ccccc1\n",
       "CHEMBL4087458                       CCOP(=O)(OCC)C(CS)CCCCc1ccccc1\n",
       "Name: canonical_smiles, Length: 62226, dtype: object"
      ]
     },
     "execution_count": 10,
     "metadata": {},
     "output_type": "execute_result"
    }
   ],
   "source": [
    "# df[\"canonical_smiles\"]"
   ]
  },
  {
   "cell_type": "code",
   "execution_count": null,
   "metadata": {},
   "outputs": [],
   "source": [
    "# df[\"fingerprints_df\"] = df[\"canonical_smiles\"].apply(fp_from_smiles)\n",
    "\n",
    "# # Look at head\n",
    "# print(\"Shape of dataframe:\", df.shape)\n",
    "# df.head(3)\n",
    "# # NBVAL_CHECK_OUTPUT"
   ]
  },
  {
   "cell_type": "code",
   "execution_count": 73,
   "metadata": {},
   "outputs": [
    {
     "data": {
      "text/plain": [
       "Index(['units', 'Ki', 'smiles', 'pKi', 'ROMol', 'fp'], dtype='object')"
      ]
     },
     "execution_count": 73,
     "metadata": {},
     "output_type": "execute_result"
    }
   ],
   "source": [
    "df.columns"
   ]
  },
  {
   "cell_type": "code",
   "execution_count": 76,
   "metadata": {},
   "outputs": [],
   "source": [
    "index = df.index"
   ]
  },
  {
   "cell_type": "code",
   "execution_count": 79,
   "metadata": {},
   "outputs": [],
   "source": [
    "df.to_csv('./databases/data_fp.csv', columns=['smiles','pKi','ROMol','fp'])"
   ]
  },
  {
   "cell_type": "code",
   "execution_count": 80,
   "metadata": {},
   "outputs": [
    {
     "data": {
      "text/html": [
       "<div>\n",
       "<style scoped>\n",
       "    .dataframe tbody tr th:only-of-type {\n",
       "        vertical-align: middle;\n",
       "    }\n",
       "\n",
       "    .dataframe tbody tr th {\n",
       "        vertical-align: top;\n",
       "    }\n",
       "\n",
       "    .dataframe thead th {\n",
       "        text-align: right;\n",
       "    }\n",
       "</style>\n",
       "<table border=\"1\" class=\"dataframe\">\n",
       "  <thead>\n",
       "    <tr style=\"text-align: right;\">\n",
       "      <th></th>\n",
       "      <th>smiles</th>\n",
       "      <th>pKi</th>\n",
       "      <th>ROMol</th>\n",
       "      <th>fp</th>\n",
       "    </tr>\n",
       "    <tr>\n",
       "      <th>molecule_chembl_id</th>\n",
       "      <th></th>\n",
       "      <th></th>\n",
       "      <th></th>\n",
       "      <th></th>\n",
       "    </tr>\n",
       "  </thead>\n",
       "  <tbody>\n",
       "    <tr>\n",
       "      <th>CHEMBL11805</th>\n",
       "      <td>COc1ccccc1CN(C)CCCCCC(=O)N(C)CCCCCCCCN(C)C(=O)...</td>\n",
       "      <td>9.982967</td>\n",
       "      <td style=\"text-align: center;\"><img data-content=\"rdkit/molecule\" src=\"data:image/png;base64,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\" alt=\"Mol\"/></td>\n",
       "      <td>[0 0 0 0 0 0 0 0 0 0 0 0 0 0 0 0 0 0 0 0 0 0 0...</td>\n",
       "    </tr>\n",
       "    <tr>\n",
       "      <th>CHEMBL208599</th>\n",
       "      <td>CCC1=CC2Cc3nc4cc(Cl)ccc4c(N)c3[C@@H](C1)C2</td>\n",
       "      <td>10.585027</td>\n",
       "      <td style=\"text-align: center;\"><img data-content=\"rdkit/molecule\" src=\"data:image/png;base64,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\" alt=\"Mol\"/></td>\n",
       "      <td>[0 0 0 0 0 0 0 0 0 0 0 0 0 0 0 0 0 0 0 0 0 0 0...</td>\n",
       "    </tr>\n",
       "    <tr>\n",
       "      <th>CHEMBL60745</th>\n",
       "      <td>CC[N+](C)(C)c1cccc(O)c1</td>\n",
       "      <td>8.787812</td>\n",
       "      <td style=\"text-align: center;\"><img data-content=\"rdkit/molecule\" src=\"data:image/png;base64,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\" alt=\"Mol\"/></td>\n",
       "      <td>[0 0 0 0 0 0 0 0 0 0 0 0 0 0 0 0 0 0 0 0 0 0 0...</td>\n",
       "    </tr>\n",
       "    <tr>\n",
       "      <th>CHEMBL95</th>\n",
       "      <td>Nc1c2c(nc3ccccc13)CCCC2</td>\n",
       "      <td>6.821023</td>\n",
       "      <td style=\"text-align: center;\"><img data-content=\"rdkit/molecule\" src=\"data:image/png;base64,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\" alt=\"Mol\"/></td>\n",
       "      <td>[0 0 0 0 0 0 0 0 0 0 0 0 0 0 0 0 0 0 0 0 0 0 0...</td>\n",
       "    </tr>\n",
       "    <tr>\n",
       "      <th>CHEMBL173309</th>\n",
       "      <td>CCN(CCCCCC(=O)N(C)CCCCCCCCN(C)C(=O)CCCCCN(CC)C...</td>\n",
       "      <td>7.913640</td>\n",
       "      <td style=\"text-align: center;\"><img data-content=\"rdkit/molecule\" src=\"data:image/png;base64,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\" alt=\"Mol\"/></td>\n",
       "      <td>[0 0 0 0 0 0 0 0 0 0 0 0 0 0 0 0 0 0 0 0 0 0 0...</td>\n",
       "    </tr>\n",
       "  </tbody>\n",
       "</table>\n",
       "</div>"
      ],
      "text/plain": [
       "                                                               smiles  \\\n",
       "molecule_chembl_id                                                      \n",
       "CHEMBL11805         COc1ccccc1CN(C)CCCCCC(=O)N(C)CCCCCCCCN(C)C(=O)...   \n",
       "CHEMBL208599               CCC1=CC2Cc3nc4cc(Cl)ccc4c(N)c3[C@@H](C1)C2   \n",
       "CHEMBL60745                                   CC[N+](C)(C)c1cccc(O)c1   \n",
       "CHEMBL95                                      Nc1c2c(nc3ccccc13)CCCC2   \n",
       "CHEMBL173309        CCN(CCCCCC(=O)N(C)CCCCCCCCN(C)C(=O)CCCCCN(CC)C...   \n",
       "\n",
       "                          pKi  \\\n",
       "molecule_chembl_id              \n",
       "CHEMBL11805          9.982967   \n",
       "CHEMBL208599        10.585027   \n",
       "CHEMBL60745          8.787812   \n",
       "CHEMBL95             6.821023   \n",
       "CHEMBL173309         7.913640   \n",
       "\n",
       "                                                                ROMol  \\\n",
       "molecule_chembl_id                                                      \n",
       "CHEMBL11805         <img data-content=\"rdkit/molecule\" src=\"data:i...   \n",
       "CHEMBL208599        <img data-content=\"rdkit/molecule\" src=\"data:i...   \n",
       "CHEMBL60745         <img data-content=\"rdkit/molecule\" src=\"data:i...   \n",
       "CHEMBL95            <img data-content=\"rdkit/molecule\" src=\"data:i...   \n",
       "CHEMBL173309        <img data-content=\"rdkit/molecule\" src=\"data:i...   \n",
       "\n",
       "                                                                   fp  \n",
       "molecule_chembl_id                                                     \n",
       "CHEMBL11805         [0 0 0 0 0 0 0 0 0 0 0 0 0 0 0 0 0 0 0 0 0 0 0...  \n",
       "CHEMBL208599        [0 0 0 0 0 0 0 0 0 0 0 0 0 0 0 0 0 0 0 0 0 0 0...  \n",
       "CHEMBL60745         [0 0 0 0 0 0 0 0 0 0 0 0 0 0 0 0 0 0 0 0 0 0 0...  \n",
       "CHEMBL95            [0 0 0 0 0 0 0 0 0 0 0 0 0 0 0 0 0 0 0 0 0 0 0...  \n",
       "CHEMBL173309        [0 0 0 0 0 0 0 0 0 0 0 0 0 0 0 0 0 0 0 0 0 0 0...  "
      ]
     },
     "execution_count": 80,
     "metadata": {},
     "output_type": "execute_result"
    }
   ],
   "source": [
    "df = pd.read_csv('./databases//data_fp.csv', index_col=0)\n",
    "df.head()"
   ]
  },
  {
   "cell_type": "code",
   "execution_count": 82,
   "metadata": {},
   "outputs": [
    {
     "data": {
      "text/plain": [
       "'[0 0 0 0 0 0 0 0 0 0 0 0 0 0 0 0 0 0 0 0 0 0 0 0 0 0 0 0 0 0 0 0 0 0 0 0 0\\n 0 0 0 0 0 0 0 0 0 0 0 0 0 0 0 0 0 0 0 0 0 0 0 0 0 0 0 0 0 0 0 0 0 0 0 0 0\\n 0 0 0 0 0 0 0 0 0 0 0 1 1 0 0 0 0 0 1 1 0 0 0 1 0 0 1 0 0 0 0 0 0 0 1 0 1\\n 1 0 1 0 1 1 1 1 0 0 0 1 0 0 1 1 1 1 1 0 0 1 0 0 0 1 0 1 0 1 1 1 1 1 1 1 1\\n 1 1 1 0 1 1 1 1 1 1 1 1 1 1 1 1 1 1 0]'"
      ]
     },
     "execution_count": 82,
     "metadata": {},
     "output_type": "execute_result"
    }
   ],
   "source": [
    "df['fp'][0]"
   ]
  },
  {
   "cell_type": "code",
   "execution_count": 87,
   "metadata": {},
   "outputs": [],
   "source": [
    "#df['fp'].apply(pd.to_numeric, downcast='float')"
   ]
  },
  {
   "cell_type": "code",
   "execution_count": 95,
   "metadata": {},
   "outputs": [
    {
     "name": "stdout",
     "output_type": "stream",
     "text": [
      "The shape of the dataset is  (472, 4)\n"
     ]
    }
   ],
   "source": [
    "print(\"The shape of the dataset is \",df.shape)"
   ]
  },
  {
   "cell_type": "code",
   "execution_count": 90,
   "metadata": {},
   "outputs": [
    {
     "data": {
      "text/plain": [
       "1416"
      ]
     },
     "execution_count": 90,
     "metadata": {},
     "output_type": "execute_result"
    }
   ],
   "source": [
    "df.isnullisnullum().sum()"
   ]
  },
  {
   "cell_type": "code",
   "execution_count": 97,
   "metadata": {},
   "outputs": [],
   "source": [
    "df.dropna(how=\"any\",inplace=True)"
   ]
  },
  {
   "cell_type": "code",
   "execution_count": 98,
   "metadata": {},
   "outputs": [
    {
     "name": "stdout",
     "output_type": "stream",
     "text": [
      "The shape of the new dataset is  (0, 4)\n"
     ]
    }
   ],
   "source": [
    "print(\"The shape of the new dataset is \",df.shape)"
   ]
  },
  {
   "cell_type": "code",
   "execution_count": 84,
   "metadata": {},
   "outputs": [],
   "source": [
    "data_columns = df.columns \n",
    "data_indices = df.index"
   ]
  },
  {
   "cell_type": "code",
   "execution_count": 85,
   "metadata": {},
   "outputs": [],
   "source": [
    "df = (df.drop(columns= data_columns, axis=1).join(df[data_columns]).apply(pd.to_numeric, errors='coerce'))"
   ]
  },
  {
   "cell_type": "code",
   "execution_count": 86,
   "metadata": {},
   "outputs": [
    {
     "data": {
      "text/html": [
       "<div>\n",
       "<style scoped>\n",
       "    .dataframe tbody tr th:only-of-type {\n",
       "        vertical-align: middle;\n",
       "    }\n",
       "\n",
       "    .dataframe tbody tr th {\n",
       "        vertical-align: top;\n",
       "    }\n",
       "\n",
       "    .dataframe thead th {\n",
       "        text-align: right;\n",
       "    }\n",
       "</style>\n",
       "<table border=\"1\" class=\"dataframe\">\n",
       "  <thead>\n",
       "    <tr style=\"text-align: right;\">\n",
       "      <th></th>\n",
       "      <th>smiles</th>\n",
       "      <th>pKi</th>\n",
       "      <th>ROMol</th>\n",
       "      <th>fp</th>\n",
       "    </tr>\n",
       "    <tr>\n",
       "      <th>molecule_chembl_id</th>\n",
       "      <th></th>\n",
       "      <th></th>\n",
       "      <th></th>\n",
       "      <th></th>\n",
       "    </tr>\n",
       "  </thead>\n",
       "  <tbody>\n",
       "    <tr>\n",
       "      <th>CHEMBL11805</th>\n",
       "      <td>NaN</td>\n",
       "      <td>9.982967</td>\n",
       "      <td>NaN</td>\n",
       "      <td>NaN</td>\n",
       "    </tr>\n",
       "    <tr>\n",
       "      <th>CHEMBL208599</th>\n",
       "      <td>NaN</td>\n",
       "      <td>10.585027</td>\n",
       "      <td>NaN</td>\n",
       "      <td>NaN</td>\n",
       "    </tr>\n",
       "    <tr>\n",
       "      <th>CHEMBL60745</th>\n",
       "      <td>NaN</td>\n",
       "      <td>8.787812</td>\n",
       "      <td>NaN</td>\n",
       "      <td>NaN</td>\n",
       "    </tr>\n",
       "    <tr>\n",
       "      <th>CHEMBL95</th>\n",
       "      <td>NaN</td>\n",
       "      <td>6.821023</td>\n",
       "      <td>NaN</td>\n",
       "      <td>NaN</td>\n",
       "    </tr>\n",
       "    <tr>\n",
       "      <th>CHEMBL173309</th>\n",
       "      <td>NaN</td>\n",
       "      <td>7.913640</td>\n",
       "      <td>NaN</td>\n",
       "      <td>NaN</td>\n",
       "    </tr>\n",
       "  </tbody>\n",
       "</table>\n",
       "</div>"
      ],
      "text/plain": [
       "                    smiles        pKi  ROMol  fp\n",
       "molecule_chembl_id                              \n",
       "CHEMBL11805            NaN   9.982967    NaN NaN\n",
       "CHEMBL208599           NaN  10.585027    NaN NaN\n",
       "CHEMBL60745            NaN   8.787812    NaN NaN\n",
       "CHEMBL95               NaN   6.821023    NaN NaN\n",
       "CHEMBL173309           NaN   7.913640    NaN NaN"
      ]
     },
     "execution_count": 86,
     "metadata": {},
     "output_type": "execute_result"
    }
   ],
   "source": [
    "df.head()"
   ]
  },
  {
   "cell_type": "code",
   "execution_count": 48,
   "metadata": {},
   "outputs": [
    {
     "name": "stdout",
     "output_type": "stream",
     "text": [
      "Shape of training data: (43558,)\n",
      "Shape of test data: (18668,)\n"
     ]
    }
   ],
   "source": [
    "# Split the data into training and test set\n",
    "x_train, x_test, y_train, y_test = train_test_split(\n",
    "    df[\"fp\"], df[[\"pchembl_value\"]], test_size=0.3, random_state=42\n",
    ")\n",
    "\n",
    "# Print the shape of training and testing data\n",
    "print(\"Shape of training data:\", x_train.shape)\n",
    "print(\"Shape of test data:\", x_test.shape)\n",
    "# NBVAL_CHECK_OUTPUT"
   ]
  },
  {
   "cell_type": "code",
   "execution_count": 49,
   "metadata": {},
   "outputs": [],
   "source": [
    "def NN_model(shape):\n",
    "    model = Sequential()\n",
    "    model.add(Input(shape, name= 'InputLayer'))\n",
    "    model.add(Dense(32, activation= 'relu', name = 'hiden1'))\n",
    "    model.add(Dense(64, activation= 'relu', name = 'hiden2'))\n",
    "    model.add(Dense(32, activation= 'relu', name = 'hiden3'))\n",
    "    model.add(Dense(1, activation= 'linear', name= 'Output'))\n",
    "    model.compile(optimizer = 'adam',\n",
    "                 loss = 'mse',\n",
    "                 metrics = ['mae', 'mse'])\n",
    "    return model"
   ]
  },
  {
   "cell_type": "code",
   "execution_count": 50,
   "metadata": {},
   "outputs": [
    {
     "data": {
      "text/plain": [
       "62226"
      ]
     },
     "execution_count": 50,
     "metadata": {},
     "output_type": "execute_result"
    }
   ],
   "source": [
    "df.shape[0]"
   ]
  },
  {
   "cell_type": "code",
   "execution_count": 51,
   "metadata": {
    "scrolled": true
   },
   "outputs": [
    {
     "name": "stdout",
     "output_type": "stream",
     "text": [
      "Model: \"sequential_7\"\n",
      "_________________________________________________________________\n",
      "Layer (type)                 Output Shape              Param #   \n",
      "=================================================================\n",
      "hiden1 (Dense)               (None, 32)                64        \n",
      "_________________________________________________________________\n",
      "hiden2 (Dense)               (None, 64)                2112      \n",
      "_________________________________________________________________\n",
      "hiden3 (Dense)               (None, 32)                2080      \n",
      "_________________________________________________________________\n",
      "Output (Dense)               (None, 1)                 33        \n",
      "=================================================================\n",
      "Total params: 4,289\n",
      "Trainable params: 4,289\n",
      "Non-trainable params: 0\n",
      "_________________________________________________________________\n"
     ]
    }
   ],
   "source": [
    "model = NN_model((1,))\n",
    "model.summary()"
   ]
  },
  {
   "cell_type": "code",
   "execution_count": 52,
   "metadata": {},
   "outputs": [
    {
     "name": "stdout",
     "output_type": "stream",
     "text": [
      "Epoch 1/10\n",
      "726/726 [==============================] - 6s 8ms/step - loss: nan - mae: nan - mse: nan - val_loss: nan - val_mae: nan - val_mse: nan\n",
      "Epoch 2/10\n",
      "726/726 [==============================] - 5s 7ms/step - loss: nan - mae: nan - mse: nan - val_loss: nan - val_mae: nan - val_mse: nan\n",
      "Epoch 3/10\n",
      "726/726 [==============================] - 5s 7ms/step - loss: nan - mae: nan - mse: nan - val_loss: nan - val_mae: nan - val_mse: nan\n",
      "Epoch 4/10\n",
      "726/726 [==============================] - 6s 8ms/step - loss: nan - mae: nan - mse: nan - val_loss: nan - val_mae: nan - val_mse: nan\n",
      "Epoch 5/10\n",
      "726/726 [==============================] - 5s 7ms/step - loss: nan - mae: nan - mse: nan - val_loss: nan - val_mae: nan - val_mse: nan\n",
      "Epoch 6/10\n",
      "726/726 [==============================] - 5s 7ms/step - loss: nan - mae: nan - mse: nan - val_loss: nan - val_mae: nan - val_mse: nan\n",
      "Epoch 7/10\n",
      "726/726 [==============================] - 5s 7ms/step - loss: nan - mae: nan - mse: nan - val_loss: nan - val_mae: nan - val_mse: nan\n",
      "Epoch 8/10\n",
      "726/726 [==============================] - 6s 9ms/step - loss: nan - mae: nan - mse: nan - val_loss: nan - val_mae: nan - val_mse: nan\n",
      "Epoch 9/10\n",
      "726/726 [==============================] - 6s 8ms/step - loss: nan - mae: nan - mse: nan - val_loss: nan - val_mae: nan - val_mse: nan\n",
      "Epoch 10/10\n",
      "726/726 [==============================] - 6s 9ms/step - loss: nan - mae: nan - mse: nan - val_loss: nan - val_mae: nan - val_mse: nan\n"
     ]
    }
   ],
   "source": [
    "history = model.fit(x_train,\n",
    "                   y_train,\n",
    "                batch_size=60,\n",
    "                epochs=10,\n",
    "                verbose=1, \n",
    "                validation_data=(x_test.astype(float), y_test))"
   ]
  },
  {
   "cell_type": "code",
   "execution_count": 53,
   "metadata": {},
   "outputs": [],
   "source": [
    "# Neural network parameters\n",
    "shape = (1,)\n",
    "batch_sizes = [16, 32, 64]\n",
    "nb_epoch = 5"
   ]
  },
  {
   "cell_type": "code",
   "execution_count": 54,
   "metadata": {},
   "outputs": [
    {
     "data": {
      "image/png": "[encoded data removed]",
      "text/plain": [
       "<Figure size 864x432 with 3 Axes>"
      ]
     },
     "metadata": {},
     "output_type": "display_data"
    }
   ],
   "source": [
    "# Plot\n",
    "fig = plt.figure(figsize=(12, 6))\n",
    "sns.set(color_codes=True)\n",
    "for index, batch in enumerate(batch_sizes):\n",
    "    fig.add_subplot(1, len(batch_sizes), index + 1)\n",
    "    model = NN_model(shape=shape)\n",
    "\n",
    "    # Fit model on x_train, y_train data\n",
    "    history = model.fit(\n",
    "        np.array(list((x_train))),\n",
    "        y_train.values,\n",
    "        batch_size=batch,\n",
    "        validation_data=(np.array(list((x_test))), y_test.values),\n",
    "        verbose=0,\n",
    "        epochs=nb_epoch,\n",
    "    )\n",
    "    plt.plot(history.history[\"loss\"], label=\"train\")\n",
    "    plt.plot(history.history[\"val_loss\"], label=\"test\")\n",
    "    plt.legend([\"train\", \"test\"], loc=\"upper right\")\n",
    "    plt.ylabel(\"loss\")\n",
    "    plt.xlabel(\"epoch\")\n",
    "    plt.ylim((0, 15))\n",
    "    plt.title(\n",
    "        f\"test loss = {history.history['val_loss'][nb_epoch-1]:.2f}, \" f\"batch size = {batch}\"\n",
    "    )\n",
    "plt.show()"
   ]
  },
  {
   "cell_type": "code",
   "execution_count": null,
   "metadata": {},
   "outputs": [],
   "source": []
  }
 ],
 "metadata": {
  "kernelspec": {
   "display_name": "Python 3 (ipykernel)",
   "language": "python",
   "name": "python3"
  },
  "language_info": {
   "codemirror_mode": {
    "name": "ipython",
    "version": 3
   },
   "file_extension": ".py",
   "mimetype": "text/x-python",
   "name": "python",
   "nbconvert_exporter": "python",
   "pygments_lexer": "ipython3",
   "version": "3.7.13"
  }
 },
 "nbformat": 4,
 "nbformat_minor": 4
}
