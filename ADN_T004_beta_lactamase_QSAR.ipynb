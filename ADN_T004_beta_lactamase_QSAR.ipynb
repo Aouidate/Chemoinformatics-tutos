{
 "cells": [
  {
   "cell_type": "markdown",
   "metadata": {},
   "source": [
    "# ADN_T004. QSAR models\n",
    "\n",
    "Authors:\n",
    "* Adnane Aouidate, (2019-2020), Computer Aided Drug Discovery Center, Shenzhen Institute of Advanced Technology(SIAT), Shenzhen, China.\n",
    "* Adnane Aouidate, (2021-2022), Structural Bioinformatics and Chemoinformatics, Institute of Organic and Analytical Chemistry (ICOA), Orléans, France.\n",
    "* Update , 2023, Ait Melloul Faculty of Applied Sciences, Ibn Zohr University, Agadir, Morocco,\n",
    "\n",
    "### Aim of this tutorial\n",
    "\n",
    "In this tutorial, you will learn how to build and validate a Quantitative Structure-Activity Relationship (QSAR) model using data from the ChEMBL (Chemical Entities of Biological Interest) database.\n",
    "\n",
    "QSAR models are **useful techniques in drug discovery research** and are frequently utilized in the hit-to-lead and lead optimization steps by drug discovery researchers.\n",
    "\n",
    "QSAR **is a technique that allows researchers to identify new drug candidates** by predicting which compounds are likely to be active against a target molecule.\n",
    "\n",
    "In this tutorial, you will learn how to use the Python scikit-learn library in order to preprocess and curate your data, and then use it in machine learning-based QSAR models.\n",
    "\n",
    "**Let's get started!**\n"
   ]
  },
  {
   "cell_type": "code",
   "execution_count": 10,
   "metadata": {},
   "outputs": [
    {
     "name": "stdout",
     "output_type": "stream",
     "text": [
      "1.21.5\n"
     ]
    }
   ],
   "source": [
    "import pandas as pd\n",
    "import numpy as np\n",
    "import matplotlib.pyplot as plt\n",
    "from mordred import descriptors, Calculator\n",
    "from rdkit import Chem\n",
    "from rdkit.Chem import AllChem\n",
    "print(np.__version__)"
   ]
  },
  {
   "cell_type": "code",
   "execution_count": 11,
   "metadata": {},
   "outputs": [],
   "source": [
    "Calc = Calculator(descs=descriptors, ignore_3D=True)"
   ]
  },
  {
   "cell_type": "code",
   "execution_count": 12,
   "metadata": {},
   "outputs": [],
   "source": [
    "df = pd.read_csv('./databases/acetylcholinesterase_Ki_pKi_bioactivity_data_curated.csv')"
   ]
  },
  {
   "cell_type": "code",
   "execution_count": 13,
   "metadata": {
    "scrolled": true
   },
   "outputs": [],
   "source": [
    "df.dropna(how= 'any', inplace=True)"
   ]
  },
  {
   "cell_type": "code",
   "execution_count": 14,
   "metadata": {},
   "outputs": [
    {
     "data": {
      "text/html": [
       "<div>\n",
       "<style scoped>\n",
       "    .dataframe tbody tr th:only-of-type {\n",
       "        vertical-align: middle;\n",
       "    }\n",
       "\n",
       "    .dataframe tbody tr th {\n",
       "        vertical-align: top;\n",
       "    }\n",
       "\n",
       "    .dataframe thead th {\n",
       "        text-align: right;\n",
       "    }\n",
       "</style>\n",
       "<table border=\"1\" class=\"dataframe\">\n",
       "  <thead>\n",
       "    <tr style=\"text-align: right;\">\n",
       "      <th></th>\n",
       "      <th>molecule_chembl_id</th>\n",
       "      <th>units</th>\n",
       "      <th>Ki</th>\n",
       "      <th>smiles</th>\n",
       "      <th>pKi</th>\n",
       "    </tr>\n",
       "  </thead>\n",
       "  <tbody>\n",
       "    <tr>\n",
       "      <th>0</th>\n",
       "      <td>CHEMBL11805</td>\n",
       "      <td>nM</td>\n",
       "      <td>0.104</td>\n",
       "      <td>COc1ccccc1CN(C)CCCCCC(=O)N(C)CCCCCCCCN(C)C(=O)...</td>\n",
       "      <td>9.982967</td>\n",
       "    </tr>\n",
       "    <tr>\n",
       "      <th>1</th>\n",
       "      <td>CHEMBL208599</td>\n",
       "      <td>nM</td>\n",
       "      <td>0.026</td>\n",
       "      <td>CCC1=CC2Cc3nc4cc(Cl)ccc4c(N)c3[C@@H](C1)C2</td>\n",
       "      <td>10.585027</td>\n",
       "    </tr>\n",
       "    <tr>\n",
       "      <th>2</th>\n",
       "      <td>CHEMBL60745</td>\n",
       "      <td>nM</td>\n",
       "      <td>1.630</td>\n",
       "      <td>CC[N+](C)(C)c1cccc(O)c1.[Br-]</td>\n",
       "      <td>8.787812</td>\n",
       "    </tr>\n",
       "    <tr>\n",
       "      <th>3</th>\n",
       "      <td>CHEMBL95</td>\n",
       "      <td>nM</td>\n",
       "      <td>151.000</td>\n",
       "      <td>Nc1c2c(nc3ccccc13)CCCC2</td>\n",
       "      <td>6.821023</td>\n",
       "    </tr>\n",
       "    <tr>\n",
       "      <th>4</th>\n",
       "      <td>CHEMBL173309</td>\n",
       "      <td>nM</td>\n",
       "      <td>12.200</td>\n",
       "      <td>CCN(CCCCCC(=O)N(C)CCCCCCCCN(C)C(=O)CCCCCN(CC)C...</td>\n",
       "      <td>7.913640</td>\n",
       "    </tr>\n",
       "    <tr>\n",
       "      <th>...</th>\n",
       "      <td>...</td>\n",
       "      <td>...</td>\n",
       "      <td>...</td>\n",
       "      <td>...</td>\n",
       "      <td>...</td>\n",
       "    </tr>\n",
       "    <tr>\n",
       "      <th>467</th>\n",
       "      <td>CHEMBL5220695</td>\n",
       "      <td>nM</td>\n",
       "      <td>120.000</td>\n",
       "      <td>CC(C)(C)OC(=O)Nc1ccc(O)c(C(=O)NCCCN2CCCCC2)c1</td>\n",
       "      <td>6.920819</td>\n",
       "    </tr>\n",
       "    <tr>\n",
       "      <th>468</th>\n",
       "      <td>CHEMBL5219239</td>\n",
       "      <td>nM</td>\n",
       "      <td>170.000</td>\n",
       "      <td>CC1CCCCN1CCCNC(=O)c1cc(NC(=O)OC(C)(C)C)ccc1O</td>\n",
       "      <td>6.769551</td>\n",
       "    </tr>\n",
       "    <tr>\n",
       "      <th>469</th>\n",
       "      <td>CHEMBL5218804</td>\n",
       "      <td>nM</td>\n",
       "      <td>0.264</td>\n",
       "      <td>COc1cccc2c1CCC(NC(=O)OCc1ccccc1)C2</td>\n",
       "      <td>9.578396</td>\n",
       "    </tr>\n",
       "    <tr>\n",
       "      <th>470</th>\n",
       "      <td>CHEMBL5219425</td>\n",
       "      <td>nM</td>\n",
       "      <td>3500.000</td>\n",
       "      <td>CCN(CC)C(=O)OC1C[N+]2(C)CCC1CC2.[I-]</td>\n",
       "      <td>5.455932</td>\n",
       "    </tr>\n",
       "    <tr>\n",
       "      <th>471</th>\n",
       "      <td>CHEMBL193996</td>\n",
       "      <td>nM</td>\n",
       "      <td>1000.000</td>\n",
       "      <td>O=C(Nc1ccccc1)OC1CN2CCC1CC2</td>\n",
       "      <td>6.000000</td>\n",
       "    </tr>\n",
       "  </tbody>\n",
       "</table>\n",
       "<p>472 rows × 5 columns</p>\n",
       "</div>"
      ],
      "text/plain": [
       "    molecule_chembl_id units        Ki  \\\n",
       "0          CHEMBL11805    nM     0.104   \n",
       "1         CHEMBL208599    nM     0.026   \n",
       "2          CHEMBL60745    nM     1.630   \n",
       "3             CHEMBL95    nM   151.000   \n",
       "4         CHEMBL173309    nM    12.200   \n",
       "..                 ...   ...       ...   \n",
       "467      CHEMBL5220695    nM   120.000   \n",
       "468      CHEMBL5219239    nM   170.000   \n",
       "469      CHEMBL5218804    nM     0.264   \n",
       "470      CHEMBL5219425    nM  3500.000   \n",
       "471       CHEMBL193996    nM  1000.000   \n",
       "\n",
       "                                                smiles        pKi  \n",
       "0    COc1ccccc1CN(C)CCCCCC(=O)N(C)CCCCCCCCN(C)C(=O)...   9.982967  \n",
       "1           CCC1=CC2Cc3nc4cc(Cl)ccc4c(N)c3[C@@H](C1)C2  10.585027  \n",
       "2                        CC[N+](C)(C)c1cccc(O)c1.[Br-]   8.787812  \n",
       "3                              Nc1c2c(nc3ccccc13)CCCC2   6.821023  \n",
       "4    CCN(CCCCCC(=O)N(C)CCCCCCCCN(C)C(=O)CCCCCN(CC)C...   7.913640  \n",
       "..                                                 ...        ...  \n",
       "467      CC(C)(C)OC(=O)Nc1ccc(O)c(C(=O)NCCCN2CCCCC2)c1   6.920819  \n",
       "468       CC1CCCCN1CCCNC(=O)c1cc(NC(=O)OC(C)(C)C)ccc1O   6.769551  \n",
       "469                 COc1cccc2c1CCC(NC(=O)OCc1ccccc1)C2   9.578396  \n",
       "470               CCN(CC)C(=O)OC1C[N+]2(C)CCC1CC2.[I-]   5.455932  \n",
       "471                        O=C(Nc1ccccc1)OC1CN2CCC1CC2   6.000000  \n",
       "\n",
       "[472 rows x 5 columns]"
      ]
     },
     "execution_count": 14,
     "metadata": {},
     "output_type": "execute_result"
    }
   ],
   "source": [
    "df"
   ]
  },
  {
   "cell_type": "code",
   "execution_count": 15,
   "metadata": {},
   "outputs": [],
   "source": [
    "y = df['pKi']"
   ]
  },
  {
   "cell_type": "code",
   "execution_count": 16,
   "metadata": {},
   "outputs": [],
   "source": [
    "#mols = [Chem.MolFromSmiles(smi) for smi in df.canonical_smiles ]"
   ]
  },
  {
   "cell_type": "code",
   "execution_count": 17,
   "metadata": {},
   "outputs": [],
   "source": [
    "# df1 = Calc.pandas(mols)"
   ]
  },
  {
   "cell_type": "code",
   "execution_count": 18,
   "metadata": {},
   "outputs": [],
   "source": [
    "#df1.to_csv('data_mordred_descriptors.csv',index=False)"
   ]
  },
  {
   "cell_type": "code",
   "execution_count": 19,
   "metadata": {},
   "outputs": [
    {
     "data": {
      "text/plain": [
       "0"
      ]
     },
     "execution_count": 19,
     "metadata": {},
     "output_type": "execute_result"
    }
   ],
   "source": [
    "df.isnull().sum().sum()"
   ]
  },
  {
   "cell_type": "code",
   "execution_count": 20,
   "metadata": {},
   "outputs": [
    {
     "ename": "NameError",
     "evalue": "name 'df2' is not defined",
     "output_type": "error",
     "traceback": [
      "\u001b[0;31m---------------------------------------------------------------------------\u001b[0m",
      "\u001b[0;31mNameError\u001b[0m                                 Traceback (most recent call last)",
      "\u001b[0;32m/var/folders/lx/srv0s20d1vs78lcwbd1_625h0000gn/T/ipykernel_10996/73694041.py\u001b[0m in \u001b[0;36m<module>\u001b[0;34m\u001b[0m\n\u001b[0;32m----> 1\u001b[0;31m \u001b[0mdf2\u001b[0m\u001b[0;34m.\u001b[0m\u001b[0mset_index\u001b[0m\u001b[0;34m(\u001b[0m\u001b[0mdf\u001b[0m\u001b[0;34m.\u001b[0m\u001b[0mindex\u001b[0m\u001b[0;34m,\u001b[0m \u001b[0minplace\u001b[0m\u001b[0;34m=\u001b[0m \u001b[0;32mTrue\u001b[0m\u001b[0;34m)\u001b[0m\u001b[0;34m\u001b[0m\u001b[0;34m\u001b[0m\u001b[0m\n\u001b[0m\u001b[1;32m      2\u001b[0m \u001b[0mdf2\u001b[0m\u001b[0;34m\u001b[0m\u001b[0;34m\u001b[0m\u001b[0m\n",
      "\u001b[0;31mNameError\u001b[0m: name 'df2' is not defined"
     ]
    }
   ],
   "source": [
    "df2.set_index(df.index, inplace= True)\n",
    "df2"
   ]
  },
  {
   "cell_type": "code",
   "execution_count": 19,
   "metadata": {},
   "outputs": [
    {
     "data": {
      "text/plain": [
       "ABC         float64\n",
       "ABCGG       float64\n",
       "nAcid         int64\n",
       "nBase         int64\n",
       "SpAbs_A      object\n",
       "             ...   \n",
       "WPol          int64\n",
       "Zagreb1     float64\n",
       "Zagreb2     float64\n",
       "mZagreb1     object\n",
       "mZagreb2    float64\n",
       "Length: 1613, dtype: object"
      ]
     },
     "execution_count": 19,
     "metadata": {},
     "output_type": "execute_result"
    }
   ],
   "source": [
    "df2.dtypes"
   ]
  },
  {
   "cell_type": "markdown",
   "metadata": {},
   "source": [
    "### Convert values to mumerics"
   ]
  },
  {
   "cell_type": "code",
   "execution_count": 20,
   "metadata": {},
   "outputs": [
    {
     "data": {
      "text/html": [
       "<div>\n",
       "<style scoped>\n",
       "    .dataframe tbody tr th:only-of-type {\n",
       "        vertical-align: middle;\n",
       "    }\n",
       "\n",
       "    .dataframe tbody tr th {\n",
       "        vertical-align: top;\n",
       "    }\n",
       "\n",
       "    .dataframe thead th {\n",
       "        text-align: right;\n",
       "    }\n",
       "</style>\n",
       "<table border=\"1\" class=\"dataframe\">\n",
       "  <thead>\n",
       "    <tr style=\"text-align: right;\">\n",
       "      <th></th>\n",
       "      <th>canonical_smiles</th>\n",
       "      <th>pchembl_value</th>\n",
       "    </tr>\n",
       "    <tr>\n",
       "      <th>molecule_chembl_id</th>\n",
       "      <th></th>\n",
       "      <th></th>\n",
       "    </tr>\n",
       "  </thead>\n",
       "  <tbody>\n",
       "    <tr>\n",
       "      <th>CHEMBL1795572</th>\n",
       "      <td>CO/N=C(/C(=O)NCP(=O)(O)Oc1ccc(C#N)c(F)c1)c1ccc...</td>\n",
       "      <td>4.51</td>\n",
       "    </tr>\n",
       "    <tr>\n",
       "      <th>CHEMBL3112752</th>\n",
       "      <td>N[C@@H](Cc1ccc(NC(=O)[C@@H]2CC[C@@H]3CN2C(=O)N...</td>\n",
       "      <td>4.55</td>\n",
       "    </tr>\n",
       "    <tr>\n",
       "      <th>CHEMBL3112746</th>\n",
       "      <td>O=C(Nc1ccncc1)[C@@H]1CC[C@@H]2CN1C(=O)N2OS(=O)...</td>\n",
       "      <td>4.70</td>\n",
       "    </tr>\n",
       "    <tr>\n",
       "      <th>CHEMBL1173339</th>\n",
       "      <td>CCC(S)P(=O)(OC(C)C)OC(C)C</td>\n",
       "      <td>5.70</td>\n",
       "    </tr>\n",
       "    <tr>\n",
       "      <th>CHEMBL1172388</th>\n",
       "      <td>CCC(S)P(=O)(O)O</td>\n",
       "      <td>4.82</td>\n",
       "    </tr>\n",
       "    <tr>\n",
       "      <th>...</th>\n",
       "      <td>...</td>\n",
       "      <td>...</td>\n",
       "    </tr>\n",
       "    <tr>\n",
       "      <th>CHEMBL4088285</th>\n",
       "      <td>CC(=O)SCC(CCCc1ccccc1)c1nnn[nH]1</td>\n",
       "      <td>4.38</td>\n",
       "    </tr>\n",
       "    <tr>\n",
       "      <th>CHEMBL4064978</th>\n",
       "      <td>CC(=O)SCC(Cc1ccccc1)c1nnn[nH]1</td>\n",
       "      <td>4.17</td>\n",
       "    </tr>\n",
       "    <tr>\n",
       "      <th>CHEMBL4075406</th>\n",
       "      <td>O=P(O)(O)C(CO)CCCCc1ccccc1</td>\n",
       "      <td>5.35</td>\n",
       "    </tr>\n",
       "    <tr>\n",
       "      <th>CHEMBL4069211</th>\n",
       "      <td>O=P(O)(O)C(CO)CCCc1ccccc1</td>\n",
       "      <td>4.47</td>\n",
       "    </tr>\n",
       "    <tr>\n",
       "      <th>CHEMBL4087458</th>\n",
       "      <td>CCOP(=O)(OCC)C(CS)CCCCc1ccccc1</td>\n",
       "      <td>5.78</td>\n",
       "    </tr>\n",
       "  </tbody>\n",
       "</table>\n",
       "<p>62226 rows × 2 columns</p>\n",
       "</div>"
      ],
      "text/plain": [
       "                                                     canonical_smiles  \\\n",
       "molecule_chembl_id                                                      \n",
       "CHEMBL1795572       CO/N=C(/C(=O)NCP(=O)(O)Oc1ccc(C#N)c(F)c1)c1ccc...   \n",
       "CHEMBL3112752       N[C@@H](Cc1ccc(NC(=O)[C@@H]2CC[C@@H]3CN2C(=O)N...   \n",
       "CHEMBL3112746       O=C(Nc1ccncc1)[C@@H]1CC[C@@H]2CN1C(=O)N2OS(=O)...   \n",
       "CHEMBL1173339                               CCC(S)P(=O)(OC(C)C)OC(C)C   \n",
       "CHEMBL1172388                                         CCC(S)P(=O)(O)O   \n",
       "...                                                               ...   \n",
       "CHEMBL4088285                        CC(=O)SCC(CCCc1ccccc1)c1nnn[nH]1   \n",
       "CHEMBL4064978                          CC(=O)SCC(Cc1ccccc1)c1nnn[nH]1   \n",
       "CHEMBL4075406                              O=P(O)(O)C(CO)CCCCc1ccccc1   \n",
       "CHEMBL4069211                               O=P(O)(O)C(CO)CCCc1ccccc1   \n",
       "CHEMBL4087458                          CCOP(=O)(OCC)C(CS)CCCCc1ccccc1   \n",
       "\n",
       "                    pchembl_value  \n",
       "molecule_chembl_id                 \n",
       "CHEMBL1795572                4.51  \n",
       "CHEMBL3112752                4.55  \n",
       "CHEMBL3112746                4.70  \n",
       "CHEMBL1173339                5.70  \n",
       "CHEMBL1172388                4.82  \n",
       "...                           ...  \n",
       "CHEMBL4088285                4.38  \n",
       "CHEMBL4064978                4.17  \n",
       "CHEMBL4075406                5.35  \n",
       "CHEMBL4069211                4.47  \n",
       "CHEMBL4087458                5.78  \n",
       "\n",
       "[62226 rows x 2 columns]"
      ]
     },
     "execution_count": 20,
     "metadata": {},
     "output_type": "execute_result"
    }
   ],
   "source": [
    "data_columuns = df2.columns\n",
    "data_columuns\n",
    "df2_indices = df2.index\n",
    "df"
   ]
  },
  {
   "cell_type": "code",
   "execution_count": 21,
   "metadata": {},
   "outputs": [],
   "source": [
    "df2 = (df2.drop(columns= data_columuns, axis=1).join(df2[data_columuns].apply(pd.to_numeric, errors='coerce')))"
   ]
  },
  {
   "cell_type": "code",
   "execution_count": 22,
   "metadata": {},
   "outputs": [
    {
     "data": {
      "text/plain": [
       "ABC         float64\n",
       "ABCGG       float64\n",
       "nAcid         int64\n",
       "nBase         int64\n",
       "SpAbs_A     float64\n",
       "             ...   \n",
       "WPol          int64\n",
       "Zagreb1     float64\n",
       "Zagreb2     float64\n",
       "mZagreb1    float64\n",
       "mZagreb2    float64\n",
       "Length: 1613, dtype: object"
      ]
     },
     "execution_count": 22,
     "metadata": {},
     "output_type": "execute_result"
    }
   ],
   "source": [
    "df2.dtypes"
   ]
  },
  {
   "cell_type": "code",
   "execution_count": 23,
   "metadata": {},
   "outputs": [],
   "source": [
    "df2.to_csv('betalactamase_mordred_all_descriptors.csv', index=True)"
   ]
  },
  {
   "cell_type": "code",
   "execution_count": 24,
   "metadata": {},
   "outputs": [
    {
     "data": {
      "text/plain": [
       "0"
      ]
     },
     "execution_count": 24,
     "metadata": {},
     "output_type": "execute_result"
    }
   ],
   "source": [
    "df.isnull().sum().sum()"
   ]
  },
  {
   "cell_type": "code",
   "execution_count": 25,
   "metadata": {},
   "outputs": [],
   "source": [
    "from sklearn.model_selection import train_test_split, StratifiedKFold\n",
    "from sklearn.preprocessing import StandardScaler"
   ]
  },
  {
   "cell_type": "code",
   "execution_count": 26,
   "metadata": {},
   "outputs": [
    {
     "name": "stderr",
     "output_type": "stream",
     "text": [
      "/home/adnane/.conda/envs/rdkit/lib/python3.6/site-packages/sklearn/utils/extmath.py:770: RuntimeWarning: invalid value encountered in true_divide\n",
      "  updated_mean = (last_sum + new_sum) / updated_sample_count\n",
      "/home/adnane/.conda/envs/rdkit/lib/python3.6/site-packages/sklearn/utils/extmath.py:711: RuntimeWarning: Degrees of freedom <= 0 for slice.\n",
      "  result = op(x, *args, **kwargs)\n"
     ]
    },
    {
     "data": {
      "text/html": [
       "<div>\n",
       "<style scoped>\n",
       "    .dataframe tbody tr th:only-of-type {\n",
       "        vertical-align: middle;\n",
       "    }\n",
       "\n",
       "    .dataframe tbody tr th {\n",
       "        vertical-align: top;\n",
       "    }\n",
       "\n",
       "    .dataframe thead th {\n",
       "        text-align: right;\n",
       "    }\n",
       "</style>\n",
       "<table border=\"1\" class=\"dataframe\">\n",
       "  <thead>\n",
       "    <tr style=\"text-align: right;\">\n",
       "      <th></th>\n",
       "      <th>ABC</th>\n",
       "      <th>ABCGG</th>\n",
       "      <th>nAcid</th>\n",
       "      <th>nBase</th>\n",
       "      <th>SpAbs_A</th>\n",
       "      <th>SpMax_A</th>\n",
       "      <th>SpDiam_A</th>\n",
       "      <th>SpAD_A</th>\n",
       "      <th>SpMAD_A</th>\n",
       "      <th>LogEE_A</th>\n",
       "      <th>...</th>\n",
       "      <th>SRW10</th>\n",
       "      <th>TSRW10</th>\n",
       "      <th>MW</th>\n",
       "      <th>AMW</th>\n",
       "      <th>WPath</th>\n",
       "      <th>WPol</th>\n",
       "      <th>Zagreb1</th>\n",
       "      <th>Zagreb2</th>\n",
       "      <th>mZagreb1</th>\n",
       "      <th>mZagreb2</th>\n",
       "    </tr>\n",
       "    <tr>\n",
       "      <th>molecule_chembl_id</th>\n",
       "      <th></th>\n",
       "      <th></th>\n",
       "      <th></th>\n",
       "      <th></th>\n",
       "      <th></th>\n",
       "      <th></th>\n",
       "      <th></th>\n",
       "      <th></th>\n",
       "      <th></th>\n",
       "      <th></th>\n",
       "      <th></th>\n",
       "      <th></th>\n",
       "      <th></th>\n",
       "      <th></th>\n",
       "      <th></th>\n",
       "      <th></th>\n",
       "      <th></th>\n",
       "      <th></th>\n",
       "      <th></th>\n",
       "      <th></th>\n",
       "      <th></th>\n",
       "    </tr>\n",
       "  </thead>\n",
       "  <tbody>\n",
       "    <tr>\n",
       "      <th>CHEMBL1795572</th>\n",
       "      <td>0.085011</td>\n",
       "      <td>0.495100</td>\n",
       "      <td>2.203399</td>\n",
       "      <td>-0.394642</td>\n",
       "      <td>-0.018392</td>\n",
       "      <td>-0.893046</td>\n",
       "      <td>-0.731131</td>\n",
       "      <td>-0.018392</td>\n",
       "      <td>-1.584933</td>\n",
       "      <td>0.196866</td>\n",
       "      <td>...</td>\n",
       "      <td>-0.130687</td>\n",
       "      <td>0.520441</td>\n",
       "      <td>0.783628</td>\n",
       "      <td>2.675741</td>\n",
       "      <td>-0.121708</td>\n",
       "      <td>-0.122044</td>\n",
       "      <td>0.017907</td>\n",
       "      <td>-0.102373</td>\n",
       "      <td>1.108502</td>\n",
       "      <td>0.305109</td>\n",
       "    </tr>\n",
       "    <tr>\n",
       "      <th>CHEMBL3112752</th>\n",
       "      <td>0.611166</td>\n",
       "      <td>0.603645</td>\n",
       "      <td>4.674405</td>\n",
       "      <td>1.388081</td>\n",
       "      <td>0.357585</td>\n",
       "      <td>0.896336</td>\n",
       "      <td>0.251232</td>\n",
       "      <td>0.357585</td>\n",
       "      <td>-1.287309</td>\n",
       "      <td>0.618517</td>\n",
       "      <td>...</td>\n",
       "      <td>0.646492</td>\n",
       "      <td>0.900949</td>\n",
       "      <td>0.747344</td>\n",
       "      <td>0.533264</td>\n",
       "      <td>-0.121708</td>\n",
       "      <td>0.484744</td>\n",
       "      <td>0.647191</td>\n",
       "      <td>0.581844</td>\n",
       "      <td>1.505499</td>\n",
       "      <td>0.338800</td>\n",
       "    </tr>\n",
       "    <tr>\n",
       "      <th>CHEMBL3112746</th>\n",
       "      <td>-0.391348</td>\n",
       "      <td>-0.325746</td>\n",
       "      <td>2.203399</td>\n",
       "      <td>-0.394642</td>\n",
       "      <td>-0.574502</td>\n",
       "      <td>0.892969</td>\n",
       "      <td>0.176168</td>\n",
       "      <td>-0.574502</td>\n",
       "      <td>-0.731794</td>\n",
       "      <td>-0.333416</td>\n",
       "      <td>...</td>\n",
       "      <td>0.110881</td>\n",
       "      <td>0.221033</td>\n",
       "      <td>-0.332643</td>\n",
       "      <td>1.003748</td>\n",
       "      <td>-0.121709</td>\n",
       "      <td>-0.382096</td>\n",
       "      <td>-0.296735</td>\n",
       "      <td>-0.279763</td>\n",
       "      <td>-0.082489</td>\n",
       "      <td>-0.694408</td>\n",
       "    </tr>\n",
       "    <tr>\n",
       "      <th>CHEMBL1173339</th>\n",
       "      <td>-2.235638</td>\n",
       "      <td>-1.856657</td>\n",
       "      <td>-0.267607</td>\n",
       "      <td>-0.394642</td>\n",
       "      <td>-2.449497</td>\n",
       "      <td>-1.118906</td>\n",
       "      <td>-0.856604</td>\n",
       "      <td>-2.449497</td>\n",
       "      <td>-5.420783</td>\n",
       "      <td>-2.886535</td>\n",
       "      <td>...</td>\n",
       "      <td>-2.276734</td>\n",
       "      <td>-2.418560</td>\n",
       "      <td>-1.612615</td>\n",
       "      <td>-1.204268</td>\n",
       "      <td>-0.121709</td>\n",
       "      <td>-1.855724</td>\n",
       "      <td>-2.247517</td>\n",
       "      <td>-2.256390</td>\n",
       "      <td>-0.175122</td>\n",
       "      <td>-1.985918</td>\n",
       "    </tr>\n",
       "    <tr>\n",
       "      <th>CHEMBL1172388</th>\n",
       "      <td>-3.200974</td>\n",
       "      <td>-3.267351</td>\n",
       "      <td>4.674405</td>\n",
       "      <td>-0.394642</td>\n",
       "      <td>-3.359235</td>\n",
       "      <td>-2.723774</td>\n",
       "      <td>-2.657959</td>\n",
       "      <td>-3.359235</td>\n",
       "      <td>-6.397642</td>\n",
       "      <td>-5.350458</td>\n",
       "      <td>...</td>\n",
       "      <td>-4.227229</td>\n",
       "      <td>-3.294470</td>\n",
       "      <td>-2.668214</td>\n",
       "      <td>0.940401</td>\n",
       "      <td>-0.121709</td>\n",
       "      <td>-2.722565</td>\n",
       "      <td>-3.128515</td>\n",
       "      <td>-3.067314</td>\n",
       "      <td>-1.471980</td>\n",
       "      <td>-3.131432</td>\n",
       "    </tr>\n",
       "    <tr>\n",
       "      <th>...</th>\n",
       "      <td>...</td>\n",
       "      <td>...</td>\n",
       "      <td>...</td>\n",
       "      <td>...</td>\n",
       "      <td>...</td>\n",
       "      <td>...</td>\n",
       "      <td>...</td>\n",
       "      <td>...</td>\n",
       "      <td>...</td>\n",
       "      <td>...</td>\n",
       "      <td>...</td>\n",
       "      <td>...</td>\n",
       "      <td>...</td>\n",
       "      <td>...</td>\n",
       "      <td>...</td>\n",
       "      <td>...</td>\n",
       "      <td>...</td>\n",
       "      <td>...</td>\n",
       "      <td>...</td>\n",
       "      <td>...</td>\n",
       "      <td>...</td>\n",
       "    </tr>\n",
       "    <tr>\n",
       "      <th>CHEMBL4088285</th>\n",
       "      <td>-1.086948</td>\n",
       "      <td>-0.998379</td>\n",
       "      <td>4.674405</td>\n",
       "      <td>-0.394642</td>\n",
       "      <td>-1.011702</td>\n",
       "      <td>-1.837288</td>\n",
       "      <td>-2.088464</td>\n",
       "      <td>-1.011702</td>\n",
       "      <td>-0.057424</td>\n",
       "      <td>-1.120192</td>\n",
       "      <td>...</td>\n",
       "      <td>-1.996907</td>\n",
       "      <td>-0.421894</td>\n",
       "      <td>-0.984667</td>\n",
       "      <td>-0.486915</td>\n",
       "      <td>-0.121709</td>\n",
       "      <td>-1.508988</td>\n",
       "      <td>-1.240662</td>\n",
       "      <td>-1.344101</td>\n",
       "      <td>-1.223856</td>\n",
       "      <td>-0.885327</td>\n",
       "    </tr>\n",
       "    <tr>\n",
       "      <th>CHEMBL4064978</th>\n",
       "      <td>-1.399896</td>\n",
       "      <td>-1.263435</td>\n",
       "      <td>4.674405</td>\n",
       "      <td>-0.394642</td>\n",
       "      <td>-1.355599</td>\n",
       "      <td>-1.520047</td>\n",
       "      <td>-1.630808</td>\n",
       "      <td>-1.355599</td>\n",
       "      <td>-0.031552</td>\n",
       "      <td>-1.545641</td>\n",
       "      <td>...</td>\n",
       "      <td>-2.089384</td>\n",
       "      <td>-0.648176</td>\n",
       "      <td>-1.336534</td>\n",
       "      <td>0.027374</td>\n",
       "      <td>-0.121709</td>\n",
       "      <td>-1.682356</td>\n",
       "      <td>-1.492376</td>\n",
       "      <td>-1.546832</td>\n",
       "      <td>-1.462055</td>\n",
       "      <td>-1.289626</td>\n",
       "    </tr>\n",
       "    <tr>\n",
       "      <th>CHEMBL4075406</th>\n",
       "      <td>-1.660442</td>\n",
       "      <td>-1.616855</td>\n",
       "      <td>4.674405</td>\n",
       "      <td>-0.394642</td>\n",
       "      <td>-1.721691</td>\n",
       "      <td>-2.146560</td>\n",
       "      <td>-2.010075</td>\n",
       "      <td>-1.721691</td>\n",
       "      <td>-2.167171</td>\n",
       "      <td>-1.919044</td>\n",
       "      <td>...</td>\n",
       "      <td>-2.135989</td>\n",
       "      <td>-2.047583</td>\n",
       "      <td>-1.386578</td>\n",
       "      <td>-0.917610</td>\n",
       "      <td>-0.121709</td>\n",
       "      <td>-1.682356</td>\n",
       "      <td>-1.744090</td>\n",
       "      <td>-1.825587</td>\n",
       "      <td>-0.823551</td>\n",
       "      <td>-1.446853</td>\n",
       "    </tr>\n",
       "    <tr>\n",
       "      <th>CHEMBL4069211</th>\n",
       "      <td>-1.816915</td>\n",
       "      <td>-1.753043</td>\n",
       "      <td>4.674405</td>\n",
       "      <td>-0.394642</td>\n",
       "      <td>-1.872260</td>\n",
       "      <td>-2.081201</td>\n",
       "      <td>-1.936714</td>\n",
       "      <td>-1.872260</td>\n",
       "      <td>-2.032828</td>\n",
       "      <td>-2.169510</td>\n",
       "      <td>...</td>\n",
       "      <td>-2.201062</td>\n",
       "      <td>-2.163828</td>\n",
       "      <td>-1.562511</td>\n",
       "      <td>-0.707412</td>\n",
       "      <td>-0.121709</td>\n",
       "      <td>-1.769040</td>\n",
       "      <td>-1.869946</td>\n",
       "      <td>-1.926952</td>\n",
       "      <td>-0.942650</td>\n",
       "      <td>-1.649003</td>\n",
       "    </tr>\n",
       "    <tr>\n",
       "      <th>CHEMBL4087458</th>\n",
       "      <td>-1.104879</td>\n",
       "      <td>-0.856087</td>\n",
       "      <td>-0.267607</td>\n",
       "      <td>-0.394642</td>\n",
       "      <td>-0.993101</td>\n",
       "      <td>-1.190012</td>\n",
       "      <td>-0.936415</td>\n",
       "      <td>-0.993101</td>\n",
       "      <td>-1.443794</td>\n",
       "      <td>-1.036578</td>\n",
       "      <td>...</td>\n",
       "      <td>-1.398885</td>\n",
       "      <td>-1.560257</td>\n",
       "      <td>-0.482290</td>\n",
       "      <td>-1.187511</td>\n",
       "      <td>-0.121709</td>\n",
       "      <td>-0.988884</td>\n",
       "      <td>-1.240662</td>\n",
       "      <td>-1.318759</td>\n",
       "      <td>-0.347154</td>\n",
       "      <td>-0.436106</td>\n",
       "    </tr>\n",
       "  </tbody>\n",
       "</table>\n",
       "<p>62226 rows × 1613 columns</p>\n",
       "</div>"
      ],
      "text/plain": [
       "                         ABC     ABCGG     nAcid     nBase   SpAbs_A  \\\n",
       "molecule_chembl_id                                                     \n",
       "CHEMBL1795572       0.085011  0.495100  2.203399 -0.394642 -0.018392   \n",
       "CHEMBL3112752       0.611166  0.603645  4.674405  1.388081  0.357585   \n",
       "CHEMBL3112746      -0.391348 -0.325746  2.203399 -0.394642 -0.574502   \n",
       "CHEMBL1173339      -2.235638 -1.856657 -0.267607 -0.394642 -2.449497   \n",
       "CHEMBL1172388      -3.200974 -3.267351  4.674405 -0.394642 -3.359235   \n",
       "...                      ...       ...       ...       ...       ...   \n",
       "CHEMBL4088285      -1.086948 -0.998379  4.674405 -0.394642 -1.011702   \n",
       "CHEMBL4064978      -1.399896 -1.263435  4.674405 -0.394642 -1.355599   \n",
       "CHEMBL4075406      -1.660442 -1.616855  4.674405 -0.394642 -1.721691   \n",
       "CHEMBL4069211      -1.816915 -1.753043  4.674405 -0.394642 -1.872260   \n",
       "CHEMBL4087458      -1.104879 -0.856087 -0.267607 -0.394642 -0.993101   \n",
       "\n",
       "                     SpMax_A  SpDiam_A    SpAD_A   SpMAD_A   LogEE_A  ...  \\\n",
       "molecule_chembl_id                                                    ...   \n",
       "CHEMBL1795572      -0.893046 -0.731131 -0.018392 -1.584933  0.196866  ...   \n",
       "CHEMBL3112752       0.896336  0.251232  0.357585 -1.287309  0.618517  ...   \n",
       "CHEMBL3112746       0.892969  0.176168 -0.574502 -0.731794 -0.333416  ...   \n",
       "CHEMBL1173339      -1.118906 -0.856604 -2.449497 -5.420783 -2.886535  ...   \n",
       "CHEMBL1172388      -2.723774 -2.657959 -3.359235 -6.397642 -5.350458  ...   \n",
       "...                      ...       ...       ...       ...       ...  ...   \n",
       "CHEMBL4088285      -1.837288 -2.088464 -1.011702 -0.057424 -1.120192  ...   \n",
       "CHEMBL4064978      -1.520047 -1.630808 -1.355599 -0.031552 -1.545641  ...   \n",
       "CHEMBL4075406      -2.146560 -2.010075 -1.721691 -2.167171 -1.919044  ...   \n",
       "CHEMBL4069211      -2.081201 -1.936714 -1.872260 -2.032828 -2.169510  ...   \n",
       "CHEMBL4087458      -1.190012 -0.936415 -0.993101 -1.443794 -1.036578  ...   \n",
       "\n",
       "                       SRW10    TSRW10        MW       AMW     WPath  \\\n",
       "molecule_chembl_id                                                     \n",
       "CHEMBL1795572      -0.130687  0.520441  0.783628  2.675741 -0.121708   \n",
       "CHEMBL3112752       0.646492  0.900949  0.747344  0.533264 -0.121708   \n",
       "CHEMBL3112746       0.110881  0.221033 -0.332643  1.003748 -0.121709   \n",
       "CHEMBL1173339      -2.276734 -2.418560 -1.612615 -1.204268 -0.121709   \n",
       "CHEMBL1172388      -4.227229 -3.294470 -2.668214  0.940401 -0.121709   \n",
       "...                      ...       ...       ...       ...       ...   \n",
       "CHEMBL4088285      -1.996907 -0.421894 -0.984667 -0.486915 -0.121709   \n",
       "CHEMBL4064978      -2.089384 -0.648176 -1.336534  0.027374 -0.121709   \n",
       "CHEMBL4075406      -2.135989 -2.047583 -1.386578 -0.917610 -0.121709   \n",
       "CHEMBL4069211      -2.201062 -2.163828 -1.562511 -0.707412 -0.121709   \n",
       "CHEMBL4087458      -1.398885 -1.560257 -0.482290 -1.187511 -0.121709   \n",
       "\n",
       "                        WPol   Zagreb1   Zagreb2  mZagreb1  mZagreb2  \n",
       "molecule_chembl_id                                                    \n",
       "CHEMBL1795572      -0.122044  0.017907 -0.102373  1.108502  0.305109  \n",
       "CHEMBL3112752       0.484744  0.647191  0.581844  1.505499  0.338800  \n",
       "CHEMBL3112746      -0.382096 -0.296735 -0.279763 -0.082489 -0.694408  \n",
       "CHEMBL1173339      -1.855724 -2.247517 -2.256390 -0.175122 -1.985918  \n",
       "CHEMBL1172388      -2.722565 -3.128515 -3.067314 -1.471980 -3.131432  \n",
       "...                      ...       ...       ...       ...       ...  \n",
       "CHEMBL4088285      -1.508988 -1.240662 -1.344101 -1.223856 -0.885327  \n",
       "CHEMBL4064978      -1.682356 -1.492376 -1.546832 -1.462055 -1.289626  \n",
       "CHEMBL4075406      -1.682356 -1.744090 -1.825587 -0.823551 -1.446853  \n",
       "CHEMBL4069211      -1.769040 -1.869946 -1.926952 -0.942650 -1.649003  \n",
       "CHEMBL4087458      -0.988884 -1.240662 -1.318759 -0.347154 -0.436106  \n",
       "\n",
       "[62226 rows x 1613 columns]"
      ]
     },
     "execution_count": 26,
     "metadata": {},
     "output_type": "execute_result"
    }
   ],
   "source": [
    "Scaler = StandardScaler().fit(df2)\n",
    "df2 = Scaler.transform(df2)\n",
    "df2 = pd.DataFrame(data= df2, index=df2_indices, columns= data_columuns)\n",
    "df2"
   ]
  },
  {
   "cell_type": "code",
   "execution_count": 27,
   "metadata": {},
   "outputs": [],
   "source": [
    "df2.to_csv('betalactamase_mordred_scaled_descriptors.csv', index=True)"
   ]
  },
  {
   "cell_type": "code",
   "execution_count": 28,
   "metadata": {},
   "outputs": [],
   "source": [
    "from tqdm.auto import tqdm"
   ]
  },
  {
   "cell_type": "code",
   "execution_count": 29,
   "metadata": {},
   "outputs": [],
   "source": [
    "from sklearn.feature_selection import mutual_info_regression, SelectKBest"
   ]
  },
  {
   "cell_type": "code",
   "execution_count": 30,
   "metadata": {},
   "outputs": [],
   "source": [
    "X_train, X_test, y_train, y_test = train_test_split(\n",
    "    df2, y, test_size=0.33, random_state=42)"
   ]
  },
  {
   "cell_type": "code",
   "execution_count": 31,
   "metadata": {
    "scrolled": true
   },
   "outputs": [
    {
     "data": {
      "text/plain": [
       "((41691, 1613), (20535, 1613))"
      ]
     },
     "execution_count": 31,
     "metadata": {},
     "output_type": "execute_result"
    }
   ],
   "source": [
    "X_train.shape, X_test.shape"
   ]
  },
  {
   "cell_type": "markdown",
   "metadata": {},
   "source": [
    "### First we need to drop coorelated descriptors "
   ]
  },
  {
   "cell_type": "code",
   "execution_count": 32,
   "metadata": {},
   "outputs": [],
   "source": [
    "from feature_engine.selection import DropCorrelatedFeatures, SmartCorrelatedSelection"
   ]
  },
  {
   "cell_type": "code",
   "execution_count": 33,
   "metadata": {},
   "outputs": [
    {
     "data": {
      "text/plain": [
       "DropCorrelatedFeatures(threshold=0.6,\n",
       "                       variables=['ABC', 'ABCGG', 'nAcid', 'nBase', 'SpAbs_A',\n",
       "                                  'SpMax_A', 'SpDiam_A', 'SpAD_A', 'SpMAD_A',\n",
       "                                  'LogEE_A', 'VE1_A', 'VE2_A', 'VE3_A', 'VR1_A',\n",
       "                                  'VR2_A', 'VR3_A', 'nAromAtom', 'nAromBond',\n",
       "                                  'nAtom', 'nHeavyAtom', 'nSpiro',\n",
       "                                  'nBridgehead', 'nHetero', 'nH', 'nB', 'nC',\n",
       "                                  'nN', 'nO', 'nS', 'nP', ...])"
      ]
     },
     "execution_count": 33,
     "metadata": {},
     "output_type": "execute_result"
    }
   ],
   "source": [
    "Sel = DropCorrelatedFeatures(threshold= 0.6,\n",
    "                             method= 'pearson', \n",
    "                            missing_values='ignore')\n",
    "Sel.fit(X_train)"
   ]
  },
  {
   "cell_type": "code",
   "execution_count": 34,
   "metadata": {},
   "outputs": [
    {
     "data": {
      "text/plain": [
       "1171"
      ]
     },
     "execution_count": 34,
     "metadata": {},
     "output_type": "execute_result"
    }
   ],
   "source": [
    "len(Sel.features_to_drop_)"
   ]
  },
  {
   "cell_type": "code",
   "execution_count": 35,
   "metadata": {},
   "outputs": [
    {
     "data": {
      "text/plain": [
       "((41691, 442), (20535, 442))"
      ]
     },
     "execution_count": 35,
     "metadata": {},
     "output_type": "execute_result"
    }
   ],
   "source": [
    "X_trainA = Sel.transform(X_train)\n",
    "X_testA = Sel.transform(X_test)\n",
    "\n",
    "X_trainA.shape, X_testA.shape"
   ]
  },
  {
   "cell_type": "markdown",
   "metadata": {},
   "source": [
    "# To be continued..."
   ]
  },
  {
   "cell_type": "code",
   "execution_count": null,
   "metadata": {},
   "outputs": [],
   "source": []
  }
 ],
 "metadata": {
  "kernelspec": {
   "display_name": "Python 3 (ipykernel)",
   "language": "python",
   "name": "python3"
  },
  "language_info": {
   "codemirror_mode": {
    "name": "ipython",
    "version": 3
   },
   "file_extension": ".py",
   "mimetype": "text/x-python",
   "name": "python",
   "nbconvert_exporter": "python",
   "pygments_lexer": "ipython3",
   "version": "3.7.13"
  }
 },
 "nbformat": 4,
 "nbformat_minor": 4
}
