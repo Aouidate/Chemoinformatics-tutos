{
 "cells": [
  {
   "cell_type": "code",
   "execution_count": 7,
   "metadata": {},
   "outputs": [],
   "source": [
    "from pathlib import Path\n",
    "from warnings import filterwarnings\n",
    "\n",
    "# Silence some expected warnings\n",
    "filterwarnings(\"ignore\")\n",
    "\n",
    "import pandas as pd\n",
    "import numpy as np\n",
    "from rdkit import Chem\n",
    "from rdkit.Chem import MACCSkeys, Draw, AllChem, DataStructs, PandasTools\n",
    "from sklearn.model_selection import train_test_split\n",
    "import matplotlib.pyplot as plt\n",
    "from sklearn import metrics\n",
    "import seaborn as sns\n",
    "\n",
    "# Neural network specific libraries\n",
    "from tensorflow import keras\n",
    "from tensorflow.keras.models import Sequential, load_model\n",
    "from tensorflow.keras.layers import Dense, Input\n",
    "from tensorflow.keras.callbacks import ModelCheckpoint\n",
    "\n",
    "%matplotlib inline"
   ]
  },
  {
   "cell_type": "code",
   "execution_count": 2,
   "metadata": {
    "scrolled": true
   },
   "outputs": [
    {
     "data": {
      "text/html": [
       "<div>\n",
       "<style scoped>\n",
       "    .dataframe tbody tr th:only-of-type {\n",
       "        vertical-align: middle;\n",
       "    }\n",
       "\n",
       "    .dataframe tbody tr th {\n",
       "        vertical-align: top;\n",
       "    }\n",
       "\n",
       "    .dataframe thead th {\n",
       "        text-align: right;\n",
       "    }\n",
       "</style>\n",
       "<table border=\"1\" class=\"dataframe\">\n",
       "  <thead>\n",
       "    <tr style=\"text-align: right;\">\n",
       "      <th></th>\n",
       "      <th>canonical_smiles</th>\n",
       "      <th>pchembl_value</th>\n",
       "    </tr>\n",
       "    <tr>\n",
       "      <th>molecule_chembl_id</th>\n",
       "      <th></th>\n",
       "      <th></th>\n",
       "    </tr>\n",
       "  </thead>\n",
       "  <tbody>\n",
       "    <tr>\n",
       "      <th>CHEMBL1795572</th>\n",
       "      <td>CO/N=C(/C(=O)NCP(=O)(O)Oc1ccc(C#N)c(F)c1)c1ccc...</td>\n",
       "      <td>4.51</td>\n",
       "    </tr>\n",
       "    <tr>\n",
       "      <th>CHEMBL3112752</th>\n",
       "      <td>N[C@@H](Cc1ccc(NC(=O)[C@@H]2CC[C@@H]3CN2C(=O)N...</td>\n",
       "      <td>4.55</td>\n",
       "    </tr>\n",
       "    <tr>\n",
       "      <th>CHEMBL3112746</th>\n",
       "      <td>O=C(Nc1ccncc1)[C@@H]1CC[C@@H]2CN1C(=O)N2OS(=O)...</td>\n",
       "      <td>4.70</td>\n",
       "    </tr>\n",
       "    <tr>\n",
       "      <th>CHEMBL1173339</th>\n",
       "      <td>CCC(S)P(=O)(OC(C)C)OC(C)C</td>\n",
       "      <td>5.70</td>\n",
       "    </tr>\n",
       "    <tr>\n",
       "      <th>CHEMBL1172388</th>\n",
       "      <td>CCC(S)P(=O)(O)O</td>\n",
       "      <td>4.82</td>\n",
       "    </tr>\n",
       "    <tr>\n",
       "      <th>...</th>\n",
       "      <td>...</td>\n",
       "      <td>...</td>\n",
       "    </tr>\n",
       "    <tr>\n",
       "      <th>CHEMBL4088285</th>\n",
       "      <td>CC(=O)SCC(CCCc1ccccc1)c1nnn[nH]1</td>\n",
       "      <td>4.38</td>\n",
       "    </tr>\n",
       "    <tr>\n",
       "      <th>CHEMBL4064978</th>\n",
       "      <td>CC(=O)SCC(Cc1ccccc1)c1nnn[nH]1</td>\n",
       "      <td>4.17</td>\n",
       "    </tr>\n",
       "    <tr>\n",
       "      <th>CHEMBL4075406</th>\n",
       "      <td>O=P(O)(O)C(CO)CCCCc1ccccc1</td>\n",
       "      <td>5.35</td>\n",
       "    </tr>\n",
       "    <tr>\n",
       "      <th>CHEMBL4069211</th>\n",
       "      <td>O=P(O)(O)C(CO)CCCc1ccccc1</td>\n",
       "      <td>4.47</td>\n",
       "    </tr>\n",
       "    <tr>\n",
       "      <th>CHEMBL4087458</th>\n",
       "      <td>CCOP(=O)(OCC)C(CS)CCCCc1ccccc1</td>\n",
       "      <td>5.78</td>\n",
       "    </tr>\n",
       "  </tbody>\n",
       "</table>\n",
       "<p>62242 rows × 2 columns</p>\n",
       "</div>"
      ],
      "text/plain": [
       "                                                     canonical_smiles  \\\n",
       "molecule_chembl_id                                                      \n",
       "CHEMBL1795572       CO/N=C(/C(=O)NCP(=O)(O)Oc1ccc(C#N)c(F)c1)c1ccc...   \n",
       "CHEMBL3112752       N[C@@H](Cc1ccc(NC(=O)[C@@H]2CC[C@@H]3CN2C(=O)N...   \n",
       "CHEMBL3112746       O=C(Nc1ccncc1)[C@@H]1CC[C@@H]2CN1C(=O)N2OS(=O)...   \n",
       "CHEMBL1173339                               CCC(S)P(=O)(OC(C)C)OC(C)C   \n",
       "CHEMBL1172388                                         CCC(S)P(=O)(O)O   \n",
       "...                                                               ...   \n",
       "CHEMBL4088285                        CC(=O)SCC(CCCc1ccccc1)c1nnn[nH]1   \n",
       "CHEMBL4064978                          CC(=O)SCC(Cc1ccccc1)c1nnn[nH]1   \n",
       "CHEMBL4075406                              O=P(O)(O)C(CO)CCCCc1ccccc1   \n",
       "CHEMBL4069211                               O=P(O)(O)C(CO)CCCc1ccccc1   \n",
       "CHEMBL4087458                          CCOP(=O)(OCC)C(CS)CCCCc1ccccc1   \n",
       "\n",
       "                    pchembl_value  \n",
       "molecule_chembl_id                 \n",
       "CHEMBL1795572                4.51  \n",
       "CHEMBL3112752                4.55  \n",
       "CHEMBL3112746                4.70  \n",
       "CHEMBL1173339                5.70  \n",
       "CHEMBL1172388                4.82  \n",
       "...                           ...  \n",
       "CHEMBL4088285                4.38  \n",
       "CHEMBL4064978                4.17  \n",
       "CHEMBL4075406                5.35  \n",
       "CHEMBL4069211                4.47  \n",
       "CHEMBL4087458                5.78  \n",
       "\n",
       "[62242 rows x 2 columns]"
      ]
     },
     "execution_count": 2,
     "metadata": {},
     "output_type": "execute_result"
    }
   ],
   "source": [
    "df = pd.read_csv('data_all.csv', index_col= 0)\n",
    "df"
   ]
  },
  {
   "cell_type": "code",
   "execution_count": 3,
   "metadata": {},
   "outputs": [
    {
     "name": "stdout",
     "output_type": "stream",
     "text": [
      "number of missing values are : 16\n",
      "The shape of the dataset is : (62242, 2)\n"
     ]
    }
   ],
   "source": [
    "print( f'number of missing values are : {df.isnull().sum().sum()}')\n",
    "print (f'The shape of the dataset is : {df.shape}')"
   ]
  },
  {
   "cell_type": "code",
   "execution_count": 4,
   "metadata": {},
   "outputs": [],
   "source": [
    "df = df.dropna(how='any')"
   ]
  },
  {
   "cell_type": "code",
   "execution_count": 5,
   "metadata": {},
   "outputs": [
    {
     "name": "stdout",
     "output_type": "stream",
     "text": [
      "number of missing values are : 0\n",
      "The shape of the dataset is : (62226, 2)\n"
     ]
    }
   ],
   "source": [
    "print( f'number of missing values are : {df.isnull().sum().sum()}')\n",
    "print (f'The shape of the dataset is : {df.shape}')"
   ]
  },
  {
   "cell_type": "code",
   "execution_count": 11,
   "metadata": {},
   "outputs": [],
   "source": [
    "PandasTools.AddMoleculeColumnToFrame(df, smilesCol='canonical_smiles')"
   ]
  },
  {
   "cell_type": "code",
   "execution_count": 21,
   "metadata": {},
   "outputs": [
    {
     "data": {
      "image/png": "[encoded data removed]",
      "text/plain": [
       "<IPython.core.display.Image object>"
      ]
     },
     "execution_count": 21,
     "metadata": {},
     "output_type": "execute_result"
    }
   ],
   "source": [
    "Draw.MolsToGridImage(list(df.ROMol[0:10]), legends = list(df.index[0:10]), molsPerRow=5)"
   ]
  },
  {
   "cell_type": "code",
   "execution_count": 6,
   "metadata": {},
   "outputs": [],
   "source": [
    "#mols = [Chem.MolFromSmiles(smi) for smi in df.canonical_smiles ]"
   ]
  },
  {
   "cell_type": "code",
   "execution_count": 8,
   "metadata": {},
   "outputs": [],
   "source": [
    "mols = [Chem.MolFromSmiles(smi) for smi in df.canonical_smiles ]\n",
    "fp = [AllChem.GetMorganFingerprintAsBitVect(m, 2) for m in mols]"
   ]
  },
  {
   "cell_type": "code",
   "execution_count": 15,
   "metadata": {},
   "outputs": [],
   "source": [
    "def smiles_to_fp(smiles, method=\"maccs\", n_bits=2048):\n",
    "    \"\"\"\n",
    "    Encode a molecule from a SMILES string into a fingerprint.\n",
    "\n",
    "    Parameters\n",
    "    ----------\n",
    "    smiles : str\n",
    "        The SMILES string defining the molecule.\n",
    "\n",
    "    method : str\n",
    "        The type of fingerprint to use. Default is MACCS keys.\n",
    "\n",
    "    n_bits : int\n",
    "        The length of the fingerprint.\n",
    "\n",
    "    Returns\n",
    "    -------\n",
    "    array\n",
    "        The fingerprint array.\n",
    "\n",
    "    \"\"\"\n",
    "\n",
    "    # convert smiles to RDKit mol object\n",
    "    mol = Chem.MolFromSmiles(smiles)\n",
    "\n",
    "    if method == \"maccs\":\n",
    "        return np.array(MACCSkeys.GenMACCSKeys(mol))\n",
    "    if method == \"morgan2\":\n",
    "        return np.array(GetMorganFingerprintAsBitVect(mol, 2, nBits=n_bits))\n",
    "    if method == \"morgan3\":\n",
    "        return np.array(GetMorganFingerprintAsBitVect(mol, 3, nBits=n_bits))\n",
    "    else:\n",
    "        # NBVAL_CHECK_OUTPUT\n",
    "        print(f\"Warning: Wrong method specified: {method}. Default will be used instead.\")\n",
    "        return np.array(MACCSkeys.GenMACCSKeys(mol))\n",
    "\n"
   ]
  },
  {
   "cell_type": "code",
   "execution_count": 16,
   "metadata": {
    "scrolled": true
   },
   "outputs": [
    {
     "data": {
      "text/html": [
       "<div>\n",
       "<style scoped>\n",
       "    .dataframe tbody tr th:only-of-type {\n",
       "        vertical-align: middle;\n",
       "    }\n",
       "\n",
       "    .dataframe tbody tr th {\n",
       "        vertical-align: top;\n",
       "    }\n",
       "\n",
       "    .dataframe thead th {\n",
       "        text-align: right;\n",
       "    }\n",
       "</style>\n",
       "<table border=\"1\" class=\"dataframe\">\n",
       "  <thead>\n",
       "    <tr style=\"text-align: right;\">\n",
       "      <th></th>\n",
       "      <th>canonical_smiles</th>\n",
       "      <th>pchembl_value</th>\n",
       "      <th>ROMol</th>\n",
       "      <th>fp</th>\n",
       "    </tr>\n",
       "    <tr>\n",
       "      <th>molecule_chembl_id</th>\n",
       "      <th></th>\n",
       "      <th></th>\n",
       "      <th></th>\n",
       "      <th></th>\n",
       "    </tr>\n",
       "  </thead>\n",
       "  <tbody>\n",
       "    <tr>\n",
       "      <th>CHEMBL1795572</th>\n",
       "      <td>CO/N=C(/C(=O)NCP(=O)(O)Oc1ccc(C#N)c(F)c1)c1ccc...</td>\n",
       "      <td>4.51</td>\n",
       "      <td><img data-content=\"rdkit/molecule\" src=\"data:image/png;base64,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\" alt=\"Mol\"/></td>\n",
       "      <td>[0, 0, 0, 0, 0, 0, 0, 0, 0, 0, 0, 0, 0, 0, 0, ...</td>\n",
       "    </tr>\n",
       "    <tr>\n",
       "      <th>CHEMBL3112752</th>\n",
       "      <td>N[C@@H](Cc1ccc(NC(=O)[C@@H]2CC[C@@H]3CN2C(=O)N...</td>\n",
       "      <td>4.55</td>\n",
       "      <td><img data-content=\"rdkit/molecule\" src=\"data:image/png;base64,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\" alt=\"Mol\"/></td>\n",
       "      <td>[0, 0, 0, 0, 0, 0, 0, 0, 0, 0, 0, 0, 0, 1, 0, ...</td>\n",
       "    </tr>\n",
       "    <tr>\n",
       "      <th>CHEMBL3112746</th>\n",
       "      <td>O=C(Nc1ccncc1)[C@@H]1CC[C@@H]2CN1C(=O)N2OS(=O)...</td>\n",
       "      <td>4.70</td>\n",
       "      <td><img data-content=\"rdkit/molecule\" src=\"data:image/png;base64,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\" alt=\"Mol\"/></td>\n",
       "      <td>[0, 0, 0, 0, 0, 0, 0, 0, 0, 0, 0, 0, 0, 1, 0, ...</td>\n",
       "    </tr>\n",
       "  </tbody>\n",
       "</table>\n",
       "</div>"
      ],
      "text/plain": [
       "                                                     canonical_smiles  \\\n",
       "molecule_chembl_id                                                      \n",
       "CHEMBL1795572       CO/N=C(/C(=O)NCP(=O)(O)Oc1ccc(C#N)c(F)c1)c1ccc...   \n",
       "CHEMBL3112752       N[C@@H](Cc1ccc(NC(=O)[C@@H]2CC[C@@H]3CN2C(=O)N...   \n",
       "CHEMBL3112746       O=C(Nc1ccncc1)[C@@H]1CC[C@@H]2CN1C(=O)N2OS(=O)...   \n",
       "\n",
       "                    pchembl_value  \\\n",
       "molecule_chembl_id                  \n",
       "CHEMBL1795572                4.51   \n",
       "CHEMBL3112752                4.55   \n",
       "CHEMBL3112746                4.70   \n",
       "\n",
       "                                                                ROMol  \\\n",
       "molecule_chembl_id                                                      \n",
       "CHEMBL1795572       <img data-content=\"rdkit/molecule\" src=\"data:i...   \n",
       "CHEMBL3112752       <img data-content=\"rdkit/molecule\" src=\"data:i...   \n",
       "CHEMBL3112746       <img data-content=\"rdkit/molecule\" src=\"data:i...   \n",
       "\n",
       "                                                                   fp  \n",
       "molecule_chembl_id                                                     \n",
       "CHEMBL1795572       [0, 0, 0, 0, 0, 0, 0, 0, 0, 0, 0, 0, 0, 0, 0, ...  \n",
       "CHEMBL3112752       [0, 0, 0, 0, 0, 0, 0, 0, 0, 0, 0, 0, 0, 1, 0, ...  \n",
       "CHEMBL3112746       [0, 0, 0, 0, 0, 0, 0, 0, 0, 0, 0, 0, 0, 1, 0, ...  "
      ]
     },
     "execution_count": 16,
     "metadata": {},
     "output_type": "execute_result"
    }
   ],
   "source": [
    "# Add column for fingerprint\n",
    "df[\"fp\"] = df[\"canonical_smiles\"].apply(smiles_to_fp)\n",
    "df.head(3)\n",
    "# NBVAL_CHECK_OUTPUT"
   ]
  },
  {
   "cell_type": "markdown",
   "metadata": {},
   "source": [
    "### The fp_from_smiles function is very slow and running it kill the kernel of the jupyter "
   ]
  },
  {
   "cell_type": "code",
   "execution_count": 9,
   "metadata": {},
   "outputs": [],
   "source": [
    "# def fp_from_smiles(smiles):\n",
    "#     output = []\n",
    "#     for f in fp :\n",
    "#         arr = np.zeros((1,))\n",
    "#         DataStructs.ConvertToNumpyArray(f, arr)\n",
    "#         output.append(arr)\n",
    "#     return np.asarray(output)\n",
    "#     #return pd.DataFrame(data = output, index= df.index)"
   ]
  },
  {
   "cell_type": "code",
   "execution_count": 10,
   "metadata": {},
   "outputs": [
    {
     "data": {
      "text/plain": [
       "molecule_chembl_id\n",
       "CHEMBL1795572    CO/N=C(/C(=O)NCP(=O)(O)Oc1ccc(C#N)c(F)c1)c1ccc...\n",
       "CHEMBL3112752    N[C@@H](Cc1ccc(NC(=O)[C@@H]2CC[C@@H]3CN2C(=O)N...\n",
       "CHEMBL3112746    O=C(Nc1ccncc1)[C@@H]1CC[C@@H]2CN1C(=O)N2OS(=O)...\n",
       "CHEMBL1173339                            CCC(S)P(=O)(OC(C)C)OC(C)C\n",
       "CHEMBL1172388                                      CCC(S)P(=O)(O)O\n",
       "                                       ...                        \n",
       "CHEMBL4088285                     CC(=O)SCC(CCCc1ccccc1)c1nnn[nH]1\n",
       "CHEMBL4064978                       CC(=O)SCC(Cc1ccccc1)c1nnn[nH]1\n",
       "CHEMBL4075406                           O=P(O)(O)C(CO)CCCCc1ccccc1\n",
       "CHEMBL4069211                            O=P(O)(O)C(CO)CCCc1ccccc1\n",
       "CHEMBL4087458                       CCOP(=O)(OCC)C(CS)CCCCc1ccccc1\n",
       "Name: canonical_smiles, Length: 62226, dtype: object"
      ]
     },
     "execution_count": 10,
     "metadata": {},
     "output_type": "execute_result"
    }
   ],
   "source": [
    "# df[\"canonical_smiles\"]"
   ]
  },
  {
   "cell_type": "code",
   "execution_count": null,
   "metadata": {},
   "outputs": [],
   "source": [
    "# df[\"fingerprints_df\"] = df[\"canonical_smiles\"].apply(fp_from_smiles)\n",
    "\n",
    "# # Look at head\n",
    "# print(\"Shape of dataframe:\", df.shape)\n",
    "# df.head(3)\n",
    "# # NBVAL_CHECK_OUTPUT"
   ]
  },
  {
   "cell_type": "code",
   "execution_count": 61,
   "metadata": {},
   "outputs": [],
   "source": [
    "df.to_csv('data_fp.csv', index=True)"
   ]
  },
  {
   "cell_type": "code",
   "execution_count": 62,
   "metadata": {
    "scrolled": false
   },
   "outputs": [
    {
     "data": {
      "text/html": [
       "<div>\n",
       "<style scoped>\n",
       "    .dataframe tbody tr th:only-of-type {\n",
       "        vertical-align: middle;\n",
       "    }\n",
       "\n",
       "    .dataframe tbody tr th {\n",
       "        vertical-align: top;\n",
       "    }\n",
       "\n",
       "    .dataframe thead th {\n",
       "        text-align: right;\n",
       "    }\n",
       "</style>\n",
       "<table border=\"1\" class=\"dataframe\">\n",
       "  <thead>\n",
       "    <tr style=\"text-align: right;\">\n",
       "      <th></th>\n",
       "      <th>canonical_smiles</th>\n",
       "      <th>pchembl_value</th>\n",
       "      <th>ROMol</th>\n",
       "      <th>fp</th>\n",
       "    </tr>\n",
       "    <tr>\n",
       "      <th>molecule_chembl_id</th>\n",
       "      <th></th>\n",
       "      <th></th>\n",
       "      <th></th>\n",
       "      <th></th>\n",
       "    </tr>\n",
       "  </thead>\n",
       "  <tbody>\n",
       "    <tr>\n",
       "      <th>CHEMBL1795572</th>\n",
       "      <td>CO/N=C(/C(=O)NCP(=O)(O)Oc1ccc(C#N)c(F)c1)c1ccc...</td>\n",
       "      <td>4.51</td>\n",
       "      <td>&lt;img data-content=\"rdkit/molecule\" src=\"data:i...</td>\n",
       "      <td>[0 0 0 0 0 0 0 0 0 0 0 0 0 0 0 0 0 0 0 0 0 0 0...</td>\n",
       "    </tr>\n",
       "    <tr>\n",
       "      <th>CHEMBL3112752</th>\n",
       "      <td>N[C@@H](Cc1ccc(NC(=O)[C@@H]2CC[C@@H]3CN2C(=O)N...</td>\n",
       "      <td>4.55</td>\n",
       "      <td>&lt;img data-content=\"rdkit/molecule\" src=\"data:i...</td>\n",
       "      <td>[0 0 0 0 0 0 0 0 0 0 0 0 0 1 0 0 0 0 0 1 0 0 0...</td>\n",
       "    </tr>\n",
       "    <tr>\n",
       "      <th>CHEMBL3112746</th>\n",
       "      <td>O=C(Nc1ccncc1)[C@@H]1CC[C@@H]2CN1C(=O)N2OS(=O)...</td>\n",
       "      <td>4.70</td>\n",
       "      <td>&lt;img data-content=\"rdkit/molecule\" src=\"data:i...</td>\n",
       "      <td>[0 0 0 0 0 0 0 0 0 0 0 0 0 1 0 0 0 0 0 1 0 0 0...</td>\n",
       "    </tr>\n",
       "    <tr>\n",
       "      <th>CHEMBL1173339</th>\n",
       "      <td>CCC(S)P(=O)(OC(C)C)OC(C)C</td>\n",
       "      <td>5.70</td>\n",
       "      <td>&lt;img data-content=\"rdkit/molecule\" src=\"data:i...</td>\n",
       "      <td>[0 0 0 0 0 0 0 0 0 0 0 0 0 0 0 0 0 0 0 0 0 0 0...</td>\n",
       "    </tr>\n",
       "    <tr>\n",
       "      <th>CHEMBL1172388</th>\n",
       "      <td>CCC(S)P(=O)(O)O</td>\n",
       "      <td>4.82</td>\n",
       "      <td>&lt;img data-content=\"rdkit/molecule\" src=\"data:i...</td>\n",
       "      <td>[0 0 0 0 0 0 0 0 0 0 0 0 0 0 0 0 0 0 0 0 0 0 0...</td>\n",
       "    </tr>\n",
       "  </tbody>\n",
       "</table>\n",
       "</div>"
      ],
      "text/plain": [
       "                                                     canonical_smiles  \\\n",
       "molecule_chembl_id                                                      \n",
       "CHEMBL1795572       CO/N=C(/C(=O)NCP(=O)(O)Oc1ccc(C#N)c(F)c1)c1ccc...   \n",
       "CHEMBL3112752       N[C@@H](Cc1ccc(NC(=O)[C@@H]2CC[C@@H]3CN2C(=O)N...   \n",
       "CHEMBL3112746       O=C(Nc1ccncc1)[C@@H]1CC[C@@H]2CN1C(=O)N2OS(=O)...   \n",
       "CHEMBL1173339                               CCC(S)P(=O)(OC(C)C)OC(C)C   \n",
       "CHEMBL1172388                                         CCC(S)P(=O)(O)O   \n",
       "\n",
       "                    pchembl_value  \\\n",
       "molecule_chembl_id                  \n",
       "CHEMBL1795572                4.51   \n",
       "CHEMBL3112752                4.55   \n",
       "CHEMBL3112746                4.70   \n",
       "CHEMBL1173339                5.70   \n",
       "CHEMBL1172388                4.82   \n",
       "\n",
       "                                                                ROMol  \\\n",
       "molecule_chembl_id                                                      \n",
       "CHEMBL1795572       <img data-content=\"rdkit/molecule\" src=\"data:i...   \n",
       "CHEMBL3112752       <img data-content=\"rdkit/molecule\" src=\"data:i...   \n",
       "CHEMBL3112746       <img data-content=\"rdkit/molecule\" src=\"data:i...   \n",
       "CHEMBL1173339       <img data-content=\"rdkit/molecule\" src=\"data:i...   \n",
       "CHEMBL1172388       <img data-content=\"rdkit/molecule\" src=\"data:i...   \n",
       "\n",
       "                                                                   fp  \n",
       "molecule_chembl_id                                                     \n",
       "CHEMBL1795572       [0 0 0 0 0 0 0 0 0 0 0 0 0 0 0 0 0 0 0 0 0 0 0...  \n",
       "CHEMBL3112752       [0 0 0 0 0 0 0 0 0 0 0 0 0 1 0 0 0 0 0 1 0 0 0...  \n",
       "CHEMBL3112746       [0 0 0 0 0 0 0 0 0 0 0 0 0 1 0 0 0 0 0 1 0 0 0...  \n",
       "CHEMBL1173339       [0 0 0 0 0 0 0 0 0 0 0 0 0 0 0 0 0 0 0 0 0 0 0...  \n",
       "CHEMBL1172388       [0 0 0 0 0 0 0 0 0 0 0 0 0 0 0 0 0 0 0 0 0 0 0...  "
      ]
     },
     "execution_count": 62,
     "metadata": {},
     "output_type": "execute_result"
    }
   ],
   "source": [
    "df = pd.read_csv('../beta-lactamase/data_fp.csv', index_col=0)\n",
    "df.head()"
   ]
  },
  {
   "cell_type": "code",
   "execution_count": 63,
   "metadata": {},
   "outputs": [
    {
     "data": {
      "text/plain": [
       "'[0 0 0 0 0 0 0 0 0 0 0 0 0 0 0 0 0 0 0 0 0 0 0 0 1 0 0 0 1 1 0 0 0 0 0 0 1\\n 0 0 0 0 1 1 0 0 0 0 0 1 0 0 0 0 0 1 0 0 0 0 0 0 0 0 0 0 0 0 0 0 1 0 1 0 0\\n 0 0 0 0 1 1 0 1 1 1 0 0 0 1 1 1 0 0 1 1 1 1 1 1 0 0 1 0 1 1 1 0 1 1 0 0 1\\n 0 1 1 0 0 0 1 0 1 0 0 0 0 1 1 1 1 0 0 1 1 1 0 1 0 1 1 0 1 1 0 1 1 1 0 1 0\\n 1 0 1 1 1 1 1 1 1 1 1 1 1 1 1 1 1 1 0]'"
      ]
     },
     "execution_count": 63,
     "metadata": {},
     "output_type": "execute_result"
    }
   ],
   "source": [
    "df['fp'][0]."
   ]
  },
  {
   "cell_type": "code",
   "execution_count": 70,
   "metadata": {},
   "outputs": [
    {
     "name": "stdout",
     "output_type": "stream",
     "text": [
      "\u001b[0m\u001b[00m01_Acetylcholinesterase_dataset_from_chembl.ipynb\u001b[0m\r\n",
      "\u001b[00m02_telomerase_dataset_from_chembl.ipynb\u001b[0m\r\n",
      "\u001b[00mbeta_lactamase_QSAR.ipynb\u001b[0m\r\n",
      "\u001b[00mbeta_lactame_deep_learning.ipynb\u001b[0m\r\n",
      "\u001b[00m_config.yml\u001b[0m\r\n",
      "\u001b[01;34mdatabases\u001b[0m/\r\n",
      "\u001b[00mdata_fp.csv\u001b[0m\r\n",
      "\u001b[00mdata-test\u001b[0m\r\n",
      "\u001b[00mdata-test.sdf\u001b[0m\r\n",
      "\u001b[00mDeep_leanring.ipynb\u001b[0m\r\n",
      "\u001b[00mFirstmodel.pickle\u001b[0m\r\n",
      "\u001b[00mREADME.md\u001b[0m\r\n",
      "\u001b[00mSecondModel.h5\u001b[0m\r\n",
      "\u001b[00mStatefulModel.h5\u001b[0m\r\n",
      "\u001b[00mTasteDB.smi\u001b[0m\r\n",
      "\u001b[00mtelomerase_database_with_descriptors.csv\u001b[0m\r\n",
      "\u001b[00mtelomerase_IC50_pIC50_bioactivity_data_curated.csv\u001b[0m\r\n",
      "\u001b[00mtelomerase_IC50_pIC50_bioactivity_data_curated_without_abberant_values.csv\u001b[0m\r\n",
      "\u001b[00mThirdModel.h5\u001b[0m\r\n",
      "\u001b[00mTuto1_Read_and_reading__molecules.ipynb\u001b[0m\r\n",
      "\u001b[00mTuto2_Moleuclar_properties.ipynb\u001b[0m\r\n",
      "\u001b[00mUntitled1-Copy1.ipynb\u001b[0m\r\n",
      "\u001b[00mUntitled1.ipynb\u001b[0m\r\n",
      "\u001b[00mUntitled.ipynb\u001b[0m\r\n"
     ]
    }
   ],
   "source": [
    "ls"
   ]
  },
  {
   "cell_type": "code",
   "execution_count": 69,
   "metadata": {},
   "outputs": [
    {
     "ename": "ValueError",
     "evalue": "Unable to parse string \"[0 0 0 0 0 0 0 0 0 0 0 0 0 0 0 0 0 0 0 0 0 0 0 0 1 0 0 0 1 1 0 0 0 0 0 0 1\n 0 0 0 0 1 1 0 0 0 0 0 1 0 0 0 0 0 1 0 0 0 0 0 0 0 0 0 0 0 0 0 0 1 0 1 0 0\n 0 0 0 0 1 1 0 1 1 1 0 0 0 1 1 1 0 0 1 1 1 1 1 1 0 0 1 0 1 1 1 0 1 1 0 0 1\n 0 1 1 0 0 0 1 0 1 0 0 0 0 1 1 1 1 0 0 1 1 1 0 1 0 1 1 0 1 1 0 1 1 1 0 1 0\n 1 0 1 1 1 1 1 1 1 1 1 1 1 1 1 1 1 1 0]\" at position 0",
     "output_type": "error",
     "traceback": [
      "\u001b[0;31m---------------------------------------------------------------------------\u001b[0m",
      "\u001b[0;31mValueError\u001b[0m                                Traceback (most recent call last)",
      "\u001b[0;32mpandas/_libs/lib.pyx\u001b[0m in \u001b[0;36mpandas._libs.lib.maybe_convert_numeric\u001b[0;34m()\u001b[0m\n",
      "\u001b[0;31mValueError\u001b[0m: Unable to parse string \"[0 0 0 0 0 0 0 0 0 0 0 0 0 0 0 0 0 0 0 0 0 0 0 0 1 0 0 0 1 1 0 0 0 0 0 0 1\n 0 0 0 0 1 1 0 0 0 0 0 1 0 0 0 0 0 1 0 0 0 0 0 0 0 0 0 0 0 0 0 0 1 0 1 0 0\n 0 0 0 0 1 1 0 1 1 1 0 0 0 1 1 1 0 0 1 1 1 1 1 1 0 0 1 0 1 1 1 0 1 1 0 0 1\n 0 1 1 0 0 0 1 0 1 0 0 0 0 1 1 1 1 0 0 1 1 1 0 1 0 1 1 0 1 1 0 1 1 1 0 1 0\n 1 0 1 1 1 1 1 1 1 1 1 1 1 1 1 1 1 1 0]\"",
      "\nDuring handling of the above exception, another exception occurred:\n",
      "\u001b[0;31mValueError\u001b[0m                                Traceback (most recent call last)",
      "\u001b[0;32m<ipython-input-69-a6dff607a053>\u001b[0m in \u001b[0;36m<module>\u001b[0;34m\u001b[0m\n\u001b[0;32m----> 1\u001b[0;31m \u001b[0mdf\u001b[0m\u001b[0;34m[\u001b[0m\u001b[0;34m'fp'\u001b[0m\u001b[0;34m]\u001b[0m\u001b[0;34m.\u001b[0m\u001b[0mapply\u001b[0m\u001b[0;34m(\u001b[0m\u001b[0mpd\u001b[0m\u001b[0;34m.\u001b[0m\u001b[0mto_numeric\u001b[0m\u001b[0;34m,\u001b[0m \u001b[0mdowncast\u001b[0m\u001b[0;34m=\u001b[0m\u001b[0;34m'float'\u001b[0m\u001b[0;34m)\u001b[0m\u001b[0;34m\u001b[0m\u001b[0;34m\u001b[0m\u001b[0m\n\u001b[0m",
      "\u001b[0;32m~/.conda/envs/rdkit/lib/python3.6/site-packages/pandas/core/series.py\u001b[0m in \u001b[0;36mapply\u001b[0;34m(self, func, convert_dtype, args, **kwds)\u001b[0m\n\u001b[1;32m   4198\u001b[0m             \u001b[0;32melse\u001b[0m\u001b[0;34m:\u001b[0m\u001b[0;34m\u001b[0m\u001b[0;34m\u001b[0m\u001b[0m\n\u001b[1;32m   4199\u001b[0m                 \u001b[0mvalues\u001b[0m \u001b[0;34m=\u001b[0m \u001b[0mself\u001b[0m\u001b[0;34m.\u001b[0m\u001b[0mastype\u001b[0m\u001b[0;34m(\u001b[0m\u001b[0mobject\u001b[0m\u001b[0;34m)\u001b[0m\u001b[0;34m.\u001b[0m\u001b[0m_values\u001b[0m\u001b[0;34m\u001b[0m\u001b[0;34m\u001b[0m\u001b[0m\n\u001b[0;32m-> 4200\u001b[0;31m                 \u001b[0mmapped\u001b[0m \u001b[0;34m=\u001b[0m \u001b[0mlib\u001b[0m\u001b[0;34m.\u001b[0m\u001b[0mmap_infer\u001b[0m\u001b[0;34m(\u001b[0m\u001b[0mvalues\u001b[0m\u001b[0;34m,\u001b[0m \u001b[0mf\u001b[0m\u001b[0;34m,\u001b[0m \u001b[0mconvert\u001b[0m\u001b[0;34m=\u001b[0m\u001b[0mconvert_dtype\u001b[0m\u001b[0;34m)\u001b[0m\u001b[0;34m\u001b[0m\u001b[0;34m\u001b[0m\u001b[0m\n\u001b[0m\u001b[1;32m   4201\u001b[0m \u001b[0;34m\u001b[0m\u001b[0m\n\u001b[1;32m   4202\u001b[0m         \u001b[0;32mif\u001b[0m \u001b[0mlen\u001b[0m\u001b[0;34m(\u001b[0m\u001b[0mmapped\u001b[0m\u001b[0;34m)\u001b[0m \u001b[0;32mand\u001b[0m \u001b[0misinstance\u001b[0m\u001b[0;34m(\u001b[0m\u001b[0mmapped\u001b[0m\u001b[0;34m[\u001b[0m\u001b[0;36m0\u001b[0m\u001b[0;34m]\u001b[0m\u001b[0;34m,\u001b[0m \u001b[0mSeries\u001b[0m\u001b[0;34m)\u001b[0m\u001b[0;34m:\u001b[0m\u001b[0;34m\u001b[0m\u001b[0;34m\u001b[0m\u001b[0m\n",
      "\u001b[0;32mpandas/_libs/lib.pyx\u001b[0m in \u001b[0;36mpandas._libs.lib.map_infer\u001b[0;34m()\u001b[0m\n",
      "\u001b[0;32m~/.conda/envs/rdkit/lib/python3.6/site-packages/pandas/core/series.py\u001b[0m in \u001b[0;36mf\u001b[0;34m(x)\u001b[0m\n\u001b[1;32m   4183\u001b[0m \u001b[0;34m\u001b[0m\u001b[0m\n\u001b[1;32m   4184\u001b[0m             \u001b[0;32mdef\u001b[0m \u001b[0mf\u001b[0m\u001b[0;34m(\u001b[0m\u001b[0mx\u001b[0m\u001b[0;34m)\u001b[0m\u001b[0;34m:\u001b[0m\u001b[0;34m\u001b[0m\u001b[0;34m\u001b[0m\u001b[0m\n\u001b[0;32m-> 4185\u001b[0;31m                 \u001b[0;32mreturn\u001b[0m \u001b[0mfunc\u001b[0m\u001b[0;34m(\u001b[0m\u001b[0mx\u001b[0m\u001b[0;34m,\u001b[0m \u001b[0;34m*\u001b[0m\u001b[0margs\u001b[0m\u001b[0;34m,\u001b[0m \u001b[0;34m**\u001b[0m\u001b[0mkwds\u001b[0m\u001b[0;34m)\u001b[0m\u001b[0;34m\u001b[0m\u001b[0;34m\u001b[0m\u001b[0m\n\u001b[0m\u001b[1;32m   4186\u001b[0m \u001b[0;34m\u001b[0m\u001b[0m\n\u001b[1;32m   4187\u001b[0m         \u001b[0;32melse\u001b[0m\u001b[0;34m:\u001b[0m\u001b[0;34m\u001b[0m\u001b[0;34m\u001b[0m\u001b[0m\n",
      "\u001b[0;32m~/.conda/envs/rdkit/lib/python3.6/site-packages/pandas/core/tools/numeric.py\u001b[0m in \u001b[0;36mto_numeric\u001b[0;34m(arg, errors, downcast)\u001b[0m\n\u001b[1;32m    151\u001b[0m         \u001b[0;32mtry\u001b[0m\u001b[0;34m:\u001b[0m\u001b[0;34m\u001b[0m\u001b[0;34m\u001b[0m\u001b[0m\n\u001b[1;32m    152\u001b[0m             values = lib.maybe_convert_numeric(\n\u001b[0;32m--> 153\u001b[0;31m                 \u001b[0mvalues\u001b[0m\u001b[0;34m,\u001b[0m \u001b[0mset\u001b[0m\u001b[0;34m(\u001b[0m\u001b[0;34m)\u001b[0m\u001b[0;34m,\u001b[0m \u001b[0mcoerce_numeric\u001b[0m\u001b[0;34m=\u001b[0m\u001b[0mcoerce_numeric\u001b[0m\u001b[0;34m\u001b[0m\u001b[0;34m\u001b[0m\u001b[0m\n\u001b[0m\u001b[1;32m    154\u001b[0m             )\n\u001b[1;32m    155\u001b[0m         \u001b[0;32mexcept\u001b[0m \u001b[0;34m(\u001b[0m\u001b[0mValueError\u001b[0m\u001b[0;34m,\u001b[0m \u001b[0mTypeError\u001b[0m\u001b[0;34m)\u001b[0m\u001b[0;34m:\u001b[0m\u001b[0;34m\u001b[0m\u001b[0;34m\u001b[0m\u001b[0m\n",
      "\u001b[0;32mpandas/_libs/lib.pyx\u001b[0m in \u001b[0;36mpandas._libs.lib.maybe_convert_numeric\u001b[0;34m()\u001b[0m\n",
      "\u001b[0;31mValueError\u001b[0m: Unable to parse string \"[0 0 0 0 0 0 0 0 0 0 0 0 0 0 0 0 0 0 0 0 0 0 0 0 1 0 0 0 1 1 0 0 0 0 0 0 1\n 0 0 0 0 1 1 0 0 0 0 0 1 0 0 0 0 0 1 0 0 0 0 0 0 0 0 0 0 0 0 0 0 1 0 1 0 0\n 0 0 0 0 1 1 0 1 1 1 0 0 0 1 1 1 0 0 1 1 1 1 1 1 0 0 1 0 1 1 1 0 1 1 0 0 1\n 0 1 1 0 0 0 1 0 1 0 0 0 0 1 1 1 1 0 0 1 1 1 0 1 0 1 1 0 1 1 0 1 1 1 0 1 0\n 1 0 1 1 1 1 1 1 1 1 1 1 1 1 1 1 1 1 0]\" at position 0"
     ]
    }
   ],
   "source": [
    "df['fp'].apply(pd.to_numeric, downcast='float')"
   ]
  },
  {
   "cell_type": "code",
   "execution_count": 64,
   "metadata": {},
   "outputs": [
    {
     "data": {
      "text/plain": [
       "molecule_chembl_id\n",
       "CHEMBL1795572    False\n",
       "CHEMBL3112752    False\n",
       "CHEMBL3112746    False\n",
       "CHEMBL1173339    False\n",
       "CHEMBL1172388    False\n",
       "                 ...  \n",
       "CHEMBL4088285    False\n",
       "CHEMBL4064978    False\n",
       "CHEMBL4075406    False\n",
       "CHEMBL4069211    False\n",
       "CHEMBL4087458    False\n",
       "Name: fp, Length: 62226, dtype: bool"
      ]
     },
     "execution_count": 64,
     "metadata": {},
     "output_type": "execute_result"
    }
   ],
   "source": [
    "df['fp'].isna()"
   ]
  },
  {
   "cell_type": "code",
   "execution_count": 45,
   "metadata": {},
   "outputs": [],
   "source": [
    "data_columns = df.columns \n",
    "data_indices = df.index"
   ]
  },
  {
   "cell_type": "code",
   "execution_count": 47,
   "metadata": {},
   "outputs": [],
   "source": [
    "df = (df.drop(columns= data_columns, axis=1).join(df[data_columns]).apply(pd.to_numeric, errors='coerce'))"
   ]
  },
  {
   "cell_type": "code",
   "execution_count": 55,
   "metadata": {},
   "outputs": [
    {
     "data": {
      "text/html": [
       "<div>\n",
       "<style scoped>\n",
       "    .dataframe tbody tr th:only-of-type {\n",
       "        vertical-align: middle;\n",
       "    }\n",
       "\n",
       "    .dataframe tbody tr th {\n",
       "        vertical-align: top;\n",
       "    }\n",
       "\n",
       "    .dataframe thead th {\n",
       "        text-align: right;\n",
       "    }\n",
       "</style>\n",
       "<table border=\"1\" class=\"dataframe\">\n",
       "  <thead>\n",
       "    <tr style=\"text-align: right;\">\n",
       "      <th></th>\n",
       "      <th>canonical_smiles</th>\n",
       "      <th>pchembl_value</th>\n",
       "      <th>ROMol</th>\n",
       "      <th>fp</th>\n",
       "    </tr>\n",
       "    <tr>\n",
       "      <th>molecule_chembl_id</th>\n",
       "      <th></th>\n",
       "      <th></th>\n",
       "      <th></th>\n",
       "      <th></th>\n",
       "    </tr>\n",
       "  </thead>\n",
       "  <tbody>\n",
       "    <tr>\n",
       "      <th>CHEMBL1795572</th>\n",
       "      <td>NaN</td>\n",
       "      <td>4.51</td>\n",
       "      <td>NaN</td>\n",
       "      <td>NaN</td>\n",
       "    </tr>\n",
       "    <tr>\n",
       "      <th>CHEMBL3112752</th>\n",
       "      <td>NaN</td>\n",
       "      <td>4.55</td>\n",
       "      <td>NaN</td>\n",
       "      <td>NaN</td>\n",
       "    </tr>\n",
       "    <tr>\n",
       "      <th>CHEMBL3112746</th>\n",
       "      <td>NaN</td>\n",
       "      <td>4.70</td>\n",
       "      <td>NaN</td>\n",
       "      <td>NaN</td>\n",
       "    </tr>\n",
       "    <tr>\n",
       "      <th>CHEMBL1173339</th>\n",
       "      <td>NaN</td>\n",
       "      <td>5.70</td>\n",
       "      <td>NaN</td>\n",
       "      <td>NaN</td>\n",
       "    </tr>\n",
       "    <tr>\n",
       "      <th>CHEMBL1172388</th>\n",
       "      <td>NaN</td>\n",
       "      <td>4.82</td>\n",
       "      <td>NaN</td>\n",
       "      <td>NaN</td>\n",
       "    </tr>\n",
       "  </tbody>\n",
       "</table>\n",
       "</div>"
      ],
      "text/plain": [
       "                    canonical_smiles  pchembl_value  ROMol  fp\n",
       "molecule_chembl_id                                            \n",
       "CHEMBL1795572                    NaN           4.51    NaN NaN\n",
       "CHEMBL3112752                    NaN           4.55    NaN NaN\n",
       "CHEMBL3112746                    NaN           4.70    NaN NaN\n",
       "CHEMBL1173339                    NaN           5.70    NaN NaN\n",
       "CHEMBL1172388                    NaN           4.82    NaN NaN"
      ]
     },
     "execution_count": 55,
     "metadata": {},
     "output_type": "execute_result"
    }
   ],
   "source": [
    "df.head()"
   ]
  },
  {
   "cell_type": "code",
   "execution_count": 48,
   "metadata": {},
   "outputs": [
    {
     "name": "stdout",
     "output_type": "stream",
     "text": [
      "Shape of training data: (43558,)\n",
      "Shape of test data: (18668,)\n"
     ]
    }
   ],
   "source": [
    "# Split the data into training and test set\n",
    "x_train, x_test, y_train, y_test = train_test_split(\n",
    "    df[\"fp\"], df[[\"pchembl_value\"]], test_size=0.3, random_state=42\n",
    ")\n",
    "\n",
    "# Print the shape of training and testing data\n",
    "print(\"Shape of training data:\", x_train.shape)\n",
    "print(\"Shape of test data:\", x_test.shape)\n",
    "# NBVAL_CHECK_OUTPUT"
   ]
  },
  {
   "cell_type": "code",
   "execution_count": 49,
   "metadata": {},
   "outputs": [],
   "source": [
    "def NN_model(shape):\n",
    "    model = Sequential()\n",
    "    model.add(Input(shape, name= 'InputLayer'))\n",
    "    model.add(Dense(32, activation= 'relu', name = 'hiden1'))\n",
    "    model.add(Dense(64, activation= 'relu', name = 'hiden2'))\n",
    "    model.add(Dense(32, activation= 'relu', name = 'hiden3'))\n",
    "    model.add(Dense(1, activation= 'linear', name= 'Output'))\n",
    "    model.compile(optimizer = 'adam',\n",
    "                 loss = 'mse',\n",
    "                 metrics = ['mae', 'mse'])\n",
    "    return model"
   ]
  },
  {
   "cell_type": "code",
   "execution_count": 50,
   "metadata": {},
   "outputs": [
    {
     "data": {
      "text/plain": [
       "62226"
      ]
     },
     "execution_count": 50,
     "metadata": {},
     "output_type": "execute_result"
    }
   ],
   "source": [
    "df.shape[0]"
   ]
  },
  {
   "cell_type": "code",
   "execution_count": 51,
   "metadata": {
    "scrolled": true
   },
   "outputs": [
    {
     "name": "stdout",
     "output_type": "stream",
     "text": [
      "Model: \"sequential_7\"\n",
      "_________________________________________________________________\n",
      "Layer (type)                 Output Shape              Param #   \n",
      "=================================================================\n",
      "hiden1 (Dense)               (None, 32)                64        \n",
      "_________________________________________________________________\n",
      "hiden2 (Dense)               (None, 64)                2112      \n",
      "_________________________________________________________________\n",
      "hiden3 (Dense)               (None, 32)                2080      \n",
      "_________________________________________________________________\n",
      "Output (Dense)               (None, 1)                 33        \n",
      "=================================================================\n",
      "Total params: 4,289\n",
      "Trainable params: 4,289\n",
      "Non-trainable params: 0\n",
      "_________________________________________________________________\n"
     ]
    }
   ],
   "source": [
    "model = NN_model((1,))\n",
    "model.summary()"
   ]
  },
  {
   "cell_type": "code",
   "execution_count": 52,
   "metadata": {},
   "outputs": [
    {
     "name": "stdout",
     "output_type": "stream",
     "text": [
      "Epoch 1/10\n",
      "726/726 [==============================] - 6s 8ms/step - loss: nan - mae: nan - mse: nan - val_loss: nan - val_mae: nan - val_mse: nan\n",
      "Epoch 2/10\n",
      "726/726 [==============================] - 5s 7ms/step - loss: nan - mae: nan - mse: nan - val_loss: nan - val_mae: nan - val_mse: nan\n",
      "Epoch 3/10\n",
      "726/726 [==============================] - 5s 7ms/step - loss: nan - mae: nan - mse: nan - val_loss: nan - val_mae: nan - val_mse: nan\n",
      "Epoch 4/10\n",
      "726/726 [==============================] - 6s 8ms/step - loss: nan - mae: nan - mse: nan - val_loss: nan - val_mae: nan - val_mse: nan\n",
      "Epoch 5/10\n",
      "726/726 [==============================] - 5s 7ms/step - loss: nan - mae: nan - mse: nan - val_loss: nan - val_mae: nan - val_mse: nan\n",
      "Epoch 6/10\n",
      "726/726 [==============================] - 5s 7ms/step - loss: nan - mae: nan - mse: nan - val_loss: nan - val_mae: nan - val_mse: nan\n",
      "Epoch 7/10\n",
      "726/726 [==============================] - 5s 7ms/step - loss: nan - mae: nan - mse: nan - val_loss: nan - val_mae: nan - val_mse: nan\n",
      "Epoch 8/10\n",
      "726/726 [==============================] - 6s 9ms/step - loss: nan - mae: nan - mse: nan - val_loss: nan - val_mae: nan - val_mse: nan\n",
      "Epoch 9/10\n",
      "726/726 [==============================] - 6s 8ms/step - loss: nan - mae: nan - mse: nan - val_loss: nan - val_mae: nan - val_mse: nan\n",
      "Epoch 10/10\n",
      "726/726 [==============================] - 6s 9ms/step - loss: nan - mae: nan - mse: nan - val_loss: nan - val_mae: nan - val_mse: nan\n"
     ]
    }
   ],
   "source": [
    "history = model.fit(x_train,\n",
    "                   y_train,\n",
    "                batch_size=60,\n",
    "                epochs=10,\n",
    "                verbose=1, \n",
    "                validation_data=(x_test.astype(float), y_test))"
   ]
  },
  {
   "cell_type": "code",
   "execution_count": 53,
   "metadata": {},
   "outputs": [],
   "source": [
    "# Neural network parameters\n",
    "shape = (1,)\n",
    "batch_sizes = [16, 32, 64]\n",
    "nb_epoch = 5"
   ]
  },
  {
   "cell_type": "code",
   "execution_count": 54,
   "metadata": {},
   "outputs": [
    {
     "data": {
      "image/png": "[encoded data removed]",
      "text/plain": [
       "<Figure size 864x432 with 3 Axes>"
      ]
     },
     "metadata": {},
     "output_type": "display_data"
    }
   ],
   "source": [
    "# Plot\n",
    "fig = plt.figure(figsize=(12, 6))\n",
    "sns.set(color_codes=True)\n",
    "for index, batch in enumerate(batch_sizes):\n",
    "    fig.add_subplot(1, len(batch_sizes), index + 1)\n",
    "    model = NN_model(shape=shape)\n",
    "\n",
    "    # Fit model on x_train, y_train data\n",
    "    history = model.fit(\n",
    "        np.array(list((x_train))),\n",
    "        y_train.values,\n",
    "        batch_size=batch,\n",
    "        validation_data=(np.array(list((x_test))), y_test.values),\n",
    "        verbose=0,\n",
    "        epochs=nb_epoch,\n",
    "    )\n",
    "    plt.plot(history.history[\"loss\"], label=\"train\")\n",
    "    plt.plot(history.history[\"val_loss\"], label=\"test\")\n",
    "    plt.legend([\"train\", \"test\"], loc=\"upper right\")\n",
    "    plt.ylabel(\"loss\")\n",
    "    plt.xlabel(\"epoch\")\n",
    "    plt.ylim((0, 15))\n",
    "    plt.title(\n",
    "        f\"test loss = {history.history['val_loss'][nb_epoch-1]:.2f}, \" f\"batch size = {batch}\"\n",
    "    )\n",
    "plt.show()"
   ]
  },
  {
   "cell_type": "code",
   "execution_count": null,
   "metadata": {},
   "outputs": [],
   "source": []
  }
 ],
 "metadata": {
  "kernelspec": {
   "display_name": "Python 3",
   "language": "python",
   "name": "python3"
  },
  "language_info": {
   "codemirror_mode": {
    "name": "ipython",
    "version": 3
   },
   "file_extension": ".py",
   "mimetype": "text/x-python",
   "name": "python",
   "nbconvert_exporter": "python",
   "pygments_lexer": "ipython3",
   "version": "3.6.12"
  }
 },
 "nbformat": 4,
 "nbformat_minor": 4
}
