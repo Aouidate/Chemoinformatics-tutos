{
 "cells": [
  {
   "cell_type": "markdown",
   "id": "4131914e-7bd4-4523-8ff9-d7f367abacc6",
   "metadata": {},
   "source": [
    "# ADN_T000. Devlopping a Generative model to switch between SMILES and IUPAC names \n",
    "\n",
    "Authors:\n",
    "* Adnane Aouidate, (2019-2020), Computer Aided Drug Discovery Center, Shenzhen Institute of Advanced Technology(SIAT), Shenzhen, China.\n",
    "* Adnane Aouidate, (2021-2022), Structural Bioinformatics and Chemoinformatics, Institute of Organic and Analytical Chemistry (ICOA), Orléans, France.\n",
    "* Update , 2023, Ait Melloul Faculty of Applied Sciences, Ibn Zohr University, Agadir, Morocco,\n",
    "\n",
    "## Aim of this talktorial\n",
    "\n",
    "Coming soon !!! \n",
    "\n",
    "We can direcltly get data from their website : \n",
    "https://www.ebi.ac.uk/chembl/\n",
    "\n",
    "But in here, we will use their module :\n",
    "\n",
    "**chembl_webresource_client** that is accessible from https://github.com/chembl/chembl_webresource_client\n"
   ]
  },
  {
   "cell_type": "code",
   "execution_count": null,
   "id": "d54c6980-b8bb-42df-beb7-cbd73b734ca4",
   "metadata": {},
   "outputs": [],
   "source": [
    "import os\n",
    "import pickle\n",
    "import pandas as pd\n",
    "import numpy as np\n",
    "import matplotlib.pyplot as plt\n",
    "import sklearn\n",
    "import selfies as sf\n",
    "from IPython.display import display\n",
    "\n",
    "from rdkit import Chem\n",
    "from rdkit.Chem import Draw, Descriptors, PandasTools\n",
    "from rdkit.Chem.Draw import IPythonConsole\n",
    "\n",
    "from sklearn.model_selection import train_test_split \n",
    "from sklearn.decomposition import PCA   \n",
    "from keras.models import Model, Sequential\n",
    "from keras.layers import Input, LSTM, Dense, Concatenate\n",
    "from keras import regularizers\n",
    "from keras.callbacks import History, ReduceLROnPlateau\n",
    "from keras.optimizers import RMSprop, Adam"
   ]
  }
 ],
 "metadata": {
  "kernelspec": {
   "display_name": "Python 3 (ipykernel)",
   "language": "python",
   "name": "python3"
  },
  "language_info": {
   "codemirror_mode": {
    "name": "ipython",
    "version": 3
   },
   "file_extension": ".py",
   "mimetype": "text/x-python",
   "name": "python",
   "nbconvert_exporter": "python",
   "pygments_lexer": "ipython3",
   "version": "3.7.13"
  }
 },
 "nbformat": 4,
 "nbformat_minor": 5
}
