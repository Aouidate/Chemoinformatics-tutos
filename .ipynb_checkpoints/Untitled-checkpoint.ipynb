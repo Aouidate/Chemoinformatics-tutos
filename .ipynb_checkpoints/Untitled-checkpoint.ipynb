{
 "cells": [
  {
   "cell_type": "code",
   "execution_count": 26,
   "id": "f537d217-b2b9-4a42-8ee2-71af73139151",
   "metadata": {},
   "outputs": [],
   "source": [
    "import pandas as pd\n",
    "import numpy as np\n",
    "from pathlib import Path\n",
    "import os\n",
    "from rdkit import Chem, DataStructs\n",
    "from rdkit.Chem import AllChem\n",
    "from rdkit.DataManip.Metric import GetTanimotoSimMat"
   ]
  },
  {
   "cell_type": "code",
   "execution_count": 9,
   "id": "8eee98c5-7a8b-4bb4-a890-300e956eebec",
   "metadata": {},
   "outputs": [],
   "source": [
    "os.chdir(\"../domain-app/\")"
   ]
  },
  {
   "cell_type": "code",
   "execution_count": 10,
   "id": "37ee2996-2dfc-4b23-9fa2-078af0ec8410",
   "metadata": {},
   "outputs": [
    {
     "name": "stdout",
     "output_type": "stream",
     "text": [
      "README.md     \u001b[34mdomain\u001b[m\u001b[m/       manage.py     x_test.csv\n",
      "db.sqlite3    \u001b[34mdomain_app\u001b[m\u001b[m/   \u001b[34mtanimoto_app\u001b[m\u001b[m/ x_train.csv\n"
     ]
    }
   ],
   "source": [
    "GetTanimotoSimMat()"
   ]
  },
  {
   "cell_type": "code",
   "execution_count": 14,
   "id": "38e0bdc9-f1e3-4485-bf7d-08160227bb22",
   "metadata": {},
   "outputs": [],
   "source": [
    "training = pd.read_csv(\"x_train.csv\", index_col=0)\n",
    "test = pd.read_csv(\"x_test.csv\", index_col=0)"
   ]
  },
  {
   "cell_type": "code",
   "execution_count": null,
   "id": "c21e0f33-152c-40fa-9143-81661d62903a",
   "metadata": {},
   "outputs": [],
   "source": [
    "DataStructs.DiceSimilarity()"
   ]
  },
  {
   "cell_type": "code",
   "execution_count": 34,
   "id": "9e78828e-dd96-4c56-9432-847e290d295a",
   "metadata": {},
   "outputs": [],
   "source": [
    "def calculate_applicability_domain(training_data, test_data, threshold):\n",
    "    # Extract descriptors and activity from training data\n",
    "    training_descriptors = training_data.iloc[:,0:-2].to_numeric\n",
    "\n",
    "    # Extract descriptors from test data\n",
    "    test_descriptors = test_data.iloc[:,0:-2].to_numeric\n",
    "\n",
    "    # Calculate Tanimoto similarity scores for each test molecule\n",
    "    similarity_scores = []\n",
    "    for test_desc in test_descriptors:\n",
    "        #test_fp = AllChem.GetMorganFingerprintAsBitVect(test_desc, 2, nBits=1024)\n",
    "        max_similarity = 0\n",
    "        for train_desc in training_descriptors:\n",
    "            #train_fp = AllChem.GetMorganFingerprintAsBitVect(train_desc, 2, nBits=1024)\n",
    "            similarity_score = np.linalg.norm(test_desc, train_desc)\n",
    "            if similarity_score > max_similarity:\n",
    "                max_similarity = similarity_score\n",
    "        similarity_scores.append(max_similarity)\n",
    "\n",
    "    # Check if test molecules fall within the applicability domain\n",
    "    domain_results = []\n",
    "    for similarity in similarity_scores:\n",
    "        if similarity < threshold:\n",
    "            domain_results.append(\"Outside\")\n",
    "        else:\n",
    "            domain_results.append(\"Within\")\n",
    "\n",
    "    return domain_results"
   ]
  },
  {
   "cell_type": "code",
   "execution_count": 33,
   "id": "7ff2b41f-92ec-4747-ba4c-4365d3fbb5a2",
   "metadata": {},
   "outputs": [
    {
     "ename": "TypeError",
     "evalue": "float() argument must be a string or a number, not 'DataFrame'",
     "output_type": "error",
     "traceback": [
      "\u001b[0;31m---------------------------------------------------------------------------\u001b[0m",
      "\u001b[0;31mTypeError\u001b[0m                                 Traceback (most recent call last)",
      "\u001b[0;32m/var/folders/lx/srv0s20d1vs78lcwbd1_625h0000gn/T/ipykernel_66807/1476479068.py\u001b[0m in \u001b[0;36m<module>\u001b[0;34m\u001b[0m\n\u001b[0;32m----> 1\u001b[0;31m \u001b[0mcalculate_applicability_domain\u001b[0m\u001b[0;34m(\u001b[0m\u001b[0mtraining\u001b[0m\u001b[0;34m,\u001b[0m \u001b[0mtest\u001b[0m\u001b[0;34m,\u001b[0m \u001b[0;36m0.8\u001b[0m\u001b[0;34m)\u001b[0m\u001b[0;34m\u001b[0m\u001b[0;34m\u001b[0m\u001b[0m\n\u001b[0m",
      "\u001b[0;32m/var/folders/lx/srv0s20d1vs78lcwbd1_625h0000gn/T/ipykernel_66807/2430647499.py\u001b[0m in \u001b[0;36mcalculate_applicability_domain\u001b[0;34m(training_data, test_data, threshold)\u001b[0m\n\u001b[1;32m      1\u001b[0m \u001b[0;32mdef\u001b[0m \u001b[0mcalculate_applicability_domain\u001b[0m\u001b[0;34m(\u001b[0m\u001b[0mtraining_data\u001b[0m\u001b[0;34m,\u001b[0m \u001b[0mtest_data\u001b[0m\u001b[0;34m,\u001b[0m \u001b[0mthreshold\u001b[0m\u001b[0;34m)\u001b[0m\u001b[0;34m:\u001b[0m\u001b[0;34m\u001b[0m\u001b[0;34m\u001b[0m\u001b[0m\n\u001b[1;32m      2\u001b[0m     \u001b[0;31m# Extract descriptors and activity from training data\u001b[0m\u001b[0;34m\u001b[0m\u001b[0;34m\u001b[0m\u001b[0;34m\u001b[0m\u001b[0m\n\u001b[0;32m----> 3\u001b[0;31m     \u001b[0mtraining_descriptors\u001b[0m \u001b[0;34m=\u001b[0m \u001b[0mfloat\u001b[0m\u001b[0;34m(\u001b[0m\u001b[0mtraining_data\u001b[0m\u001b[0;34m.\u001b[0m\u001b[0miloc\u001b[0m\u001b[0;34m[\u001b[0m\u001b[0;34m:\u001b[0m\u001b[0;34m,\u001b[0m\u001b[0;36m0\u001b[0m\u001b[0;34m:\u001b[0m\u001b[0;34m-\u001b[0m\u001b[0;36m2\u001b[0m\u001b[0;34m]\u001b[0m\u001b[0;34m)\u001b[0m\u001b[0;34m\u001b[0m\u001b[0;34m\u001b[0m\u001b[0m\n\u001b[0m\u001b[1;32m      4\u001b[0m     \u001b[0mtraining_activity\u001b[0m \u001b[0;34m=\u001b[0m \u001b[0mfloat\u001b[0m\u001b[0;34m(\u001b[0m\u001b[0mtraining_data\u001b[0m\u001b[0;34m.\u001b[0m\u001b[0miloc\u001b[0m\u001b[0;34m[\u001b[0m\u001b[0;34m:\u001b[0m\u001b[0;34m,\u001b[0m\u001b[0;34m-\u001b[0m\u001b[0;36m1\u001b[0m\u001b[0;34m]\u001b[0m\u001b[0;34m)\u001b[0m\u001b[0;34m\u001b[0m\u001b[0;34m\u001b[0m\u001b[0m\n\u001b[1;32m      5\u001b[0m \u001b[0;34m\u001b[0m\u001b[0m\n",
      "\u001b[0;31mTypeError\u001b[0m: float() argument must be a string or a number, not 'DataFrame'"
     ]
    }
   ],
   "source": [
    "calculate_applicability_domain(training, test, 0.8)"
   ]
  },
  {
   "cell_type": "code",
   "execution_count": null,
   "id": "196b9e10-a317-4519-9ef6-30d3b3308d30",
   "metadata": {},
   "outputs": [],
   "source": []
  }
 ],
 "metadata": {
  "kernelspec": {
   "display_name": "Python 3 (ipykernel)",
   "language": "python",
   "name": "python3"
  },
  "language_info": {
   "codemirror_mode": {
    "name": "ipython",
    "version": 3
   },
   "file_extension": ".py",
   "mimetype": "text/x-python",
   "name": "python",
   "nbconvert_exporter": "python",
   "pygments_lexer": "ipython3",
   "version": "3.7.13"
  }
 },
 "nbformat": 4,
 "nbformat_minor": 5
}
