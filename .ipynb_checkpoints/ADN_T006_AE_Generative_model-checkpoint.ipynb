{
 "cells": [
  {
   "cell_type": "code",
   "execution_count": 6,
   "metadata": {},
   "outputs": [],
   "source": [
    "import os\n",
    "import pickle\n",
    "import pandas as pd\n",
    "import numpy as np\n",
    "import matplotlib.pyplot as plt\n",
    "import sklearn\n",
    "from IPython.display import display\n",
    "\n",
    "from rdkit import Chem\n",
    "from rdkit.Chem import Draw, Descriptors\n",
    "from rdkit.Chem.Draw import IPythonConsole\n",
    "\n",
    "from sklearn.model_selection import train_test_split \n",
    "from sklearn.decomposition import PCA   \n",
    "from keras.models import Model, Sequential\n",
    "from keras.layers import Input, LSTM, Dense, Concatenate\n",
    "from keras import regularizers\n",
    "from keras.callbacks import History, ReduceLROnPlateau\n",
    "from keras.optimizers import RMSprop, Adam"
   ]
  },
  {
   "cell_type": "code",
   "execution_count": 8,
   "metadata": {},
   "outputs": [
    {
     "data": {
      "text/html": [
       "<div>\n",
       "<style scoped>\n",
       "    .dataframe tbody tr th:only-of-type {\n",
       "        vertical-align: middle;\n",
       "    }\n",
       "\n",
       "    .dataframe tbody tr th {\n",
       "        vertical-align: top;\n",
       "    }\n",
       "\n",
       "    .dataframe thead th {\n",
       "        text-align: right;\n",
       "    }\n",
       "</style>\n",
       "<table border=\"1\" class=\"dataframe\">\n",
       "  <thead>\n",
       "    <tr style=\"text-align: right;\">\n",
       "      <th></th>\n",
       "      <th>smiles</th>\n",
       "    </tr>\n",
       "  </thead>\n",
       "  <tbody>\n",
       "    <tr>\n",
       "      <th>0</th>\n",
       "      <td>C1=CC=C2N=CN=CC2=C1</td>\n",
       "    </tr>\n",
       "    <tr>\n",
       "      <th>1</th>\n",
       "      <td>C1=CC(=CC=N1)C1=CC=NC=C1</td>\n",
       "    </tr>\n",
       "    <tr>\n",
       "      <th>2</th>\n",
       "      <td>C1CCN2N=NN=C2CC1</td>\n",
       "    </tr>\n",
       "    <tr>\n",
       "      <th>3</th>\n",
       "      <td>C1CC[NH2+]CC1</td>\n",
       "    </tr>\n",
       "    <tr>\n",
       "      <th>4</th>\n",
       "      <td>C1CC[NH+]2C[C@H]3C[C@H](C[NH+]4CCCC[C@H]34)[C@...</td>\n",
       "    </tr>\n",
       "  </tbody>\n",
       "</table>\n",
       "</div>"
      ],
      "text/plain": [
       "                                              smiles\n",
       "0                                C1=CC=C2N=CN=CC2=C1\n",
       "1                           C1=CC(=CC=N1)C1=CC=NC=C1\n",
       "2                                   C1CCN2N=NN=C2CC1\n",
       "3                                      C1CC[NH2+]CC1\n",
       "4  C1CC[NH+]2C[C@H]3C[C@H](C[NH+]4CCCC[C@H]34)[C@..."
      ]
     },
     "metadata": {},
     "output_type": "display_data"
    },
    {
     "data": {
      "text/plain": [
       "(604,)"
      ]
     },
     "metadata": {},
     "output_type": "display_data"
    },
    {
     "data": {
      "text/plain": [
       "(202,)"
      ]
     },
     "metadata": {},
     "output_type": "display_data"
    }
   ],
   "source": [
    "#@ GETTING THE DATA:\n",
    "PATH = \"TasteDB.smi\"                           # Path to the Data. \n",
    "data = pd.read_csv(PATH, delimiter=\"\\t\", names=[\"smiles\"])         # Reading the Data. \n",
    "display(data.head())                                                            # Inspecting the Data\n",
    "smiles_train, smiles_test = train_test_split(data[\"smiles\"], random_state=42)   # Splitting the Data. \n",
    "display(smiles_train.shape, smiles_test.shape)                                  # Inspecting the shape of Train and Test Data. "
   ]
  },
  {
   "cell_type": "code",
   "execution_count": 9,
   "metadata": {},
   "outputs": [
    {
     "name": "stdout",
     "output_type": "stream",
     "text": [
      "{'B', ']', '[', '6', 'n', '1', 'S', 'g', '\\\\', 'N', '4', '!', '3', 'H', ')', '#', 'r', 'E', '5', '+', '7', 'O', '=', '(', '/', '-', 'l', 'F', '@', 'P', '2', 'C', 'I'}\n",
      "33 270\n"
     ]
    }
   ],
   "source": [
    "#@ PREPARING THE DATA:\n",
    "charset = set(\"\".join(list(data.smiles)) + \"!E\")\n",
    "char_to_int = dict((c, i) for i, c in enumerate(charset))            # Converting the Characters to Index. \n",
    "int_to_char = dict((i, c) for i, c in enumerate(charset))            # Converting the Index to Characters. \n",
    "emmbed = max([len(smile) for smile in data.smiles]) + 5              # Maximum length of the SMILES strings. \n",
    "print(str(charset))                                                  # Inspecting the Characterset. \n",
    "print(len(charset), emmbed)    "
   ]
  },
  {
   "cell_type": "code",
   "execution_count": 10,
   "metadata": {},
   "outputs": [
    {
     "name": "stdout",
     "output_type": "stream",
     "text": [
      "CC(C)=CCCC(C)(OC=O)C=C\n"
     ]
    },
    {
     "data": {
      "text/plain": [
       "(604, 269, 33)"
      ]
     },
     "metadata": {},
     "output_type": "display_data"
    },
    {
     "data": {
      "text/plain": [
       "(604, 269, 33)"
      ]
     },
     "metadata": {},
     "output_type": "display_data"
    },
    {
     "data": {
      "text/plain": [
       "(202, 269, 33)"
      ]
     },
     "metadata": {},
     "output_type": "display_data"
    },
    {
     "name": "stdout",
     "output_type": "stream",
     "text": [
      "!CC(C)=CCCC(C)(OC=O)C=CEEEEEEEEEEEEEEEEEEEEEEEEEEEEEEEEEEEEEEEEEEEEEEEEEEEEEEEEEEEEEEEEEEEEEEEEEEEEEEEEEEEEEEEEEEEEEEEEEEEEEEEEEEEEEEEEEEEEEEEEEEEEEEEEEEEEEEEEEEEEEEEEEEEEEEEEEEEEEEEEEEEEEEEEEEEEEEEEEEEEEEEEEEEEEEEEEEEEEEEEEEEEEEEEEEEEEEEEEEEEEEEEEEEEEEEEEEEEEEEEEEEEEE\n"
     ]
    },
    {
     "data": {
      "image/png": "[encoded data removed]",
      "text/plain": [
       "<Figure size 1152x144 with 1 Axes>"
      ]
     },
     "metadata": {
      "needs_background": "light"
     },
     "output_type": "display_data"
    }
   ],
   "source": [
    "#@ PREPARING THE DATA:\n",
    "def vectorize(smiles):                                                          # Vectorization.\n",
    "  one_hot = np.zeros((smiles.shape[0], emmbed, len(charset)), dtype=np.int8)    # Initialization of an empty numpy array.\n",
    "  for i, smile in enumerate(smiles):\n",
    "    one_hot[i, 0, char_to_int[\"!\"]] = 1                                         # Encoding the starting character. \n",
    "    for j, c in enumerate(smile):\n",
    "      one_hot[i, j+1, char_to_int[c]] = 1                                       # Encoding the rest of the characters. \n",
    "    one_hot[i, len(smile)+1:, char_to_int[\"E\"]] = 1                             # Encoding the ending character. \n",
    "  return one_hot[:, 0:-1, :], one_hot[:, 1:, :]\n",
    "X_train, y_train = vectorize(smiles_train.values)                               # Encoding the Training set. \n",
    "X_test, y_test = vectorize(smiles_test.values)                                  # Encoding the Test set. \n",
    "print(smiles_train.iloc[0])                                                     # Inspecting the Data.\n",
    "plt.matshow(X_train[0].T)                                                       # Data Visualization of the arrays. \n",
    "display(X_train.shape, y_train.shape, X_test.shape)                             # Inspecting the shape of Data. \n",
    "print(\"\".join([int_to_char[idx] for idx in np.argmax(X_train[0,:,:], axis=1)])) # Converting the Index into Characters. "
   ]
  },
  {
   "cell_type": "code",
   "execution_count": 11,
   "metadata": {},
   "outputs": [
    {
     "name": "stdout",
     "output_type": "stream",
     "text": [
      "Model: \"model\"\n",
      "__________________________________________________________________________________________________\n",
      "Layer (type)                    Output Shape         Param #     Connected to                     \n",
      "==================================================================================================\n",
      "input_1 (InputLayer)            [(None, 269, 33)]    0                                            \n",
      "__________________________________________________________________________________________________\n",
      "lstm (LSTM)                     [(None, 64), (None,  25088       input_1[0][0]                    \n",
      "__________________________________________________________________________________________________\n",
      "concatenate (Concatenate)       (None, 128)          0           lstm[0][1]                       \n",
      "                                                                 lstm[0][2]                       \n",
      "__________________________________________________________________________________________________\n",
      "dense (Dense)                   (None, 64)           8256        concatenate[0][0]                \n",
      "__________________________________________________________________________________________________\n",
      "input_2 (InputLayer)            [(None, 269, 33)]    0                                            \n",
      "__________________________________________________________________________________________________\n",
      "dense_1 (Dense)                 (None, 64)           4160        dense[0][0]                      \n",
      "__________________________________________________________________________________________________\n",
      "dense_2 (Dense)                 (None, 64)           4160        dense[0][0]                      \n",
      "__________________________________________________________________________________________________\n",
      "lstm_1 (LSTM)                   (None, 269, 64)      25088       input_2[0][0]                    \n",
      "                                                                 dense_1[0][0]                    \n",
      "                                                                 dense_2[0][0]                    \n",
      "__________________________________________________________________________________________________\n",
      "dense_3 (Dense)                 (None, 269, 33)      2145        lstm_1[0][0]                     \n",
      "==================================================================================================\n",
      "Total params: 68,897\n",
      "Trainable params: 68,897\n",
      "Non-trainable params: 0\n",
      "__________________________________________________________________________________________________\n"
     ]
    },
    {
     "data": {
      "text/plain": [
       "None"
      ]
     },
     "metadata": {},
     "output_type": "display_data"
    }
   ],
   "source": [
    "#@ LONG SHORT TERM MEMORY:\n",
    "input_shape = X_train.shape[1:]                                           # Shape of input.\n",
    "output_dim = y_train.shape[-1]                                            # Shape of output. \n",
    "latent_dim = 64\n",
    "lstm_dim = 64\n",
    "#@ ENCODER:\n",
    "unroll = False\n",
    "encoder_inputs = Input(shape=input_shape)                                 # Inputs of the Encoder. \n",
    "encoder = LSTM(lstm_dim, return_state=True, unroll=unroll)                # Encoder using LSTM. \n",
    "encoder_outputs, state_h, state_c = encoder(encoder_inputs)               \n",
    "states = Concatenate(axis=-1)([state_h, state_c])                         # Concatenation of two states. \n",
    "neck = Dense(latent_dim, activation=\"relu\")                               # Implementation of RELU.\n",
    "neck_outputs = neck(states)\n",
    "#@ DECODER:\n",
    "decode_h = Dense(lstm_dim, activation=\"relu\")                             # Implementation of Decoder. \n",
    "decode_c = Dense(lstm_dim, activation=\"relu\")                             # Implementation of Decoder. \n",
    "state_h_decoded = decode_h(neck_outputs)                                  # Decoder.\n",
    "state_c_decoded = decode_c(neck_outputs)                                  # Decoder.\n",
    "encoder_states = [state_h_decoded, state_c_decoded]\n",
    "decoder_inputs =  Input(shape=input_shape)\n",
    "decoder_lstm = LSTM(lstm_dim, return_sequences=True, unroll=unroll)          # Implementation of LSTM.\n",
    "decoder_outputs = decoder_lstm(decoder_inputs, initial_state=encoder_states)\n",
    "decoder_dense = Dense(output_dim, activation=\"softmax\")                      # Output Layer.\n",
    "decoder_outputs = decoder_dense(decoder_outputs)                             # Implemenatation of Decoders. \n",
    "#@ DEFINING THE MODEL:\n",
    "model = Model([encoder_inputs, decoder_inputs], decoder_outputs)             # Instantiating the Model. \n",
    "display(model.summary())  "
   ]
  },
  {
   "cell_type": "code",
   "execution_count": 12,
   "metadata": {},
   "outputs": [
    {
     "name": "stdout",
     "output_type": "stream",
     "text": [
      "Epoch 1/200\n",
      "3/3 [==============================] - 4s 1s/step - loss: 3.3003 - val_loss: 2.3719 - lr: 0.0050\n",
      "Epoch 2/200\n",
      "3/3 [==============================] - 3s 867ms/step - loss: 1.8526 - val_loss: 0.9483 - lr: 0.0050\n",
      "Epoch 3/200\n",
      "3/3 [==============================] - 3s 848ms/step - loss: 0.9041 - val_loss: 0.7207 - lr: 0.0050\n",
      "Epoch 4/200\n",
      "3/3 [==============================] - 4s 1s/step - loss: 0.7462 - val_loss: 0.7248 - lr: 0.0050\n",
      "Epoch 5/200\n",
      "3/3 [==============================] - 4s 1s/step - loss: 0.7490 - val_loss: 0.7339 - lr: 0.0050\n",
      "Epoch 6/200\n",
      "3/3 [==============================] - 3s 932ms/step - loss: 0.7378 - val_loss: 0.6876 - lr: 0.0050\n",
      "Epoch 7/200\n",
      "3/3 [==============================] - 3s 979ms/step - loss: 0.6886 - val_loss: 0.6362 - lr: 0.0050\n",
      "Epoch 8/200\n",
      "3/3 [==============================] - 3s 1s/step - loss: 0.6412 - val_loss: 0.6086 - lr: 0.0050\n",
      "Epoch 9/200\n",
      "3/3 [==============================] - 3s 992ms/step - loss: 0.6287 - val_loss: 0.5825 - lr: 0.0050\n",
      "Epoch 10/200\n",
      "3/3 [==============================] - 2s 810ms/step - loss: 0.5944 - val_loss: 0.5681 - lr: 0.0050\n",
      "Epoch 11/200\n",
      "3/3 [==============================] - 3s 1s/step - loss: 0.5736 - val_loss: 0.5451 - lr: 0.0050\n",
      "Epoch 12/200\n",
      "3/3 [==============================] - 3s 925ms/step - loss: 0.5469 - val_loss: 0.5073 - lr: 0.0050\n",
      "Epoch 13/200\n",
      "3/3 [==============================] - 3s 870ms/step - loss: 0.5935 - val_loss: 0.5338 - lr: 0.0050\n",
      "Epoch 14/200\n",
      "3/3 [==============================] - 3s 876ms/step - loss: 0.5561 - val_loss: 0.5980 - lr: 0.0050\n",
      "Epoch 15/200\n",
      "3/3 [==============================] - 3s 862ms/step - loss: 0.6211 - val_loss: 0.5499 - lr: 0.0050\n",
      "Epoch 16/200\n",
      "3/3 [==============================] - 3s 1s/step - loss: 0.5545 - val_loss: 0.5392 - lr: 0.0050\n",
      "Epoch 17/200\n",
      "3/3 [==============================] - 3s 955ms/step - loss: 0.5476 - val_loss: 0.5359 - lr: 0.0050\n",
      "Epoch 18/200\n",
      "3/3 [==============================] - 3s 927ms/step - loss: 0.5440 - val_loss: 0.5300 - lr: 0.0050\n",
      "Epoch 19/200\n",
      "3/3 [==============================] - 3s 866ms/step - loss: 0.5372 - val_loss: 0.5216 - lr: 0.0050\n",
      "Epoch 20/200\n",
      "3/3 [==============================] - 3s 919ms/step - loss: 0.5280 - val_loss: 0.5118 - lr: 0.0050\n",
      "Epoch 21/200\n",
      "3/3 [==============================] - 3s 874ms/step - loss: 0.5178 - val_loss: 0.5018 - lr: 0.0050\n",
      "Epoch 22/200\n",
      "3/3 [==============================] - 3s 872ms/step - loss: 0.5075 - val_loss: 0.4926 - lr: 0.0050\n",
      "Epoch 23/200\n",
      "3/3 [==============================] - 3s 967ms/step - loss: 0.4982 - val_loss: 0.4847 - lr: 0.0050\n",
      "Epoch 24/200\n",
      "3/3 [==============================] - 3s 1s/step - loss: 0.4904 - val_loss: 0.4777 - lr: 0.0050\n",
      "Epoch 25/200\n",
      "3/3 [==============================] - 3s 1s/step - loss: 0.4835 - val_loss: 0.4718 - lr: 0.0050\n",
      "Epoch 26/200\n",
      "3/3 [==============================] - 3s 972ms/step - loss: 0.4779 - val_loss: 0.4666 - lr: 0.0050\n",
      "Epoch 27/200\n",
      "3/3 [==============================] - 3s 1s/step - loss: 0.4728 - val_loss: 0.4619 - lr: 0.0050\n",
      "Epoch 28/200\n",
      "3/3 [==============================] - 4s 1s/step - loss: 0.4683 - val_loss: 0.4590 - lr: 0.0050\n",
      "Epoch 29/200\n",
      "3/3 [==============================] - 3s 1s/step - loss: 0.4646 - val_loss: 0.4549 - lr: 0.0050\n",
      "Epoch 30/200\n",
      "3/3 [==============================] - 3s 952ms/step - loss: 0.4619 - val_loss: 0.4531 - lr: 0.0050\n",
      "Epoch 31/200\n",
      "3/3 [==============================] - 4s 1s/step - loss: 0.4600 - val_loss: 0.4503 - lr: 0.0050\n",
      "Epoch 32/200\n",
      "3/3 [==============================] - 3s 933ms/step - loss: 0.4568 - val_loss: 0.4467 - lr: 0.0050\n",
      "Epoch 33/200\n",
      "3/3 [==============================] - 3s 996ms/step - loss: 0.4531 - val_loss: 0.4435 - lr: 0.0050\n",
      "Epoch 34/200\n",
      "3/3 [==============================] - 3s 954ms/step - loss: 0.4506 - val_loss: 0.4413 - lr: 0.0050\n",
      "Epoch 35/200\n",
      "3/3 [==============================] - 3s 993ms/step - loss: 0.4478 - val_loss: 0.4389 - lr: 0.0050\n",
      "Epoch 36/200\n",
      "3/3 [==============================] - 2s 701ms/step - loss: 0.4451 - val_loss: 0.4366 - lr: 0.0050\n",
      "Epoch 37/200\n",
      "3/3 [==============================] - 2s 710ms/step - loss: 0.4425 - val_loss: 0.4338 - lr: 0.0050\n",
      "Epoch 38/200\n",
      "3/3 [==============================] - 2s 701ms/step - loss: 0.4395 - val_loss: 0.4311 - lr: 0.0050\n",
      "Epoch 39/200\n",
      "3/3 [==============================] - 2s 783ms/step - loss: 0.4365 - val_loss: 0.4285 - lr: 0.0050\n",
      "Epoch 40/200\n",
      "3/3 [==============================] - 2s 724ms/step - loss: 0.4336 - val_loss: 0.4256 - lr: 0.0050\n",
      "Epoch 41/200\n",
      "3/3 [==============================] - 2s 706ms/step - loss: 0.4305 - val_loss: 0.4226 - lr: 0.0050\n",
      "Epoch 42/200\n",
      "3/3 [==============================] - 2s 716ms/step - loss: 0.4273 - val_loss: 0.4196 - lr: 0.0050\n",
      "Epoch 43/200\n",
      "3/3 [==============================] - 2s 735ms/step - loss: 0.4241 - val_loss: 0.4165 - lr: 0.0050\n",
      "Epoch 44/200\n",
      "3/3 [==============================] - 2s 767ms/step - loss: 0.4207 - val_loss: 0.4133 - lr: 0.0050\n",
      "Epoch 45/200\n",
      "3/3 [==============================] - 2s 791ms/step - loss: 0.4172 - val_loss: 0.4098 - lr: 0.0050\n",
      "Epoch 46/200\n",
      "3/3 [==============================] - 2s 722ms/step - loss: 0.4134 - val_loss: 0.4061 - lr: 0.0050\n",
      "Epoch 47/200\n",
      "3/3 [==============================] - 3s 849ms/step - loss: 0.4096 - val_loss: 0.4022 - lr: 0.0050\n",
      "Epoch 48/200\n",
      "3/3 [==============================] - 2s 787ms/step - loss: 0.4055 - val_loss: 0.3986 - lr: 0.0050\n",
      "Epoch 49/200\n",
      "3/3 [==============================] - 2s 705ms/step - loss: 0.4012 - val_loss: 0.3940 - lr: 0.0050\n",
      "Epoch 50/200\n",
      "3/3 [==============================] - 2s 775ms/step - loss: 0.3968 - val_loss: 0.3898 - lr: 0.0050\n",
      "Epoch 51/200\n",
      "3/3 [==============================] - 2s 730ms/step - loss: 0.3922 - val_loss: 0.3853 - lr: 0.0050\n",
      "Epoch 52/200\n",
      "3/3 [==============================] - 2s 699ms/step - loss: 0.3874 - val_loss: 0.3803 - lr: 0.0050\n",
      "Epoch 53/200\n",
      "3/3 [==============================] - 3s 938ms/step - loss: 0.3822 - val_loss: 0.3755 - lr: 0.0050\n",
      "Epoch 54/200\n",
      "3/3 [==============================] - 3s 917ms/step - loss: 0.3769 - val_loss: 0.3704 - lr: 0.0050\n",
      "Epoch 55/200\n",
      "3/3 [==============================] - 3s 972ms/step - loss: 0.3715 - val_loss: 0.3648 - lr: 0.0050\n",
      "Epoch 56/200\n",
      "3/3 [==============================] - 2s 772ms/step - loss: 0.3655 - val_loss: 0.3594 - lr: 0.0050\n",
      "Epoch 57/200\n",
      "3/3 [==============================] - 2s 790ms/step - loss: 0.3599 - val_loss: 0.3539 - lr: 0.0050\n",
      "Epoch 58/200\n",
      "3/3 [==============================] - 3s 839ms/step - loss: 0.3541 - val_loss: 0.3484 - lr: 0.0050\n",
      "Epoch 59/200\n",
      "3/3 [==============================] - 2s 802ms/step - loss: 0.3482 - val_loss: 0.3429 - lr: 0.0050\n",
      "Epoch 60/200\n",
      "3/3 [==============================] - 3s 875ms/step - loss: 0.3423 - val_loss: 0.3376 - lr: 0.0050\n",
      "Epoch 61/200\n",
      "3/3 [==============================] - 2s 811ms/step - loss: 0.3369 - val_loss: 0.3325 - lr: 0.0050\n",
      "Epoch 62/200\n",
      "3/3 [==============================] - 2s 815ms/step - loss: 0.3308 - val_loss: 0.3274 - lr: 0.0050\n",
      "Epoch 63/200\n",
      "3/3 [==============================] - 3s 1s/step - loss: 0.3253 - val_loss: 0.3229 - lr: 0.0050\n",
      "Epoch 64/200\n",
      "3/3 [==============================] - 3s 915ms/step - loss: 0.3201 - val_loss: 0.3176 - lr: 0.0050\n",
      "Epoch 65/200\n",
      "3/3 [==============================] - 3s 974ms/step - loss: 0.3146 - val_loss: 0.3123 - lr: 0.0050\n",
      "Epoch 66/200\n",
      "3/3 [==============================] - 3s 1s/step - loss: 0.3096 - val_loss: 0.3080 - lr: 0.0050\n",
      "Epoch 67/200\n",
      "3/3 [==============================] - 3s 978ms/step - loss: 0.3049 - val_loss: 0.3036 - lr: 0.0050\n",
      "Epoch 68/200\n",
      "3/3 [==============================] - 3s 999ms/step - loss: 0.3001 - val_loss: 0.2992 - lr: 0.0050\n",
      "Epoch 69/200\n",
      "3/3 [==============================] - 3s 923ms/step - loss: 0.2957 - val_loss: 0.2953 - lr: 0.0050\n",
      "Epoch 70/200\n",
      "3/3 [==============================] - 3s 835ms/step - loss: 0.2914 - val_loss: 0.2916 - lr: 0.0050\n",
      "Epoch 71/200\n",
      "3/3 [==============================] - 2s 814ms/step - loss: 0.2877 - val_loss: 0.2886 - lr: 0.0050\n",
      "Epoch 72/200\n",
      "3/3 [==============================] - 3s 906ms/step - loss: 0.2840 - val_loss: 0.2846 - lr: 0.0050\n",
      "Epoch 73/200\n",
      "3/3 [==============================] - 3s 888ms/step - loss: 0.2798 - val_loss: 0.2808 - lr: 0.0050\n"
     ]
    },
    {
     "name": "stdout",
     "output_type": "stream",
     "text": [
      "Epoch 74/200\n",
      "3/3 [==============================] - 2s 781ms/step - loss: 0.2757 - val_loss: 0.2776 - lr: 0.0050\n",
      "Epoch 75/200\n",
      "3/3 [==============================] - 4s 1s/step - loss: 0.2723 - val_loss: 0.2749 - lr: 0.0050\n",
      "Epoch 76/200\n",
      "3/3 [==============================] - 3s 1s/step - loss: 0.2695 - val_loss: 0.2719 - lr: 0.0050\n",
      "Epoch 77/200\n",
      "3/3 [==============================] - 3s 1s/step - loss: 0.2663 - val_loss: 0.2693 - lr: 0.0050\n",
      "Epoch 78/200\n",
      "3/3 [==============================] - 3s 996ms/step - loss: 0.2636 - val_loss: 0.2666 - lr: 0.0050\n",
      "Epoch 79/200\n",
      "3/3 [==============================] - 3s 877ms/step - loss: 0.2610 - val_loss: 0.2639 - lr: 0.0050\n",
      "Epoch 80/200\n",
      "3/3 [==============================] - 2s 811ms/step - loss: 0.2583 - val_loss: 0.2616 - lr: 0.0050\n",
      "Epoch 81/200\n",
      "3/3 [==============================] - 3s 902ms/step - loss: 0.2559 - val_loss: 0.2592 - lr: 0.0050\n",
      "Epoch 82/200\n",
      "3/3 [==============================] - 3s 1s/step - loss: 0.2535 - val_loss: 0.2576 - lr: 0.0050\n",
      "Epoch 83/200\n",
      "3/3 [==============================] - 3s 1s/step - loss: 0.2518 - val_loss: 0.2551 - lr: 0.0050\n",
      "Epoch 84/200\n",
      "3/3 [==============================] - 3s 881ms/step - loss: 0.2499 - val_loss: 0.2538 - lr: 0.0050\n",
      "Epoch 85/200\n",
      "3/3 [==============================] - 2s 705ms/step - loss: 0.2478 - val_loss: 0.2513 - lr: 0.0050\n",
      "Epoch 86/200\n",
      "3/3 [==============================] - 2s 777ms/step - loss: 0.2459 - val_loss: 0.2494 - lr: 0.0050\n",
      "Epoch 87/200\n",
      "3/3 [==============================] - 2s 744ms/step - loss: 0.2439 - val_loss: 0.2474 - lr: 0.0050\n",
      "Epoch 88/200\n",
      "3/3 [==============================] - 2s 817ms/step - loss: 0.2418 - val_loss: 0.2457 - lr: 0.0050\n",
      "Epoch 89/200\n",
      "3/3 [==============================] - 2s 707ms/step - loss: 0.2401 - val_loss: 0.2444 - lr: 0.0050\n",
      "Epoch 90/200\n",
      "3/3 [==============================] - 2s 781ms/step - loss: 0.2382 - val_loss: 0.2420 - lr: 0.0050\n",
      "Epoch 91/200\n",
      "3/3 [==============================] - 2s 716ms/step - loss: 0.2364 - val_loss: 0.2405 - lr: 0.0050\n",
      "Epoch 92/200\n",
      "3/3 [==============================] - 2s 746ms/step - loss: 0.2349 - val_loss: 0.2386 - lr: 0.0050\n",
      "Epoch 93/200\n",
      "3/3 [==============================] - 2s 716ms/step - loss: 0.2331 - val_loss: 0.2374 - lr: 0.0050\n",
      "Epoch 94/200\n",
      "3/3 [==============================] - 3s 842ms/step - loss: 0.2314 - val_loss: 0.2356 - lr: 0.0050\n",
      "Epoch 95/200\n",
      "3/3 [==============================] - 2s 793ms/step - loss: 0.2299 - val_loss: 0.2342 - lr: 0.0050\n",
      "Epoch 96/200\n",
      "3/3 [==============================] - 2s 748ms/step - loss: 0.2284 - val_loss: 0.2331 - lr: 0.0050\n",
      "Epoch 97/200\n",
      "3/3 [==============================] - 2s 695ms/step - loss: 0.2274 - val_loss: 0.2315 - lr: 0.0050\n",
      "Epoch 98/200\n",
      "3/3 [==============================] - 3s 879ms/step - loss: 0.2259 - val_loss: 0.2301 - lr: 0.0050\n",
      "Epoch 99/200\n",
      "3/3 [==============================] - 2s 822ms/step - loss: 0.2242 - val_loss: 0.2286 - lr: 0.0050\n",
      "Epoch 100/200\n",
      "3/3 [==============================] - 3s 856ms/step - loss: 0.2228 - val_loss: 0.2271 - lr: 0.0050\n",
      "Epoch 101/200\n",
      "3/3 [==============================] - 2s 810ms/step - loss: 0.2216 - val_loss: 0.2261 - lr: 0.0050\n",
      "Epoch 102/200\n",
      "3/3 [==============================] - 2s 770ms/step - loss: 0.2205 - val_loss: 0.2260 - lr: 0.0050\n",
      "Epoch 103/200\n",
      "3/3 [==============================] - 2s 743ms/step - loss: 0.2198 - val_loss: 0.2246 - lr: 0.0050\n",
      "Epoch 104/200\n",
      "3/3 [==============================] - 2s 756ms/step - loss: 0.2186 - val_loss: 0.2239 - lr: 0.0050\n",
      "Epoch 105/200\n",
      "3/3 [==============================] - 2s 762ms/step - loss: 0.2173 - val_loss: 0.2222 - lr: 0.0050\n",
      "Epoch 106/200\n",
      "3/3 [==============================] - 2s 806ms/step - loss: 0.2165 - val_loss: 0.2207 - lr: 0.0050\n",
      "Epoch 107/200\n",
      "3/3 [==============================] - 2s 781ms/step - loss: 0.2156 - val_loss: 0.2207 - lr: 0.0050\n",
      "Epoch 108/200\n",
      "3/3 [==============================] - 2s 770ms/step - loss: 0.2149 - val_loss: 0.2208 - lr: 0.0050\n",
      "Epoch 109/200\n",
      "3/3 [==============================] - 3s 840ms/step - loss: 0.2143 - val_loss: 0.2197 - lr: 0.0050\n",
      "Epoch 110/200\n",
      "3/3 [==============================] - 2s 767ms/step - loss: 0.2133 - val_loss: 0.2184 - lr: 0.0050\n",
      "Epoch 111/200\n",
      "3/3 [==============================] - 2s 750ms/step - loss: 0.2118 - val_loss: 0.2169 - lr: 0.0050\n",
      "Epoch 112/200\n",
      "3/3 [==============================] - 2s 827ms/step - loss: 0.2112 - val_loss: 0.2160 - lr: 0.0050\n",
      "Epoch 113/200\n",
      "3/3 [==============================] - 2s 787ms/step - loss: 0.2106 - val_loss: 0.2146 - lr: 0.0050\n",
      "Epoch 114/200\n",
      "3/3 [==============================] - 2s 766ms/step - loss: 0.2093 - val_loss: 0.2137 - lr: 0.0050\n",
      "Epoch 115/200\n",
      "3/3 [==============================] - 2s 833ms/step - loss: 0.2097 - val_loss: 0.2161 - lr: 0.0050\n",
      "Epoch 116/200\n",
      "3/3 [==============================] - 2s 747ms/step - loss: 0.2096 - val_loss: 0.2147 - lr: 0.0050\n",
      "Epoch 117/200\n",
      "3/3 [==============================] - 2s 728ms/step - loss: 0.2078 - val_loss: 0.2131 - lr: 0.0050\n",
      "Epoch 118/200\n",
      "3/3 [==============================] - 2s 773ms/step - loss: 0.2063 - val_loss: 0.2115 - lr: 0.0050\n",
      "Epoch 119/200\n",
      "3/3 [==============================] - 2s 793ms/step - loss: 0.2051 - val_loss: 0.2106 - lr: 0.0050\n",
      "Epoch 120/200\n",
      "3/3 [==============================] - 2s 735ms/step - loss: 0.2046 - val_loss: 0.2095 - lr: 0.0050\n",
      "Epoch 121/200\n",
      "3/3 [==============================] - 2s 747ms/step - loss: 0.2031 - val_loss: 0.2091 - lr: 0.0050\n",
      "Epoch 122/200\n",
      "3/3 [==============================] - 2s 809ms/step - loss: 0.2023 - val_loss: 0.2086 - lr: 0.0050\n",
      "Epoch 123/200\n",
      "3/3 [==============================] - 2s 745ms/step - loss: 0.2015 - val_loss: 0.2072 - lr: 0.0050\n",
      "Epoch 124/200\n",
      "3/3 [==============================] - 2s 779ms/step - loss: 0.2005 - val_loss: 0.2063 - lr: 0.0050\n",
      "Epoch 125/200\n",
      "3/3 [==============================] - 3s 843ms/step - loss: 0.1996 - val_loss: 0.2065 - lr: 0.0050\n",
      "Epoch 126/200\n",
      "3/3 [==============================] - 2s 767ms/step - loss: 0.1994 - val_loss: 0.2052 - lr: 0.0050\n",
      "Epoch 127/200\n",
      "3/3 [==============================] - 2s 776ms/step - loss: 0.1984 - val_loss: 0.2046 - lr: 0.0050\n",
      "Epoch 128/200\n",
      "3/3 [==============================] - 2s 747ms/step - loss: 0.1976 - val_loss: 0.2040 - lr: 0.0050\n",
      "Epoch 129/200\n",
      "3/3 [==============================] - 2s 818ms/step - loss: 0.1968 - val_loss: 0.2034 - lr: 0.0050\n",
      "Epoch 130/200\n",
      "3/3 [==============================] - 3s 887ms/step - loss: 0.1960 - val_loss: 0.2025 - lr: 0.0050\n",
      "Epoch 131/200\n",
      "3/3 [==============================] - 3s 877ms/step - loss: 0.1952 - val_loss: 0.2022 - lr: 0.0050\n",
      "Epoch 132/200\n",
      "3/3 [==============================] - 2s 737ms/step - loss: 0.1946 - val_loss: 0.2014 - lr: 0.0050\n",
      "Epoch 133/200\n",
      "3/3 [==============================] - 3s 857ms/step - loss: 0.1939 - val_loss: 0.2011 - lr: 0.0050\n",
      "Epoch 134/200\n",
      "3/3 [==============================] - 2s 813ms/step - loss: 0.1932 - val_loss: 0.2011 - lr: 0.0050\n",
      "Epoch 135/200\n",
      "3/3 [==============================] - 2s 734ms/step - loss: 0.1930 - val_loss: 0.2006 - lr: 0.0050\n",
      "Epoch 136/200\n",
      "3/3 [==============================] - 2s 770ms/step - loss: 0.1924 - val_loss: 0.1997 - lr: 0.0050\n",
      "Epoch 137/200\n",
      "3/3 [==============================] - 2s 752ms/step - loss: 0.1918 - val_loss: 0.1996 - lr: 0.0050\n",
      "Epoch 138/200\n",
      "3/3 [==============================] - 2s 740ms/step - loss: 0.1913 - val_loss: 0.1990 - lr: 0.0050\n",
      "Epoch 139/200\n",
      "3/3 [==============================] - 2s 688ms/step - loss: 0.1908 - val_loss: 0.1983 - lr: 0.0050\n",
      "Epoch 140/200\n",
      "3/3 [==============================] - 3s 929ms/step - loss: 0.1900 - val_loss: 0.1980 - lr: 0.0050\n",
      "Epoch 141/200\n",
      "3/3 [==============================] - 2s 775ms/step - loss: 0.1894 - val_loss: 0.1975 - lr: 0.0050\n",
      "Epoch 142/200\n",
      "3/3 [==============================] - 3s 841ms/step - loss: 0.1889 - val_loss: 0.1971 - lr: 0.0050\n",
      "Epoch 143/200\n",
      "3/3 [==============================] - 3s 881ms/step - loss: 0.1883 - val_loss: 0.1969 - lr: 0.0050\n",
      "Epoch 144/200\n",
      "3/3 [==============================] - 3s 883ms/step - loss: 0.1885 - val_loss: 0.1998 - lr: 0.0050\n",
      "Epoch 145/200\n",
      "3/3 [==============================] - 2s 800ms/step - loss: 0.1897 - val_loss: 0.1977 - lr: 0.0050\n",
      "Epoch 146/200\n",
      "3/3 [==============================] - 2s 826ms/step - loss: 0.1881 - val_loss: 0.1959 - lr: 0.0050\n",
      "Epoch 147/200\n",
      "3/3 [==============================] - 2s 803ms/step - loss: 0.1868 - val_loss: 0.1957 - lr: 0.0050\n",
      "Epoch 148/200\n",
      "3/3 [==============================] - 2s 831ms/step - loss: 0.1864 - val_loss: 0.1952 - lr: 0.0050\n",
      "Epoch 149/200\n",
      "3/3 [==============================] - 2s 704ms/step - loss: 0.1860 - val_loss: 0.1948 - lr: 0.0050\n",
      "Epoch 150/200\n",
      "3/3 [==============================] - 2s 748ms/step - loss: 0.1854 - val_loss: 0.1940 - lr: 0.0050\n",
      "Epoch 151/200\n",
      "3/3 [==============================] - 4s 1s/step - loss: 0.1849 - val_loss: 0.1935 - lr: 0.0050\n",
      "Epoch 152/200\n",
      "3/3 [==============================] - 2s 783ms/step - loss: 0.1842 - val_loss: 0.1933 - lr: 0.0050\n",
      "Epoch 153/200\n",
      "3/3 [==============================] - 2s 711ms/step - loss: 0.1838 - val_loss: 0.1927 - lr: 0.0050\n",
      "Epoch 154/200\n",
      "3/3 [==============================] - 2s 685ms/step - loss: 0.1832 - val_loss: 0.1923 - lr: 0.0050\n",
      "Epoch 155/200\n",
      "3/3 [==============================] - 2s 720ms/step - loss: 0.1830 - val_loss: 0.1919 - lr: 0.0050\n",
      "Epoch 156/200\n",
      "3/3 [==============================] - 2s 814ms/step - loss: 0.1824 - val_loss: 0.1918 - lr: 0.0050\n",
      "Epoch 157/200\n",
      "3/3 [==============================] - 2s 739ms/step - loss: 0.1820 - val_loss: 0.1915 - lr: 0.0050\n",
      "Epoch 158/200\n",
      "3/3 [==============================] - 2s 722ms/step - loss: 0.1817 - val_loss: 0.1920 - lr: 0.0050\n",
      "Epoch 159/200\n",
      "3/3 [==============================] - 2s 756ms/step - loss: 0.1814 - val_loss: 0.1912 - lr: 0.0050\n",
      "Epoch 160/200\n",
      "3/3 [==============================] - 3s 872ms/step - loss: 0.1810 - val_loss: 0.1914 - lr: 0.0050\n",
      "Epoch 161/200\n",
      "3/3 [==============================] - 3s 1s/step - loss: 0.1810 - val_loss: 0.1908 - lr: 0.0050\n",
      "Epoch 162/200\n",
      "3/3 [==============================] - 3s 906ms/step - loss: 0.1814 - val_loss: 0.1914 - lr: 0.0050\n",
      "Epoch 163/200\n",
      "3/3 [==============================] - 3s 952ms/step - loss: 0.1818 - val_loss: 0.1920 - lr: 0.0050\n",
      "Epoch 164/200\n",
      "3/3 [==============================] - 3s 952ms/step - loss: 0.1814 - val_loss: 0.1920 - lr: 0.0050\n",
      "Epoch 165/200\n",
      "3/3 [==============================] - 2s 707ms/step - loss: 0.1814 - val_loss: 0.1905 - lr: 0.0050\n",
      "Epoch 166/200\n",
      "3/3 [==============================] - 2s 679ms/step - loss: 0.1794 - val_loss: 0.1898 - lr: 0.0050\n",
      "Epoch 167/200\n",
      "3/3 [==============================] - 2s 652ms/step - loss: 0.1787 - val_loss: 0.1906 - lr: 0.0050\n",
      "Epoch 168/200\n",
      "3/3 [==============================] - 2s 677ms/step - loss: 0.1795 - val_loss: 0.1892 - lr: 0.0050\n",
      "Epoch 169/200\n",
      "3/3 [==============================] - 2s 647ms/step - loss: 0.1786 - val_loss: 0.1888 - lr: 0.0050\n",
      "Epoch 170/200\n",
      "3/3 [==============================] - 2s 673ms/step - loss: 0.1779 - val_loss: 0.1885 - lr: 0.0050\n",
      "Epoch 171/200\n",
      "3/3 [==============================] - 2s 671ms/step - loss: 0.1773 - val_loss: 0.1874 - lr: 0.0050\n",
      "Epoch 172/200\n",
      "3/3 [==============================] - 2s 678ms/step - loss: 0.1766 - val_loss: 0.1875 - lr: 0.0050\n",
      "Epoch 173/200\n",
      "3/3 [==============================] - 2s 733ms/step - loss: 0.1760 - val_loss: 0.1875 - lr: 0.0050\n",
      "Epoch 174/200\n",
      "3/3 [==============================] - 2s 750ms/step - loss: 0.1757 - val_loss: 0.1872 - lr: 0.0050\n",
      "Epoch 175/200\n",
      "3/3 [==============================] - 2s 698ms/step - loss: 0.1754 - val_loss: 0.1869 - lr: 0.0050\n",
      "Epoch 176/200\n",
      "3/3 [==============================] - 2s 696ms/step - loss: 0.1751 - val_loss: 0.1871 - lr: 0.0050\n",
      "Epoch 177/200\n",
      "3/3 [==============================] - 2s 716ms/step - loss: 0.1754 - val_loss: 0.1873 - lr: 0.0050\n",
      "Epoch 178/200\n",
      "3/3 [==============================] - 2s 677ms/step - loss: 0.1760 - val_loss: 0.1873 - lr: 0.0050\n",
      "Epoch 179/200\n",
      "3/3 [==============================] - 2s 691ms/step - loss: 0.1755 - val_loss: 0.1864 - lr: 0.0050\n",
      "Epoch 180/200\n",
      "3/3 [==============================] - 2s 696ms/step - loss: 0.1750 - val_loss: 0.1855 - lr: 0.0050\n",
      "Epoch 181/200\n",
      "3/3 [==============================] - 3s 841ms/step - loss: 0.1744 - val_loss: 0.1860 - lr: 0.0050\n",
      "Epoch 182/200\n",
      "3/3 [==============================] - 3s 1s/step - loss: 0.1736 - val_loss: 0.1848 - lr: 0.0050\n",
      "Epoch 183/200\n",
      "3/3 [==============================] - 3s 906ms/step - loss: 0.1734 - val_loss: 0.1843 - lr: 0.0050\n",
      "Epoch 184/200\n",
      "3/3 [==============================] - 2s 756ms/step - loss: 0.1728 - val_loss: 0.1837 - lr: 0.0050\n",
      "Epoch 185/200\n",
      "3/3 [==============================] - 2s 799ms/step - loss: 0.1721 - val_loss: 0.1831 - lr: 0.0050\n",
      "Epoch 186/200\n",
      "3/3 [==============================] - 3s 868ms/step - loss: 0.1716 - val_loss: 0.1832 - lr: 0.0050\n",
      "Epoch 187/200\n",
      "3/3 [==============================] - 3s 983ms/step - loss: 0.1714 - val_loss: 0.1829 - lr: 0.0050\n",
      "Epoch 188/200\n",
      "3/3 [==============================] - 2s 830ms/step - loss: 0.1707 - val_loss: 0.1826 - lr: 0.0050\n",
      "Epoch 189/200\n",
      "3/3 [==============================] - 3s 882ms/step - loss: 0.1705 - val_loss: 0.1823 - lr: 0.0050\n",
      "Epoch 190/200\n",
      "3/3 [==============================] - 3s 935ms/step - loss: 0.1699 - val_loss: 0.1819 - lr: 0.0050\n",
      "Epoch 191/200\n",
      "3/3 [==============================] - 3s 1s/step - loss: 0.1696 - val_loss: 0.1818 - lr: 0.0050\n",
      "Epoch 192/200\n",
      "3/3 [==============================] - 3s 837ms/step - loss: 0.1692 - val_loss: 0.1817 - lr: 0.0050\n",
      "Epoch 193/200\n",
      "3/3 [==============================] - 3s 1s/step - loss: 0.1688 - val_loss: 0.1810 - lr: 0.0050\n",
      "Epoch 194/200\n",
      "3/3 [==============================] - 2s 829ms/step - loss: 0.1685 - val_loss: 0.1815 - lr: 0.0050\n",
      "Epoch 195/200\n",
      "3/3 [==============================] - 2s 769ms/step - loss: 0.1686 - val_loss: 0.1823 - lr: 0.0050\n",
      "Epoch 196/200\n",
      "3/3 [==============================] - 2s 801ms/step - loss: 0.1693 - val_loss: 0.1804 - lr: 0.0050\n",
      "Epoch 197/200\n",
      "3/3 [==============================] - 2s 749ms/step - loss: 0.1679 - val_loss: 0.1808 - lr: 0.0050\n",
      "Epoch 198/200\n",
      "3/3 [==============================] - 2s 749ms/step - loss: 0.1676 - val_loss: 0.1804 - lr: 0.0050\n",
      "Epoch 199/200\n",
      "3/3 [==============================] - 2s 691ms/step - loss: 0.1669 - val_loss: 0.1799 - lr: 0.0050\n",
      "Epoch 200/200\n",
      "3/3 [==============================] - 2s 780ms/step - loss: 0.1663 - val_loss: 0.1803 - lr: 0.0050\n"
     ]
    },
    {
     "data": {
      "text/plain": [
       "<tensorflow.python.keras.callbacks.History at 0x7ff3134108d0>"
      ]
     },
     "execution_count": 12,
     "metadata": {},
     "output_type": "execute_result"
    }
   ],
   "source": [
    "history = History()                                                    # Instantiating the History Module. \n",
    "rlr = ReduceLROnPlateau(monitor=\"val_loss\", factor=0.5, patience=10,\n",
    "                        min_lr=0.000001, verbose=1, min_delta=1e-5)    # Instantiating the Module for Learning Rate. \n",
    "optimizer = Adam(lr=0.005)                                             # Initializing the Adam Optimizer. \n",
    "model.compile(optimizer=optimizer, loss=\"categorical_crossentropy\")    # Compiling the Model.\n",
    "model.fit([X_train, X_train], y_train, epochs=200,                     # Using the Training Data. \n",
    "          batch_size=256, shuffle=True, callbacks=[history, rlr],      # Implementation of Callbacks. \n",
    "          validation_data=([X_test, X_test], y_test))                  # Training the Model.        "
   ]
  },
  {
   "cell_type": "code",
   "execution_count": 13,
   "metadata": {},
   "outputs": [],
   "source": [
    "#@ SAVING THE MODEL:\n",
    "import pickle\n",
    "filename = \"Firstmodel.pickle\"                        # Name of the file. \n",
    "pickle.dump(history.history, open(filename, \"wb\"))    # Saving the Model. "
   ]
  },
  {
   "cell_type": "code",
   "execution_count": 14,
   "metadata": {},
   "outputs": [
    {
     "data": {
      "image/png": "[encoded data removed]",
      "text/plain": [
       "<Figure size 432x288 with 1 Axes>"
      ]
     },
     "metadata": {
      "needs_background": "light"
     },
     "output_type": "display_data"
    }
   ],
   "source": [
    "#@ PLOTTING THE TRAINING PROCESS:\n",
    "plt.plot(history.history[\"loss\"], label=\"Loss\")                # Plotting the Loss.\n",
    "plt.plot(history.history[\"val_loss\"], label=\"Validation Loss\") # Plotting the Validation Loss. \n",
    "plt.yscale(\"log\")\n",
    "plt.legend()\n",
    "plt.show()  "
   ]
  },
  {
   "cell_type": "code",
   "execution_count": 15,
   "metadata": {},
   "outputs": [
    {
     "name": "stdout",
     "output_type": "stream",
     "text": [
      "OC[C@@H]1OC(O)[C@H](O)[C@@H](O)[C@@H]1OEEEEEEEEEEEEEEEEEEEEEEEEEEEEEEEEEEEEEEEEEEEEEEEEEEEEEEEEEEEEEEEEEEEEEEEEEEEEEEEEEEEEEEEEEEEEEEEEEEEEEEEEEEEEEEEEEEEEEEEEEEEEEEEEEEEEEEEEEEEEEEEEEEEEEEEEEEEEEEEEEEEEEEEEEEEEEEEEEEEEEEEEEEEEEEEEEEEEEEEEEEEEEEEEEEEEEEEEEEEEEEEEEEEEE CC[C@HH](O[[[)[C@@](O)[C@HH](O)[C@HH]1OEEEEEEEEEEEEEEEEEEEEEEEEEEEEEEEEEEEEEEEEEEEEEEEEEEEEEEEEEEEEEEEEEEEEEEEEEEEEEEEEEEEEEEEEEEEEEEEEEEEEEEEEEEEEEEEEEEEEEEEEEEEEEEEEEEEEEEEEEEEEEEEEEEEEEEEEEEEEEEEEEEEEEEEEEEEEEEEEEEEEEEEEEEEEEEEEEEEEEEEEEEEEEEEEEEEEEEEEEEEEEEEEEEEEE\n",
      "C[C@H](CCC([O-])=O)[C@H]1CC[C@H]2[C@@H]3[C@H](O)C[C@@H]4C[C@H](O)CC[C@]4(C)[C@H]3CC[C@]12CEEEEEEEEEEEEEEEEEEEEEEEEEEEEEEEEEEEEEEEEEEEEEEEEEEEEEEEEEEEEEEEEEEEEEEEEEEEEEEEEEEEEEEEEEEEEEEEEEEEEEEEEEEEEEEEEEEEEEEEEEEEEEEEEEEEEEEEEEEEEEEEEEEEEEEEEEEEEEEEEEEEEEEEEEEEEEEEEEE CCC@@]1OCCCCO-])=O)[C@H](OC(C@@](CC@HH](CC@@](C)[(C@@H](C[C@@](C)[[CC@@((C)CC@@](CC(C@@(2)(EEEEEEEEEEEEEEEEEEEEEEEEEEEEEEEEEEEEEEEEEEEEEEEEEEEEEEEEEEEEEEEEEEEEEEEEEEEEEEEEEEEEEEEEEEEEEEEEEEEEEEEEEEEEEEEEEEEEEEEEEEEEEEEEEEEEEEEEEEEEEEEEEEEEEEEEEEEEEEEEEEEEEEEEEEEEEEEEE\n",
      "CC(C)C(=O)C1=C([O-])[C@](O)([C@H](CC=C(C)C)C1=O)C(=O)CC=C(C)CEEEEEEEEEEEEEEEEEEEEEEEEEEEEEEEEEEEEEEEEEEEEEEEEEEEEEEEEEEEEEEEEEEEEEEEEEEEEEEEEEEEEEEEEEEEEEEEEEEEEEEEEEEEEEEEEEEEEEEEEEEEEEEEEEEEEEEEEEEEEEEEEEEEEEEEEEEEEEEEEEEEEEEEEEEEEEEEEEEEEEEEEEEEEEEEEEEEEEEEEEEEEEEE CCCC)CCCO)C(=CCCO-])=C@H(O)(=C@H](C))C)O)C1C1=CEC(=O)C(=C1O)C(EEEEEEEEEEEEEEEEEEEEEEEEEEEEEEEEEEEEEEEEEEEEEEEEEEEEEEEEEEEEEEEEEEEEEEEEEEEEEEEEEEEEEEEEEEEEEEEEEEEEEEEEEEEEEEEEEEEEEEEEEEEEEEEEEEEEEEEEEEEEEEEEEEEEEEEEEEEEEEEEEEEEEEEEEEEEEEEEEEEEEEEEEEEEEEEEEEEEEEEEEEEEEE\n",
      "CC[NH+](CC)CCCC(C)NC1=C2C=CC(Cl)=CC2=[NH+]C=C1EEEEEEEEEEEEEEEEEEEEEEEEEEEEEEEEEEEEEEEEEEEEEEEEEEEEEEEEEEEEEEEEEEEEEEEEEEEEEEEEEEEEEEEEEEEEEEEEEEEEEEEEEEEEEEEEEEEEEEEEEEEEEEEEEEEEEEEEEEEEEEEEEEEEEEEEEEEEEEEEEEEEEEEEEEEEEEEEEEEEEEEEEEEEEEEEEEEEEEEEEEEEEEEEEEEEEEEEEEEEEE CCCCH+](C))CCCCCC)CC(=CC=CCC=C))CC1==CNH+](CC1EEEEEEEEEEEEEEEEEEEEEEEEEEEEEEEEEEEEEEEEEEEEEEEEEEEEEEEEEEEEEEEEEEEEEEEEEEEEEEEEEEEEEEEEEEEEEEEEEEEEEEEEEEEEEEEEEEEEEEEEEEEEEEEEEEEEEEEEEEEEEEEEEEEEEEEEEEEEEEEEEEEEEEEEEEEEEEEEEEEEEEEEEEEEEEEEEEEEEEEEEEEEEEEEEEEEEEEEEEEEEE\n",
      "NC1=NC=C(S1)N(=O)=OEEEEEEEEEEEEEEEEEEEEEEEEEEEEEEEEEEEEEEEEEEEEEEEEEEEEEEEEEEEEEEEEEEEEEEEEEEEEEEEEEEEEEEEEEEEEEEEEEEEEEEEEEEEEEEEEEEEEEEEEEEEEEEEEEEEEEEEEEEEEEEEEEEEEEEEEEEEEEEEEEEEEEEEEEEEEEEEEEEEEEEEEEEEEEEEEEEEEEEEEEEEEEEEEEEEEEEEEEEEEEEEEEEEEEEEEEEEEEEEEEEEEEEEEE CC1=CC(C1=))C(=O)CCEEEEEEEEEEEEEEEEEEEEEEEEEEEEEEEEEEEEEEEEEEEEEEEEEEEEEEEEEEEEEEEEEEEEEEEEEEEEEEEEEEEEEEEEEEEEEEEEEEEEEEEEEEEEEEEEEEEEEEEEEEEEEEEEEEEEEEEEEEEEEEEEEEEEEEEEEEEEEEEEEEEEEEEEEEEEEEEEEEEEEEEEEEEEEEEEEEEEEEEEEEEEEEEEEEEEEEEEEEEEEEEEEEEEEEEEEEEEEEEEEEEEEEEEE\n",
      "O=N(=O)C1=C2C=CC=CC2=CC=C1EEEEEEEEEEEEEEEEEEEEEEEEEEEEEEEEEEEEEEEEEEEEEEEEEEEEEEEEEEEEEEEEEEEEEEEEEEEEEEEEEEEEEEEEEEEEEEEEEEEEEEEEEEEEEEEEEEEEEEEEEEEEEEEEEEEEEEEEEEEEEEEEEEEEEEEEEEEEEEEEEEEEEEEEEEEEEEEEEEEEEEEEEEEEEEEEEEEEEEEEEEEEEEEEEEEEEEEEEEEEEEEEEEEEEEEEEEEEEEEEEE CCCCCC)C==CC=CCC=C11CC1=C1EEEEEEEEEEEEEEEEEEEEEEEEEEEEEEEEEEEEEEEEEEEEEEEEEEEEEEEEEEEEEEEEEEEEEEEEEEEEEEEEEEEEEEEEEEEEEEEEEEEEEEEEEEEEEEEEEEEEEEEEEEEEEEEEEEEEEEEEEEEEEEEEEEEEEEEEEEEEEEEEEEEEEEEEEEEEEEEEEEEEEEEEEEEEEEEEEEEEEEEEEEEEEEEEEEEEEEEEEEEEEEEEEEEEEEEEEEEEEEEEEE\n",
      "CCC(C)(C[NH+](C)C)OC(=O)C1=CC=CC=C1EEEEEEEEEEEEEEEEEEEEEEEEEEEEEEEEEEEEEEEEEEEEEEEEEEEEEEEEEEEEEEEEEEEEEEEEEEEEEEEEEEEEEEEEEEEEEEEEEEEEEEEEEEEEEEEEEEEEEEEEEEEEEEEEEEEEEEEEEEEEEEEEEEEEEEEEEEEEEEEEEEEEEEEEEEEEEEEEEEEEEEEEEEEEEEEEEEEEEEEEEEEEEEEEEEEEEEEEEEEEEEEEEEEEEEEEE CCC(C)CC)NH+](C)CCCC(CO)CC=CC=CC=C1EEEEEEEEEEEEEEEEEEEEEEEEEEEEEEEEEEEEEEEEEEEEEEEEEEEEEEEEEEEEEEEEEEEEEEEEEEEEEEEEEEEEEEEEEEEEEEEEEEEEEEEEEEEEEEEEEEEEEEEEEEEEEEEEEEEEEEEEEEEEEEEEEEEEEEEEEEEEEEEEEEEEEEEEEEEEEEEEEEEEEEEEEEEEEEEEEEEEEEEEEEEEEEEEEEEEEEEEEEEEEEEEEEEEEEEEE\n",
      "CC(C)N1C(=O)C2=CC=C(C=C2S1(=O)=O)N(=O)=OEEEEEEEEEEEEEEEEEEEEEEEEEEEEEEEEEEEEEEEEEEEEEEEEEEEEEEEEEEEEEEEEEEEEEEEEEEEEEEEEEEEEEEEEEEEEEEEEEEEEEEEEEEEEEEEEEEEEEEEEEEEEEEEEEEEEEEEEEEEEEEEEEEEEEEEEEEEEEEEEEEEEEEEEEEEEEEEEEEEEEEEEEEEEEEEEEEEEEEEEEEEEEEEEEEEEEEEEEEEEEEEEEEEE CCCC)CC(CCO)C(=CC=CCC)C))1E=O)=O)=(=O)=OEEEEEEEEEEEEEEEEEEEEEEEEEEEEEEEEEEEEEEEEEEEEEEEEEEEEEEEEEEEEEEEEEEEEEEEEEEEEEEEEEEEEEEEEEEEEEEEEEEEEEEEEEEEEEEEEEEEEEEEEEEEEEEEEEEEEEEEEEEEEEEEEEEEEEEEEEEEEEEEEEEEEEEEEEEEEEEEEEEEEEEEEEEEEEEEEEEEEEEEEEEEEEEEEEEEEEEEEEEEEEEEEEEEE\n",
      "COC1=CC=C2C[C@@H]3[C@H]4CCCC[C@]4(CC[NH+]3C)C2=C1EEEEEEEEEEEEEEEEEEEEEEEEEEEEEEEEEEEEEEEEEEEEEEEEEEEEEEEEEEEEEEEEEEEEEEEEEEEEEEEEEEEEEEEEEEEEEEEEEEEEEEEEEEEEEEEEEEEEEEEEEEEEEEEEEEEEEEEEEEEEEEEEEEEEEEEEEEEEEEEEEEEEEEEEEEEEEEEEEEEEEEEEEEEEEEEEEEEEEEEEEEEEEEEEEEEEEEEEEEE CCC1=CC=CC=CN@@H](CC@@](CCC==C@]3(C)(CH+](CCCC=CCOEEEEEEEEEEEEEEEEEEEEEEEEEEEEEEEEEEEEEEEEEEEEEEEEEEEEEEEEEEEEEEEEEEEEEEEEEEEEEEEEEEEEEEEEEEEEEEEEEEEEEEEEEEEEEEEEEEEEEEEEEEEEEEEEEEEEEEEEEEEEEEEEEEEEEEEEEEEEEEEEEEEEEEEEEEEEEEEEEEEEEEEEEEEEEEEEEEEEEEEEEEEEEEEEEEEEEEEEEE\n",
      "[NH][C@H](CCC(O)=O)C(O)=OEEEEEEEEEEEEEEEEEEEEEEEEEEEEEEEEEEEEEEEEEEEEEEEEEEEEEEEEEEEEEEEEEEEEEEEEEEEEEEEEEEEEEEEEEEEEEEEEEEEEEEEEEEEEEEEEEEEEEEEEEEEEEEEEEEEEEEEEEEEEEEEEEEEEEEEEEEEEEEEEEEEEEEEEEEEEEEEEEEEEEEEEEEEEEEEEEEEEEEEEEEEEEEEEEEEEEEEEEEEEEEEEEEEEEEEEEEEEEEEEEEE CCH+(C@]](CCCC=)CCCC(=)CCCEEEEEEEEEEEEEEEEEEEEEEEEEEEEEEEEEEEEEEEEEEEEEEEEEEEEEEEEEEEEEEEEEEEEEEEEEEEEEEEEEEEEEEEEEEEEEEEEEEEEEEEEEEEEEEEEEEEEEEEEEEEEEEEEEEEEEEEEEEEEEEEEEEEEEEEEEEEEEEEEEEEEEEEEEEEEEEEEEEEEEEEEEEEEEEEEEEEEEEEEEEEEEEEEEEEEEEEEEEEEEEEEEEEEEEEEEEEEEEEEEE\n",
      "CC1=CC=C(F)C=C1EEEEEEEEEEEEEEEEEEEEEEEEEEEEEEEEEEEEEEEEEEEEEEEEEEEEEEEEEEEEEEEEEEEEEEEEEEEEEEEEEEEEEEEEEEEEEEEEEEEEEEEEEEEEEEEEEEEEEEEEEEEEEEEEEEEEEEEEEEEEEEEEEEEEEEEEEEEEEEEEEEEEEEEEEEEEEEEEEEEEEEEEEEEEEEEEEEEEEEEEEEEEEEEEEEEEEEEEEEEEEEEEEEEEEEEEEEEEEEEEEEEEEEEEEEEEE CC1=CC=CCC)==C1=EEEEEEEEEEEEEEEEEEEEEEEEEEEEEEEEEEEEEEEEEEEEEEEEEEEEEEEEEEEEEEEEEEEEEEEEEEEEEEEEEEEEEEEEEEEEEEEEEEEEEEEEEEEEEEEEEEEEEEEEEEEEEEEEEEEEEEEEEEEEEEEEEEEEEEEEEEEEEEEEEEEEEEEEEEEEEEEEEEEEEEEEEEEEEEEEEEEEEEEEEEEEEEEEEEEEEEEEEEEEEEEEEEEEEEEEEEEEEEEEEEEEEEEEEEEE\n",
      "CC(C)COC(=O)C1=CC=CC=C1OEEEEEEEEEEEEEEEEEEEEEEEEEEEEEEEEEEEEEEEEEEEEEEEEEEEEEEEEEEEEEEEEEEEEEEEEEEEEEEEEEEEEEEEEEEEEEEEEEEEEEEEEEEEEEEEEEEEEEEEEEEEEEEEEEEEEEEEEEEEEEEEEEEEEEEEEEEEEEEEEEEEEEEEEEEEEEEEEEEEEEEEEEEEEEEEEEEEEEEEEEEEEEEEEEEEEEEEEEEEEEEEEEEEEEEEEEEEEEEEEEEEE CCCC)CCC(CO)C(=CC=CC=C1EEEEEEEEEEEEEEEEEEEEEEEEEEEEEEEEEEEEEEEEEEEEEEEEEEEEEEEEEEEEEEEEEEEEEEEEEEEEEEEEEEEEEEEEEEEEEEEEEEEEEEEEEEEEEEEEEEEEEEEEEEEEEEEEEEEEEEEEEEEEEEEEEEEEEEEEEEEEEEEEEEEEEEEEEEEEEEEEEEEEEEEEEEEEEEEEEEEEEEEEEEEEEEEEEEEEEEEEEEEEEEEEEEEEEEEEEEEEEEEEEEEEE\n",
      "NC(=[NH2+])C1=CC=C(OCCCOC2=CC=C(C=C2)C(N)=[NH2+])C=C1EEEEEEEEEEEEEEEEEEEEEEEEEEEEEEEEEEEEEEEEEEEEEEEEEEEEEEEEEEEEEEEEEEEEEEEEEEEEEEEEEEEEEEEEEEEEEEEEEEEEEEEEEEEEEEEEEEEEEEEEEEEEEEEEEEEEEEEEEEEEEEEEEEEEEEEEEEEEEEEEEEEEEEEEEEEEEEEEEEEEEEEEEEEEEEEEEEEEEEEEEEEEEEEEEEEEEEE CC1=CNH++]CCC=CC=CCC)2==C(=CC=C1O)C))C1=)CCNH++])C(CEEEEEEEEEEEEEEEEEEEEEEEEEEEEEEEEEEEEEEEEEEEEEEEEEEEEEEEEEEEEEEEEEEEEEEEEEEEEEEEEEEEEEEEEEEEEEEEEEEEEEEEEEEEEEEEEEEEEEEEEEEEEEEEEEEEEEEEEEEEEEEEEEEEEEEEEEEEEEEEEEEEEEEEEEEEEEEEEEEEEEEEEEEEEEEEEEEEEEEEEEEEEEEEEEEEEEEEE\n",
      "S=C(NC1=CC=CC=C1)NC1=CC=CC=C1EEEEEEEEEEEEEEEEEEEEEEEEEEEEEEEEEEEEEEEEEEEEEEEEEEEEEEEEEEEEEEEEEEEEEEEEEEEEEEEEEEEEEEEEEEEEEEEEEEEEEEEEEEEEEEEEEEEEEEEEEEEEEEEEEEEEEEEEEEEEEEEEEEEEEEEEEEEEEEEEEEEEEEEEEEEEEEEEEEEEEEEEEEEEEEEEEEEEEEEEEEEEEEEEEEEEEEEEEEEEEEEEEEEEEEEEEEEEEEE CCC1C)1=CC=CC=C1)CC(=CE=CC=C1EEEEEEEEEEEEEEEEEEEEEEEEEEEEEEEEEEEEEEEEEEEEEEEEEEEEEEEEEEEEEEEEEEEEEEEEEEEEEEEEEEEEEEEEEEEEEEEEEEEEEEEEEEEEEEEEEEEEEEEEEEEEEEEEEEEEEEEEEEEEEEEEEEEEEEEEEEEEEEEEEEEEEEEEEEEEEEEEEEEEEEEEEEEEEEEEEEEEEEEEEEEEEEEEEEEEEEEEEEEEEEEEEEEEEEEEEEEEEEE\n",
      "O=CCC1=CC=CC=C1EEEEEEEEEEEEEEEEEEEEEEEEEEEEEEEEEEEEEEEEEEEEEEEEEEEEEEEEEEEEEEEEEEEEEEEEEEEEEEEEEEEEEEEEEEEEEEEEEEEEEEEEEEEEEEEEEEEEEEEEEEEEEEEEEEEEEEEEEEEEEEEEEEEEEEEEEEEEEEEEEEEEEEEEEEEEEEEEEEEEEEEEEEEEEEEEEEEEEEEEEEEEEEEEEEEEEEEEEEEEEEEEEEEEEEEEEEEEEEEEEEEEEEEEEEEEE CCC1CC=CC=CC=C1EEEEEEEEEEEEEEEEEEEEEEEEEEEEEEEEEEEEEEEEEEEEEEEEEEEEEEEEEEEEEEEEEEEEEEEEEEEEEEEEEEEEEEEEEEEEEEEEEEEEEEEEEEEEEEEEEEEEEEEEEEEEEEEEEEEEEEEEEEEEEEEEEEEEEEEEEEEEEEEEEEEEEEEEEEEEEEEEEEEEEEEEEEEEEEEEEEEEEEEEEEEEEEEEEEEEEEEEEEEEEEEEEEEEEEEEEEEEEEEEEEEEEEEEEEEEE\n",
      "C[NH+]1[C@H]2CC[C@@H]1C[C@@H](C2)OC(=O)C(CO)C1=CC=CC=C1EEEEEEEEEEEEEEEEEEEEEEEEEEEEEEEEEEEEEEEEEEEEEEEEEEEEEEEEEEEEEEEEEEEEEEEEEEEEEEEEEEEEEEEEEEEEEEEEEEEEEEEEEEEEEEEEEEEEEEEEEEEEEEEEEEEEEEEEEEEEEEEEEEEEEEEEEEEEEEEEEEEEEEEEEEEEEEEEEEEEEEEEEEEEEEEEEEEEEEEEEEEEEEEEEEEEE CCCH+](CC@@](CCCC@H]](CCC@@H](CCCC[[=O)CCO))C(OCCCCCCCCEEEEEEEEEEEEEEEEEEEEEEEEEEEEEEEEEEEEEEEEEEEEEEEEEEEEEEEEEEEEEEEEEEEEEEEEEEEEEEEEEEEEEEEEEEEEEEEEEEEEEEEEEEEEEEEEEEEEEEEEEEEEEEEEEEEEEEEEEEEEEEEEEEEEEEEEEEEEEEEEEEEEEEEEEEEEEEEEEEEEEEEEEEEEEEEEEEEEEEEEEEEEEEEEEEEEE\n"
     ]
    },
    {
     "name": "stdout",
     "output_type": "stream",
     "text": [
      "C[NH+]1CCN(CC(=O)N2C3=CC=CC=C3C(=O)NC3=CC=CN=C23)CC1EEEEEEEEEEEEEEEEEEEEEEEEEEEEEEEEEEEEEEEEEEEEEEEEEEEEEEEEEEEEEEEEEEEEEEEEEEEEEEEEEEEEEEEEEEEEEEEEEEEEEEEEEEEEEEEEEEEEEEEEEEEEEEEEEEEEEEEEEEEEEEEEEEEEEEEEEEEEEEEEEEEEEEEEEEEEEEEEEEEEEEEEEEEEEEEEEEEEEEEEEEEEEEEEEEEEEEEE CCCH+](CCCCC)==O)CC=CCCC=C1=C1CCCO)CC(=C1=C1CC1=)C(==EEEEEEEEEEEEEEEEEEEEEEEEEEEEEEEEEEEEEEEEEEEEEEEEEEEEEEEEEEEEEEEEEEEEEEEEEEEEEEEEEEEEEEEEEEEEEEEEEEEEEEEEEEEEEEEEEEEEEEEEEEEEEEEEEEEEEEEEEEEEEEEEEEEEEEEEEEEEEEEEEEEEEEEEEEEEEEEEEEEEEEEEEEEEEEEEEEEEEEEEEEEEEEEEEEEEEEE\n",
      "C=CC1CNC(=S)O1EEEEEEEEEEEEEEEEEEEEEEEEEEEEEEEEEEEEEEEEEEEEEEEEEEEEEEEEEEEEEEEEEEEEEEEEEEEEEEEEEEEEEEEEEEEEEEEEEEEEEEEEEEEEEEEEEEEEEEEEEEEEEEEEEEEEEEEEEEEEEEEEEEEEEEEEEEEEEEEEEEEEEEEEEEEEEEEEEEEEEEEEEEEEEEEEEEEEEEEEEEEEEEEEEEEEEEEEEEEEEEEEEEEEEEEEEEEEEEEEEEEEEEEEEEEEEE CCC1C=CC(=O)NCEEEEEEEEEEEEEEEEEEEEEEEEEEEEEEEEEEEEEEEEEEEEEEEEEEEEEEEEEEEEEEEEEEEEEEEEEEEEEEEEEEEEEEEEEEEEEEEEEEEEEEEEEEEEEEEEEEEEEEEEEEEEEEEEEEEEEEEEEEEEEEEEEEEEEEEEEEEEEEEEEEEEEEEEEEEEEEEEEEEEEEEEEEEEEEEEEEEEEEEEEEEEEEEEEEEEEEEEEEEEEEEEEEEEEEEEEEEEEEEEEEEEEEEEEEEEEE\n",
      "OC[C@H]1O[C@@H](O[C@@H]2[C@H](O)[C@@H](O)[C@@H](O)O[C@@H]2CO)[C@H](O)[C@@H](O)[C@@H]1OEEEEEEEEEEEEEEEEEEEEEEEEEEEEEEEEEEEEEEEEEEEEEEEEEEEEEEEEEEEEEEEEEEEEEEEEEEEEEEEEEEEEEEEEEEEEEEEEEEEEEEEEEEEEEEEEEEEEEEEEEEEEEEEEEEEEEEEEEEEEEEEEEEEEEEEEEEEEEEEEEEEEEEEEEEEEEEEEEEEEEE CC[C@H]1O[C@HH](O[C@HH]([C@H](O)[C@@H](O)[C@HH](O)[[C@@H]1OO)[C@H](O)[C@@H](O)[C@HH](OEEEEEEEEEEEEEEEEEEEEEEEEEEEEEEEEEEEEEEEEEEEEEEEEEEEEEEEEEEEEEEEEEEEEEEEEEEEEEEEEEEEEEEEEEEEEEEEEEEEEEEEEEEEEEEEEEEEEEEEEEEEEEEEEEEEEEEEEEEEEEEEEEEEEEEEEEEEEEEEEEEEEEEEEEEEEEEEEEEEEEE\n",
      "CS(=O)(=O)OCCC[NH2+]CCCOS(C)(=O)=OEEEEEEEEEEEEEEEEEEEEEEEEEEEEEEEEEEEEEEEEEEEEEEEEEEEEEEEEEEEEEEEEEEEEEEEEEEEEEEEEEEEEEEEEEEEEEEEEEEEEEEEEEEEEEEEEEEEEEEEEEEEEEEEEEEEEEEEEEEEEEEEEEEEEEEEEEEEEEEEEEEEEEEEEEEEEEEEEEEEEEEEEEEEEEEEEEEEEEEEEEEEEEEEEEEEEEEEEEEEEEEEEEEEEEEEEEE CC(CO)COO)CC(=(CH++]CCC(C(===OO)COEEEEEEEEEEEEEEEEEEEEEEEEEEEEEEEEEEEEEEEEEEEEEEEEEEEEEEEEEEEEEEEEEEEEEEEEEEEEEEEEEEEEEEEEEEEEEEEEEEEEEEEEEEEEEEEEEEEEEEEEEEEEEEEEEEEEEEEEEEEEEEEEEEEEEEEEEEEEEEEEEEEEEEEEEEEEEEEEEEEEEEEEEEEEEEEEEEEEEEEEEEEEEEEEEEEEEEEEEEEEEEEEEEEEEEEEEE\n",
      "CC(=C)C1[C@H]2C[C@]3(C)[C@]4(CO4)[C@H]4O[C@H]4[C@]3(O)[C@@H]1C(=O)O2EEEEEEEEEEEEEEEEEEEEEEEEEEEEEEEEEEEEEEEEEEEEEEEEEEEEEEEEEEEEEEEEEEEEEEEEEEEEEEEEEEEEEEEEEEEEEEEEEEEEEEEEEEEEEEEEEEEEEEEEEEEEEEEEEEEEEEEEEEEEEEEEEEEEEEEEEEEEEEEEEEEEEEEEEEEEEEEEEEEEEEEEEEEEEEEEEEEEEEEE CCCCO)CC=C@@](CCC@H((C)CC@@((C))C[C@@](C[C@@](CC@@(3C)[C@@H](O[[O)[[[EEEEEEEEEEEEEEEEEEEEEEEEEEEEEEEEEEEEEEEEEEEEEEEEEEEEEEEEEEEEEEEEEEEEEEEEEEEEEEEEEEEEEEEEEEEEEEEEEEEEEEEEEEEEEEEEEEEEEEEEEEEEEEEEEEEEEEEEEEEEEEEEEEEEEEEEEEEEEEEEEEEEEEEEEEEEEEEEEEEEEEEEEEEEEEEEEEEEEEE\n",
      "CC1=C(CCO)SC=[N+]1CC1=CN=C(C)N=C1NEEEEEEEEEEEEEEEEEEEEEEEEEEEEEEEEEEEEEEEEEEEEEEEEEEEEEEEEEEEEEEEEEEEEEEEEEEEEEEEEEEEEEEEEEEEEEEEEEEEEEEEEEEEEEEEEEEEEEEEEEEEEEEEEEEEEEEEEEEEEEEEEEEEEEEEEEEEEEEEEEEEEEEEEEEEEEEEEEEEEEEEEEEEEEEEEEEEEEEEEEEEEEEEEEEEEEEEEEEEEEEEEEEEEEEEEEE CC1=CCCC=CC((CCH](=((ECECCC=C=CC1ECEEEEEEEEEEEEEEEEEEEEEEEEEEEEEEEEEEEEEEEEEEEEEEEEEEEEEEEEEEEEEEEEEEEEEEEEEEEEEEEEEEEEEEEEEEEEEEEEEEEEEEEEEEEEEEEEEEEEEEEEEEEEEEEEEEEEEEEEEEEEEEEEEEEEEEEEEEEEEEEEEEEEEEEEEEEEEEEEEEEEEEEEEEEEEEEEEEEEEEEEEEEEEEEEEEEEEEEEEEEEEEEEEEEEEEEEE\n",
      "CCOC1=CC=C2N=CC=C(C(O)C3CC4CC[NH+]3CC4CC)C2=C1EEEEEEEEEEEEEEEEEEEEEEEEEEEEEEEEEEEEEEEEEEEEEEEEEEEEEEEEEEEEEEEEEEEEEEEEEEEEEEEEEEEEEEEEEEEEEEEEEEEEEEEEEEEEEEEEEEEEEEEEEEEEEEEEEEEEEEEEEEEEEEEEEEEEEEEEEEEEEEEEEEEEEEEEEEEEEEEEEEEEEEEEEEEEEEEEEEEEEEEEEEEEEEEEEEEEEEEEEEEEEE CC1C1=CC=CCCCC1=C1C)O)CCCCCCC(CH+](CCCCC=C1=CCEEEEEEEEEEEEEEEEEEEEEEEEEEEEEEEEEEEEEEEEEEEEEEEEEEEEEEEEEEEEEEEEEEEEEEEEEEEEEEEEEEEEEEEEEEEEEEEEEEEEEEEEEEEEEEEEEEEEEEEEEEEEEEEEEEEEEEEEEEEEEEEEEEEEEEEEEEEEEEEEEEEEEEEEEEEEEEEEEEEEEEEEEEEEEEEEEEEEEEEEEEEEEEEEEEEEEEEEEEEEEE\n",
      "CCOC1=CC=C(NC(=O)C(C)O)C=C1EEEEEEEEEEEEEEEEEEEEEEEEEEEEEEEEEEEEEEEEEEEEEEEEEEEEEEEEEEEEEEEEEEEEEEEEEEEEEEEEEEEEEEEEEEEEEEEEEEEEEEEEEEEEEEEEEEEEEEEEEEEEEEEEEEEEEEEEEEEEEEEEEEEEEEEEEEEEEEEEEEEEEEEEEEEEEEEEEEEEEEEEEEEEEEEEEEEEEEEEEEEEEEEEEEEEEEEEEEEEEEEEEEEEEEEEEEEEEEEEE CC1C1=CC=CCCC1=O)C1=)CCC(C1EEEEEEEEEEEEEEEEEEEEEEEEEEEEEEEEEEEEEEEEEEEEEEEEEEEEEEEEEEEEEEEEEEEEEEEEEEEEEEEEEEEEEEEEEEEEEEEEEEEEEEEEEEEEEEEEEEEEEEEEEEEEEEEEEEEEEEEEEEEEEEEEEEEEEEEEEEEEEEEEEEEEEEEEEEEEEEEEEEEEEEEEEEEEEEEEEEEEEEEEEEEEEEEEEEEEEEEEEEEEEEEEEEEEEEEEEEEEEEEEE\n",
      "C[C@]12CC(=O)[C@H]3[C@@H](CCC4=CC(=O)C=C[C@]34C)[C@@H]1CC[C@]2(O)C(=O)COEEEEEEEEEEEEEEEEEEEEEEEEEEEEEEEEEEEEEEEEEEEEEEEEEEEEEEEEEEEEEEEEEEEEEEEEEEEEEEEEEEEEEEEEEEEEEEEEEEEEEEEEEEEEEEEEEEEEEEEEEEEEEEEEEEEEEEEEEEEEEEEEEEEEEEEEEEEEEEEEEEEEEEEEEEEEEEEEEEEEEEEEEEEEEEEEEEEE CCC@@12CCCCO)CC@@](CC@HH](CCC=CCC==O)CCC1C@@((C)[C@@H](O[(C@H((C)[COO)CCCEEEEEEEEEEEEEEEEEEEEEEEEEEEEEEEEEEEEEEEEEEEEEEEEEEEEEEEEEEEEEEEEEEEEEEEEEEEEEEEEEEEEEEEEEEEEEEEEEEEEEEEEEEEEEEEEEEEEEEEEEEEEEEEEEEEEEEEEEEEEEEEEEEEEEEEEEEEEEEEEEEEEEEEEEEEEEEEEEEEEEEEEEEEEEEEEEEE\n",
      "C[C@@]12CCC[C@](C)(C1CC[C@@]13CC(=C)[C@](C1)(CCC23)O[C@@H]1O[C@H](CO)[C@@H](O)[C@H](O[C@@H]2O[C@H](CO)[C@@H](O)[C@H](O)[C@H]2O)[C@H]1O[C@@H]1O[C@H](CO)[C@@H](O)[C@H](O)[C@H]1O)C(=O)O[C@@H]1O[C@H](CO)[C@@H](O)[C@H](O)[C@H]1OEEEEEEEEEEEEEEEEEEEEEEEEEEEEEEEEEEEEEEEEEEEEE CCC@@H(2CCCCC@](CC(CCCCCC@@](3CC(CC)CC@@(C))CCC22))C[C@@H](O[C@H](CO)[C@@H](O)[C@H](O)C@@H]1O[C@H](OO)[C@@H](O)[C@H](O)[C@H]1O)[C@H]1O[C@@H](O[C@H](CO)[C@@H](O)[C@H](O)[C@H]1OE[(=O)O[C@@H]1O[C@H](CO)[C@@H](O)[C@H](O)[C@H]1OEEEEEEEEEEEEEEEEEEEEEEEEEEEEEEEEEEEEEEEEEEEEE\n",
      "CN1C=CC(=O)C(O)=C1CEEEEEEEEEEEEEEEEEEEEEEEEEEEEEEEEEEEEEEEEEEEEEEEEEEEEEEEEEEEEEEEEEEEEEEEEEEEEEEEEEEEEEEEEEEEEEEEEEEEEEEEEEEEEEEEEEEEEEEEEEEEEEEEEEEEEEEEEEEEEEEEEEEEEEEEEEEEEEEEEEEEEEEEEEEEEEEEEEEEEEEEEEEEEEEEEEEEEEEEEEEEEEEEEEEEEEEEEEEEEEEEEEEEEEEEEEEEEEEEEEEEEEEEEE CCC=CCC=CO)C(=)CC1E(EEEEEEEEEEEEEEEEEEEEEEEEEEEEEEEEEEEEEEEEEEEEEEEEEEEEEEEEEEEEEEEEEEEEEEEEEEEEEEEEEEEEEEEEEEEEEEEEEEEEEEEEEEEEEEEEEEEEEEEEEEEEEEEEEEEEEEEEEEEEEEEEEEEEEEEEEEEEEEEEEEEEEEEEEEEEEEEEEEEEEEEEEEEEEEEEEEEEEEEEEEEEEEEEEEEEEEEEEEEEEEEEEEEEEEEEEEEEEEEEEEEEEEEE\n",
      "CC(C)CCOC(C)=OEEEEEEEEEEEEEEEEEEEEEEEEEEEEEEEEEEEEEEEEEEEEEEEEEEEEEEEEEEEEEEEEEEEEEEEEEEEEEEEEEEEEEEEEEEEEEEEEEEEEEEEEEEEEEEEEEEEEEEEEEEEEEEEEEEEEEEEEEEEEEEEEEEEEEEEEEEEEEEEEEEEEEEEEEEEEEEEEEEEEEEEEEEEEEEEEEEEEEEEEEEEEEEEEEEEEEEEEEEEEEEEEEEEEEEEEEEEEEEEEEEEEEEEEEEEEEE CCCC)CCCC(C)CCCEEEEEEEEEEEEEEEEEEEEEEEEEEEEEEEEEEEEEEEEEEEEEEEEEEEEEEEEEEEEEEEEEEEEEEEEEEEEEEEEEEEEEEEEEEEEEEEEEEEEEEEEEEEEEEEEEEEEEEEEEEEEEEEEEEEEEEEEEEEEEEEEEEEEEEEEEEEEEEEEEEEEEEEEEEEEEEEEEEEEEEEEEEEEEEEEEEEEEEEEEEEEEEEEEEEEEEEEEEEEEEEEEEEEEEEEEEEEEEEEEEEEEEEEEEEEE\n",
      "CC(C)CCOC(=O)C1=CC=CC=C1OEEEEEEEEEEEEEEEEEEEEEEEEEEEEEEEEEEEEEEEEEEEEEEEEEEEEEEEEEEEEEEEEEEEEEEEEEEEEEEEEEEEEEEEEEEEEEEEEEEEEEEEEEEEEEEEEEEEEEEEEEEEEEEEEEEEEEEEEEEEEEEEEEEEEEEEEEEEEEEEEEEEEEEEEEEEEEEEEEEEEEEEEEEEEEEEEEEEEEEEEEEEEEEEEEEEEEEEEEEEEEEEEEEEEEEEEEEEEEEEEEEE CCCC)CCCC(CO)C(=CC=CC=C1EEEEEEEEEEEEEEEEEEEEEEEEEEEEEEEEEEEEEEEEEEEEEEEEEEEEEEEEEEEEEEEEEEEEEEEEEEEEEEEEEEEEEEEEEEEEEEEEEEEEEEEEEEEEEEEEEEEEEEEEEEEEEEEEEEEEEEEEEEEEEEEEEEEEEEEEEEEEEEEEEEEEEEEEEEEEEEEEEEEEEEEEEEEEEEEEEEEEEEEEEEEEEEEEEEEEEEEEEEEEEEEEEEEEEEEEEEEEEEEEEEEE\n",
      "CC1=CC(=O)NC(=S)N1EEEEEEEEEEEEEEEEEEEEEEEEEEEEEEEEEEEEEEEEEEEEEEEEEEEEEEEEEEEEEEEEEEEEEEEEEEEEEEEEEEEEEEEEEEEEEEEEEEEEEEEEEEEEEEEEEEEEEEEEEEEEEEEEEEEEEEEEEEEEEEEEEEEEEEEEEEEEEEEEEEEEEEEEEEEEEEEEEEEEEEEEEEEEEEEEEEEEEEEEEEEEEEEEEEEEEEEEEEEEEEEEEEEEEEEEEEEEEEEEEEEEEEEEEE CC1=CC==O)CC(=O)N(EEEEEEEEEEEEEEEEEEEEEEEEEEEEEEEEEEEEEEEEEEEEEEEEEEEEEEEEEEEEEEEEEEEEEEEEEEEEEEEEEEEEEEEEEEEEEEEEEEEEEEEEEEEEEEEEEEEEEEEEEEEEEEEEEEEEEEEEEEEEEEEEEEEEEEEEEEEEEEEEEEEEEEEEEEEEEEEEEEEEEEEEEEEEEEEEEEEEEEEEEEEEEEEEEEEEEEEEEEEEEEEEEEEEEEEEEEEEEEEEEEEEEEEEEE\n",
      "C[C@@H](O)[C@H](O)[C@H](O)[C@H](O)COEEEEEEEEEEEEEEEEEEEEEEEEEEEEEEEEEEEEEEEEEEEEEEEEEEEEEEEEEEEEEEEEEEEEEEEEEEEEEEEEEEEEEEEEEEEEEEEEEEEEEEEEEEEEEEEEEEEEEEEEEEEEEEEEEEEEEEEEEEEEEEEEEEEEEEEEEEEEEEEEEEEEEEEEEEEEEEEEEEEEEEEEEEEEEEEEEEEEEEEEEEEEEEEEEEEEEEEEEEEEEEEEEEEEEEEE CCC@@H](O)[C@@](O)[C@@](O)[C@H](O)[OEEEEEEEEEEEEEEEEEEEEEEEEEEEEEEEEEEEEEEEEEEEEEEEEEEEEEEEEEEEEEEEEEEEEEEEEEEEEEEEEEEEEEEEEEEEEEEEEEEEEEEEEEEEEEEEEEEEEEEEEEEEEEEEEEEEEEEEEEEEEEEEEEEEEEEEEEEEEEEEEEEEEEEEEEEEEEEEEEEEEEEEEEEEEEEEEEEEEEEEEEEEEEEEEEEEEEEEEEEEEEEEEEEEEEEEE\n",
      "O=C(CCNNC(=O)C1=CC=NC=C1)NCC1=CC=CC=C1EEEEEEEEEEEEEEEEEEEEEEEEEEEEEEEEEEEEEEEEEEEEEEEEEEEEEEEEEEEEEEEEEEEEEEEEEEEEEEEEEEEEEEEEEEEEEEEEEEEEEEEEEEEEEEEEEEEEEEEEEEEEEEEEEEEEEEEEEEEEEEEEEEEEEEEEEEEEEEEEEEEEEEEEEEEEEEEEEEEEEEEEEEEEEEEEEEEEEEEEEEEEEEEEEEEEEEEEEEEEEEEEEEEEEE CCC1C)CC((=O)C1=CC=CC1C1ECC(=ECE=CC=C1EEEEEEEEEEEEEEEEEEEEEEEEEEEEEEEEEEEEEEEEEEEEEEEEEEEEEEEEEEEEEEEEEEEEEEEEEEEEEEEEEEEEEEEEEEEEEEEEEEEEEEEEEEEEEEEEEEEEEEEEEEEEEEEEEEEEEEEEEEEEEEEEEEEEEEEEEEEEEEEEEEEEEEEEEEEEEEEEEEEEEEEEEEEEEEEEEEEEEEEEEEEEEEEEEEEEEEEEEEEEEEEEEEEEEE\n",
      "NC1=C2C=CC=CC2=[NH+]C2=C1CCCC2EEEEEEEEEEEEEEEEEEEEEEEEEEEEEEEEEEEEEEEEEEEEEEEEEEEEEEEEEEEEEEEEEEEEEEEEEEEEEEEEEEEEEEEEEEEEEEEEEEEEEEEEEEEEEEEEEEEEEEEEEEEEEEEEEEEEEEEEEEEEEEEEEEEEEEEEEEEEEEEEEEEEEEEEEEEEEEEEEEEEEEEEEEEEEEEEEEEEEEEEEEEEEEEEEEEEEEEEEEEEEEEEEEEEEEEEEEEEEE CC1=CC=CCC=C1CCCCH+](CCCCEE====EEEEEEEEEEEEEEEEEEEEEEEEEEEEEEEEEEEEEEEEEEEEEEEEEEEEEEEEEEEEEEEEEEEEEEEEEEEEEEEEEEEEEEEEEEEEEEEEEEEEEEEEEEEEEEEEEEEEEEEEEEEEEEEEEEEEEEEEEEEEEEEEEEEEEEEEEEEEEEEEEEEEEEEEEEEEEEEEEEEEEEEEEEEEEEEEEEEEEEEEEEEEEEEEEEEEEEEEEEEEEEEEEEEEEEEEEEEEE\n"
     ]
    },
    {
     "name": "stdout",
     "output_type": "stream",
     "text": [
      "CC(C[NH+]1CCOCC1)C(C(=O)N1CCCC1)(C1=CC=CC=C1)C1=CC=CC=C1EEEEEEEEEEEEEEEEEEEEEEEEEEEEEEEEEEEEEEEEEEEEEEEEEEEEEEEEEEEEEEEEEEEEEEEEEEEEEEEEEEEEEEEEEEEEEEEEEEEEEEEEEEEEEEEEEEEEEEEEEEEEEEEEEEEEEEEEEEEEEEEEEEEEEEEEEEEEEEEEEEEEEEEEEEEEEEEEEEEEEEEEEEEEEEEEEEEEEEEEEEEEEEEEEEEE CCCC)CH+]CCCCC(=CC(CCCO)CC=C====CCC)CCCCC=C1EC(=CE=CC=C1EEEEEEEEEEEEEEEEEEEEEEEEEEEEEEEEEEEEEEEEEEEEEEEEEEEEEEEEEEEEEEEEEEEEEEEEEEEEEEEEEEEEEEEEEEEEEEEEEEEEEEEEEEEEEEEEEEEEEEEEEEEEEEEEEEEEEEEEEEEEEEEEEEEEEEEEEEEEEEEEEEEEEEEEEEEEEEEEEEEEEEEEEEEEEEEEEEEEEEEEEEEEEEEEEEEE\n",
      "OC[C@H](O)[C@H](O)[C@H](O)[C@H](O)COEEEEEEEEEEEEEEEEEEEEEEEEEEEEEEEEEEEEEEEEEEEEEEEEEEEEEEEEEEEEEEEEEEEEEEEEEEEEEEEEEEEEEEEEEEEEEEEEEEEEEEEEEEEEEEEEEEEEEEEEEEEEEEEEEEEEEEEEEEEEEEEEEEEEEEEEEEEEEEEEEEEEEEEEEEEEEEEEEEEEEEEEEEEEEEEEEEEEEEEEEEEEEEEEEEEEEEEEEEEEEEEEEEEEEEEE CC[C@H]1O)[C@@](O)[C@H](O)[C@H](O)[OEEEEEEEEEEEEEEEEEEEEEEEEEEEEEEEEEEEEEEEEEEEEEEEEEEEEEEEEEEEEEEEEEEEEEEEEEEEEEEEEEEEEEEEEEEEEEEEEEEEEEEEEEEEEEEEEEEEEEEEEEEEEEEEEEEEEEEEEEEEEEEEEEEEEEEEEEEEEEEEEEEEEEEEEEEEEEEEEEEEEEEEEEEEEEEEEEEEEEEEEEEEEEEEEEEEEEEEEEEEEEEEEEEEEEEEE\n",
      "C[C@@]12CCC[C@](C)(C1CC[C@@]13CC(=C)[C@](C1)(CCC23)O[C@@H]1O[C@H](CO)[C@@H](O)[C@H](O)[C@@H]1O[C@@H]1O[C@H](CO)[C@@H](O)[C@H](O)[C@H]1O)C(=O)O[C@@H]1O[C@H](CO)[C@@H](O)[C@H](O)[C@@H]1O[C@@H]1O[C@H](CO)[C@@H](O)[C@H](O)[C@H]1OEEEEEEEEEEEEEEEEEEEEEEEEEEEEEEEEEEEEEEEEEEE CCC@@H(2CCCCC@](CC(CCCCCC@@](3CC(CC)CC@@(C))CCC22))C[C@@H](O[C@H](CO)[C@@H](O)[C@H](O)[C@HH]1OEC@@H](O[C@H](CO)[C@@H](O)[C@H](O)[C@H]1OE[(=O)O[C@@H]1O[C@H](CO)[C@@H](O)[C@H](O)[C@HH]1OEC@@H](O[C@H](CO)[C@@H](O)[C@H](O)[C@H]1OEEEEEEEEEEEEEEEEEEEEEEEEEEEEEEEEEEEEEEEEEEE\n",
      "CC[NH+](CCO)CCCC(C)NC1=C2C=CC(Cl)=CC2=[NH+]C=C1EEEEEEEEEEEEEEEEEEEEEEEEEEEEEEEEEEEEEEEEEEEEEEEEEEEEEEEEEEEEEEEEEEEEEEEEEEEEEEEEEEEEEEEEEEEEEEEEEEEEEEEEEEEEEEEEEEEEEEEEEEEEEEEEEEEEEEEEEEEEEEEEEEEEEEEEEEEEEEEEEEEEEEEEEEEEEEEEEEEEEEEEEEEEEEEEEEEEEEEEEEEEEEEEEEEEEEEEEEEEE CCCCH+](C)))C(CCCC)CC(ECC=CCC=C))CC1==CNH+](CC1EEEEEEEEEEEEEEEEEEEEEEEEEEEEEEEEEEEEEEEEEEEEEEEEEEEEEEEEEEEEEEEEEEEEEEEEEEEEEEEEEEEEEEEEEEEEEEEEEEEEEEEEEEEEEEEEEEEEEEEEEEEEEEEEEEEEEEEEEEEEEEEEEEEEEEEEEEEEEEEEEEEEEEEEEEEEEEEEEEEEEEEEEEEEEEEEEEEEEEEEEEEEEEEEEEEEEEEEEEEEE\n",
      "CN1C2=C(NC=N2)C(=O)N(C)C1=OEEEEEEEEEEEEEEEEEEEEEEEEEEEEEEEEEEEEEEEEEEEEEEEEEEEEEEEEEEEEEEEEEEEEEEEEEEEEEEEEEEEEEEEEEEEEEEEEEEEEEEEEEEEEEEEEEEEEEEEEEEEEEEEEEEEEEEEEEEEEEEEEEEEEEEEEEEEEEEEEEEEEEEEEEEEEEEEEEEEEEEEEEEEEEEEEEEEEEEEEEEEEEEEEEEEEEEEEEEEEEEEEEEEEEEEEEEEEEEEEE CCC=C=CCCC(CCCC(=O)CCCC=(=CEEEEEEEEEEEEEEEEEEEEEEEEEEEEEEEEEEEEEEEEEEEEEEEEEEEEEEEEEEEEEEEEEEEEEEEEEEEEEEEEEEEEEEEEEEEEEEEEEEEEEEEEEEEEEEEEEEEEEEEEEEEEEEEEEEEEEEEEEEEEEEEEEEEEEEEEEEEEEEEEEEEEEEEEEEEEEEEEEEEEEEEEEEEEEEEEEEEEEEEEEEEEEEEEEEEEEEEEEEEEEEEEEEEEEEEEEEEEEEEEE\n",
      "CC1CCCC(C)[NH2+]1EEEEEEEEEEEEEEEEEEEEEEEEEEEEEEEEEEEEEEEEEEEEEEEEEEEEEEEEEEEEEEEEEEEEEEEEEEEEEEEEEEEEEEEEEEEEEEEEEEEEEEEEEEEEEEEEEEEEEEEEEEEEEEEEEEEEEEEEEEEEEEEEEEEEEEEEEEEEEEEEEEEEEEEEEEEEEEEEEEEEEEEEEEEEEEEEEEEEEEEEEEEEEEEEEEEEEEEEEEEEEEEEEEEEEEEEEEEEEEEEEEEEEEEEEEE CCCCCCCCC)CCH++]CCCEEEEEEEEEEEEEEEEEEEEEEEEEEEEEEEEEEEEEEEEEEEEEEEEEEEEEEEEEEEEEEEEEEEEEEEEEEEEEEEEEEEEEEEEEEEEEEEEEEEEEEEEEEEEEEEEEEEEEEEEEEEEEEEEEEEEEEEEEEEEEEEEEEEEEEEEEEEEEEEEEEEEEEEEEEEEEEEEEEEEEEEEEEEEEEEEEEEEEEEEEEEEEEEEEEEEEEEEEEEEEEEEEEEEEEEEEEEEEEEEEEEEEEEEE\n",
      "CCCCCN1C(=O)C2=CC=C(C=C2S1(=O)=O)N(=O)=OEEEEEEEEEEEEEEEEEEEEEEEEEEEEEEEEEEEEEEEEEEEEEEEEEEEEEEEEEEEEEEEEEEEEEEEEEEEEEEEEEEEEEEEEEEEEEEEEEEEEEEEEEEEEEEEEEEEEEEEEEEEEEEEEEEEEEEEEEEEEEEEEEEEEEEEEEEEEEEEEEEEEEEEEEEEEEEEEEEEEEEEEEEEEEEEEEEEEEEEEEEEEEEEEEEEEEEEEEEEEEEEEEEEE CCC(C(CC(CO)C(=CC=CCC)C))1E=O)=O)C(=O)=OEEEEEEEEEEEEEEEEEEEEEEEEEEEEEEEEEEEEEEEEEEEEEEEEEEEEEEEEEEEEEEEEEEEEEEEEEEEEEEEEEEEEEEEEEEEEEEEEEEEEEEEEEEEEEEEEEEEEEEEEEEEEEEEEEEEEEEEEEEEEEEEEEEEEEEEEEEEEEEEEEEEEEEEEEEEEEEEEEEEEEEEEEEEEEEEEEEEEEEEEEEEEEEEEEEEEEEEEEEEEEEEEEEEE\n",
      "CC1=CC=CC=N1EEEEEEEEEEEEEEEEEEEEEEEEEEEEEEEEEEEEEEEEEEEEEEEEEEEEEEEEEEEEEEEEEEEEEEEEEEEEEEEEEEEEEEEEEEEEEEEEEEEEEEEEEEEEEEEEEEEEEEEEEEEEEEEEEEEEEEEEEEEEEEEEEEEEEEEEEEEEEEEEEEEEEEEEEEEEEEEEEEEEEEEEEEEEEEEEEEEEEEEEEEEEEEEEEEEEEEEEEEEEEEEEEEEEEEEEEEEEEEEEEEEEEEEEEEEEEEEE CC1=CC=CC=CCEEEEEEEEEEEEEEEEEEEEEEEEEEEEEEEEEEEEEEEEEEEEEEEEEEEEEEEEEEEEEEEEEEEEEEEEEEEEEEEEEEEEEEEEEEEEEEEEEEEEEEEEEEEEEEEEEEEEEEEEEEEEEEEEEEEEEEEEEEEEEEEEEEEEEEEEEEEEEEEEEEEEEEEEEEEEEEEEEEEEEEEEEEEEEEEEEEEEEEEEEEEEEEEEEEEEEEEEEEEEEEEEEEEEEEEEEEEEEEEEEEEEEEEEEEEEEEEE\n",
      "COC(=O)C[C@H]([NH3+])C(=O)N[C@H](CC1=CC=CC=C1)C(=O)OCEEEEEEEEEEEEEEEEEEEEEEEEEEEEEEEEEEEEEEEEEEEEEEEEEEEEEEEEEEEEEEEEEEEEEEEEEEEEEEEEEEEEEEEEEEEEEEEEEEEEEEEEEEEEEEEEEEEEEEEEEEEEEEEEEEEEEEEEEEEEEEEEEEEEEEEEEEEEEEEEEEEEEEEEEEEEEEEEEEEEEEEEEEEEEEEEEEEEEEEEEEEEEEEEEEEEEEE CCC(CO)C(C@H](CCH++])CCCO)CCN@H]1C)1=CC=CC=C1)C(=O)C[(EEEEEEEEEEEEEEEEEEEEEEEEEEEEEEEEEEEEEEEEEEEEEEEEEEEEEEEEEEEEEEEEEEEEEEEEEEEEEEEEEEEEEEEEEEEEEEEEEEEEEEEEEEEEEEEEEEEEEEEEEEEEEEEEEEEEEEEEEEEEEEEEEEEEEEEEEEEEEEEEEEEEEEEEEEEEEEEEEEEEEEEEEEEEEEEEEEEEEEEEEEEEEEEEEEEEEE\n",
      "CCOC(=O)CC1=CC=CC=C1EEEEEEEEEEEEEEEEEEEEEEEEEEEEEEEEEEEEEEEEEEEEEEEEEEEEEEEEEEEEEEEEEEEEEEEEEEEEEEEEEEEEEEEEEEEEEEEEEEEEEEEEEEEEEEEEEEEEEEEEEEEEEEEEEEEEEEEEEEEEEEEEEEEEEEEEEEEEEEEEEEEEEEEEEEEEEEEEEEEEEEEEEEEEEEEEEEEEEEEEEEEEEEEEEEEEEEEEEEEEEEEEEEEEEEEEEEEEEEEEEEEEEEEE CCCC(CO)C((CCC=CC=C1EEEEEEEEEEEEEEEEEEEEEEEEEEEEEEEEEEEEEEEEEEEEEEEEEEEEEEEEEEEEEEEEEEEEEEEEEEEEEEEEEEEEEEEEEEEEEEEEEEEEEEEEEEEEEEEEEEEEEEEEEEEEEEEEEEEEEEEEEEEEEEEEEEEEEEEEEEEEEEEEEEEEEEEEEEEEEEEEEEEEEEEEEEEEEEEEEEEEEEEEEEEEEEEEEEEEEEEEEEEEEEEEEEEEEEEEEEEEEEEEEEEEEEEE\n",
      "CCCC1CC([NH+](C)C1)C(=O)NC(C(C)O)C1OC(SC)C(O)C(O)C1OEEEEEEEEEEEEEEEEEEEEEEEEEEEEEEEEEEEEEEEEEEEEEEEEEEEEEEEEEEEEEEEEEEEEEEEEEEEEEEEEEEEEEEEEEEEEEEEEEEEEEEEEEEEEEEEEEEEEEEEEEEEEEEEEEEEEEEEEEEEEEEEEEEEEEEEEEEEEEEEEEEEEEEEEEEEEEEEEEEEEEEEEEEEEEEEEEEEEEEEEEEEEEEEEEEEEEEEE CCC(CCCCCOH+](C)CCCCCCO)CC(=)=)C)C(=E(OC(C(O)C(O)C(OEEEEEEEEEEEEEEEEEEEEEEEEEEEEEEEEEEEEEEEEEEEEEEEEEEEEEEEEEEEEEEEEEEEEEEEEEEEEEEEEEEEEEEEEEEEEEEEEEEEEEEEEEEEEEEEEEEEEEEEEEEEEEEEEEEEEEEEEEEEEEEEEEEEEEEEEEEEEEEEEEEEEEEEEEEEEEEEEEEEEEEEEEEEEEEEEEEEEEEEEEEEEEEEEEEEEEEEE\n",
      "CCOCC1=C(O)C(C([O-])=O)=C(C)C2=C1OC(=O)C1=C(C)C=C([O-])C(C=O)=C1O2EEEEEEEEEEEEEEEEEEEEEEEEEEEEEEEEEEEEEEEEEEEEEEEEEEEEEEEEEEEEEEEEEEEEEEEEEEEEEEEEEEEEEEEEEEEEEEEEEEEEEEEEEEEEEEEEEEEEEEEEEEEEEEEEEEEEEEEEEEEEEEEEEEEEEEEEEEEEEEEEEEEEEEEEEEEEEEEEEEEEEEEEEEEEEEEEEEEEEEEEEE CCCC((CCCC)C(C)OO-])=O)CC(CCC(=CC=C(=O)C(=CCCC=(C1OO-])=(=)O)CO1=EEEEEEEEEEEEEEEEEEEEEEEEEEEEEEEEEEEEEEEEEEEEEEEEEEEEEEEEEEEEEEEEEEEEEEEEEEEEEEEEEEEEEEEEEEEEEEEEEEEEEEEEEEEEEEEEEEEEEEEEEEEEEEEEEEEEEEEEEEEEEEEEEEEEEEEEEEEEEEEEEEEEEEEEEEEEEEEEEEEEEEEEEEEEEEEEEEEEEEEEEEE\n",
      "CCC(C)C(=O)OC1CC(C)CCC1C(C)CEEEEEEEEEEEEEEEEEEEEEEEEEEEEEEEEEEEEEEEEEEEEEEEEEEEEEEEEEEEEEEEEEEEEEEEEEEEEEEEEEEEEEEEEEEEEEEEEEEEEEEEEEEEEEEEEEEEEEEEEEEEEEEEEEEEEEEEEEEEEEEEEEEEEEEEEEEEEEEEEEEEEEEEEEEEEEEEEEEEEEEEEEEEEEEEEEEEEEEEEEEEEEEEEEEEEEEEEEEEEEEEEEEEEEEEEEEEEEEEE CCC(C)CCCO)CC(=CCC)C(((E(COCCEEEEEEEEEEEEEEEEEEEEEEEEEEEEEEEEEEEEEEEEEEEEEEEEEEEEEEEEEEEEEEEEEEEEEEEEEEEEEEEEEEEEEEEEEEEEEEEEEEEEEEEEEEEEEEEEEEEEEEEEEEEEEEEEEEEEEEEEEEEEEEEEEEEEEEEEEEEEEEEEEEEEEEEEEEEEEEEEEEEEEEEEEEEEEEEEEEEEEEEEEEEEEEEEEEEEEEEEEEEEEEEEEEEEEEEEEEEEEEE\n",
      "C[Sn](C)(C)N1C(=O)C2=CC=CC=C2S1(=O)=OEEEEEEEEEEEEEEEEEEEEEEEEEEEEEEEEEEEEEEEEEEEEEEEEEEEEEEEEEEEEEEEEEEEEEEEEEEEEEEEEEEEEEEEEEEEEEEEEEEEEEEEEEEEEEEEEEEEEEEEEEEEEEEEEEEEEEEEEEEEEEEEEEEEEEEEEEEEEEEEEEEEEEEEEEEEEEEEEEEEEEEEEEEEEEEEEEEEEEEEEEEEEEEEEEEEEEEEEEEEEEEEEEEEEEEE CCC@@(C)CC)CC(C=O)C==CC=C1=C1=1EOO)=OEEEEEEEEEEEEEEEEEEEEEEEEEEEEEEEEEEEEEEEEEEEEEEEEEEEEEEEEEEEEEEEEEEEEEEEEEEEEEEEEEEEEEEEEEEEEEEEEEEEEEEEEEEEEEEEEEEEEEEEEEEEEEEEEEEEEEEEEEEEEEEEEEEEEEEEEEEEEEEEEEEEEEEEEEEEEEEEEEEEEEEEEEEEEEEEEEEEEEEEEEEEEEEEEEEEEEEEEEEEEEEEEEEEEEEE\n",
      "OCCN(CCO)C1=NC(N2CCCCC2)=C2N=C(N=C(N3CCCCC3)C2=N1)N(CCO)CCOEEEEEEEEEEEEEEEEEEEEEEEEEEEEEEEEEEEEEEEEEEEEEEEEEEEEEEEEEEEEEEEEEEEEEEEEEEEEEEEEEEEEEEEEEEEEEEEEEEEEEEEEEEEEEEEEEEEEEEEEEEEEEEEEEEEEEEEEEEEEEEEEEEEEEEEEEEEEEEEEEEEEEEEEEEEEEEEEEEEEEEEEEEEEEEEEEEEEEEEEEEEEEEEEE CC[(CC)))C(CCC(=))C==((CCC1CCC(=CC1=))=====CC1=CCECC===CC(=CEEEEEEEEEEEEEEEEEEEEEEEEEEEEEEEEEEEEEEEEEEEEEEEEEEEEEEEEEEEEEEEEEEEEEEEEEEEEEEEEEEEEEEEEEEEEEEEEEEEEEEEEEEEEEEEEEEEEEEEEEEEEEEEEEEEEEEEEEEEEEEEEEEEEEEEEEEEEEEEEEEEEEEEEEEEEEEEEEEEEEEEEEEEEEEEEEEEEEEEEEEEEEEEE\n",
      "CN1C2=C(NC=N2)C(=O)N(C)C1=OEEEEEEEEEEEEEEEEEEEEEEEEEEEEEEEEEEEEEEEEEEEEEEEEEEEEEEEEEEEEEEEEEEEEEEEEEEEEEEEEEEEEEEEEEEEEEEEEEEEEEEEEEEEEEEEEEEEEEEEEEEEEEEEEEEEEEEEEEEEEEEEEEEEEEEEEEEEEEEEEEEEEEEEEEEEEEEEEEEEEEEEEEEEEEEEEEEEEEEEEEEEEEEEEEEEEEEEEEEEEEEEEEEEEEEEEEEEEEEEEE CCC=C=CCCC(CCCC(=O)CCCC=(=CEEEEEEEEEEEEEEEEEEEEEEEEEEEEEEEEEEEEEEEEEEEEEEEEEEEEEEEEEEEEEEEEEEEEEEEEEEEEEEEEEEEEEEEEEEEEEEEEEEEEEEEEEEEEEEEEEEEEEEEEEEEEEEEEEEEEEEEEEEEEEEEEEEEEEEEEEEEEEEEEEEEEEEEEEEEEEEEEEEEEEEEEEEEEEEEEEEEEEEEEEEEEEEEEEEEEEEEEEEEEEEEEEEEEEEEEEEEEEEEEE\n"
     ]
    },
    {
     "name": "stdout",
     "output_type": "stream",
     "text": [
      "[NH3+][C@H](CC([O-])=O)C([O-])=OEEEEEEEEEEEEEEEEEEEEEEEEEEEEEEEEEEEEEEEEEEEEEEEEEEEEEEEEEEEEEEEEEEEEEEEEEEEEEEEEEEEEEEEEEEEEEEEEEEEEEEEEEEEEEEEEEEEEEEEEEEEEEEEEEEEEEEEEEEEEEEEEEEEEEEEEEEEEEEEEEEEEEEEEEEEEEEEEEEEEEEEEEEEEEEEEEEEEEEEEEEEEEEEEEEEEEEEEEEEEEEEEEEEEEEEEEEEE CCH++]CC@@](CCC=O-])=O)C(=O-])=OEEEEEEEEEEEEEEEEEEEEEEEEEEEEEEEEEEEEEEEEEEEEEEEEEEEEEEEEEEEEEEEEEEEEEEEEEEEEEEEEEEEEEEEEEEEEEEEEEEEEEEEEEEEEEEEEEEEEEEEEEEEEEEEEEEEEEEEEEEEEEEEEEEEEEEEEEEEEEEEEEEEEEEEEEEEEEEEEEEEEEEEEEEEEEEEEEEEEEEEEEEEEEEEEEEEEEEEEEEEEEEEEEEEEEEEEEEEE\n",
      "CC[NH+](CC)CCCC(C)NC1=C2C=CC(Cl)=CC2=[NH+]C=C1EEEEEEEEEEEEEEEEEEEEEEEEEEEEEEEEEEEEEEEEEEEEEEEEEEEEEEEEEEEEEEEEEEEEEEEEEEEEEEEEEEEEEEEEEEEEEEEEEEEEEEEEEEEEEEEEEEEEEEEEEEEEEEEEEEEEEEEEEEEEEEEEEEEEEEEEEEEEEEEEEEEEEEEEEEEEEEEEEEEEEEEEEEEEEEEEEEEEEEEEEEEEEEEEEEEEEEEEEEEEEE CCCCH+](C))CCCCCC)CC(=CC=CCC=C))CC1==CNH+](CC1EEEEEEEEEEEEEEEEEEEEEEEEEEEEEEEEEEEEEEEEEEEEEEEEEEEEEEEEEEEEEEEEEEEEEEEEEEEEEEEEEEEEEEEEEEEEEEEEEEEEEEEEEEEEEEEEEEEEEEEEEEEEEEEEEEEEEEEEEEEEEEEEEEEEEEEEEEEEEEEEEEEEEEEEEEEEEEEEEEEEEEEEEEEEEEEEEEEEEEEEEEEEEEEEEEEEEEEEEEEEEE\n",
      "C#NEEEEEEEEEEEEEEEEEEEEEEEEEEEEEEEEEEEEEEEEEEEEEEEEEEEEEEEEEEEEEEEEEEEEEEEEEEEEEEEEEEEEEEEEEEEEEEEEEEEEEEEEEEEEEEEEEEEEEEEEEEEEEEEEEEEEEEEEEEEEEEEEEEEEEEEEEEEEEEEEEEEEEEEEEEEEEEEEEEEEEEEEEEEEEEEEEEEEEEEEEEEEEEEEEEEEEEEEEEEEEEEEEEEEEEEEEEEEEEEEEEEEEEEEEEEEEEEEEEEEEEEEE CCCCCEEEEEEEEEEEEEEEEEEEEEEEEEEEEEEEEEEEEEEEEEEEEEEEEEEEEEEEEEEEEEEEEEEEEEEEEEEEEEEEEEEEEEEEEEEEEEEEEEEEEEEEEEEEEEEEEEEEEEEEEEEEEEEEEEEEEEEEEEEEEEEEEEEEEEEEEEEEEEEEEEEEEEEEEEEEEEEEEEEEEEEEEEEEEEEEEEEEEEEEEEEEEEEEEEEEEEEEEEEEEEEEEEEEEEEEEEEEEEEEEEEEEEEEEEEEEEEEEEEEEEEE\n",
      "O=C1CCCCCCC1EEEEEEEEEEEEEEEEEEEEEEEEEEEEEEEEEEEEEEEEEEEEEEEEEEEEEEEEEEEEEEEEEEEEEEEEEEEEEEEEEEEEEEEEEEEEEEEEEEEEEEEEEEEEEEEEEEEEEEEEEEEEEEEEEEEEEEEEEEEEEEEEEEEEEEEEEEEEEEEEEEEEEEEEEEEEEEEEEEEEEEEEEEEEEEEEEEEEEEEEEEEEEEEEEEEEEEEEEEEEEEEEEEEEEEEEEEEEEEEEEEEEEEEEEEEEEEEE CCC1=C====((=EEEEEEEEEEEEEEEEEEEEEEEEEEEEEEEEEEEEEEEEEEEEEEEEEEEEEEEEEEEEEEEEEEEEEEEEEEEEEEEEEEEEEEEEEEEEEEEEEEEEEEEEEEEEEEEEEEEEEEEEEEEEEEEEEEEEEEEEEEEEEEEEEEEEEEEEEEEEEEEEEEEEEEEEEEEEEEEEEEEEEEEEEEEEEEEEEEEEEEEEEEEEEEEEEEEEEEEEEEEEEEEEEEEEEEEEEEEEEEEEEEEEEEEEEEEEEEE\n",
      "OC[C@H]1O[C@H](O[C@H]2[C@@H](O)[C@H](O)[C@@H](O)O[C@H]2CO)[C@H](O)[C@@H](O)[C@@H]1OEEEEEEEEEEEEEEEEEEEEEEEEEEEEEEEEEEEEEEEEEEEEEEEEEEEEEEEEEEEEEEEEEEEEEEEEEEEEEEEEEEEEEEEEEEEEEEEEEEEEEEEEEEEEEEEEEEEEEEEEEEEEEEEEEEEEEEEEEEEEEEEEEEEEEEEEEEEEEEEEEEEEEEEEEEEEEEEEEEEEEEEEE CC[C@H]1O[C@H](O[C@H]([C@HH](O)[C@@](O)[C@@H](O)[[C@@](CO)[C@H](O)[C@@H](O)[C@HH]1OEEEEEEEEEEEEEEEEEEEEEEEEEEEEEEEEEEEEEEEEEEEEEEEEEEEEEEEEEEEEEEEEEEEEEEEEEEEEEEEEEEEEEEEEEEEEEEEEEEEEEEEEEEEEEEEEEEEEEEEEEEEEEEEEEEEEEEEEEEEEEEEEEEEEEEEEEEEEEEEEEEEEEEEEEEEEEEEEEEEEEEEEE\n",
      "O=C(OC1CC[NH+]2CC3CC(CN4C3CCCC4=O)C2C1)C=CC1=CC=CC=C1EEEEEEEEEEEEEEEEEEEEEEEEEEEEEEEEEEEEEEEEEEEEEEEEEEEEEEEEEEEEEEEEEEEEEEEEEEEEEEEEEEEEEEEEEEEEEEEEEEEEEEEEEEEEEEEEEEEEEEEEEEEEEEEEEEEEEEEEEEEEEEEEEEEEEEEEEEEEEEEEEEEEEEEEEEEEEEEEEEEEEEEEEEEEEEEEEEEEEEEEEEEEEEEEEEEEEEE CCC1C)C===NH+](CCCCC=C))CCCC(((CCCC(=(EC(CE=ECE=CC=C1=EEEEEEEEEEEEEEEEEEEEEEEEEEEEEEEEEEEEEEEEEEEEEEEEEEEEEEEEEEEEEEEEEEEEEEEEEEEEEEEEEEEEEEEEEEEEEEEEEEEEEEEEEEEEEEEEEEEEEEEEEEEEEEEEEEEEEEEEEEEEEEEEEEEEEEEEEEEEEEEEEEEEEEEEEEEEEEEEEEEEEEEEEEEEEEEEEEEEEEEEEEEEEEEEEEEEEE\n",
      "CC[C@H](C)C(=O)C1=C([O-])[C@](O)([C@H](CC=C(C)C)C1=O)C(=O)CC=C(C)CEEEEEEEEEEEEEEEEEEEEEEEEEEEEEEEEEEEEEEEEEEEEEEEEEEEEEEEEEEEEEEEEEEEEEEEEEEEEEEEEEEEEEEEEEEEEEEEEEEEEEEEEEEEEEEEEEEEEEEEEEEEEEEEEEEEEEEEEEEEEEEEEEEEEEEEEEEEEEEEEEEEEEEEEEEEEEEEEEEEEEEEEEEEEEEEEEEEEEEEEEE CCCC@@](CCCCCO)CC=CCCO-])=C@H(O)(=C@H](C))C)O)C1C1=CEC(=O)C(=C1O)C(EEEEEEEEEEEEEEEEEEEEEEEEEEEEEEEEEEEEEEEEEEEEEEEEEEEEEEEEEEEEEEEEEEEEEEEEEEEEEEEEEEEEEEEEEEEEEEEEEEEEEEEEEEEEEEEEEEEEEEEEEEEEEEEEEEEEEEEEEEEEEEEEEEEEEEEEEEEEEEEEEEEEEEEEEEEEEEEEEEEEEEEEEEEEEEEEEEEEEEEEE\n",
      "CN1C(=O)C=CC2=CC=CC=C12EEEEEEEEEEEEEEEEEEEEEEEEEEEEEEEEEEEEEEEEEEEEEEEEEEEEEEEEEEEEEEEEEEEEEEEEEEEEEEEEEEEEEEEEEEEEEEEEEEEEEEEEEEEEEEEEEEEEEEEEEEEEEEEEEEEEEEEEEEEEEEEEEEEEEEEEEEEEEEEEEEEEEEEEEEEEEEEEEEEEEEEEEEEEEEEEEEEEEEEEEEEEEEEEEEEEEEEEEEEEEEEEEEEEEEEEEEEEEEEEEEEEE CCC=C=O)C(CCCCCC=C1=C1EEEEEEEEEEEEEEEEEEEEEEEEEEEEEEEEEEEEEEEEEEEEEEEEEEEEEEEEEEEEEEEEEEEEEEEEEEEEEEEEEEEEEEEEEEEEEEEEEEEEEEEEEEEEEEEEEEEEEEEEEEEEEEEEEEEEEEEEEEEEEEEEEEEEEEEEEEEEEEEEEEEEEEEEEEEEEEEEEEEEEEEEEEEEEEEEEEEEEEEEEEEEEEEEEEEEEEEEEEEEEEEEEEEEEEEEEEEEEEEEEEEEEE\n",
      "CC1(C(=O)NC(=O)NC1=O)C1=CC=CC=C1EEEEEEEEEEEEEEEEEEEEEEEEEEEEEEEEEEEEEEEEEEEEEEEEEEEEEEEEEEEEEEEEEEEEEEEEEEEEEEEEEEEEEEEEEEEEEEEEEEEEEEEEEEEEEEEEEEEEEEEEEEEEEEEEEEEEEEEEEEEEEEEEEEEEEEEEEEEEEEEEEEEEEEEEEEEEEEEEEEEEEEEEEEEEEEEEEEEEEEEEEEEEEEEEEEEEEEEEEEEEEEEEEEEEEEEEEEEE CC1=CC=O)CC(=O)C1(=CEC(=CC=CC=C1EEEEEEEEEEEEEEEEEEEEEEEEEEEEEEEEEEEEEEEEEEEEEEEEEEEEEEEEEEEEEEEEEEEEEEEEEEEEEEEEEEEEEEEEEEEEEEEEEEEEEEEEEEEEEEEEEEEEEEEEEEEEEEEEEEEEEEEEEEEEEEEEEEEEEEEEEEEEEEEEEEEEEEEEEEEEEEEEEEEEEEEEEEEEEEEEEEEEEEEEEEEEEEEEEEEEEEEEEEEEEEEEEEEEEEEEEEEE\n",
      "CC(C)OEEEEEEEEEEEEEEEEEEEEEEEEEEEEEEEEEEEEEEEEEEEEEEEEEEEEEEEEEEEEEEEEEEEEEEEEEEEEEEEEEEEEEEEEEEEEEEEEEEEEEEEEEEEEEEEEEEEEEEEEEEEEEEEEEEEEEEEEEEEEEEEEEEEEEEEEEEEEEEEEEEEEEEEEEEEEEEEEEEEEEEEEEEEEEEEEEEEEEEEEEEEEEEEEEEEEEEEEEEEEEEEEEEEEEEEEEEEEEEEEEEEEEEEEEEEEEEEEEEEEEE CCCC)CCEEEEEEEEEEEEEEEEEEEEEEEEEEEEEEEEEEEEEEEEEEEEEEEEEEEEEEEEEEEEEEEEEEEEEEEEEEEEEEEEEEEEEEEEEEEEEEEEEEEEEEEEEEEEEEEEEEEEEEEEEEEEEEEEEEEEEEEEEEEEEEEEEEEEEEEEEEEEEEEEEEEEEEEEEEEEEEEEEEEEEEEEEEEEEEEEEEEEEEEEEEEEEEEEEEEEEEEEEEEEEEEEEEEEEEEEEEEEEEEEEEEEEEEEEEEEEEEEEEEEE\n",
      "NC(=O)NN=CC1=CC=C(O1)N(=O)=OEEEEEEEEEEEEEEEEEEEEEEEEEEEEEEEEEEEEEEEEEEEEEEEEEEEEEEEEEEEEEEEEEEEEEEEEEEEEEEEEEEEEEEEEEEEEEEEEEEEEEEEEEEEEEEEEEEEEEEEEEEEEEEEEEEEEEEEEEEEEEEEEEEEEEEEEEEEEEEEEEEEEEEEEEEEEEEEEEEEEEEEEEEEEEEEEEEEEEEEEEEEEEEEEEEEEEEEEEEEEEEEEEEEEEEEEEEEEEEEE CC1=C)CC(C1==CC=C1C))CCCO)CC)EEEEEEEEEEEEEEEEEEEEEEEEEEEEEEEEEEEEEEEEEEEEEEEEEEEEEEEEEEEEEEEEEEEEEEEEEEEEEEEEEEEEEEEEEEEEEEEEEEEEEEEEEEEEEEEEEEEEEEEEEEEEEEEEEEEEEEEEEEEEEEEEEEEEEEEEEEEEEEEEEEEEEEEEEEEEEEEEEEEEEEEEEEEEEEEEEEEEEEEEEEEEEEEEEEEEEEEEEEEEEEEEEEEEEEEEEEEEEEE\n",
      "CC(=O)OCC1OC(COC(C)=O)(OC2OC(COC(C)=O)C(OC(C)=O)C(OC(C)=O)C2OC(C)=O)C(OC(C)=O)C1OC(C)=OEEEEEEEEEEEEEEEEEEEEEEEEEEEEEEEEEEEEEEEEEEEEEEEEEEEEEEEEEEEEEEEEEEEEEEEEEEEEEEEEEEEEEEEEEEEEEEEEEEEEEEEEEEEEEEEEEEEEEEEEEEEEEEEEEEEEEEEEEEEEEEEEEEEEEEEEEEEEEEEEEEEEEEEEEEEEEEEEEEEEE CCCCO)CC((CC(=C)(C)CCCCOC(OC(OO)(O)CCCC(O)(OOOO)C(O)2O)CO)C(=C(OOCCCC(O)(OOOOEC(OE(OOCOEEEEEEEEEEEEEEEEEEEEEEEEEEEEEEEEEEEEEEEEEEEEEEEEEEEEEEEEEEEEEEEEEEEEEEEEEEEEEEEEEEEEEEEEEEEEEEEEEEEEEEEEEEEEEEEEEEEEEEEEEEEEEEEEEEEEEEEEEEEEEEEEEEEEEEEEEEEEEEEEEEEEEEEEEEEEEEEEEEEEE\n",
      "O=C1[N-]S(=O)(=O)C2=C1C=CC=C2N(=O)=OEEEEEEEEEEEEEEEEEEEEEEEEEEEEEEEEEEEEEEEEEEEEEEEEEEEEEEEEEEEEEEEEEEEEEEEEEEEEEEEEEEEEEEEEEEEEEEEEEEEEEEEEEEEEEEEEEEEEEEEEEEEEEEEEEEEEEEEEEEEEEEEEEEEEEEEEEEEEEEEEEEEEEEEEEEEEEEEEEEEEEEEEEEEEEEEEEEEEEEEEEEEEEEEEEEEEEEEEEEEEEEEEEEEEEEEE CCC1=NH]=(=O)(=O)C(=CC=CCC=C1C1CO)CCEEEEEEEEEEEEEEEEEEEEEEEEEEEEEEEEEEEEEEEEEEEEEEEEEEEEEEEEEEEEEEEEEEEEEEEEEEEEEEEEEEEEEEEEEEEEEEEEEEEEEEEEEEEEEEEEEEEEEEEEEEEEEEEEEEEEEEEEEEEEEEEEEEEEEEEEEEEEEEEEEEEEEEEEEEEEEEEEEEEEEEEEEEEEEEEEEEEEEEEEEEEEEEEEEEEEEEEEEEEEEEEEEEEEEEEE\n",
      "CCC(Br)(CC)C(=O)NC(=O)NC(C)=OEEEEEEEEEEEEEEEEEEEEEEEEEEEEEEEEEEEEEEEEEEEEEEEEEEEEEEEEEEEEEEEEEEEEEEEEEEEEEEEEEEEEEEEEEEEEEEEEEEEEEEEEEEEEEEEEEEEEEEEEEEEEEEEEEEEEEEEEEEEEEEEEEEEEEEEEEEEEEEEEEEEEEEEEEEEEEEEEEEEEEEEEEEEEEEEEEEEEEEEEEEEEEEEEEEEEEEEEEEEEEEEEEEEEEEEEEEEEEEE CCC(C))CC)=C(=O)CC(=O)CC(=)=O)EEEEEEEEEEEEEEEEEEEEEEEEEEEEEEEEEEEEEEEEEEEEEEEEEEEEEEEEEEEEEEEEEEEEEEEEEEEEEEEEEEEEEEEEEEEEEEEEEEEEEEEEEEEEEEEEEEEEEEEEEEEEEEEEEEEEEEEEEEEEEEEEEEEEEEEEEEEEEEEEEEEEEEEEEEEEEEEEEEEEEEEEEEEEEEEEEEEEEEEEEEEEEEEEEEEEEEEEEEEEEEEEEEEEEEEEEEEEEE\n",
      "CCCCCCCCCC(=O)OCC(O)COEEEEEEEEEEEEEEEEEEEEEEEEEEEEEEEEEEEEEEEEEEEEEEEEEEEEEEEEEEEEEEEEEEEEEEEEEEEEEEEEEEEEEEEEEEEEEEEEEEEEEEEEEEEEEEEEEEEEEEEEEEEEEEEEEEEEEEEEEEEEEEEEEEEEEEEEEEEEEEEEEEEEEEEEEEEEEEEEEEEEEEEEEEEEEEEEEEEEEEEEEEEEEEEEEEEEEEEEEEEEEEEEEEEEEEEEEEEEEEEEEEEEEE CCC(C(CCCCCCO)CC(CC)C(CEEEEEEEEEEEEEEEEEEEEEEEEEEEEEEEEEEEEEEEEEEEEEEEEEEEEEEEEEEEEEEEEEEEEEEEEEEEEEEEEEEEEEEEEEEEEEEEEEEEEEEEEEEEEEEEEEEEEEEEEEEEEEEEEEEEEEEEEEEEEEEEEEEEEEEEEEEEEEEEEEEEEEEEEEEEEEEEEEEEEEEEEEEEEEEEEEEEEEEEEEEEEEEEEEEEEEEEEEEEEEEEEEEEEEEEEEEEEEEEEEEEEE\n",
      "O=C(CS(=O)CC1=CC=CO1)NCC=CCOC1=CC(C[NH+]2CCCCC2)=CC=N1EEEEEEEEEEEEEEEEEEEEEEEEEEEEEEEEEEEEEEEEEEEEEEEEEEEEEEEEEEEEEEEEEEEEEEEEEEEEEEEEEEEEEEEEEEEEEEEEEEEEEEEEEEEEEEEEEEEEEEEEEEEEEEEEEEEEEEEEEEEEEEEEEEEEEEEEEEEEEEEEEEEEEEEEEEEEEEEEEEEEEEEEEEEEEEEEEEEEEEEEEEEEEEEEEEEEEE CCC1C))=O)N===CC=C1CECC(=C1=EEECC==)CH+](CCC====CC(=CCEEEEEEEEEEEEEEEEEEEEEEEEEEEEEEEEEEEEEEEEEEEEEEEEEEEEEEEEEEEEEEEEEEEEEEEEEEEEEEEEEEEEEEEEEEEEEEEEEEEEEEEEEEEEEEEEEEEEEEEEEEEEEEEEEEEEEEEEEEEEEEEEEEEEEEEEEEEEEEEEEEEEEEEEEEEEEEEEEEEEEEEEEEEEEEEEEEEEEEEEEEEEEEEEEEEEEE\n",
      "CC(C)=CCCC(C)=CC=OEEEEEEEEEEEEEEEEEEEEEEEEEEEEEEEEEEEEEEEEEEEEEEEEEEEEEEEEEEEEEEEEEEEEEEEEEEEEEEEEEEEEEEEEEEEEEEEEEEEEEEEEEEEEEEEEEEEEEEEEEEEEEEEEEEEEEEEEEEEEEEEEEEEEEEEEEEEEEEEEEEEEEEEEEEEEEEEEEEEEEEEEEEEEEEEEEEEEEEEEEEEEEEEEEEEEEEEEEEEEEEEEEEEEEEEEEEEEEEEEEEEEEEEEEE CCCC)CCCCCCC)CCCCCEEEEEEEEEEEEEEEEEEEEEEEEEEEEEEEEEEEEEEEEEEEEEEEEEEEEEEEEEEEEEEEEEEEEEEEEEEEEEEEEEEEEEEEEEEEEEEEEEEEEEEEEEEEEEEEEEEEEEEEEEEEEEEEEEEEEEEEEEEEEEEEEEEEEEEEEEEEEEEEEEEEEEEEEEEEEEEEEEEEEEEEEEEEEEEEEEEEEEEEEEEEEEEEEEEEEEEEEEEEEEEEEEEEEEEEEEEEEEEEEEEEEEEEEEE\n"
     ]
    },
    {
     "name": "stdout",
     "output_type": "stream",
     "text": [
      "CCN1C=C(C([O-])=O)C(=O)C2=CC(F)=C(N3CC[NH2+]C(C)C3)C(F)=C12EEEEEEEEEEEEEEEEEEEEEEEEEEEEEEEEEEEEEEEEEEEEEEEEEEEEEEEEEEEEEEEEEEEEEEEEEEEEEEEEEEEEEEEEEEEEEEEEEEEEEEEEEEEEEEEEEEEEEEEEEEEEEEEEEEEEEEEEEEEEEEEEEEEEEEEEEEEEEEEEEEEEEEEEEEEEEEEEEEEEEEEEEEEEEEEEEEEEEEEEEEEEEEEEE CC11=(CCCC=O-])=O)C(=O)C(=CC=C)=CCCCC==NH++]CCC)C1CC1O)=CC=CEEEEEEEEEEEEEEEEEEEEEEEEEEEEEEEEEEEEEEEEEEEEEEEEEEEEEEEEEEEEEEEEEEEEEEEEEEEEEEEEEEEEEEEEEEEEEEEEEEEEEEEEEEEEEEEEEEEEEEEEEEEEEEEEEEEEEEEEEEEEEEEEEEEEEEEEEEEEEEEEEEEEEEEEEEEEEEEEEEEEEEEEEEEEEEEEEEEEEEEEEEEEEEEE\n",
      "CC1=CC2=C(C=C1C)N(CC(O)C(O)C(O)CO)C1=NC(=O)[N-]C(=O)C1=N2EEEEEEEEEEEEEEEEEEEEEEEEEEEEEEEEEEEEEEEEEEEEEEEEEEEEEEEEEEEEEEEEEEEEEEEEEEEEEEEEEEEEEEEEEEEEEEEEEEEEEEEEEEEEEEEEEEEEEEEEEEEEEEEEEEEEEEEEEEEEEEEEEEEEEEEEEEEEEEEEEEEEEEEEEEEEEEEEEEEEEEEEEEEEEEEEEEEEEEEEEEEEEEEEEEE CC1=CC==CCCCC1=CCCC)==)C(O)C(O)C(CC(OCC(=O)CCH]((=O)C(=CCCEEEEEEEEEEEEEEEEEEEEEEEEEEEEEEEEEEEEEEEEEEEEEEEEEEEEEEEEEEEEEEEEEEEEEEEEEEEEEEEEEEEEEEEEEEEEEEEEEEEEEEEEEEEEEEEEEEEEEEEEEEEEEEEEEEEEEEEEEEEEEEEEEEEEEEEEEEEEEEEEEEEEEEEEEEEEEEEEEEEEEEEEEEEEEEEEEEEEEEEEEEEEEEEEEE\n",
      "CCC12CCC[NH+](C1)CCC1=C(CC2)NC2=CC=CC=C12EEEEEEEEEEEEEEEEEEEEEEEEEEEEEEEEEEEEEEEEEEEEEEEEEEEEEEEEEEEEEEEEEEEEEEEEEEEEEEEEEEEEEEEEEEEEEEEEEEEEEEEEEEEEEEEEEEEEEEEEEEEEEEEEEEEEEEEEEEEEEEEEEEEEEEEEEEEEEEEEEEEEEEEEEEEEEEEEEEEEEEEEEEEEEEEEEEEEEEEEEEEEEEEEEEEEEEEEEEEEEEEEEEE CCC(CCCCCCH+](C))CCCC=CCC)==CC(=CC=CC=C1EEEEEEEEEEEEEEEEEEEEEEEEEEEEEEEEEEEEEEEEEEEEEEEEEEEEEEEEEEEEEEEEEEEEEEEEEEEEEEEEEEEEEEEEEEEEEEEEEEEEEEEEEEEEEEEEEEEEEEEEEEEEEEEEEEEEEEEEEEEEEEEEEEEEEEEEEEEEEEEEEEEEEEEEEEEEEEEEEEEEEEEEEEEEEEEEEEEEEEEEEEEEEEEEEEEEEEEEEEEEEEEEEEEE\n",
      "CCCCCCC1(CC)C(=O)NC([O-])=[NH+]C1=OEEEEEEEEEEEEEEEEEEEEEEEEEEEEEEEEEEEEEEEEEEEEEEEEEEEEEEEEEEEEEEEEEEEEEEEEEEEEEEEEEEEEEEEEEEEEEEEEEEEEEEEEEEEEEEEEEEEEEEEEEEEEEEEEEEEEEEEEEEEEEEEEEEEEEEEEEEEEEEEEEEEEEEEEEEEEEEEEEEEEEEEEEEEEEEEEEEEEEEEEEEEEEEEEEEEEEEEEEEEEEEEEEEEEEEEEE CCC(C(CCCCCCCCCO)CC(=O-])=ONH+]((=CEEEEEEEEEEEEEEEEEEEEEEEEEEEEEEEEEEEEEEEEEEEEEEEEEEEEEEEEEEEEEEEEEEEEEEEEEEEEEEEEEEEEEEEEEEEEEEEEEEEEEEEEEEEEEEEEEEEEEEEEEEEEEEEEEEEEEEEEEEEEEEEEEEEEEEEEEEEEEEEEEEEEEEEEEEEEEEEEEEEEEEEEEEEEEEEEEEEEEEEEEEEEEEEEEEEEEEEEEEEEEEEEEEEEEEEEE\n",
      "CCC(C)(S(=O)(=O)CC)S(=O)(=O)CCEEEEEEEEEEEEEEEEEEEEEEEEEEEEEEEEEEEEEEEEEEEEEEEEEEEEEEEEEEEEEEEEEEEEEEEEEEEEEEEEEEEEEEEEEEEEEEEEEEEEEEEEEEEEEEEEEEEEEEEEEEEEEEEEEEEEEEEEEEEEEEEEEEEEEEEEEEEEEEEEEEEEEEEEEEEEEEEEEEEEEEEEEEEEEEEEEEEEEEEEEEEEEEEEEEEEEEEEEEEEEEEEEEEEEEEEEEEEEE CCC(C)CC)OO)=OO)C(=C(=O)=OO)C(=EEEEEEEEEEEEEEEEEEEEEEEEEEEEEEEEEEEEEEEEEEEEEEEEEEEEEEEEEEEEEEEEEEEEEEEEEEEEEEEEEEEEEEEEEEEEEEEEEEEEEEEEEEEEEEEEEEEEEEEEEEEEEEEEEEEEEEEEEEEEEEEEEEEEEEEEEEEEEEEEEEEEEEEEEEEEEEEEEEEEEEEEEEEEEEEEEEEEEEEEEEEEEEEEEEEEEEEEEEEEEEEEEEEEEEEEEEEEE\n",
      "COC1=C(N2CC[NH2+]C(C)C2)C(F)=CC2=C1N(C=C(C([O-])=O)C2=O)C1CC1EEEEEEEEEEEEEEEEEEEEEEEEEEEEEEEEEEEEEEEEEEEEEEEEEEEEEEEEEEEEEEEEEEEEEEEEEEEEEEEEEEEEEEEEEEEEEEEEEEEEEEEEEEEEEEEEEEEEEEEEEEEEEEEEEEEEEEEEEEEEEEEEEEEEEEEEEEEEEEEEEEEEEEEEEEEEEEEEEEEEEEEEEEEEEEEEEEEEEEEEEEEEEEE CCC1=CCCC===NH++]CCC)CCCC(=)=CC==C1=CC=C2O)OO-])=O)C(=CEC(=(=EEEEEEEEEEEEEEEEEEEEEEEEEEEEEEEEEEEEEEEEEEEEEEEEEEEEEEEEEEEEEEEEEEEEEEEEEEEEEEEEEEEEEEEEEEEEEEEEEEEEEEEEEEEEEEEEEEEEEEEEEEEEEEEEEEEEEEEEEEEEEEEEEEEEEEEEEEEEEEEEEEEEEEEEEEEEEEEEEEEEEEEEEEEEEEEEEEEEEEEEEEEEEEE\n",
      "OC1CCC[NH+]2CC3CC(C[NH+]4CCCCC34)C12EEEEEEEEEEEEEEEEEEEEEEEEEEEEEEEEEEEEEEEEEEEEEEEEEEEEEEEEEEEEEEEEEEEEEEEEEEEEEEEEEEEEEEEEEEEEEEEEEEEEEEEEEEEEEEEEEEEEEEEEEEEEEEEEEEEEEEEEEEEEEEEEEEEEEEEEEEEEEEEEEEEEEEEEEEEEEEEEEEEEEEEEEEEEEEEEEEEEEEEEEEEEEEEEEEEEEEEEEEEEEEEEEEEEEEEE CC[O(CCCH+](CCCCCCC)CH+](CCCC((CCC(=CEEEEEEEEEEEEEEEEEEEEEEEEEEEEEEEEEEEEEEEEEEEEEEEEEEEEEEEEEEEEEEEEEEEEEEEEEEEEEEEEEEEEEEEEEEEEEEEEEEEEEEEEEEEEEEEEEEEEEEEEEEEEEEEEEEEEEEEEEEEEEEEEEEEEEEEEEEEEEEEEEEEEEEEEEEEEEEEEEEEEEEEEEEEEEEEEEEEEEEEEEEEEEEEEEEEEEEEEEEEEEEEEEEEEEEE\n",
      "[S-][11C]#NEEEEEEEEEEEEEEEEEEEEEEEEEEEEEEEEEEEEEEEEEEEEEEEEEEEEEEEEEEEEEEEEEEEEEEEEEEEEEEEEEEEEEEEEEEEEEEEEEEEEEEEEEEEEEEEEEEEEEEEEEEEEEEEEEEEEEEEEEEEEEEEEEEEEEEEEEEEEEEEEEEEEEEEEEEEEEEEEEEEEEEEEEEEEEEEEEEEEEEEEEEEEEEEEEEEEEEEEEEEEEEEEEEEEEEEEEEEEEEEEEEEEEEEEEEEEEEEEE CN1])N@2((C((EEEEEEEEEEEEEEEEEEEEEEEEEEEEEEEEEEEEEEEEEEEEEEEEEEEEEEEEEEEEEEEEEEEEEEEEEEEEEEEEEEEEEEEEEEEEEEEEEEEEEEEEEEEEEEEEEEEEEEEEEEEEEEEEEEEEEEEEEEEEEEEEEEEEEEEEEEEEEEEEEEEEEEEEEEEEEEEEEEEEEEEEEEEEEEEEEEEEEEEEEEEEEEEEEEEEEEEEEEEEEEEEEEEEEEEEEEEEEEEEEEEEEEEEEEEEEEE\n",
      "C[C@@]12CCC[C@](C)(C1CC[C@@]13CC(=C)[C@](C1)(CCC23)O[C@@H]1O[C@H](CO)[C@@H](O)[C@H](O[C@@H]2O[C@H](CO)[C@@H](O)[C@H](O)[C@@H]2O[C@@H]2O[C@H](CO)[C@@H](O)[C@H](O)[C@H]2O)[C@H]1O)C(=O)O[C@@H]1O[C@H](CO)[C@H](O)[C@@H](O)[C@H]1OEEEEEEEEEEEEEEEEEEEEEEEEEEEEEEEEEEEEEEEEEEEE CCC@@H(2CCCCC@](CC(CCCCCC@@](3CC(CC)CC@@(C))CCC22))C[C@@H](O[C@H](CO)[C@@H](O)[C@H](O)C@@H]1O[C@H](OO)[C@@H](O)[C@H](O)[C@HH]1O)C@@H](C[C@H](OO)[C@@H](O)[C@H](O)[C@H]1O)[C@H]1O[[(OO)[[C@@H](O[C@H](CO)[C@@](O)[C@HH](O)[C@H]1OEEEEEEEEEEEEEEEEEEEEEEEEEEEEEEEEEEEEEEEEEEEE\n",
      "C[C@@]12CCC[C@](C)(C1CCC13CC(=C)C(C1)(CCC23)O[C@@H]1O[C@H](CO)[C@@H](O)[C@H](O[C@@H]2O[C@H](CO)[C@@H](O)[C@H](O)[C@H]2O)[C@H]1O[C@@H]1O[C@H](CO)[C@@H](O)[C@H](O)[C@H]1O)C(=O)O[C@@H]1O[C@H](CO)[C@@H](O)[C@H](O)[C@H]1OEEEEEEEEEEEEEEEEEEEEEEEEEEEEEEEEEEEEEEEEEEEEEEEEEEEE CCC@@H(2CCCCC@](CC(CCCCCC=CCCOO)C(O))CO))C))CCC@HH](O[C@H](CO)[C@@H](O)[C@H](O)C@@H]1O[C@H](OO)[C@@H](O)[C@H](O)[C@H]1O)[C@H]1O[C@@H](O[C@H](CO)[C@@H](O)[C@H](O)[C@H]1OE[(=O)O[C@@H]1O[C@H](CO)[C@@H](O)[C@H](O)[C@H]1OEEEEEEEEEEEEEEEEEEEEEEEEEEEEEEEEEEEEEEEEEEEEEEEEEEEE\n",
      "OC1(CC[NH+](CCCC(=O)C2=CC=C(F)C=C2)CC1)C1=CC=C(Cl)C=C1EEEEEEEEEEEEEEEEEEEEEEEEEEEEEEEEEEEEEEEEEEEEEEEEEEEEEEEEEEEEEEEEEEEEEEEEEEEEEEEEEEEEEEEEEEEEEEEEEEEEEEEEEEEEEEEEEEEEEEEEEEEEEEEEEEEEEEEEEEEEEEEEEEEEEEEEEEEEEEEEEEEEEEEEEEEEEEEEEEEEEEEEEEEEEEEEEEEEEEEEEEEEEEEEEEEEEE CC[OC)CCH+](C))CCCO)C1=CC=C1=)==C1=C(==C(ECE=CCCC)C(C1EEEEEEEEEEEEEEEEEEEEEEEEEEEEEEEEEEEEEEEEEEEEEEEEEEEEEEEEEEEEEEEEEEEEEEEEEEEEEEEEEEEEEEEEEEEEEEEEEEEEEEEEEEEEEEEEEEEEEEEEEEEEEEEEEEEEEEEEEEEEEEEEEEEEEEEEEEEEEEEEEEEEEEEEEEEEEEEEEEEEEEEEEEEEEEEEEEEEEEEEEEEEEEEEEEEEEE\n",
      "OC[C@H](O)[C@@H](O)[C@H](O)[C@H](O)CO[C@H]1O[C@H](CO)[C@@H](O)[C@H](O)[C@H]1OEEEEEEEEEEEEEEEEEEEEEEEEEEEEEEEEEEEEEEEEEEEEEEEEEEEEEEEEEEEEEEEEEEEEEEEEEEEEEEEEEEEEEEEEEEEEEEEEEEEEEEEEEEEEEEEEEEEEEEEEEEEEEEEEEEEEEEEEEEEEEEEEEEEEEEEEEEEEEEEEEEEEEEEEEEEEEEEEEEEEEEEEEEEEEEE CC[C@H]1O)[C@@H](O)[C@H](O)[C@H](O)[OEC@@]1O[C@H](CO)[C@@H](O)[C@H](O)[C@H]1OEEEEEEEEEEEEEEEEEEEEEEEEEEEEEEEEEEEEEEEEEEEEEEEEEEEEEEEEEEEEEEEEEEEEEEEEEEEEEEEEEEEEEEEEEEEEEEEEEEEEEEEEEEEEEEEEEEEEEEEEEEEEEEEEEEEEEEEEEEEEEEEEEEEEEEEEEEEEEEEEEEEEEEEEEEEEEEEEEEEEEEEEEEEEEEE\n",
      "C(C[NH+]1CCCCC1)N(CC1=CC=CC=N1)C1=CC=CC=C1EEEEEEEEEEEEEEEEEEEEEEEEEEEEEEEEEEEEEEEEEEEEEEEEEEEEEEEEEEEEEEEEEEEEEEEEEEEEEEEEEEEEEEEEEEEEEEEEEEEEEEEEEEEEEEEEEEEEEEEEEEEEEEEEEEEEEEEEEEEEEEEEEEEEEEEEEEEEEEEEEEEEEEEEEEEEEEEEEEEEEEEEEEEEEEEEEEEEEEEEEEEEEEEEEEEEEEEEEEEEEEEEEE CCCCCH+]CCCCCCCCCCCC==CC=CC=CCEC(=CE=CC=C1EEEEEEEEEEEEEEEEEEEEEEEEEEEEEEEEEEEEEEEEEEEEEEEEEEEEEEEEEEEEEEEEEEEEEEEEEEEEEEEEEEEEEEEEEEEEEEEEEEEEEEEEEEEEEEEEEEEEEEEEEEEEEEEEEEEEEEEEEEEEEEEEEEEEEEEEEEEEEEEEEEEEEEEEEEEEEEEEEEEEEEEEEEEEEEEEEEEEEEEEEEEEEEEEEEEEEEEEEEEEEEEEEE\n",
      "CC(=O)OCC1=CC=C2OCOC2=C1EEEEEEEEEEEEEEEEEEEEEEEEEEEEEEEEEEEEEEEEEEEEEEEEEEEEEEEEEEEEEEEEEEEEEEEEEEEEEEEEEEEEEEEEEEEEEEEEEEEEEEEEEEEEEEEEEEEEEEEEEEEEEEEEEEEEEEEEEEEEEEEEEEEEEEEEEEEEEEEEEEEEEEEEEEEEEEEEEEEEEEEEEEEEEEEEEEEEEEEEEEEEEEEEEEEEEEEEEEEEEEEEEEEEEEEEEEEEEEEEEEEE CCCCO)CC((CCC=CC=C(C(=CCOEEEEEEEEEEEEEEEEEEEEEEEEEEEEEEEEEEEEEEEEEEEEEEEEEEEEEEEEEEEEEEEEEEEEEEEEEEEEEEEEEEEEEEEEEEEEEEEEEEEEEEEEEEEEEEEEEEEEEEEEEEEEEEEEEEEEEEEEEEEEEEEEEEEEEEEEEEEEEEEEEEEEEEEEEEEEEEEEEEEEEEEEEEEEEEEEEEEEEEEEEEEEEEEEEEEEEEEEEEEEEEEEEEEEEEEEEEEEEEEEEEE\n",
      "CC(CCC([O-])=O)C1CCC2C3C(CC(=O)C12C)C1(C)CCC(=O)CC1CC3=OEEEEEEEEEEEEEEEEEEEEEEEEEEEEEEEEEEEEEEEEEEEEEEEEEEEEEEEEEEEEEEEEEEEEEEEEEEEEEEEEEEEEEEEEEEEEEEEEEEEEEEEEEEEEEEEEEEEEEEEEEEEEEEEEEEEEEEEEEEEEEEEEEEEEEEEEEEEEEEEEEEEEEEEEEEEEEEEEEEEEEEEEEEEEEEEEEEEEEEEEEEEEEEEEEEEE CCCC))CCO-])=O)C(=(C(=(CCCC=CO)C2=)(C(=COC(((CO)C21E((COEEEEEEEEEEEEEEEEEEEEEEEEEEEEEEEEEEEEEEEEEEEEEEEEEEEEEEEEEEEEEEEEEEEEEEEEEEEEEEEEEEEEEEEEEEEEEEEEEEEEEEEEEEEEEEEEEEEEEEEEEEEEEEEEEEEEEEEEEEEEEEEEEEEEEEEEEEEEEEEEEEEEEEEEEEEEEEEEEEEEEEEEEEEEEEEEEEEEEEEEEEEEEEEEEEEE\n",
      "C[NH2+]CC(O)C1=CC=CC(O)=C1EEEEEEEEEEEEEEEEEEEEEEEEEEEEEEEEEEEEEEEEEEEEEEEEEEEEEEEEEEEEEEEEEEEEEEEEEEEEEEEEEEEEEEEEEEEEEEEEEEEEEEEEEEEEEEEEEEEEEEEEEEEEEEEEEEEEEEEEEEEEEEEEEEEEEEEEEEEEEEEEEEEEEEEEEEEEEEEEEEEEEEEEEEEEEEEEEEEEEEEEEEEEEEEEEEEEEEEEEEEEEEEEEEEEEEEEEEEEEEEEEE CCCH++]CCCC)C(=CC=CC=C)CC1EEEEEEEEEEEEEEEEEEEEEEEEEEEEEEEEEEEEEEEEEEEEEEEEEEEEEEEEEEEEEEEEEEEEEEEEEEEEEEEEEEEEEEEEEEEEEEEEEEEEEEEEEEEEEEEEEEEEEEEEEEEEEEEEEEEEEEEEEEEEEEEEEEEEEEEEEEEEEEEEEEEEEEEEEEEEEEEEEEEEEEEEEEEEEEEEEEEEEEEEEEEEEEEEEEEEEEEEEEEEEEEEEEEEEEEEEEEEEEEEEE\n"
     ]
    },
    {
     "name": "stdout",
     "output_type": "stream",
     "text": [
      "COC1=CC=C(C=C1)C1=CC(=O)C2=C(OC)C(OC)=C(OC)C(OC)=C2O1EEEEEEEEEEEEEEEEEEEEEEEEEEEEEEEEEEEEEEEEEEEEEEEEEEEEEEEEEEEEEEEEEEEEEEEEEEEEEEEEEEEEEEEEEEEEEEEEEEEEEEEEEEEEEEEEEEEEEEEEEEEEEEEEEEEEEEEEEEEEEEEEEEEEEEEEEEEEEEEEEEEEEEEEEEEEEEEEEEEEEEEEEEEEEEEEEEEEEEEEEEEEEEEEEEEEEEE CCC1=CC=CCCCC1)C(=CC==O)C(=CCC)==(=))CC(O))C(O))CC(OEEEEEEEEEEEEEEEEEEEEEEEEEEEEEEEEEEEEEEEEEEEEEEEEEEEEEEEEEEEEEEEEEEEEEEEEEEEEEEEEEEEEEEEEEEEEEEEEEEEEEEEEEEEEEEEEEEEEEEEEEEEEEEEEEEEEEEEEEEEEEEEEEEEEEEEEEEEEEEEEEEEEEEEEEEEEEEEEEEEEEEEEEEEEEEEEEEEEEEEEEEEEEEEEEEEEEEEE\n",
      "CC1=C(Cl)C=CC=C1NC1=NC=CC=C1C([O-])=OEEEEEEEEEEEEEEEEEEEEEEEEEEEEEEEEEEEEEEEEEEEEEEEEEEEEEEEEEEEEEEEEEEEEEEEEEEEEEEEEEEEEEEEEEEEEEEEEEEEEEEEEEEEEEEEEEEEEEEEEEEEEEEEEEEEEEEEEEEEEEEEEEEEEEEEEEEEEEEEEEEEEEEEEEEEEEEEEEEEEEEEEEEEEEEEEEEEEEEEEEEEEEEEEEEEEEEEEEEEEEEEEEEEEEEE CC1=CCCC)C=C1=C1EC(=CC=C1=C1EE=N-])=O)EEEEEEEEEEEEEEEEEEEEEEEEEEEEEEEEEEEEEEEEEEEEEEEEEEEEEEEEEEEEEEEEEEEEEEEEEEEEEEEEEEEEEEEEEEEEEEEEEEEEEEEEEEEEEEEEEEEEEEEEEEEEEEEEEEEEEEEEEEEEEEEEEEEEEEEEEEEEEEEEEEEEEEEEEEEEEEEEEEEEEEEEEEEEEEEEEEEEEEEEEEEEEEEEEEEEEEEEEEEEEEEEEEEEEE\n",
      "CC1=CC(O)=NC(S)=N1EEEEEEEEEEEEEEEEEEEEEEEEEEEEEEEEEEEEEEEEEEEEEEEEEEEEEEEEEEEEEEEEEEEEEEEEEEEEEEEEEEEEEEEEEEEEEEEEEEEEEEEEEEEEEEEEEEEEEEEEEEEEEEEEEEEEEEEEEEEEEEEEEEEEEEEEEEEEEEEEEEEEEEEEEEEEEEEEEEEEEEEEEEEEEEEEEEEEEEEEEEEEEEEEEEEEEEEEEEEEEEEEEEEEEEEEEEEEEEEEEEEEEEEEEE CC1=CC==)CCC(=)(O1EEEEEEEEEEEEEEEEEEEEEEEEEEEEEEEEEEEEEEEEEEEEEEEEEEEEEEEEEEEEEEEEEEEEEEEEEEEEEEEEEEEEEEEEEEEEEEEEEEEEEEEEEEEEEEEEEEEEEEEEEEEEEEEEEEEEEEEEEEEEEEEEEEEEEEEEEEEEEEEEEEEEEEEEEEEEEEEEEEEEEEEEEEEEEEEEEEEEEEEEEEEEEEEEEEEEEEEEEEEEEEEEEEEEEEEEEEEEEEEEEEEEEEEEEE\n",
      "OC[C@@H](O)[C@H](O)[C@H](O[C@H]1O[C@H](CO)[C@H](O)[C@H](O)[C@H]1O)[C@@H](O)COEEEEEEEEEEEEEEEEEEEEEEEEEEEEEEEEEEEEEEEEEEEEEEEEEEEEEEEEEEEEEEEEEEEEEEEEEEEEEEEEEEEEEEEEEEEEEEEEEEEEEEEEEEEEEEEEEEEEEEEEEEEEEEEEEEEEEEEEEEEEEEEEEEEEEEEEEEEEEEEEEEEEEEEEEEEEEEEEEEEEEEEEEEEEEEE CC[C@HH](O)[C@@](O)[C@H](O)C@H](O[C@H](CO)[C@@](O)[C@H](O)[C@H]1OE[C@HH]1O)[[[EEEEEEEEEEEEEEEEEEEEEEEEEEEEEEEEEEEEEEEEEEEEEEEEEEEEEEEEEEEEEEEEEEEEEEEEEEEEEEEEEEEEEEEEEEEEEEEEEEEEEEEEEEEEEEEEEEEEEEEEEEEEEEEEEEEEEEEEEEEEEEEEEEEEEEEEEEEEEEEEEEEEEEEEEEEEEEEEEEEEEEEEEEEEEE\n",
      "COC(=O)CC([NH3+])C(=O)NC(CC1=CC=CC=C1)C(=O)OCEEEEEEEEEEEEEEEEEEEEEEEEEEEEEEEEEEEEEEEEEEEEEEEEEEEEEEEEEEEEEEEEEEEEEEEEEEEEEEEEEEEEEEEEEEEEEEEEEEEEEEEEEEEEEEEEEEEEEEEEEEEEEEEEEEEEEEEEEEEEEEEEEEEEEEEEEEEEEEEEEEEEEEEEEEEEEEEEEEEEEEEEEEEEEEEEEEEEEEEEEEEEEEEEEEEEEEEEEEEEEEE CCC(CO)C((COH++])CCCO)CC(=)==CC=C1=C1)C(=O)CE(EEEEEEEEEEEEEEEEEEEEEEEEEEEEEEEEEEEEEEEEEEEEEEEEEEEEEEEEEEEEEEEEEEEEEEEEEEEEEEEEEEEEEEEEEEEEEEEEEEEEEEEEEEEEEEEEEEEEEEEEEEEEEEEEEEEEEEEEEEEEEEEEEEEEEEEEEEEEEEEEEEEEEEEEEEEEEEEEEEEEEEEEEEEEEEEEEEEEEEEEEEEEEEEEEEEEEEEEEEEEEE\n",
      "CN1C(=O)C2=CC=C(C=C2S1(=O)=O)S(N)(=O)=OEEEEEEEEEEEEEEEEEEEEEEEEEEEEEEEEEEEEEEEEEEEEEEEEEEEEEEEEEEEEEEEEEEEEEEEEEEEEEEEEEEEEEEEEEEEEEEEEEEEEEEEEEEEEEEEEEEEEEEEEEEEEEEEEEEEEEEEEEEEEEEEEEEEEEEEEEEEEEEEEEEEEEEEEEEEEEEEEEEEEEEEEEEEEEEEEEEEEEEEEEEEEEEEEEEEEEEEEEEEEEEEEEEEEE CCC=C=O)C(=CC=CCC)C1)1E=O)=O)C(=((=O)=OEEEEEEEEEEEEEEEEEEEEEEEEEEEEEEEEEEEEEEEEEEEEEEEEEEEEEEEEEEEEEEEEEEEEEEEEEEEEEEEEEEEEEEEEEEEEEEEEEEEEEEEEEEEEEEEEEEEEEEEEEEEEEEEEEEEEEEEEEEEEEEEEEEEEEEEEEEEEEEEEEEEEEEEEEEEEEEEEEEEEEEEEEEEEEEEEEEEEEEEEEEEEEEEEEEEEEEEEEEEEEEEEEEEEE\n",
      "OC1=CC(O)=C2C[C@@H](OC(=O)C3=CC(O)=C(O)C(O)=C3)[C@H](OC2=C1)C1=CC(O)=C(O)C(O)=C1EEEEEEEEEEEEEEEEEEEEEEEEEEEEEEEEEEEEEEEEEEEEEEEEEEEEEEEEEEEEEEEEEEEEEEEEEEEEEEEEEEEEEEEEEEEEEEEEEEEEEEEEEEEEEEEEEEEEEEEEEEEEEEEEEEEEEEEEEEEEEEEEEEEEEEEEEEEEEEEEEEEEEEEEEEEEEEEEEEEEEEEEEEEE CC1=CC==)CC1C(C@@H](C)C=O)CC=CC=C)CC1O)C(O)COCOCC@H](O)1OOCOC(=CC=C)CC1O)C(O)CC(EEEEEEEEEEEEEEEEEEEEEEEEEEEEEEEEEEEEEEEEEEEEEEEEEEEEEEEEEEEEEEEEEEEEEEEEEEEEEEEEEEEEEEEEEEEEEEEEEEEEEEEEEEEEEEEEEEEEEEEEEEEEEEEEEEEEEEEEEEEEEEEEEEEEEEEEEEEEEEEEEEEEEEEEEEEEEEEEEEEEEEEEEEEE\n",
      "OCCOCC[NH+]1CCN(CC1)C(C1=CC=CC=C1)C1=CC=C(Cl)C=C1EEEEEEEEEEEEEEEEEEEEEEEEEEEEEEEEEEEEEEEEEEEEEEEEEEEEEEEEEEEEEEEEEEEEEEEEEEEEEEEEEEEEEEEEEEEEEEEEEEEEEEEEEEEEEEEEEEEEEEEEEEEEEEEEEEEEEEEEEEEEEEEEEEEEEEEEEEEEEEEEEEEEEEEEEEEEEEEEEEEEEEEEEEEEEEEEEEEEEEEEEEEEEEEEEEEEEEEEEEE CC[(C((CH+](OCCCC)==CCCC)CC=CC=C1EC(=CC=CC=))C=C1EEEEEEEEEEEEEEEEEEEEEEEEEEEEEEEEEEEEEEEEEEEEEEEEEEEEEEEEEEEEEEEEEEEEEEEEEEEEEEEEEEEEEEEEEEEEEEEEEEEEEEEEEEEEEEEEEEEEEEEEEEEEEEEEEEEEEEEEEEEEEEEEEEEEEEEEEEEEEEEEEEEEEEEEEEEEEEEEEEEEEEEEEEEEEEEEEEEEEEEEEEEEEEEEEEEEEEEEEEE\n",
      "COC1=CC=C(C=O)C=C1EEEEEEEEEEEEEEEEEEEEEEEEEEEEEEEEEEEEEEEEEEEEEEEEEEEEEEEEEEEEEEEEEEEEEEEEEEEEEEEEEEEEEEEEEEEEEEEEEEEEEEEEEEEEEEEEEEEEEEEEEEEEEEEEEEEEEEEEEEEEEEEEEEEEEEEEEEEEEEEEEEEEEEEEEEEEEEEEEEEEEEEEEEEEEEEEEEEEEEEEEEEEEEEEEEEEEEEEEEEEEEEEEEEEEEEEEEEEEEEEEEEEEEEEEE CCC1=CC=CCCCCCC(C1EEEEEEEEEEEEEEEEEEEEEEEEEEEEEEEEEEEEEEEEEEEEEEEEEEEEEEEEEEEEEEEEEEEEEEEEEEEEEEEEEEEEEEEEEEEEEEEEEEEEEEEEEEEEEEEEEEEEEEEEEEEEEEEEEEEEEEEEEEEEEEEEEEEEEEEEEEEEEEEEEEEEEEEEEEEEEEEEEEEEEEEEEEEEEEEEEEEEEEEEEEEEEEEEEEEEEEEEEEEEEEEEEEEEEEEEEEEEEEEEEEEEEEEEEE\n",
      "CC(=O)C1=CC=CC=C1EEEEEEEEEEEEEEEEEEEEEEEEEEEEEEEEEEEEEEEEEEEEEEEEEEEEEEEEEEEEEEEEEEEEEEEEEEEEEEEEEEEEEEEEEEEEEEEEEEEEEEEEEEEEEEEEEEEEEEEEEEEEEEEEEEEEEEEEEEEEEEEEEEEEEEEEEEEEEEEEEEEEEEEEEEEEEEEEEEEEEEEEEEEEEEEEEEEEEEEEEEEEEEEEEEEEEEEEEEEEEEEEEEEEEEEEEEEEEEEEEEEEEEEEEEE CC1CC)CC=CC=CC=C1EEEEEEEEEEEEEEEEEEEEEEEEEEEEEEEEEEEEEEEEEEEEEEEEEEEEEEEEEEEEEEEEEEEEEEEEEEEEEEEEEEEEEEEEEEEEEEEEEEEEEEEEEEEEEEEEEEEEEEEEEEEEEEEEEEEEEEEEEEEEEEEEEEEEEEEEEEEEEEEEEEEEEEEEEEEEEEEEEEEEEEEEEEEEEEEEEEEEEEEEEEEEEEEEEEEEEEEEEEEEEEEEEEEEEEEEEEEEEEEEEEEEEEEEEEE\n",
      "CC[NH+](CC)CCN1C(=O)C2=CC=CC=C2S1(=O)=OEEEEEEEEEEEEEEEEEEEEEEEEEEEEEEEEEEEEEEEEEEEEEEEEEEEEEEEEEEEEEEEEEEEEEEEEEEEEEEEEEEEEEEEEEEEEEEEEEEEEEEEEEEEEEEEEEEEEEEEEEEEEEEEEEEEEEEEEEEEEEEEEEEEEEEEEEEEEEEEEEEEEEEEEEEEEEEEEEEEEEEEEEEEEEEEEEEEEEEEEEEEEEEEEEEEEEEEEEEEEEEEEEEEEE CCCCH+](C))CCCCE(=O)C(=CC=C1=C1=1E=O)=OEEEEEEEEEEEEEEEEEEEEEEEEEEEEEEEEEEEEEEEEEEEEEEEEEEEEEEEEEEEEEEEEEEEEEEEEEEEEEEEEEEEEEEEEEEEEEEEEEEEEEEEEEEEEEEEEEEEEEEEEEEEEEEEEEEEEEEEEEEEEEEEEEEEEEEEEEEEEEEEEEEEEEEEEEEEEEEEEEEEEEEEEEEEEEEEEEEEEEEEEEEEEEEEEEEEEEEEEEEEEEEEEEEEEE\n",
      "CC([NH2+]C(C)(C)C)C(=O)C1=CC=CC(Cl)=C1EEEEEEEEEEEEEEEEEEEEEEEEEEEEEEEEEEEEEEEEEEEEEEEEEEEEEEEEEEEEEEEEEEEEEEEEEEEEEEEEEEEEEEEEEEEEEEEEEEEEEEEEEEEEEEEEEEEEEEEEEEEEEEEEEEEEEEEEEEEEEEEEEEEEEEEEEEEEEEEEEEEEEEEEEEEEEEEEEEEEEEEEEEEEEEEEEEEEEEEEEEEEEEEEEEEEEEEEEEEEEEEEEEEEEE CCCCOH++]CCC)CO)CCC(CO)C(=CC=CC=C))CC1EEEEEEEEEEEEEEEEEEEEEEEEEEEEEEEEEEEEEEEEEEEEEEEEEEEEEEEEEEEEEEEEEEEEEEEEEEEEEEEEEEEEEEEEEEEEEEEEEEEEEEEEEEEEEEEEEEEEEEEEEEEEEEEEEEEEEEEEEEEEEEEEEEEEEEEEEEEEEEEEEEEEEEEEEEEEEEEEEEEEEEEEEEEEEEEEEEEEEEEEEEEEEEEEEEEEEEEEEEEEEEEEEEEEEE\n",
      "CC(O)CCOEEEEEEEEEEEEEEEEEEEEEEEEEEEEEEEEEEEEEEEEEEEEEEEEEEEEEEEEEEEEEEEEEEEEEEEEEEEEEEEEEEEEEEEEEEEEEEEEEEEEEEEEEEEEEEEEEEEEEEEEEEEEEEEEEEEEEEEEEEEEEEEEEEEEEEEEEEEEEEEEEEEEEEEEEEEEEEEEEEEEEEEEEEEEEEEEEEEEEEEEEEEEEEEEEEEEEEEEEEEEEEEEEEEEEEEEEEEEEEEEEEEEEEEEEEEEEEEEEEEE CCCC)C(CCEEEEEEEEEEEEEEEEEEEEEEEEEEEEEEEEEEEEEEEEEEEEEEEEEEEEEEEEEEEEEEEEEEEEEEEEEEEEEEEEEEEEEEEEEEEEEEEEEEEEEEEEEEEEEEEEEEEEEEEEEEEEEEEEEEEEEEEEEEEEEEEEEEEEEEEEEEEEEEEEEEEEEEEEEEEEEEEEEEEEEEEEEEEEEEEEEEEEEEEEEEEEEEEEEEEEEEEEEEEEEEEEEEEEEEEEEEEEEEEEEEEEEEEEEEEEEEEEEEE\n",
      "OC[C@H]1O[C@@H](O[C@@H]2[C@H](O)[C@@H](O)[C@@H](O)O[C@@H]2CO)[C@H](O)[C@@H](O)[C@H]1OEEEEEEEEEEEEEEEEEEEEEEEEEEEEEEEEEEEEEEEEEEEEEEEEEEEEEEEEEEEEEEEEEEEEEEEEEEEEEEEEEEEEEEEEEEEEEEEEEEEEEEEEEEEEEEEEEEEEEEEEEEEEEEEEEEEEEEEEEEEEEEEEEEEEEEEEEEEEEEEEEEEEEEEEEEEEEEEEEEEEEEE CC[C@H]1O[C@HH](O[C@HH]([C@H](O)[C@@H](O)[C@HH](O)[[C@@H]1OO)[C@H](O)[C@@H](O)[C@H](OEEEEEEEEEEEEEEEEEEEEEEEEEEEEEEEEEEEEEEEEEEEEEEEEEEEEEEEEEEEEEEEEEEEEEEEEEEEEEEEEEEEEEEEEEEEEEEEEEEEEEEEEEEEEEEEEEEEEEEEEEEEEEEEEEEEEEEEEEEEEEEEEEEEEEEEEEEEEEEEEEEEEEEEEEEEEEEEEEEEEEEE\n",
      "CC(I)C1OCC(CO)O1EEEEEEEEEEEEEEEEEEEEEEEEEEEEEEEEEEEEEEEEEEEEEEEEEEEEEEEEEEEEEEEEEEEEEEEEEEEEEEEEEEEEEEEEEEEEEEEEEEEEEEEEEEEEEEEEEEEEEEEEEEEEEEEEEEEEEEEEEEEEEEEEEEEEEEEEEEEEEEEEEEEEEEEEEEEEEEEEEEEEEEEEEEEEEEEEEEEEEEEEEEEEEEEEEEEEEEEEEEEEEEEEEEEEEEEEEEEEEEEEEEEEEEEEEEEE CCCC)C(=C((C))CCEEEEEEEEEEEEEEEEEEEEEEEEEEEEEEEEEEEEEEEEEEEEEEEEEEEEEEEEEEEEEEEEEEEEEEEEEEEEEEEEEEEEEEEEEEEEEEEEEEEEEEEEEEEEEEEEEEEEEEEEEEEEEEEEEEEEEEEEEEEEEEEEEEEEEEEEEEEEEEEEEEEEEEEEEEEEEEEEEEEEEEEEEEEEEEEEEEEEEEEEEEEEEEEEEEEEEEEEEEEEEEEEEEEEEEEEEEEEEEEEEEEEEEEEEEEE\n",
      "CC(C)OC1=NS(=O)(=O)C2=CC=CC=C12EEEEEEEEEEEEEEEEEEEEEEEEEEEEEEEEEEEEEEEEEEEEEEEEEEEEEEEEEEEEEEEEEEEEEEEEEEEEEEEEEEEEEEEEEEEEEEEEEEEEEEEEEEEEEEEEEEEEEEEEEEEEEEEEEEEEEEEEEEEEEEEEEEEEEEEEEEEEEEEEEEEEEEEEEEEEEEEEEEEEEEEEEEEEEEEEEEEEEEEEEEEEEEEEEEEEEEEEEEEEEEEEEEEEEEEEEEEEE CCCC)CC(CCC(=O)==O)C(=CC=CC=C1EEEEEEEEEEEEEEEEEEEEEEEEEEEEEEEEEEEEEEEEEEEEEEEEEEEEEEEEEEEEEEEEEEEEEEEEEEEEEEEEEEEEEEEEEEEEEEEEEEEEEEEEEEEEEEEEEEEEEEEEEEEEEEEEEEEEEEEEEEEEEEEEEEEEEEEEEEEEEEEEEEEEEEEEEEEEEEEEEEEEEEEEEEEEEEEEEEEEEEEEEEEEEEEEEEEEEEEEEEEEEEEEEEEEEEEEEEEEEE\n",
      "O=CC1=CC=CC=C1EEEEEEEEEEEEEEEEEEEEEEEEEEEEEEEEEEEEEEEEEEEEEEEEEEEEEEEEEEEEEEEEEEEEEEEEEEEEEEEEEEEEEEEEEEEEEEEEEEEEEEEEEEEEEEEEEEEEEEEEEEEEEEEEEEEEEEEEEEEEEEEEEEEEEEEEEEEEEEEEEEEEEEEEEEEEEEEEEEEEEEEEEEEEEEEEEEEEEEEEEEEEEEEEEEEEEEEEEEEEEEEEEEEEEEEEEEEEEEEEEEEEEEEEEEEEEE CCC1C=CC=CC=C1EEEEEEEEEEEEEEEEEEEEEEEEEEEEEEEEEEEEEEEEEEEEEEEEEEEEEEEEEEEEEEEEEEEEEEEEEEEEEEEEEEEEEEEEEEEEEEEEEEEEEEEEEEEEEEEEEEEEEEEEEEEEEEEEEEEEEEEEEEEEEEEEEEEEEEEEEEEEEEEEEEEEEEEEEEEEEEEEEEEEEEEEEEEEEEEEEEEEEEEEEEEEEEEEEEEEEEEEEEEEEEEEEEEEEEEEEEEEEEEEEEEEEEEEEEEEEE\n"
     ]
    },
    {
     "name": "stdout",
     "output_type": "stream",
     "text": [
      "CC(C)CC(=O)OCCC1=CC=CC=C1EEEEEEEEEEEEEEEEEEEEEEEEEEEEEEEEEEEEEEEEEEEEEEEEEEEEEEEEEEEEEEEEEEEEEEEEEEEEEEEEEEEEEEEEEEEEEEEEEEEEEEEEEEEEEEEEEEEEEEEEEEEEEEEEEEEEEEEEEEEEEEEEEEEEEEEEEEEEEEEEEEEEEEEEEEEEEEEEEEEEEEEEEEEEEEEEEEEEEEEEEEEEEEEEEEEEEEEEEEEEEEEEEEEEEEEEEEEEEEEEEEE CCCC)CCCCO)CC(((CCC=CC=C1EEEEEEEEEEEEEEEEEEEEEEEEEEEEEEEEEEEEEEEEEEEEEEEEEEEEEEEEEEEEEEEEEEEEEEEEEEEEEEEEEEEEEEEEEEEEEEEEEEEEEEEEEEEEEEEEEEEEEEEEEEEEEEEEEEEEEEEEEEEEEEEEEEEEEEEEEEEEEEEEEEEEEEEEEEEEEEEEEEEEEEEEEEEEEEEEEEEEEEEEEEEEEEEEEEEEEEEEEEEEEEEEEEEEEEEEEEEEEEEEEEE\n"
     ]
    }
   ],
   "source": [
    "#@ 100 TESTED SMILES:\n",
    "for i in range(100):\n",
    "  value = model.predict([X_test[i:i+1], X_test[i:i+1]])\n",
    "  idxs = np.argmax(value, axis=2)                                        # Flattened along the axis.\n",
    "  pred = \"\".join([int_to_char[x] for x in idxs[0]])[:-1]\n",
    "  idxs2 = np.argmax(X_test[i:i+1], axis=2)                               # Flattened along the axis. \n",
    "  true = \"\".join([int_to_char[h] for h in idxs2[0]])[1:]\n",
    "  if true != pred:\n",
    "    print(true, pred)                                                    # Inspecting the result. "
   ]
  },
  {
   "cell_type": "code",
   "execution_count": 17,
   "metadata": {},
   "outputs": [],
   "source": [
    "#@ PREPARING THE MODEL:\n",
    "smiles_to_latent_model = Model(encoder_inputs, neck_outputs)              # Building the Model.\n",
    "smiles_to_latent_model.save(\"SecondModel.h5\")                             # Saving the Model."
   ]
  },
  {
   "cell_type": "code",
   "execution_count": 18,
   "metadata": {},
   "outputs": [],
   "source": [
    "#@ PREPARING THE MODEL:\n",
    "latent_input = Input(shape=(latent_dim, ))                                            # Latent Input. \n",
    "state_h_decoded_2 = decode_h(latent_input)                                            # Reusing the Layers. \n",
    "state_c_decoded_2 = decode_c(latent_input)                                            # Reusing the Layers. \n",
    "latent_to_states_model = Model(latent_input, [state_h_decoded_2, state_c_decoded_2])  # Building the Model. \n",
    "latent_to_states_model.save(\"ThirdModel.h5\")                                          # Saving the Model."
   ]
  },
  {
   "cell_type": "code",
   "execution_count": 19,
   "metadata": {},
   "outputs": [
    {
     "name": "stdout",
     "output_type": "stream",
     "text": [
      "Model: \"model_3\"\n",
      "_________________________________________________________________\n",
      "Layer (type)                 Output Shape              Param #   \n",
      "=================================================================\n",
      "input_4 (InputLayer)         [(1, 1, 33)]              0         \n",
      "_________________________________________________________________\n",
      "lstm_2 (LSTM)                (1, 1, 64)                25088     \n",
      "_________________________________________________________________\n",
      "dense_4 (Dense)              (1, 1, 33)                2145      \n",
      "=================================================================\n",
      "Total params: 27,233\n",
      "Trainable params: 27,233\n",
      "Non-trainable params: 0\n",
      "_________________________________________________________________\n"
     ]
    },
    {
     "data": {
      "text/plain": [
       "None"
      ]
     },
     "metadata": {},
     "output_type": "display_data"
    }
   ],
   "source": [
    "#@ PREPARING THE DECODER MODEL:\n",
    "inf_decoder_inputs = Input(batch_shape=(1, 1, input_shape[1]))                    # Decoder Inputs. \n",
    "inf_decoder_lstm = LSTM(lstm_dim, return_sequences=True, unroll=unroll,\n",
    "                        stateful=True)                                            # Stateful Decoder LSTM.\n",
    "inf_decoder_outputs = inf_decoder_lstm(inf_decoder_inputs)                        # Decoder Outputs. \n",
    "inf_decoder_dense = Dense(output_dim, activation=\"softmax\")                       # Output of the Model.\n",
    "inf_decoder_outputs = inf_decoder_dense(inf_decoder_outputs)\n",
    "model_s = Model(inf_decoder_inputs, inf_decoder_outputs)                          # Stateful Decoder Model. \n",
    "#@ TRANSFERRING WEIGHTS:\n",
    "for i in range(1, 3):\n",
    "  model_s.layers[i].set_weights(model.layers[i+6].get_weights())                  # Transferring the Weights. \n",
    "model_s.save(\"StatefulModel.h5\")                                                  # Saving the Model.\n",
    "display(model_s.summary())   "
   ]
  },
  {
   "cell_type": "code",
   "execution_count": 20,
   "metadata": {},
   "outputs": [
    {
     "name": "stdout",
     "output_type": "stream",
     "text": [
      "[  5 182 125  17  14  73  26 153  10 200]\n",
      "792    O=N(=O)C1=C2C=CC=CC2=CC=C1\n",
      "611          O=C1OC2=CC=CC=C2C=C1\n",
      "538                     N#CCCCC#N\n",
      "109                C=CC1CNC(=S)O1\n",
      "633               O=CCC1=CC=CC=C1\n",
      "801                   [S-][11C]#N\n",
      "398           CN1C=CC(=O)C(O)=C1C\n",
      "2                C1CCN2N=NN=C2CC1\n",
      "Name: smiles, dtype: object\n"
     ]
    }
   ],
   "source": [
    "#@ LATENT SPACE:\n",
    "x_latent = smiles_to_latent_model.predict(X_test)                             # Encoding into Latent Space. \n",
    "molno = 5\n",
    "latent_mol = smiles_to_latent_model.predict(X_test[molno:molno+1])\n",
    "sort_l = np.argsort(np.sum(np.abs(x_latent - latent_mol), axis=1))            # Sorting the result.\n",
    "print(sort_l[:10])                                                            # Inspecting the sorted result.\n",
    "print(smiles_test.iloc[sort_l[0:8]])"
   ]
  },
  {
   "cell_type": "code",
   "execution_count": 21,
   "metadata": {},
   "outputs": [
    {
     "data": {
      "image/png": "[encoded data removed]",
      "text/plain": [
       "<Figure size 432x288 with 1 Axes>"
      ]
     },
     "metadata": {
      "needs_background": "light"
     },
     "output_type": "display_data"
    },
    {
     "name": "stdout",
     "output_type": "stream",
     "text": [
      "[9.9999982e-01 1.6261573e-07] 1.0\n"
     ]
    }
   ],
   "source": [
    "#@ CHEMICAL PROPERTIES:\n",
    "logp = smiles_test.apply(Chem.MolFromSmiles).apply(Descriptors.MolLogP) \n",
    "pca = PCA(n_components=2)                                                   # Instantiating the PCA.\n",
    "pca_r = pca.fit_transform(x_latent)\n",
    "plt.figure()\n",
    "plt.scatter(pca_r[:, 0], pca_r[:, 1], marker=\".\", c=logp)                   # Plotting the Scatter Plot. \n",
    "plt.show()                                                                  # Plotting the result. \n",
    "print(pca.explained_variance_ratio_, np.sum(pca.explained_variance_ratio_)) # Inspecting the result. "
   ]
  },
  {
   "cell_type": "code",
   "execution_count": 22,
   "metadata": {},
   "outputs": [
    {
     "data": {
      "image/png": "[encoded data removed]",
      "text/plain": [
       "<Figure size 432x288 with 1 Axes>"
      ]
     },
     "metadata": {
      "needs_background": "light"
     },
     "output_type": "display_data"
    }
   ],
   "source": [
    "#@ CHEMICAL PROPERTIES:\n",
    "mol_wt = smiles_test.apply(Chem.MolFromSmiles).apply(Descriptors.MolMR)\n",
    "plt.figure()\n",
    "plt.scatter(pca_r[:, 0], pca_r[:, 1], marker=\".\", c=mol_wt)                  # Plotting the Scatter Plot. \n",
    "plt.show()   "
   ]
  },
  {
   "cell_type": "code",
   "execution_count": 23,
   "metadata": {},
   "outputs": [
    {
     "name": "stderr",
     "output_type": "stream",
     "text": [
      "RDKit ERROR: [23:03:10] Explicit valence for atom # 1 N, 4, is greater than permitted\n",
      "RDKit ERROR: [23:03:10] Explicit valence for atom # 11 N, 4, is greater than permitted\n"
     ]
    },
    {
     "ename": "ArgumentError",
     "evalue": "Python argument types in\n    rdkit.Chem.rdMolDescriptors.CalcCrippenDescriptors(NoneType)\ndid not match C++ signature:\n    CalcCrippenDescriptors(RDKit::ROMol mol, bool includeHs=True, bool force=False)",
     "output_type": "error",
     "traceback": [
      "\u001b[0;31m---------------------------------------------------------------------------\u001b[0m",
      "\u001b[0;31mArgumentError\u001b[0m                             Traceback (most recent call last)",
      "\u001b[0;32m<ipython-input-23-61ccf61b674c>\u001b[0m in \u001b[0;36m<module>\u001b[0;34m\u001b[0m\n\u001b[0;32m----> 1\u001b[0;31m \u001b[0mlogp_train\u001b[0m \u001b[0;34m=\u001b[0m \u001b[0msmiles_train\u001b[0m\u001b[0;34m.\u001b[0m\u001b[0mapply\u001b[0m\u001b[0;34m(\u001b[0m\u001b[0mChem\u001b[0m\u001b[0;34m.\u001b[0m\u001b[0mMolFromSmiles\u001b[0m\u001b[0;34m)\u001b[0m\u001b[0;34m.\u001b[0m\u001b[0mapply\u001b[0m\u001b[0;34m(\u001b[0m\u001b[0mDescriptors\u001b[0m\u001b[0;34m.\u001b[0m\u001b[0mMolLogP\u001b[0m\u001b[0;34m)\u001b[0m\u001b[0;34m\u001b[0m\u001b[0;34m\u001b[0m\u001b[0m\n\u001b[0m\u001b[1;32m      2\u001b[0m \u001b[0mlogp_model\u001b[0m \u001b[0;34m=\u001b[0m \u001b[0mSequential\u001b[0m\u001b[0;34m(\u001b[0m\u001b[0;34m)\u001b[0m                                                       \u001b[0;31m# Initailizing the Sequential Model.\u001b[0m\u001b[0;34m\u001b[0m\u001b[0;34m\u001b[0m\u001b[0m\n\u001b[1;32m      3\u001b[0m \u001b[0mlogp_model\u001b[0m\u001b[0;34m.\u001b[0m\u001b[0madd\u001b[0m\u001b[0;34m(\u001b[0m\u001b[0mDense\u001b[0m\u001b[0;34m(\u001b[0m\u001b[0;36m128\u001b[0m\u001b[0;34m,\u001b[0m \u001b[0minput_shape\u001b[0m\u001b[0;34m=\u001b[0m\u001b[0;34m(\u001b[0m\u001b[0mlatent_dim\u001b[0m\u001b[0;34m,\u001b[0m \u001b[0;34m)\u001b[0m\u001b[0;34m,\u001b[0m \u001b[0mactivation\u001b[0m\u001b[0;34m=\u001b[0m\u001b[0;34m\"relu\"\u001b[0m\u001b[0;34m)\u001b[0m\u001b[0;34m)\u001b[0m       \u001b[0;31m# Adding the first Dense Layer.\u001b[0m\u001b[0;34m\u001b[0m\u001b[0;34m\u001b[0m\u001b[0m\n\u001b[1;32m      4\u001b[0m \u001b[0mlogp_model\u001b[0m\u001b[0;34m.\u001b[0m\u001b[0madd\u001b[0m\u001b[0;34m(\u001b[0m\u001b[0mDense\u001b[0m\u001b[0;34m(\u001b[0m\u001b[0;36m128\u001b[0m\u001b[0;34m,\u001b[0m \u001b[0mactivation\u001b[0m\u001b[0;34m=\u001b[0m\u001b[0;34m\"relu\"\u001b[0m\u001b[0;34m)\u001b[0m\u001b[0;34m)\u001b[0m                                   \u001b[0;31m# Adding the second Dense Layer.\u001b[0m\u001b[0;34m\u001b[0m\u001b[0;34m\u001b[0m\u001b[0m\n\u001b[1;32m      5\u001b[0m \u001b[0mlogp_model\u001b[0m\u001b[0;34m.\u001b[0m\u001b[0madd\u001b[0m\u001b[0;34m(\u001b[0m\u001b[0mDense\u001b[0m\u001b[0;34m(\u001b[0m\u001b[0;36m1\u001b[0m\u001b[0;34m)\u001b[0m\u001b[0;34m)\u001b[0m                                                        \u001b[0;31m# Output Dense Layer.\u001b[0m\u001b[0;34m\u001b[0m\u001b[0;34m\u001b[0m\u001b[0m\n",
      "\u001b[0;32m~/.conda/envs/rdkit/lib/python3.6/site-packages/pandas/core/series.py\u001b[0m in \u001b[0;36mapply\u001b[0;34m(self, func, convert_dtype, args, **kwds)\u001b[0m\n\u001b[1;32m   4198\u001b[0m             \u001b[0;32melse\u001b[0m\u001b[0;34m:\u001b[0m\u001b[0;34m\u001b[0m\u001b[0;34m\u001b[0m\u001b[0m\n\u001b[1;32m   4199\u001b[0m                 \u001b[0mvalues\u001b[0m \u001b[0;34m=\u001b[0m \u001b[0mself\u001b[0m\u001b[0;34m.\u001b[0m\u001b[0mastype\u001b[0m\u001b[0;34m(\u001b[0m\u001b[0mobject\u001b[0m\u001b[0;34m)\u001b[0m\u001b[0;34m.\u001b[0m\u001b[0m_values\u001b[0m\u001b[0;34m\u001b[0m\u001b[0;34m\u001b[0m\u001b[0m\n\u001b[0;32m-> 4200\u001b[0;31m                 \u001b[0mmapped\u001b[0m \u001b[0;34m=\u001b[0m \u001b[0mlib\u001b[0m\u001b[0;34m.\u001b[0m\u001b[0mmap_infer\u001b[0m\u001b[0;34m(\u001b[0m\u001b[0mvalues\u001b[0m\u001b[0;34m,\u001b[0m \u001b[0mf\u001b[0m\u001b[0;34m,\u001b[0m \u001b[0mconvert\u001b[0m\u001b[0;34m=\u001b[0m\u001b[0mconvert_dtype\u001b[0m\u001b[0;34m)\u001b[0m\u001b[0;34m\u001b[0m\u001b[0;34m\u001b[0m\u001b[0m\n\u001b[0m\u001b[1;32m   4201\u001b[0m \u001b[0;34m\u001b[0m\u001b[0m\n\u001b[1;32m   4202\u001b[0m         \u001b[0;32mif\u001b[0m \u001b[0mlen\u001b[0m\u001b[0;34m(\u001b[0m\u001b[0mmapped\u001b[0m\u001b[0;34m)\u001b[0m \u001b[0;32mand\u001b[0m \u001b[0misinstance\u001b[0m\u001b[0;34m(\u001b[0m\u001b[0mmapped\u001b[0m\u001b[0;34m[\u001b[0m\u001b[0;36m0\u001b[0m\u001b[0;34m]\u001b[0m\u001b[0;34m,\u001b[0m \u001b[0mSeries\u001b[0m\u001b[0;34m)\u001b[0m\u001b[0;34m:\u001b[0m\u001b[0;34m\u001b[0m\u001b[0;34m\u001b[0m\u001b[0m\n",
      "\u001b[0;32mpandas/_libs/lib.pyx\u001b[0m in \u001b[0;36mpandas._libs.lib.map_infer\u001b[0;34m()\u001b[0m\n",
      "\u001b[0;32m~/.conda/envs/rdkit/lib/python3.6/site-packages/rdkit/Chem/Crippen.py\u001b[0m in \u001b[0;36m<lambda>\u001b[0;34m(*x, **y)\u001b[0m\n\u001b[1;32m    168\u001b[0m \u001b[0m_pyMolMR\u001b[0m\u001b[0;34m.\u001b[0m\u001b[0mversion\u001b[0m \u001b[0;34m=\u001b[0m \u001b[0;34m\"1.1.0\"\u001b[0m\u001b[0;34m\u001b[0m\u001b[0;34m\u001b[0m\u001b[0m\n\u001b[1;32m    169\u001b[0m \u001b[0;34m\u001b[0m\u001b[0m\n\u001b[0;32m--> 170\u001b[0;31m \u001b[0mMolLogP\u001b[0m \u001b[0;34m=\u001b[0m \u001b[0;32mlambda\u001b[0m \u001b[0;34m*\u001b[0m\u001b[0mx\u001b[0m\u001b[0;34m,\u001b[0m \u001b[0;34m**\u001b[0m\u001b[0my\u001b[0m\u001b[0;34m:\u001b[0m \u001b[0mrdMolDescriptors\u001b[0m\u001b[0;34m.\u001b[0m\u001b[0mCalcCrippenDescriptors\u001b[0m\u001b[0;34m(\u001b[0m\u001b[0;34m*\u001b[0m\u001b[0mx\u001b[0m\u001b[0;34m,\u001b[0m \u001b[0;34m**\u001b[0m\u001b[0my\u001b[0m\u001b[0;34m)\u001b[0m\u001b[0;34m[\u001b[0m\u001b[0;36m0\u001b[0m\u001b[0;34m]\u001b[0m\u001b[0;34m\u001b[0m\u001b[0;34m\u001b[0m\u001b[0m\n\u001b[0m\u001b[1;32m    171\u001b[0m \u001b[0mMolLogP\u001b[0m\u001b[0;34m.\u001b[0m\u001b[0mversion\u001b[0m \u001b[0;34m=\u001b[0m \u001b[0mrdMolDescriptors\u001b[0m\u001b[0;34m.\u001b[0m\u001b[0m_CalcCrippenDescriptors_version\u001b[0m\u001b[0;34m\u001b[0m\u001b[0;34m\u001b[0m\u001b[0m\n\u001b[1;32m    172\u001b[0m MolLogP.__doc__ = \"\"\" Wildman-Crippen LogP value\n",
      "\u001b[0;31mArgumentError\u001b[0m: Python argument types in\n    rdkit.Chem.rdMolDescriptors.CalcCrippenDescriptors(NoneType)\ndid not match C++ signature:\n    CalcCrippenDescriptors(RDKit::ROMol mol, bool includeHs=True, bool force=False)"
     ]
    }
   ],
   "source": [
    "logp_train = smiles_train.apply(Chem.MolFromSmiles).apply(Descriptors.MolLogP)\n",
    "logp_model = Sequential()                                                       # Initailizing the Sequential Model. \n",
    "logp_model.add(Dense(128, input_shape=(latent_dim, ), activation=\"relu\"))       # Adding the first Dense Layer.\n",
    "logp_model.add(Dense(128, activation=\"relu\"))                                   # Adding the second Dense Layer. \n",
    "logp_model.add(Dense(1))                                                        # Output Dense Layer.\n",
    "#@ COMPILING AND TRAINING THE MODEL:\n",
    "logp_model.compile(optimizer=\"adam\", loss=\"mse\")                                # Compiling the Model. \n",
    "rlr = ReduceLROnPlateau(monitor=\"loss\", factor=0.5, patience=10,\n",
    "                        min_lr=0.000001, verbose=1, min_delta=1e-5)             # Initializing the Callbacks.\n",
    "logp_model.fit(x_train_latent, logp_train, batch_size=128, epochs=40, \n",
    "               callbacks=[rlr])                                                 # Training the Model. "
   ]
  },
  {
   "cell_type": "code",
   "execution_count": null,
   "metadata": {},
   "outputs": [],
   "source": []
  }
 ],
 "metadata": {
  "kernelspec": {
   "display_name": "Python 3 (ipykernel)",
   "language": "python",
   "name": "python3"
  },
  "language_info": {
   "codemirror_mode": {
    "name": "ipython",
    "version": 3
   },
   "file_extension": ".py",
   "mimetype": "text/x-python",
   "name": "python",
   "nbconvert_exporter": "python",
   "pygments_lexer": "ipython3",
   "version": "3.9.12"
  }
 },
 "nbformat": 4,
 "nbformat_minor": 4
}
