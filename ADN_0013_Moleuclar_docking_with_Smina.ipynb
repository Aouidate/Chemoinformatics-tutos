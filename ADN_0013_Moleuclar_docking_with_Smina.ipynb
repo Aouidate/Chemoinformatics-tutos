{
 "cells": [
  {
   "cell_type": "markdown",
   "id": "13403708-a6fd-4e9a-98c0-e403a832b8bf",
   "metadata": {},
   "source": [
    "# ADN_T013. Molecular docking with Smina\n",
    "\n",
    "Authors:\n",
    "* Adnane Aouidate, (2019-2020), Computer Aided Drug Discovery Center, Shenzhen Institute of Advanced Technology(SIAT), Shenzhen, China.\n",
    "* Adnane Aouidate, (2021-2022), Structural Bioinformatics and Chemoinformatics, Institute of Organic and Analytical Chemistry (ICOA), Orléans, France.\n",
    "* Update , 2023, Ait Melloul Faculty of Applied Sciences, Ibn Zohr University, Agadir, Morocco,\n",
    "\n",
    "## Aim of this talktorial\n",
    "\n",
    "In the current tutorial I alm going to teach you how to get data from a well known database of bioactive compounds with drug-like characteristics, their biological actions, and the related targets that is called ChEMBL (Chemical Entities of Biological Interest). It is a useful tool for drug discovery research and is frequently utilized by academic and industrial researchers.\n",
    "\n",
    "The European Molecular Biology Laboratory-European Bioinformatics Institute (EMBL-EBI) created and maintains ChEMBL, which has data on more than 2 million chemicals and more than 15,000 protein targets. The database contains data on the compounds' potency, effectiveness, and selectivity as well as data on their physicochemical characteristics, toxicity, and pharmacokinetics.\n",
    "\n",
    "ChEMBL is a tool that allows researchers to find new drug candidates, foresee drug-target interactions, and rank targets for drug development.\n",
    "\n",
    "Overall, ChEMBL is a useful tool for drug discovery research and has made a substantial impact on the identification of novel medicines.\n",
    "\n",
    "So we will learn how to use python (API) in order to get data and curate our database before using it later on in Machine leanring models.\n",
    "Let's get statrted \n",
    "\n",
    "We can direcltly get data from their website : \n",
    "https://www.ebi.ac.uk/chembl/\n",
    "\n",
    "But in here, we will use their module :\n",
    "\n",
    "**chembl_webresource_client** that is accessible from https://github.com/chembl/chembl_webresource_client\n"
   ]
  },
  {
   "cell_type": "code",
   "execution_count": null,
   "id": "cb8f1a0f-3706-4f85-be15-0396f23fe56c",
   "metadata": {},
   "outputs": [],
   "source": []
  }
 ],
 "metadata": {
  "kernelspec": {
   "display_name": "Python 3 (ipykernel)",
   "language": "python",
   "name": "python3"
  },
  "language_info": {
   "codemirror_mode": {
    "name": "ipython",
    "version": 3
   },
   "file_extension": ".py",
   "mimetype": "text/x-python",
   "name": "python",
   "nbconvert_exporter": "python",
   "pygments_lexer": "ipython3",
   "version": "3.7.13"
  }
 },
 "nbformat": 4,
 "nbformat_minor": 5
}
