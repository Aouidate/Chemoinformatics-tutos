{
 "cells": [
  {
   "cell_type": "code",
   "execution_count": 1,
   "metadata": {},
   "outputs": [],
   "source": [
    "import pandas as pd\n",
    "import numpy as np\n",
    "from rdkit.Chem import PandasTools\n",
    "from chembl_webresource_client.new_client import new_client"
   ]
  },
  {
   "cell_type": "code",
   "execution_count": 19,
   "metadata": {},
   "outputs": [],
   "source": [
    "target = new_client.target\n",
    "compound = new_client.molecule\n",
    "bioactivities = new_client.activity"
   ]
  },
  {
   "cell_type": "markdown",
   "metadata": {},
   "source": [
    "### Get target data (Acetylcholinerase)\n",
    "\n",
    "* Get UniProt ID of the target of interest (ACE2:  Q9BYF1 (https://www.uniprot.org/uniprot/Q9BYF1)) from [UniProt website] and (SARS-CoV-2-Spike: P0DTC2 (https://www.uniprot.org/uniprot/P0DTC2)) from [UniProt website] (https://www.uniprot.org/)\n",
    "* Use UniProt ID to get target information\n",
    "\n",
    "Select a different UniProt ID, if you are interested in another target. (all depends on you)"
   ]
  },
  {
   "cell_type": "code",
   "execution_count": 3,
   "metadata": {},
   "outputs": [
    {
     "data": {
      "text/html": [
       "<div>\n",
       "<style scoped>\n",
       "    .dataframe tbody tr th:only-of-type {\n",
       "        vertical-align: middle;\n",
       "    }\n",
       "\n",
       "    .dataframe tbody tr th {\n",
       "        vertical-align: top;\n",
       "    }\n",
       "\n",
       "    .dataframe thead th {\n",
       "        text-align: right;\n",
       "    }\n",
       "</style>\n",
       "<table border=\"1\" class=\"dataframe\">\n",
       "  <thead>\n",
       "    <tr style=\"text-align: right;\">\n",
       "      <th></th>\n",
       "      <th>organism</th>\n",
       "      <th>pref_name</th>\n",
       "      <th>target_chembl_id</th>\n",
       "      <th>target_type</th>\n",
       "    </tr>\n",
       "  </thead>\n",
       "  <tbody>\n",
       "    <tr>\n",
       "      <th>0</th>\n",
       "      <td>Homo sapiens</td>\n",
       "      <td>Acetylcholinesterase</td>\n",
       "      <td>CHEMBL220</td>\n",
       "      <td>SINGLE PROTEIN</td>\n",
       "    </tr>\n",
       "    <tr>\n",
       "      <th>1</th>\n",
       "      <td>Homo sapiens</td>\n",
       "      <td>Cholinesterases; ACHE &amp; BCHE</td>\n",
       "      <td>CHEMBL2095233</td>\n",
       "      <td>SELECTIVITY GROUP</td>\n",
       "    </tr>\n",
       "    <tr>\n",
       "      <th>2</th>\n",
       "      <td>Drosophila melanogaster</td>\n",
       "      <td>Acetylcholinesterase</td>\n",
       "      <td>CHEMBL2242744</td>\n",
       "      <td>SINGLE PROTEIN</td>\n",
       "    </tr>\n",
       "    <tr>\n",
       "      <th>3</th>\n",
       "      <td>Torpedo californica</td>\n",
       "      <td>Acetylcholinesterase</td>\n",
       "      <td>CHEMBL4780</td>\n",
       "      <td>SINGLE PROTEIN</td>\n",
       "    </tr>\n",
       "    <tr>\n",
       "      <th>4</th>\n",
       "      <td>Mus musculus</td>\n",
       "      <td>Acetylcholinesterase</td>\n",
       "      <td>CHEMBL3198</td>\n",
       "      <td>SINGLE PROTEIN</td>\n",
       "    </tr>\n",
       "    <tr>\n",
       "      <th>5</th>\n",
       "      <td>Rattus norvegicus</td>\n",
       "      <td>Acetylcholinesterase</td>\n",
       "      <td>CHEMBL3199</td>\n",
       "      <td>SINGLE PROTEIN</td>\n",
       "    </tr>\n",
       "    <tr>\n",
       "      <th>6</th>\n",
       "      <td>Electrophorus electricus</td>\n",
       "      <td>Acetylcholinesterase</td>\n",
       "      <td>CHEMBL4078</td>\n",
       "      <td>SINGLE PROTEIN</td>\n",
       "    </tr>\n",
       "    <tr>\n",
       "      <th>7</th>\n",
       "      <td>Bos taurus</td>\n",
       "      <td>Acetylcholinesterase</td>\n",
       "      <td>CHEMBL4768</td>\n",
       "      <td>SINGLE PROTEIN</td>\n",
       "    </tr>\n",
       "    <tr>\n",
       "      <th>8</th>\n",
       "      <td>Anopheles gambiae</td>\n",
       "      <td>Acetylcholinesterase</td>\n",
       "      <td>CHEMBL2046266</td>\n",
       "      <td>SINGLE PROTEIN</td>\n",
       "    </tr>\n",
       "    <tr>\n",
       "      <th>9</th>\n",
       "      <td>Bemisia tabaci</td>\n",
       "      <td>AChE2</td>\n",
       "      <td>CHEMBL2366409</td>\n",
       "      <td>SINGLE PROTEIN</td>\n",
       "    </tr>\n",
       "    <tr>\n",
       "      <th>10</th>\n",
       "      <td>Leptinotarsa decemlineata</td>\n",
       "      <td>Acetylcholinesterase</td>\n",
       "      <td>CHEMBL2366490</td>\n",
       "      <td>SINGLE PROTEIN</td>\n",
       "    </tr>\n",
       "    <tr>\n",
       "      <th>11</th>\n",
       "      <td>Nephotettix cincticeps</td>\n",
       "      <td>Ace-orthologous acetylcholinesterase</td>\n",
       "      <td>CHEMBL2366514</td>\n",
       "      <td>SINGLE PROTEIN</td>\n",
       "    </tr>\n",
       "    <tr>\n",
       "      <th>12</th>\n",
       "      <td>Gallus gallus</td>\n",
       "      <td>Acetylcholinesterase</td>\n",
       "      <td>CHEMBL3227914</td>\n",
       "      <td>SINGLE PROTEIN</td>\n",
       "    </tr>\n",
       "    <tr>\n",
       "      <th>13</th>\n",
       "      <td>Danio rerio</td>\n",
       "      <td>Acetylcholinesterase</td>\n",
       "      <td>CHEMBL3308995</td>\n",
       "      <td>SINGLE PROTEIN</td>\n",
       "    </tr>\n",
       "    <tr>\n",
       "      <th>14</th>\n",
       "      <td>Aedes aegypti</td>\n",
       "      <td>Acetylcholinesterase</td>\n",
       "      <td>CHEMBL4295607</td>\n",
       "      <td>SINGLE PROTEIN</td>\n",
       "    </tr>\n",
       "    <tr>\n",
       "      <th>15</th>\n",
       "      <td>Musca domestica</td>\n",
       "      <td>Acetylcholinesterase</td>\n",
       "      <td>CHEMBL5752</td>\n",
       "      <td>SINGLE PROTEIN</td>\n",
       "    </tr>\n",
       "    <tr>\n",
       "      <th>16</th>\n",
       "      <td>Plutella xylostella</td>\n",
       "      <td>Acetylcholinesterase</td>\n",
       "      <td>CHEMBL2242729</td>\n",
       "      <td>SINGLE PROTEIN</td>\n",
       "    </tr>\n",
       "    <tr>\n",
       "      <th>17</th>\n",
       "      <td>Musca domestica</td>\n",
       "      <td>Acetylcholinesterase</td>\n",
       "      <td>CHEMBL2242743</td>\n",
       "      <td>SINGLE PROTEIN</td>\n",
       "    </tr>\n",
       "    <tr>\n",
       "      <th>18</th>\n",
       "      <td>Pediculus humanus capitis</td>\n",
       "      <td>Acetylcholinesterase</td>\n",
       "      <td>CHEMBL2362988</td>\n",
       "      <td>SINGLE PROTEIN</td>\n",
       "    </tr>\n",
       "    <tr>\n",
       "      <th>19</th>\n",
       "      <td>Spodoptera litura</td>\n",
       "      <td>Acetylcholinesterase</td>\n",
       "      <td>CHEMBL2366422</td>\n",
       "      <td>SINGLE PROTEIN</td>\n",
       "    </tr>\n",
       "    <tr>\n",
       "      <th>20</th>\n",
       "      <td>Laodelphax striatella</td>\n",
       "      <td>Acetylcholinesterase</td>\n",
       "      <td>CHEMBL2366446</td>\n",
       "      <td>SINGLE PROTEIN</td>\n",
       "    </tr>\n",
       "    <tr>\n",
       "      <th>21</th>\n",
       "      <td>Schizaphis graminum</td>\n",
       "      <td>Acetylcholinesterase</td>\n",
       "      <td>CHEMBL2366511</td>\n",
       "      <td>SINGLE PROTEIN</td>\n",
       "    </tr>\n",
       "    <tr>\n",
       "      <th>22</th>\n",
       "      <td>Caenorhabditis elegans</td>\n",
       "      <td>Acetylcholinesterase 1</td>\n",
       "      <td>CHEMBL3341583</td>\n",
       "      <td>SINGLE PROTEIN</td>\n",
       "    </tr>\n",
       "    <tr>\n",
       "      <th>23</th>\n",
       "      <td>Rattus norvegicus</td>\n",
       "      <td>Acetylcholinesterase and butyrylcholinesterase...</td>\n",
       "      <td>CHEMBL2111475</td>\n",
       "      <td>SELECTIVITY GROUP</td>\n",
       "    </tr>\n",
       "  </tbody>\n",
       "</table>\n",
       "</div>"
      ],
      "text/plain": [
       "                     organism  \\\n",
       "0                Homo sapiens   \n",
       "1                Homo sapiens   \n",
       "2     Drosophila melanogaster   \n",
       "3         Torpedo californica   \n",
       "4                Mus musculus   \n",
       "5           Rattus norvegicus   \n",
       "6    Electrophorus electricus   \n",
       "7                  Bos taurus   \n",
       "8           Anopheles gambiae   \n",
       "9              Bemisia tabaci   \n",
       "10  Leptinotarsa decemlineata   \n",
       "11     Nephotettix cincticeps   \n",
       "12              Gallus gallus   \n",
       "13                Danio rerio   \n",
       "14              Aedes aegypti   \n",
       "15            Musca domestica   \n",
       "16        Plutella xylostella   \n",
       "17            Musca domestica   \n",
       "18  Pediculus humanus capitis   \n",
       "19          Spodoptera litura   \n",
       "20      Laodelphax striatella   \n",
       "21        Schizaphis graminum   \n",
       "22     Caenorhabditis elegans   \n",
       "23          Rattus norvegicus   \n",
       "\n",
       "                                            pref_name target_chembl_id  \\\n",
       "0                                Acetylcholinesterase        CHEMBL220   \n",
       "1                        Cholinesterases; ACHE & BCHE    CHEMBL2095233   \n",
       "2                                Acetylcholinesterase    CHEMBL2242744   \n",
       "3                                Acetylcholinesterase       CHEMBL4780   \n",
       "4                                Acetylcholinesterase       CHEMBL3198   \n",
       "5                                Acetylcholinesterase       CHEMBL3199   \n",
       "6                                Acetylcholinesterase       CHEMBL4078   \n",
       "7                                Acetylcholinesterase       CHEMBL4768   \n",
       "8                                Acetylcholinesterase    CHEMBL2046266   \n",
       "9                                               AChE2    CHEMBL2366409   \n",
       "10                               Acetylcholinesterase    CHEMBL2366490   \n",
       "11               Ace-orthologous acetylcholinesterase    CHEMBL2366514   \n",
       "12                               Acetylcholinesterase    CHEMBL3227914   \n",
       "13                               Acetylcholinesterase    CHEMBL3308995   \n",
       "14                               Acetylcholinesterase    CHEMBL4295607   \n",
       "15                               Acetylcholinesterase       CHEMBL5752   \n",
       "16                               Acetylcholinesterase    CHEMBL2242729   \n",
       "17                               Acetylcholinesterase    CHEMBL2242743   \n",
       "18                               Acetylcholinesterase    CHEMBL2362988   \n",
       "19                               Acetylcholinesterase    CHEMBL2366422   \n",
       "20                               Acetylcholinesterase    CHEMBL2366446   \n",
       "21                               Acetylcholinesterase    CHEMBL2366511   \n",
       "22                             Acetylcholinesterase 1    CHEMBL3341583   \n",
       "23  Acetylcholinesterase and butyrylcholinesterase...    CHEMBL2111475   \n",
       "\n",
       "          target_type  \n",
       "0      SINGLE PROTEIN  \n",
       "1   SELECTIVITY GROUP  \n",
       "2      SINGLE PROTEIN  \n",
       "3      SINGLE PROTEIN  \n",
       "4      SINGLE PROTEIN  \n",
       "5      SINGLE PROTEIN  \n",
       "6      SINGLE PROTEIN  \n",
       "7      SINGLE PROTEIN  \n",
       "8      SINGLE PROTEIN  \n",
       "9      SINGLE PROTEIN  \n",
       "10     SINGLE PROTEIN  \n",
       "11     SINGLE PROTEIN  \n",
       "12     SINGLE PROTEIN  \n",
       "13     SINGLE PROTEIN  \n",
       "14     SINGLE PROTEIN  \n",
       "15     SINGLE PROTEIN  \n",
       "16     SINGLE PROTEIN  \n",
       "17     SINGLE PROTEIN  \n",
       "18     SINGLE PROTEIN  \n",
       "19     SINGLE PROTEIN  \n",
       "20     SINGLE PROTEIN  \n",
       "21     SINGLE PROTEIN  \n",
       "22     SINGLE PROTEIN  \n",
       "23  SELECTIVITY GROUP  "
      ]
     },
     "execution_count": 3,
     "metadata": {},
     "output_type": "execute_result"
    }
   ],
   "source": [
    "# Get target information from ChEMBL but restrict it to specified values only\n",
    "target_query = target.search('acetylcholinesterase').only(\"target_chembl_id\", \"organism\", \"pref_name\", \"target_type\")\n",
    "targets = pd.DataFrame.from_dict(target_query)\n",
    "targets"
   ]
  },
  {
   "cell_type": "markdown",
   "metadata": {},
   "source": [
    "#### Fetch target data from ChEMBL"
   ]
  },
  {
   "cell_type": "code",
   "execution_count": 4,
   "metadata": {},
   "outputs": [
    {
     "data": {
      "text/plain": [
       "organism                    Homo sapiens\n",
       "pref_name           Acetylcholinesterase\n",
       "target_chembl_id               CHEMBL220\n",
       "target_type               SINGLE PROTEIN\n",
       "Name: 0, dtype: object"
      ]
     },
     "execution_count": 4,
     "metadata": {},
     "output_type": "execute_result"
    }
   ],
   "source": [
    "target = targets.iloc[0]\n",
    "target"
   ]
  },
  {
   "cell_type": "markdown",
   "metadata": {},
   "source": [
    "Save selected ChEMBL ID."
   ]
  },
  {
   "cell_type": "code",
   "execution_count": 5,
   "metadata": {},
   "outputs": [
    {
     "name": "stdout",
     "output_type": "stream",
     "text": [
      "taget chembl id is: CHEMBL220\n"
     ]
    }
   ],
   "source": [
    "chembl_id = target.target_chembl_id\n",
    "print(f\"taget chembl id is: {chembl_id}\")"
   ]
  },
  {
   "cell_type": "markdown",
   "metadata": {},
   "source": [
    "### Get bioactivity data\n",
    "\n",
    "Now, we want to query bioactivity data for the target of interest."
   ]
  },
  {
   "cell_type": "markdown",
   "metadata": {},
   "source": [
    "#### Fetch bioactivity data for the target from ChEMBL"
   ]
  },
  {
   "cell_type": "markdown",
   "metadata": {},
   "source": [
    "In this step, we fetch the bioactivity data and filter it to only consider\n",
    "\n",
    "* human proteins, \n",
    "* bioactivity type Ki, \n",
    "* exact measurements (relation `'='`), and\n",
    "* binding data (assay type `'B'`)."
   ]
  },
  {
   "cell_type": "code",
   "execution_count": 6,
   "metadata": {},
   "outputs": [
    {
     "name": "stdout",
     "output_type": "stream",
     "text": [
      "the lenght and type of Ace_bioactivities are : 576, <class 'chembl_webresource_client.query_set.QuerySet'>\n"
     ]
    }
   ],
   "source": [
    "Ace_bioactivities = bioactivities.filter(target_chembl_id= chembl_id,\n",
    "                                        type=\"Ki\",\n",
    "                                        relation = \"=\",\n",
    "                                        assay_type = \"B\").only(\"activity_id\",\n",
    "                                                              \"assay_chembl_id\",\n",
    "                                                               \"assay_description\",\n",
    "                                                               \"assay_type\",\n",
    "                                                               \"molecule_chembl_id\",\n",
    "                                                               \"type\",\n",
    "                                                               \"standard_units\",\n",
    "                                                               \"relation\",\n",
    "                                                               \"standard_value\",\n",
    "                                                               \"target_chembl_id\",\n",
    "                                                               \"target_organism\",)\n",
    "print(f\"the lenght and type of Ace_bioactivities are : {len(Ace_bioactivities)}, {type(Ace_bioactivities)}\")\n"
   ]
  },
  {
   "cell_type": "code",
   "execution_count": 7,
   "metadata": {},
   "outputs": [
    {
     "name": "stdout",
     "output_type": "stream",
     "text": [
      "the lenght and the type of the first element: 13, <class 'dict'>\n"
     ]
    },
    {
     "data": {
      "text/plain": [
       "{'activity_id': 111024,\n",
       " 'assay_chembl_id': 'CHEMBL641011',\n",
       " 'assay_description': 'Inhibition constant determined against Acetylcholinesterase (AChE) receptor.',\n",
       " 'assay_type': 'B',\n",
       " 'molecule_chembl_id': 'CHEMBL11805',\n",
       " 'relation': '=',\n",
       " 'standard_units': 'nM',\n",
       " 'standard_value': '0.104',\n",
       " 'target_chembl_id': 'CHEMBL220',\n",
       " 'target_organism': 'Homo sapiens',\n",
       " 'type': 'Ki',\n",
       " 'units': 'nM',\n",
       " 'value': '0.104'}"
      ]
     },
     "execution_count": 7,
     "metadata": {},
     "output_type": "execute_result"
    }
   ],
   "source": [
    "print(f\"the lenght and the type of the first element: {len(Ace_bioactivities[0])}, {type(Ace_bioactivities[0])}\")\n",
    "Ace_bioactivities[0]"
   ]
  },
  {
   "cell_type": "code",
   "execution_count": 8,
   "metadata": {
    "scrolled": true
   },
   "outputs": [
    {
     "name": "stdout",
     "output_type": "stream",
     "text": [
      "Dataframe shape : (576, 13)\n"
     ]
    },
    {
     "data": {
      "text/html": [
       "<div>\n",
       "<style scoped>\n",
       "    .dataframe tbody tr th:only-of-type {\n",
       "        vertical-align: middle;\n",
       "    }\n",
       "\n",
       "    .dataframe tbody tr th {\n",
       "        vertical-align: top;\n",
       "    }\n",
       "\n",
       "    .dataframe thead th {\n",
       "        text-align: right;\n",
       "    }\n",
       "</style>\n",
       "<table border=\"1\" class=\"dataframe\">\n",
       "  <thead>\n",
       "    <tr style=\"text-align: right;\">\n",
       "      <th></th>\n",
       "      <th>activity_id</th>\n",
       "      <th>assay_chembl_id</th>\n",
       "      <th>assay_description</th>\n",
       "      <th>assay_type</th>\n",
       "      <th>molecule_chembl_id</th>\n",
       "      <th>relation</th>\n",
       "      <th>standard_units</th>\n",
       "      <th>standard_value</th>\n",
       "      <th>target_chembl_id</th>\n",
       "      <th>target_organism</th>\n",
       "      <th>type</th>\n",
       "      <th>units</th>\n",
       "      <th>value</th>\n",
       "    </tr>\n",
       "  </thead>\n",
       "  <tbody>\n",
       "    <tr>\n",
       "      <th>0</th>\n",
       "      <td>111024</td>\n",
       "      <td>CHEMBL641011</td>\n",
       "      <td>Inhibition constant determined against Acetylc...</td>\n",
       "      <td>B</td>\n",
       "      <td>CHEMBL11805</td>\n",
       "      <td>=</td>\n",
       "      <td>nM</td>\n",
       "      <td>0.104</td>\n",
       "      <td>CHEMBL220</td>\n",
       "      <td>Homo sapiens</td>\n",
       "      <td>Ki</td>\n",
       "      <td>nM</td>\n",
       "      <td>0.104</td>\n",
       "    </tr>\n",
       "    <tr>\n",
       "      <th>1</th>\n",
       "      <td>118575</td>\n",
       "      <td>CHEMBL641012</td>\n",
       "      <td>Inhibitory activity against human AChE</td>\n",
       "      <td>B</td>\n",
       "      <td>CHEMBL208599</td>\n",
       "      <td>=</td>\n",
       "      <td>nM</td>\n",
       "      <td>0.026</td>\n",
       "      <td>CHEMBL220</td>\n",
       "      <td>Homo sapiens</td>\n",
       "      <td>Ki</td>\n",
       "      <td>nM</td>\n",
       "      <td>0.026</td>\n",
       "    </tr>\n",
       "    <tr>\n",
       "      <th>2</th>\n",
       "      <td>125075</td>\n",
       "      <td>CHEMBL641011</td>\n",
       "      <td>Inhibition constant determined against Acetylc...</td>\n",
       "      <td>B</td>\n",
       "      <td>CHEMBL60745</td>\n",
       "      <td>=</td>\n",
       "      <td>nM</td>\n",
       "      <td>1.63</td>\n",
       "      <td>CHEMBL220</td>\n",
       "      <td>Homo sapiens</td>\n",
       "      <td>Ki</td>\n",
       "      <td>nM</td>\n",
       "      <td>1.63</td>\n",
       "    </tr>\n",
       "    <tr>\n",
       "      <th>3</th>\n",
       "      <td>733829</td>\n",
       "      <td>CHEMBL641691</td>\n",
       "      <td>Inhibitory activity of compound against acetyl...</td>\n",
       "      <td>B</td>\n",
       "      <td>CHEMBL95</td>\n",
       "      <td>=</td>\n",
       "      <td>nM</td>\n",
       "      <td>151.0</td>\n",
       "      <td>CHEMBL220</td>\n",
       "      <td>Homo sapiens</td>\n",
       "      <td>Ki</td>\n",
       "      <td>nM</td>\n",
       "      <td>151.0</td>\n",
       "    </tr>\n",
       "    <tr>\n",
       "      <th>4</th>\n",
       "      <td>740235</td>\n",
       "      <td>CHEMBL641013</td>\n",
       "      <td>Inhibitory activity of compound against acetyl...</td>\n",
       "      <td>B</td>\n",
       "      <td>CHEMBL173309</td>\n",
       "      <td>=</td>\n",
       "      <td>nM</td>\n",
       "      <td>12.2</td>\n",
       "      <td>CHEMBL220</td>\n",
       "      <td>Homo sapiens</td>\n",
       "      <td>Ki</td>\n",
       "      <td>nM</td>\n",
       "      <td>12.2</td>\n",
       "    </tr>\n",
       "    <tr>\n",
       "      <th>...</th>\n",
       "      <td>...</td>\n",
       "      <td>...</td>\n",
       "      <td>...</td>\n",
       "      <td>...</td>\n",
       "      <td>...</td>\n",
       "      <td>...</td>\n",
       "      <td>...</td>\n",
       "      <td>...</td>\n",
       "      <td>...</td>\n",
       "      <td>...</td>\n",
       "      <td>...</td>\n",
       "      <td>...</td>\n",
       "      <td>...</td>\n",
       "    </tr>\n",
       "    <tr>\n",
       "      <th>571</th>\n",
       "      <td>19054634</td>\n",
       "      <td>CHEMBL4356299</td>\n",
       "      <td>Inhibition of recombinant human AChE assessed ...</td>\n",
       "      <td>B</td>\n",
       "      <td>CHEMBL4447210</td>\n",
       "      <td>=</td>\n",
       "      <td>nM</td>\n",
       "      <td>27.9</td>\n",
       "      <td>CHEMBL220</td>\n",
       "      <td>Homo sapiens</td>\n",
       "      <td>Ki</td>\n",
       "      <td>nM</td>\n",
       "      <td>27.9</td>\n",
       "    </tr>\n",
       "    <tr>\n",
       "      <th>572</th>\n",
       "      <td>19140507</td>\n",
       "      <td>CHEMBL4376484</td>\n",
       "      <td>Non-competitive inhibition of recombinant huma...</td>\n",
       "      <td>B</td>\n",
       "      <td>CHEMBL4474399</td>\n",
       "      <td>=</td>\n",
       "      <td>nM</td>\n",
       "      <td>129.0</td>\n",
       "      <td>CHEMBL220</td>\n",
       "      <td>Homo sapiens</td>\n",
       "      <td>Ki</td>\n",
       "      <td>nM</td>\n",
       "      <td>129.0</td>\n",
       "    </tr>\n",
       "    <tr>\n",
       "      <th>573</th>\n",
       "      <td>19449449</td>\n",
       "      <td>CHEMBL4433404</td>\n",
       "      <td>Non-competitive inhibition of human erythrocyt...</td>\n",
       "      <td>B</td>\n",
       "      <td>CHEMBL4583534</td>\n",
       "      <td>=</td>\n",
       "      <td>nM</td>\n",
       "      <td>100.0</td>\n",
       "      <td>CHEMBL220</td>\n",
       "      <td>Homo sapiens</td>\n",
       "      <td>Ki</td>\n",
       "      <td>uM</td>\n",
       "      <td>0.1</td>\n",
       "    </tr>\n",
       "    <tr>\n",
       "      <th>574</th>\n",
       "      <td>20128732</td>\n",
       "      <td>CHEMBL4510826</td>\n",
       "      <td>Acetylcholinesterase (h) CEREP ligand profiling</td>\n",
       "      <td>B</td>\n",
       "      <td>CHEMBL1651534</td>\n",
       "      <td>=</td>\n",
       "      <td>nM</td>\n",
       "      <td>0.0</td>\n",
       "      <td>CHEMBL220</td>\n",
       "      <td>Homo sapiens</td>\n",
       "      <td>Ki</td>\n",
       "      <td>nM</td>\n",
       "      <td>0.0</td>\n",
       "    </tr>\n",
       "    <tr>\n",
       "      <th>575</th>\n",
       "      <td>20129797</td>\n",
       "      <td>CHEMBL4510850</td>\n",
       "      <td>Acetylcholinesterase (h) CEREP ligand profiling</td>\n",
       "      <td>B</td>\n",
       "      <td>CHEMBL3286797</td>\n",
       "      <td>=</td>\n",
       "      <td>nM</td>\n",
       "      <td>0.0</td>\n",
       "      <td>CHEMBL220</td>\n",
       "      <td>Homo sapiens</td>\n",
       "      <td>Ki</td>\n",
       "      <td>nM</td>\n",
       "      <td>0.0</td>\n",
       "    </tr>\n",
       "  </tbody>\n",
       "</table>\n",
       "<p>576 rows × 13 columns</p>\n",
       "</div>"
      ],
      "text/plain": [
       "     activity_id assay_chembl_id  \\\n",
       "0         111024    CHEMBL641011   \n",
       "1         118575    CHEMBL641012   \n",
       "2         125075    CHEMBL641011   \n",
       "3         733829    CHEMBL641691   \n",
       "4         740235    CHEMBL641013   \n",
       "..           ...             ...   \n",
       "571     19054634   CHEMBL4356299   \n",
       "572     19140507   CHEMBL4376484   \n",
       "573     19449449   CHEMBL4433404   \n",
       "574     20128732   CHEMBL4510826   \n",
       "575     20129797   CHEMBL4510850   \n",
       "\n",
       "                                     assay_description assay_type  \\\n",
       "0    Inhibition constant determined against Acetylc...          B   \n",
       "1               Inhibitory activity against human AChE          B   \n",
       "2    Inhibition constant determined against Acetylc...          B   \n",
       "3    Inhibitory activity of compound against acetyl...          B   \n",
       "4    Inhibitory activity of compound against acetyl...          B   \n",
       "..                                                 ...        ...   \n",
       "571  Inhibition of recombinant human AChE assessed ...          B   \n",
       "572  Non-competitive inhibition of recombinant huma...          B   \n",
       "573  Non-competitive inhibition of human erythrocyt...          B   \n",
       "574    Acetylcholinesterase (h) CEREP ligand profiling          B   \n",
       "575    Acetylcholinesterase (h) CEREP ligand profiling          B   \n",
       "\n",
       "    molecule_chembl_id relation standard_units standard_value  \\\n",
       "0          CHEMBL11805        =             nM          0.104   \n",
       "1         CHEMBL208599        =             nM          0.026   \n",
       "2          CHEMBL60745        =             nM           1.63   \n",
       "3             CHEMBL95        =             nM          151.0   \n",
       "4         CHEMBL173309        =             nM           12.2   \n",
       "..                 ...      ...            ...            ...   \n",
       "571      CHEMBL4447210        =             nM           27.9   \n",
       "572      CHEMBL4474399        =             nM          129.0   \n",
       "573      CHEMBL4583534        =             nM          100.0   \n",
       "574      CHEMBL1651534        =             nM            0.0   \n",
       "575      CHEMBL3286797        =             nM            0.0   \n",
       "\n",
       "    target_chembl_id target_organism type units  value  \n",
       "0          CHEMBL220    Homo sapiens   Ki    nM  0.104  \n",
       "1          CHEMBL220    Homo sapiens   Ki    nM  0.026  \n",
       "2          CHEMBL220    Homo sapiens   Ki    nM   1.63  \n",
       "3          CHEMBL220    Homo sapiens   Ki    nM  151.0  \n",
       "4          CHEMBL220    Homo sapiens   Ki    nM   12.2  \n",
       "..               ...             ...  ...   ...    ...  \n",
       "571        CHEMBL220    Homo sapiens   Ki    nM   27.9  \n",
       "572        CHEMBL220    Homo sapiens   Ki    nM  129.0  \n",
       "573        CHEMBL220    Homo sapiens   Ki    uM    0.1  \n",
       "574        CHEMBL220    Homo sapiens   Ki    nM    0.0  \n",
       "575        CHEMBL220    Homo sapiens   Ki    nM    0.0  \n",
       "\n",
       "[576 rows x 13 columns]"
      ]
     },
     "execution_count": 8,
     "metadata": {},
     "output_type": "execute_result"
    }
   ],
   "source": [
    "df = pd.DataFrame.from_dict(Ace_bioactivities)\n",
    "print(f\"Dataframe shape : {df.shape}\")\n",
    "df"
   ]
  },
  {
   "cell_type": "code",
   "execution_count": 9,
   "metadata": {},
   "outputs": [
    {
     "data": {
      "text/plain": [
       "array(['nM', '/min/M', \"10'5/M/min\", \"10'2/M/min\", \"10'3/M/min\",\n",
       "       \"10'8/M/min\", \"10'7/M/min\", \"10'4/M/min\", \"10'6/M/min\", 'mM/min'],\n",
       "      dtype=object)"
      ]
     },
     "execution_count": 9,
     "metadata": {},
     "output_type": "execute_result"
    }
   ],
   "source": [
    "df['standard_units'].unique()"
   ]
  },
  {
   "cell_type": "code",
   "execution_count": 10,
   "metadata": {},
   "outputs": [
    {
     "name": "stderr",
     "output_type": "stream",
     "text": [
      "/home/adnane/.conda/envs/rdkit/lib/python3.6/site-packages/pandas/core/frame.py:4170: SettingWithCopyWarning: \n",
      "A value is trying to be set on a copy of a slice from a DataFrame\n",
      "\n",
      "See the caveats in the documentation: https://pandas.pydata.org/pandas-docs/stable/user_guide/indexing.html#returning-a-view-versus-a-copy\n",
      "  errors=errors,\n"
     ]
    },
    {
     "data": {
      "text/html": [
       "<div>\n",
       "<style scoped>\n",
       "    .dataframe tbody tr th:only-of-type {\n",
       "        vertical-align: middle;\n",
       "    }\n",
       "\n",
       "    .dataframe tbody tr th {\n",
       "        vertical-align: top;\n",
       "    }\n",
       "\n",
       "    .dataframe thead th {\n",
       "        text-align: right;\n",
       "    }\n",
       "</style>\n",
       "<table border=\"1\" class=\"dataframe\">\n",
       "  <thead>\n",
       "    <tr style=\"text-align: right;\">\n",
       "      <th></th>\n",
       "      <th>activity_id</th>\n",
       "      <th>assay_chembl_id</th>\n",
       "      <th>assay_description</th>\n",
       "      <th>assay_type</th>\n",
       "      <th>molecule_chembl_id</th>\n",
       "      <th>relation</th>\n",
       "      <th>standard_units</th>\n",
       "      <th>standard_value</th>\n",
       "      <th>target_chembl_id</th>\n",
       "      <th>target_organism</th>\n",
       "      <th>type</th>\n",
       "    </tr>\n",
       "  </thead>\n",
       "  <tbody>\n",
       "    <tr>\n",
       "      <th>0</th>\n",
       "      <td>111024</td>\n",
       "      <td>CHEMBL641011</td>\n",
       "      <td>Inhibition constant determined against Acetylc...</td>\n",
       "      <td>B</td>\n",
       "      <td>CHEMBL11805</td>\n",
       "      <td>=</td>\n",
       "      <td>nM</td>\n",
       "      <td>0.104</td>\n",
       "      <td>CHEMBL220</td>\n",
       "      <td>Homo sapiens</td>\n",
       "      <td>Ki</td>\n",
       "    </tr>\n",
       "    <tr>\n",
       "      <th>1</th>\n",
       "      <td>118575</td>\n",
       "      <td>CHEMBL641012</td>\n",
       "      <td>Inhibitory activity against human AChE</td>\n",
       "      <td>B</td>\n",
       "      <td>CHEMBL208599</td>\n",
       "      <td>=</td>\n",
       "      <td>nM</td>\n",
       "      <td>0.026</td>\n",
       "      <td>CHEMBL220</td>\n",
       "      <td>Homo sapiens</td>\n",
       "      <td>Ki</td>\n",
       "    </tr>\n",
       "    <tr>\n",
       "      <th>2</th>\n",
       "      <td>125075</td>\n",
       "      <td>CHEMBL641011</td>\n",
       "      <td>Inhibition constant determined against Acetylc...</td>\n",
       "      <td>B</td>\n",
       "      <td>CHEMBL60745</td>\n",
       "      <td>=</td>\n",
       "      <td>nM</td>\n",
       "      <td>1.63</td>\n",
       "      <td>CHEMBL220</td>\n",
       "      <td>Homo sapiens</td>\n",
       "      <td>Ki</td>\n",
       "    </tr>\n",
       "    <tr>\n",
       "      <th>3</th>\n",
       "      <td>733829</td>\n",
       "      <td>CHEMBL641691</td>\n",
       "      <td>Inhibitory activity of compound against acetyl...</td>\n",
       "      <td>B</td>\n",
       "      <td>CHEMBL95</td>\n",
       "      <td>=</td>\n",
       "      <td>nM</td>\n",
       "      <td>151.0</td>\n",
       "      <td>CHEMBL220</td>\n",
       "      <td>Homo sapiens</td>\n",
       "      <td>Ki</td>\n",
       "    </tr>\n",
       "    <tr>\n",
       "      <th>4</th>\n",
       "      <td>740235</td>\n",
       "      <td>CHEMBL641013</td>\n",
       "      <td>Inhibitory activity of compound against acetyl...</td>\n",
       "      <td>B</td>\n",
       "      <td>CHEMBL173309</td>\n",
       "      <td>=</td>\n",
       "      <td>nM</td>\n",
       "      <td>12.2</td>\n",
       "      <td>CHEMBL220</td>\n",
       "      <td>Homo sapiens</td>\n",
       "      <td>Ki</td>\n",
       "    </tr>\n",
       "    <tr>\n",
       "      <th>...</th>\n",
       "      <td>...</td>\n",
       "      <td>...</td>\n",
       "      <td>...</td>\n",
       "      <td>...</td>\n",
       "      <td>...</td>\n",
       "      <td>...</td>\n",
       "      <td>...</td>\n",
       "      <td>...</td>\n",
       "      <td>...</td>\n",
       "      <td>...</td>\n",
       "      <td>...</td>\n",
       "    </tr>\n",
       "    <tr>\n",
       "      <th>571</th>\n",
       "      <td>19054634</td>\n",
       "      <td>CHEMBL4356299</td>\n",
       "      <td>Inhibition of recombinant human AChE assessed ...</td>\n",
       "      <td>B</td>\n",
       "      <td>CHEMBL4447210</td>\n",
       "      <td>=</td>\n",
       "      <td>nM</td>\n",
       "      <td>27.9</td>\n",
       "      <td>CHEMBL220</td>\n",
       "      <td>Homo sapiens</td>\n",
       "      <td>Ki</td>\n",
       "    </tr>\n",
       "    <tr>\n",
       "      <th>572</th>\n",
       "      <td>19140507</td>\n",
       "      <td>CHEMBL4376484</td>\n",
       "      <td>Non-competitive inhibition of recombinant huma...</td>\n",
       "      <td>B</td>\n",
       "      <td>CHEMBL4474399</td>\n",
       "      <td>=</td>\n",
       "      <td>nM</td>\n",
       "      <td>129.0</td>\n",
       "      <td>CHEMBL220</td>\n",
       "      <td>Homo sapiens</td>\n",
       "      <td>Ki</td>\n",
       "    </tr>\n",
       "    <tr>\n",
       "      <th>573</th>\n",
       "      <td>19449449</td>\n",
       "      <td>CHEMBL4433404</td>\n",
       "      <td>Non-competitive inhibition of human erythrocyt...</td>\n",
       "      <td>B</td>\n",
       "      <td>CHEMBL4583534</td>\n",
       "      <td>=</td>\n",
       "      <td>nM</td>\n",
       "      <td>100.0</td>\n",
       "      <td>CHEMBL220</td>\n",
       "      <td>Homo sapiens</td>\n",
       "      <td>Ki</td>\n",
       "    </tr>\n",
       "    <tr>\n",
       "      <th>574</th>\n",
       "      <td>20128732</td>\n",
       "      <td>CHEMBL4510826</td>\n",
       "      <td>Acetylcholinesterase (h) CEREP ligand profiling</td>\n",
       "      <td>B</td>\n",
       "      <td>CHEMBL1651534</td>\n",
       "      <td>=</td>\n",
       "      <td>nM</td>\n",
       "      <td>0.0</td>\n",
       "      <td>CHEMBL220</td>\n",
       "      <td>Homo sapiens</td>\n",
       "      <td>Ki</td>\n",
       "    </tr>\n",
       "    <tr>\n",
       "      <th>575</th>\n",
       "      <td>20129797</td>\n",
       "      <td>CHEMBL4510850</td>\n",
       "      <td>Acetylcholinesterase (h) CEREP ligand profiling</td>\n",
       "      <td>B</td>\n",
       "      <td>CHEMBL3286797</td>\n",
       "      <td>=</td>\n",
       "      <td>nM</td>\n",
       "      <td>0.0</td>\n",
       "      <td>CHEMBL220</td>\n",
       "      <td>Homo sapiens</td>\n",
       "      <td>Ki</td>\n",
       "    </tr>\n",
       "  </tbody>\n",
       "</table>\n",
       "<p>517 rows × 11 columns</p>\n",
       "</div>"
      ],
      "text/plain": [
       "     activity_id assay_chembl_id  \\\n",
       "0         111024    CHEMBL641011   \n",
       "1         118575    CHEMBL641012   \n",
       "2         125075    CHEMBL641011   \n",
       "3         733829    CHEMBL641691   \n",
       "4         740235    CHEMBL641013   \n",
       "..           ...             ...   \n",
       "571     19054634   CHEMBL4356299   \n",
       "572     19140507   CHEMBL4376484   \n",
       "573     19449449   CHEMBL4433404   \n",
       "574     20128732   CHEMBL4510826   \n",
       "575     20129797   CHEMBL4510850   \n",
       "\n",
       "                                     assay_description assay_type  \\\n",
       "0    Inhibition constant determined against Acetylc...          B   \n",
       "1               Inhibitory activity against human AChE          B   \n",
       "2    Inhibition constant determined against Acetylc...          B   \n",
       "3    Inhibitory activity of compound against acetyl...          B   \n",
       "4    Inhibitory activity of compound against acetyl...          B   \n",
       "..                                                 ...        ...   \n",
       "571  Inhibition of recombinant human AChE assessed ...          B   \n",
       "572  Non-competitive inhibition of recombinant huma...          B   \n",
       "573  Non-competitive inhibition of human erythrocyt...          B   \n",
       "574    Acetylcholinesterase (h) CEREP ligand profiling          B   \n",
       "575    Acetylcholinesterase (h) CEREP ligand profiling          B   \n",
       "\n",
       "    molecule_chembl_id relation standard_units standard_value  \\\n",
       "0          CHEMBL11805        =             nM          0.104   \n",
       "1         CHEMBL208599        =             nM          0.026   \n",
       "2          CHEMBL60745        =             nM           1.63   \n",
       "3             CHEMBL95        =             nM          151.0   \n",
       "4         CHEMBL173309        =             nM           12.2   \n",
       "..                 ...      ...            ...            ...   \n",
       "571      CHEMBL4447210        =             nM           27.9   \n",
       "572      CHEMBL4474399        =             nM          129.0   \n",
       "573      CHEMBL4583534        =             nM          100.0   \n",
       "574      CHEMBL1651534        =             nM            0.0   \n",
       "575      CHEMBL3286797        =             nM            0.0   \n",
       "\n",
       "    target_chembl_id target_organism type  \n",
       "0          CHEMBL220    Homo sapiens   Ki  \n",
       "1          CHEMBL220    Homo sapiens   Ki  \n",
       "2          CHEMBL220    Homo sapiens   Ki  \n",
       "3          CHEMBL220    Homo sapiens   Ki  \n",
       "4          CHEMBL220    Homo sapiens   Ki  \n",
       "..               ...             ...  ...  \n",
       "571        CHEMBL220    Homo sapiens   Ki  \n",
       "572        CHEMBL220    Homo sapiens   Ki  \n",
       "573        CHEMBL220    Homo sapiens   Ki  \n",
       "574        CHEMBL220    Homo sapiens   Ki  \n",
       "575        CHEMBL220    Homo sapiens   Ki  \n",
       "\n",
       "[517 rows x 11 columns]"
      ]
     },
     "execution_count": 10,
     "metadata": {},
     "output_type": "execute_result"
    }
   ],
   "source": [
    "dfnM = df[df['standard_units'] == 'nM']\n",
    "dfnM.drop(['units', 'value'], axis=1, inplace= True)\n",
    "dfnM"
   ]
  },
  {
   "cell_type": "markdown",
   "metadata": {},
   "source": [
    "#### Preprocess and filter bioactivity data\n",
    "\n",
    "1. Convert `standard_value`'s datatype from `object` to `float`\n",
    "2. Delete entries with missing values\n",
    "3. Keep only entries with `standard_unit == nM`\n",
    "4. Delete duplicate molecules\n",
    "5. Reset `DataFrame` index\n",
    "6. Rename columns"
   ]
  },
  {
   "cell_type": "code",
   "execution_count": 11,
   "metadata": {
    "scrolled": true
   },
   "outputs": [
    {
     "data": {
      "text/plain": [
       "activity_id            int64\n",
       "assay_chembl_id       object\n",
       "assay_description     object\n",
       "assay_type            object\n",
       "molecule_chembl_id    object\n",
       "relation              object\n",
       "standard_units        object\n",
       "standard_value        object\n",
       "target_chembl_id      object\n",
       "target_organism       object\n",
       "type                  object\n",
       "dtype: object"
      ]
     },
     "execution_count": 11,
     "metadata": {},
     "output_type": "execute_result"
    }
   ],
   "source": [
    "dfnM.dtypes"
   ]
  },
  {
   "cell_type": "code",
   "execution_count": 12,
   "metadata": {
    "scrolled": true
   },
   "outputs": [
    {
     "data": {
      "text/plain": [
       "activity_id             int64\n",
       "assay_chembl_id        object\n",
       "assay_description      object\n",
       "assay_type             object\n",
       "molecule_chembl_id     object\n",
       "relation               object\n",
       "standard_units         object\n",
       "standard_value        float64\n",
       "target_chembl_id       object\n",
       "target_organism        object\n",
       "type                   object\n",
       "dtype: object"
      ]
     },
     "execution_count": 12,
     "metadata": {},
     "output_type": "execute_result"
    }
   ],
   "source": [
    "dfnM = dfnM.astype({\"standard_value\": \"float64\"})\n",
    "dfnM.dtypes"
   ]
  },
  {
   "cell_type": "code",
   "execution_count": 13,
   "metadata": {},
   "outputs": [
    {
     "name": "stdout",
     "output_type": "stream",
     "text": [
      "<class 'pandas.core.frame.DataFrame'>\n",
      "Int64Index: 517 entries, 0 to 575\n",
      "Data columns (total 11 columns):\n",
      " #   Column              Non-Null Count  Dtype  \n",
      "---  ------              --------------  -----  \n",
      " 0   activity_id         517 non-null    int64  \n",
      " 1   assay_chembl_id     517 non-null    object \n",
      " 2   assay_description   517 non-null    object \n",
      " 3   assay_type          517 non-null    object \n",
      " 4   molecule_chembl_id  517 non-null    object \n",
      " 5   relation            517 non-null    object \n",
      " 6   standard_units      517 non-null    object \n",
      " 7   standard_value      517 non-null    float64\n",
      " 8   target_chembl_id    517 non-null    object \n",
      " 9   target_organism     517 non-null    object \n",
      " 10  type                517 non-null    object \n",
      "dtypes: float64(1), int64(1), object(9)\n",
      "memory usage: 48.5+ KB\n"
     ]
    }
   ],
   "source": [
    "dfnM.info()"
   ]
  },
  {
   "cell_type": "code",
   "execution_count": 14,
   "metadata": {},
   "outputs": [
    {
     "name": "stdout",
     "output_type": "stream",
     "text": [
      "Dataframe shape is (517, 11)\n"
     ]
    }
   ],
   "source": [
    "dfnM.dropna(axis=0, how='any', inplace= True)\n",
    "print(f\"Dataframe shape is {dfnM.shape}\")"
   ]
  },
  {
   "cell_type": "markdown",
   "metadata": {},
   "source": [
    "**4. Delete duplicate molecules**\n",
    "\n",
    "Sometimes the same molecule (`molecule_chembl_id`) has been tested more than once, in this case, we only keep the first one.\n",
    "\n",
    "Note other choices could be to keep the one with the best value or a mean value of all assay results for the respective compound."
   ]
  },
  {
   "cell_type": "code",
   "execution_count": 15,
   "metadata": {},
   "outputs": [
    {
     "name": "stdout",
     "output_type": "stream",
     "text": [
      "Dataframe shape is : (424, 11)\n"
     ]
    }
   ],
   "source": [
    "dfnM.drop_duplicates(subset=[\"molecule_chembl_id\"], keep= 'first', inplace= True)\n",
    "print(f\"Dataframe shape is : {dfnM.shape}\")"
   ]
  },
  {
   "cell_type": "markdown",
   "metadata": {},
   "source": [
    "**5. Reset \"DataFrame\" index**\n",
    "\n",
    "Since we deleted some rows, but we want to iterate over the index later, we reset the index to be continuous."
   ]
  },
  {
   "cell_type": "code",
   "execution_count": 16,
   "metadata": {},
   "outputs": [
    {
     "data": {
      "text/html": [
       "<div>\n",
       "<style scoped>\n",
       "    .dataframe tbody tr th:only-of-type {\n",
       "        vertical-align: middle;\n",
       "    }\n",
       "\n",
       "    .dataframe tbody tr th {\n",
       "        vertical-align: top;\n",
       "    }\n",
       "\n",
       "    .dataframe thead th {\n",
       "        text-align: right;\n",
       "    }\n",
       "</style>\n",
       "<table border=\"1\" class=\"dataframe\">\n",
       "  <thead>\n",
       "    <tr style=\"text-align: right;\">\n",
       "      <th></th>\n",
       "      <th>activity_id</th>\n",
       "      <th>assay_chembl_id</th>\n",
       "      <th>assay_description</th>\n",
       "      <th>assay_type</th>\n",
       "      <th>molecule_chembl_id</th>\n",
       "      <th>relation</th>\n",
       "      <th>standard_units</th>\n",
       "      <th>standard_value</th>\n",
       "      <th>target_chembl_id</th>\n",
       "      <th>target_organism</th>\n",
       "      <th>type</th>\n",
       "    </tr>\n",
       "  </thead>\n",
       "  <tbody>\n",
       "    <tr>\n",
       "      <th>0</th>\n",
       "      <td>111024</td>\n",
       "      <td>CHEMBL641011</td>\n",
       "      <td>Inhibition constant determined against Acetylc...</td>\n",
       "      <td>B</td>\n",
       "      <td>CHEMBL11805</td>\n",
       "      <td>=</td>\n",
       "      <td>nM</td>\n",
       "      <td>0.104</td>\n",
       "      <td>CHEMBL220</td>\n",
       "      <td>Homo sapiens</td>\n",
       "      <td>Ki</td>\n",
       "    </tr>\n",
       "    <tr>\n",
       "      <th>1</th>\n",
       "      <td>118575</td>\n",
       "      <td>CHEMBL641012</td>\n",
       "      <td>Inhibitory activity against human AChE</td>\n",
       "      <td>B</td>\n",
       "      <td>CHEMBL208599</td>\n",
       "      <td>=</td>\n",
       "      <td>nM</td>\n",
       "      <td>0.026</td>\n",
       "      <td>CHEMBL220</td>\n",
       "      <td>Homo sapiens</td>\n",
       "      <td>Ki</td>\n",
       "    </tr>\n",
       "    <tr>\n",
       "      <th>2</th>\n",
       "      <td>125075</td>\n",
       "      <td>CHEMBL641011</td>\n",
       "      <td>Inhibition constant determined against Acetylc...</td>\n",
       "      <td>B</td>\n",
       "      <td>CHEMBL60745</td>\n",
       "      <td>=</td>\n",
       "      <td>nM</td>\n",
       "      <td>1.630</td>\n",
       "      <td>CHEMBL220</td>\n",
       "      <td>Homo sapiens</td>\n",
       "      <td>Ki</td>\n",
       "    </tr>\n",
       "    <tr>\n",
       "      <th>3</th>\n",
       "      <td>733829</td>\n",
       "      <td>CHEMBL641691</td>\n",
       "      <td>Inhibitory activity of compound against acetyl...</td>\n",
       "      <td>B</td>\n",
       "      <td>CHEMBL95</td>\n",
       "      <td>=</td>\n",
       "      <td>nM</td>\n",
       "      <td>151.000</td>\n",
       "      <td>CHEMBL220</td>\n",
       "      <td>Homo sapiens</td>\n",
       "      <td>Ki</td>\n",
       "    </tr>\n",
       "    <tr>\n",
       "      <th>4</th>\n",
       "      <td>740235</td>\n",
       "      <td>CHEMBL641013</td>\n",
       "      <td>Inhibitory activity of compound against acetyl...</td>\n",
       "      <td>B</td>\n",
       "      <td>CHEMBL173309</td>\n",
       "      <td>=</td>\n",
       "      <td>nM</td>\n",
       "      <td>12.200</td>\n",
       "      <td>CHEMBL220</td>\n",
       "      <td>Homo sapiens</td>\n",
       "      <td>Ki</td>\n",
       "    </tr>\n",
       "  </tbody>\n",
       "</table>\n",
       "</div>"
      ],
      "text/plain": [
       "   activity_id assay_chembl_id  \\\n",
       "0       111024    CHEMBL641011   \n",
       "1       118575    CHEMBL641012   \n",
       "2       125075    CHEMBL641011   \n",
       "3       733829    CHEMBL641691   \n",
       "4       740235    CHEMBL641013   \n",
       "\n",
       "                                   assay_description assay_type  \\\n",
       "0  Inhibition constant determined against Acetylc...          B   \n",
       "1             Inhibitory activity against human AChE          B   \n",
       "2  Inhibition constant determined against Acetylc...          B   \n",
       "3  Inhibitory activity of compound against acetyl...          B   \n",
       "4  Inhibitory activity of compound against acetyl...          B   \n",
       "\n",
       "  molecule_chembl_id relation standard_units  standard_value target_chembl_id  \\\n",
       "0        CHEMBL11805        =             nM           0.104        CHEMBL220   \n",
       "1       CHEMBL208599        =             nM           0.026        CHEMBL220   \n",
       "2        CHEMBL60745        =             nM           1.630        CHEMBL220   \n",
       "3           CHEMBL95        =             nM         151.000        CHEMBL220   \n",
       "4       CHEMBL173309        =             nM          12.200        CHEMBL220   \n",
       "\n",
       "  target_organism type  \n",
       "0    Homo sapiens   Ki  \n",
       "1    Homo sapiens   Ki  \n",
       "2    Homo sapiens   Ki  \n",
       "3    Homo sapiens   Ki  \n",
       "4    Homo sapiens   Ki  "
      ]
     },
     "execution_count": 16,
     "metadata": {},
     "output_type": "execute_result"
    }
   ],
   "source": [
    "dfnM.reset_index(drop=True, inplace= True)\n",
    "dfnM.head()"
   ]
  },
  {
   "cell_type": "code",
   "execution_count": 17,
   "metadata": {},
   "outputs": [
    {
     "data": {
      "text/html": [
       "<div>\n",
       "<style scoped>\n",
       "    .dataframe tbody tr th:only-of-type {\n",
       "        vertical-align: middle;\n",
       "    }\n",
       "\n",
       "    .dataframe tbody tr th {\n",
       "        vertical-align: top;\n",
       "    }\n",
       "\n",
       "    .dataframe thead th {\n",
       "        text-align: right;\n",
       "    }\n",
       "</style>\n",
       "<table border=\"1\" class=\"dataframe\">\n",
       "  <thead>\n",
       "    <tr style=\"text-align: right;\">\n",
       "      <th></th>\n",
       "      <th>activity_id</th>\n",
       "      <th>assay_chembl_id</th>\n",
       "      <th>assay_description</th>\n",
       "      <th>assay_type</th>\n",
       "      <th>molecule_chembl_id</th>\n",
       "      <th>relation</th>\n",
       "      <th>units</th>\n",
       "      <th>Ki</th>\n",
       "      <th>target_chembl_id</th>\n",
       "      <th>target_organism</th>\n",
       "      <th>type</th>\n",
       "    </tr>\n",
       "  </thead>\n",
       "  <tbody>\n",
       "    <tr>\n",
       "      <th>0</th>\n",
       "      <td>111024</td>\n",
       "      <td>CHEMBL641011</td>\n",
       "      <td>Inhibition constant determined against Acetylc...</td>\n",
       "      <td>B</td>\n",
       "      <td>CHEMBL11805</td>\n",
       "      <td>=</td>\n",
       "      <td>nM</td>\n",
       "      <td>0.104</td>\n",
       "      <td>CHEMBL220</td>\n",
       "      <td>Homo sapiens</td>\n",
       "      <td>Ki</td>\n",
       "    </tr>\n",
       "    <tr>\n",
       "      <th>1</th>\n",
       "      <td>118575</td>\n",
       "      <td>CHEMBL641012</td>\n",
       "      <td>Inhibitory activity against human AChE</td>\n",
       "      <td>B</td>\n",
       "      <td>CHEMBL208599</td>\n",
       "      <td>=</td>\n",
       "      <td>nM</td>\n",
       "      <td>0.026</td>\n",
       "      <td>CHEMBL220</td>\n",
       "      <td>Homo sapiens</td>\n",
       "      <td>Ki</td>\n",
       "    </tr>\n",
       "    <tr>\n",
       "      <th>2</th>\n",
       "      <td>125075</td>\n",
       "      <td>CHEMBL641011</td>\n",
       "      <td>Inhibition constant determined against Acetylc...</td>\n",
       "      <td>B</td>\n",
       "      <td>CHEMBL60745</td>\n",
       "      <td>=</td>\n",
       "      <td>nM</td>\n",
       "      <td>1.630</td>\n",
       "      <td>CHEMBL220</td>\n",
       "      <td>Homo sapiens</td>\n",
       "      <td>Ki</td>\n",
       "    </tr>\n",
       "    <tr>\n",
       "      <th>3</th>\n",
       "      <td>733829</td>\n",
       "      <td>CHEMBL641691</td>\n",
       "      <td>Inhibitory activity of compound against acetyl...</td>\n",
       "      <td>B</td>\n",
       "      <td>CHEMBL95</td>\n",
       "      <td>=</td>\n",
       "      <td>nM</td>\n",
       "      <td>151.000</td>\n",
       "      <td>CHEMBL220</td>\n",
       "      <td>Homo sapiens</td>\n",
       "      <td>Ki</td>\n",
       "    </tr>\n",
       "    <tr>\n",
       "      <th>4</th>\n",
       "      <td>740235</td>\n",
       "      <td>CHEMBL641013</td>\n",
       "      <td>Inhibitory activity of compound against acetyl...</td>\n",
       "      <td>B</td>\n",
       "      <td>CHEMBL173309</td>\n",
       "      <td>=</td>\n",
       "      <td>nM</td>\n",
       "      <td>12.200</td>\n",
       "      <td>CHEMBL220</td>\n",
       "      <td>Homo sapiens</td>\n",
       "      <td>Ki</td>\n",
       "    </tr>\n",
       "  </tbody>\n",
       "</table>\n",
       "</div>"
      ],
      "text/plain": [
       "   activity_id assay_chembl_id  \\\n",
       "0       111024    CHEMBL641011   \n",
       "1       118575    CHEMBL641012   \n",
       "2       125075    CHEMBL641011   \n",
       "3       733829    CHEMBL641691   \n",
       "4       740235    CHEMBL641013   \n",
       "\n",
       "                                   assay_description assay_type  \\\n",
       "0  Inhibition constant determined against Acetylc...          B   \n",
       "1             Inhibitory activity against human AChE          B   \n",
       "2  Inhibition constant determined against Acetylc...          B   \n",
       "3  Inhibitory activity of compound against acetyl...          B   \n",
       "4  Inhibitory activity of compound against acetyl...          B   \n",
       "\n",
       "  molecule_chembl_id relation units       Ki target_chembl_id target_organism  \\\n",
       "0        CHEMBL11805        =    nM    0.104        CHEMBL220    Homo sapiens   \n",
       "1       CHEMBL208599        =    nM    0.026        CHEMBL220    Homo sapiens   \n",
       "2        CHEMBL60745        =    nM    1.630        CHEMBL220    Homo sapiens   \n",
       "3           CHEMBL95        =    nM  151.000        CHEMBL220    Homo sapiens   \n",
       "4       CHEMBL173309        =    nM   12.200        CHEMBL220    Homo sapiens   \n",
       "\n",
       "  type  \n",
       "0   Ki  \n",
       "1   Ki  \n",
       "2   Ki  \n",
       "3   Ki  \n",
       "4   Ki  "
      ]
     },
     "execution_count": 17,
     "metadata": {},
     "output_type": "execute_result"
    }
   ],
   "source": [
    "dfnM.rename(columns={\"standard_value\": \"Ki\", \"standard_units\": \"units\"}, inplace= True)\n",
    "dfnM.head()"
   ]
  },
  {
   "cell_type": "code",
   "execution_count": 18,
   "metadata": {},
   "outputs": [
    {
     "name": "stdout",
     "output_type": "stream",
     "text": [
      "DataFrame shape: (424, 11)\n"
     ]
    }
   ],
   "source": [
    "print(f\"DataFrame shape: {dfnM.shape}\")\n",
    "# NBVAL_CHECK_OUTPUT"
   ]
  },
  {
   "cell_type": "markdown",
   "metadata": {},
   "source": [
    "We now have a set of **424** molecule ids with respective Ki values for our target kinase."
   ]
  },
  {
   "cell_type": "markdown",
   "metadata": {},
   "source": [
    "### Get compound data\n",
    "\n",
    "We have a `DataFrame` containing all molecules tested against acetylcholinase (with the respective measured bioactivity). \n",
    "\n",
    "Now, we want to get the molecular structures of the molecules that are linked to respective bioactivity ChEMBL IDs. "
   ]
  },
  {
   "cell_type": "markdown",
   "metadata": {},
   "source": [
    "#### Fetch compound data from ChEMBL\n",
    "\n",
    "Let's have a look at the compounds from ChEMBL which we have defined bioactivity data for: We fetch compound ChEMBL IDs and structures for the compounds linked to our filtered bioactivity data."
   ]
  },
  {
   "cell_type": "code",
   "execution_count": 24,
   "metadata": {},
   "outputs": [],
   "source": [
    "compounds = compound.filter(\n",
    "    molecule_chembl_id__in=list(dfnM[\"molecule_chembl_id\"])\n",
    ").only(\"molecule_chembl_id\", \"molecule_structures\")"
   ]
  },
  {
   "cell_type": "code",
   "execution_count": 26,
   "metadata": {},
   "outputs": [
    {
     "name": "stdout",
     "output_type": "stream",
     "text": [
      "DataFrame shape: (424, 2)\n"
     ]
    },
    {
     "data": {
      "text/html": [
       "<div>\n",
       "<style scoped>\n",
       "    .dataframe tbody tr th:only-of-type {\n",
       "        vertical-align: middle;\n",
       "    }\n",
       "\n",
       "    .dataframe tbody tr th {\n",
       "        vertical-align: top;\n",
       "    }\n",
       "\n",
       "    .dataframe thead th {\n",
       "        text-align: right;\n",
       "    }\n",
       "</style>\n",
       "<table border=\"1\" class=\"dataframe\">\n",
       "  <thead>\n",
       "    <tr style=\"text-align: right;\">\n",
       "      <th></th>\n",
       "      <th>molecule_chembl_id</th>\n",
       "      <th>molecule_structures</th>\n",
       "    </tr>\n",
       "  </thead>\n",
       "  <tbody>\n",
       "    <tr>\n",
       "      <th>0</th>\n",
       "      <td>CHEMBL28</td>\n",
       "      <td>{'canonical_smiles': 'O=c1cc(-c2ccc(O)cc2)oc2c...</td>\n",
       "    </tr>\n",
       "    <tr>\n",
       "      <th>1</th>\n",
       "      <td>CHEMBL50</td>\n",
       "      <td>{'canonical_smiles': 'O=c1c(O)c(-c2ccc(O)c(O)c...</td>\n",
       "    </tr>\n",
       "    <tr>\n",
       "      <th>2</th>\n",
       "      <td>CHEMBL8320</td>\n",
       "      <td>{'canonical_smiles': 'O=C1C=CC(=O)C=C1', 'molf...</td>\n",
       "    </tr>\n",
       "    <tr>\n",
       "      <th>3</th>\n",
       "      <td>CHEMBL481</td>\n",
       "      <td>{'canonical_smiles': 'CCc1c2c(nc3ccc(OC(=O)N4C...</td>\n",
       "    </tr>\n",
       "    <tr>\n",
       "      <th>4</th>\n",
       "      <td>CHEMBL95</td>\n",
       "      <td>{'canonical_smiles': 'Nc1c2c(nc3ccccc13)CCCC2'...</td>\n",
       "    </tr>\n",
       "  </tbody>\n",
       "</table>\n",
       "</div>"
      ],
      "text/plain": [
       "  molecule_chembl_id                                molecule_structures\n",
       "0           CHEMBL28  {'canonical_smiles': 'O=c1cc(-c2ccc(O)cc2)oc2c...\n",
       "1           CHEMBL50  {'canonical_smiles': 'O=c1c(O)c(-c2ccc(O)c(O)c...\n",
       "2         CHEMBL8320  {'canonical_smiles': 'O=C1C=CC(=O)C=C1', 'molf...\n",
       "3          CHEMBL481  {'canonical_smiles': 'CCc1c2c(nc3ccc(OC(=O)N4C...\n",
       "4           CHEMBL95  {'canonical_smiles': 'Nc1c2c(nc3ccccc13)CCCC2'..."
      ]
     },
     "execution_count": 26,
     "metadata": {},
     "output_type": "execute_result"
    }
   ],
   "source": [
    "compounds_df = pd.DataFrame.from_dict(compounds)\n",
    "print(f\"DataFrame shape: {compounds_df.shape}\")\n",
    "compounds_df.head()"
   ]
  },
  {
   "cell_type": "markdown",
   "metadata": {},
   "source": [
    "#### Preprocess and filter compound data\n",
    "\n",
    "1. Remove entries with missing entries\n",
    "2. Delete duplicate molecules (by molecule_chembl_id)\n",
    "3. Get molecules with canonical SMILES"
   ]
  },
  {
   "cell_type": "markdown",
   "metadata": {},
   "source": [
    "**1. Remove entries with missing molecule structure entry**"
   ]
  },
  {
   "cell_type": "code",
   "execution_count": 28,
   "metadata": {},
   "outputs": [
    {
     "name": "stdout",
     "output_type": "stream",
     "text": [
      "DataFrame shape: (424, 2)\n"
     ]
    }
   ],
   "source": [
    "compounds_df.dropna(axis=0, how='any', inplace= True)\n",
    "print(f\"DataFrame shape: {compounds_df.shape}\")"
   ]
  },
  {
   "cell_type": "markdown",
   "metadata": {},
   "source": [
    "**2. Delete duplicate molecules**"
   ]
  },
  {
   "cell_type": "code",
   "execution_count": 30,
   "metadata": {},
   "outputs": [
    {
     "name": "stdout",
     "output_type": "stream",
     "text": [
      "DataFrame shape: (424, 2)\n"
     ]
    }
   ],
   "source": [
    "compounds_df.drop_duplicates(subset=[\"molecule_chembl_id\"], keep = 'first', inplace= True)\n",
    "print(f\"DataFrame shape: {compounds_df.shape}\")"
   ]
  },
  {
   "cell_type": "markdown",
   "metadata": {},
   "source": [
    "**3. Get molecules with canonical SMILES**\n",
    "\n",
    "So far, we have multiple different molecular structure representations. We only want to keep the canonical SMILES."
   ]
  },
  {
   "cell_type": "code",
   "execution_count": 31,
   "metadata": {},
   "outputs": [
    {
     "name": "stdout",
     "output_type": "stream",
     "text": [
      "DataFrame shape: (424, 2)\n"
     ]
    }
   ],
   "source": [
    "canonical_smiles = []\n",
    "\n",
    "for i, compounds in compounds_df.iterrows():\n",
    "    try:\n",
    "        canonical_smiles.append(compounds[\"molecule_structures\"][\"canonical_smiles\"])\n",
    "    except KeyError:\n",
    "        canonical_smiles.append(None)\n",
    "\n",
    "compounds_df[\"smiles\"] = canonical_smiles\n",
    "compounds_df.drop(\"molecule_structures\", axis=1, inplace=True)\n",
    "print(f\"DataFrame shape: {compounds_df.shape}\")"
   ]
  },
  {
   "cell_type": "code",
   "execution_count": 35,
   "metadata": {},
   "outputs": [
    {
     "data": {
      "text/html": [
       "<div>\n",
       "<style scoped>\n",
       "    .dataframe tbody tr th:only-of-type {\n",
       "        vertical-align: middle;\n",
       "    }\n",
       "\n",
       "    .dataframe tbody tr th {\n",
       "        vertical-align: top;\n",
       "    }\n",
       "\n",
       "    .dataframe thead th {\n",
       "        text-align: right;\n",
       "    }\n",
       "</style>\n",
       "<table border=\"1\" class=\"dataframe\">\n",
       "  <thead>\n",
       "    <tr style=\"text-align: right;\">\n",
       "      <th></th>\n",
       "      <th>molecule_chembl_id</th>\n",
       "      <th>smiles</th>\n",
       "    </tr>\n",
       "  </thead>\n",
       "  <tbody>\n",
       "    <tr>\n",
       "      <th>0</th>\n",
       "      <td>CHEMBL28</td>\n",
       "      <td>O=c1cc(-c2ccc(O)cc2)oc2cc(O)cc(O)c12</td>\n",
       "    </tr>\n",
       "    <tr>\n",
       "      <th>1</th>\n",
       "      <td>CHEMBL50</td>\n",
       "      <td>O=c1c(O)c(-c2ccc(O)c(O)c2)oc2cc(O)cc(O)c12</td>\n",
       "    </tr>\n",
       "    <tr>\n",
       "      <th>2</th>\n",
       "      <td>CHEMBL8320</td>\n",
       "      <td>O=C1C=CC(=O)C=C1</td>\n",
       "    </tr>\n",
       "    <tr>\n",
       "      <th>3</th>\n",
       "      <td>CHEMBL481</td>\n",
       "      <td>CCc1c2c(nc3ccc(OC(=O)N4CCC(N5CCCCC5)CC4)cc13)-...</td>\n",
       "    </tr>\n",
       "    <tr>\n",
       "      <th>4</th>\n",
       "      <td>CHEMBL95</td>\n",
       "      <td>Nc1c2c(nc3ccccc13)CCCC2</td>\n",
       "    </tr>\n",
       "    <tr>\n",
       "      <th>...</th>\n",
       "      <td>...</td>\n",
       "      <td>...</td>\n",
       "    </tr>\n",
       "    <tr>\n",
       "      <th>419</th>\n",
       "      <td>CHEMBL4524569</td>\n",
       "      <td>NS(=O)(=O)c1ccc(C(=O)n2[nH]c(=O)c3c([N+](=O)[O...</td>\n",
       "    </tr>\n",
       "    <tr>\n",
       "      <th>420</th>\n",
       "      <td>CHEMBL4541764</td>\n",
       "      <td>NS(=O)(=O)c1ccc(C(=O)n2[nH]c(=O)c3ccc(C(=O)O)c...</td>\n",
       "    </tr>\n",
       "    <tr>\n",
       "      <th>421</th>\n",
       "      <td>CHEMBL4579543</td>\n",
       "      <td>NS(=O)(=O)c1ccc(C(=O)n2[nH]c(=O)c3c(F)cccc3c2=...</td>\n",
       "    </tr>\n",
       "    <tr>\n",
       "      <th>422</th>\n",
       "      <td>CHEMBL4582736</td>\n",
       "      <td>COc1ccc(C2=NN(C(C)=O)C(c3ccc(N4CCN(C)CC4)cc3)C...</td>\n",
       "    </tr>\n",
       "    <tr>\n",
       "      <th>423</th>\n",
       "      <td>CHEMBL4583534</td>\n",
       "      <td>FC(F)(F)c1ccc(CNC2CCN(Cc3ccccc3)CC2)cc1</td>\n",
       "    </tr>\n",
       "  </tbody>\n",
       "</table>\n",
       "<p>424 rows × 2 columns</p>\n",
       "</div>"
      ],
      "text/plain": [
       "    molecule_chembl_id                                             smiles\n",
       "0             CHEMBL28               O=c1cc(-c2ccc(O)cc2)oc2cc(O)cc(O)c12\n",
       "1             CHEMBL50         O=c1c(O)c(-c2ccc(O)c(O)c2)oc2cc(O)cc(O)c12\n",
       "2           CHEMBL8320                                   O=C1C=CC(=O)C=C1\n",
       "3            CHEMBL481  CCc1c2c(nc3ccc(OC(=O)N4CCC(N5CCCCC5)CC4)cc13)-...\n",
       "4             CHEMBL95                            Nc1c2c(nc3ccccc13)CCCC2\n",
       "..                 ...                                                ...\n",
       "419      CHEMBL4524569  NS(=O)(=O)c1ccc(C(=O)n2[nH]c(=O)c3c([N+](=O)[O...\n",
       "420      CHEMBL4541764  NS(=O)(=O)c1ccc(C(=O)n2[nH]c(=O)c3ccc(C(=O)O)c...\n",
       "421      CHEMBL4579543  NS(=O)(=O)c1ccc(C(=O)n2[nH]c(=O)c3c(F)cccc3c2=...\n",
       "422      CHEMBL4582736  COc1ccc(C2=NN(C(C)=O)C(c3ccc(N4CCN(C)CC4)cc3)C...\n",
       "423      CHEMBL4583534            FC(F)(F)c1ccc(CNC2CCN(Cc3ccccc3)CC2)cc1\n",
       "\n",
       "[424 rows x 2 columns]"
      ]
     },
     "execution_count": 35,
     "metadata": {},
     "output_type": "execute_result"
    }
   ],
   "source": [
    "compounds_df"
   ]
  },
  {
   "cell_type": "markdown",
   "metadata": {},
   "source": [
    "Sanity check: Remove all molecules without a canonical SMILES string."
   ]
  },
  {
   "cell_type": "code",
   "execution_count": 36,
   "metadata": {},
   "outputs": [
    {
     "name": "stdout",
     "output_type": "stream",
     "text": [
      "DataFrame shape: (424, 2)\n"
     ]
    }
   ],
   "source": [
    "compounds_df.dropna(axis=0, how=\"any\", inplace=True)\n",
    "print(f\"DataFrame shape: {compounds_df.shape}\")\n",
    "# NBVAL_CHECK_OUTPUT"
   ]
  },
  {
   "cell_type": "markdown",
   "metadata": {},
   "source": [
    "We now have a set of **424** molecule ids with respective Ki values for our acetylcholinase target."
   ]
  },
  {
   "cell_type": "markdown",
   "metadata": {},
   "source": [
    "### Output (bioactivity-compound) data\n",
    "**Summary of compound and bioactivity data**"
   ]
  },
  {
   "cell_type": "code",
   "execution_count": 114,
   "metadata": {
    "scrolled": true
   },
   "outputs": [
    {
     "name": "stdout",
     "output_type": "stream",
     "text": [
      "Bioactivities filtered: 424\n"
     ]
    },
    {
     "data": {
      "text/plain": [
       "Index(['activity_id', 'assay_chembl_id', 'assay_description', 'assay_type',\n",
       "       'molecule_chembl_id', 'relation', 'units', 'Ki', 'target_chembl_id',\n",
       "       'target_organism', 'type'],\n",
       "      dtype='object')"
      ]
     },
     "execution_count": 114,
     "metadata": {},
     "output_type": "execute_result"
    }
   ],
   "source": [
    "print(f\"Bioactivities filtered: {dfnM.shape[0]}\")\n",
    "dfnM.columns"
   ]
  },
  {
   "cell_type": "code",
   "execution_count": 115,
   "metadata": {},
   "outputs": [
    {
     "name": "stdout",
     "output_type": "stream",
     "text": [
      "Compounds filtered: 424\n"
     ]
    },
    {
     "data": {
      "text/plain": [
       "Index(['molecule_chembl_id', 'smiles'], dtype='object')"
      ]
     },
     "execution_count": 115,
     "metadata": {},
     "output_type": "execute_result"
    }
   ],
   "source": [
    "print(f\"Compounds filtered: {compounds_df.shape[0]}\")\n",
    "compounds_df.columns"
   ]
  },
  {
   "cell_type": "code",
   "execution_count": 116,
   "metadata": {},
   "outputs": [
    {
     "name": "stdout",
     "output_type": "stream",
     "text": [
      "Dataset with 424 entities\n"
     ]
    }
   ],
   "source": [
    "Output_df = pd.merge(dfnM[['molecule_chembl_id', 'units', 'Ki']],\n",
    "                          compounds_df, \n",
    "                          on = 'molecule_chembl_id')\n",
    "Output_df.reset_index(drop=True, inplace= True)\n",
    "print(f\"Dataset with {Output_df.shape[0]} entities\")"
   ]
  },
  {
   "cell_type": "markdown",
   "metadata": {},
   "source": [
    "Sanity check: The merged bioactivities/compound data set contains **424** entries."
   ]
  },
  {
   "cell_type": "code",
   "execution_count": 117,
   "metadata": {},
   "outputs": [
    {
     "data": {
      "text/plain": [
       "molecule_chembl_id     object\n",
       "units                  object\n",
       "Ki                    float64\n",
       "smiles                 object\n",
       "dtype: object"
      ]
     },
     "execution_count": 117,
     "metadata": {},
     "output_type": "execute_result"
    }
   ],
   "source": [
    "Output_df.dtypes"
   ]
  },
  {
   "cell_type": "code",
   "execution_count": 118,
   "metadata": {
    "scrolled": true
   },
   "outputs": [
    {
     "data": {
      "text/html": [
       "<div>\n",
       "<style scoped>\n",
       "    .dataframe tbody tr th:only-of-type {\n",
       "        vertical-align: middle;\n",
       "    }\n",
       "\n",
       "    .dataframe tbody tr th {\n",
       "        vertical-align: top;\n",
       "    }\n",
       "\n",
       "    .dataframe thead th {\n",
       "        text-align: right;\n",
       "    }\n",
       "</style>\n",
       "<table border=\"1\" class=\"dataframe\">\n",
       "  <thead>\n",
       "    <tr style=\"text-align: right;\">\n",
       "      <th></th>\n",
       "      <th>molecule_chembl_id</th>\n",
       "      <th>units</th>\n",
       "      <th>Ki</th>\n",
       "      <th>smiles</th>\n",
       "    </tr>\n",
       "  </thead>\n",
       "  <tbody>\n",
       "    <tr>\n",
       "      <th>0</th>\n",
       "      <td>CHEMBL11805</td>\n",
       "      <td>nM</td>\n",
       "      <td>0.104</td>\n",
       "      <td>COc1ccccc1CN(C)CCCCCC(=O)N(C)CCCCCCCCN(C)C(=O)...</td>\n",
       "    </tr>\n",
       "    <tr>\n",
       "      <th>1</th>\n",
       "      <td>CHEMBL208599</td>\n",
       "      <td>nM</td>\n",
       "      <td>0.026</td>\n",
       "      <td>CCC1=CC2Cc3nc4cc(Cl)ccc4c(N)c3[C@@H](C1)C2</td>\n",
       "    </tr>\n",
       "    <tr>\n",
       "      <th>2</th>\n",
       "      <td>CHEMBL60745</td>\n",
       "      <td>nM</td>\n",
       "      <td>1.630</td>\n",
       "      <td>CC[N+](C)(C)c1cccc(O)c1.[Br-]</td>\n",
       "    </tr>\n",
       "    <tr>\n",
       "      <th>3</th>\n",
       "      <td>CHEMBL95</td>\n",
       "      <td>nM</td>\n",
       "      <td>151.000</td>\n",
       "      <td>Nc1c2c(nc3ccccc13)CCCC2</td>\n",
       "    </tr>\n",
       "    <tr>\n",
       "      <th>4</th>\n",
       "      <td>CHEMBL173309</td>\n",
       "      <td>nM</td>\n",
       "      <td>12.200</td>\n",
       "      <td>CCN(CCCCCC(=O)N(C)CCCCCCCCN(C)C(=O)CCCCCN(CC)C...</td>\n",
       "    </tr>\n",
       "    <tr>\n",
       "      <th>5</th>\n",
       "      <td>CHEMBL1128</td>\n",
       "      <td>nM</td>\n",
       "      <td>200.000</td>\n",
       "      <td>CC[N+](C)(C)c1cccc(O)c1.[Cl-]</td>\n",
       "    </tr>\n",
       "    <tr>\n",
       "      <th>6</th>\n",
       "      <td>CHEMBL102226</td>\n",
       "      <td>nM</td>\n",
       "      <td>20000.000</td>\n",
       "      <td>CCCCCCCSC(=O)OCC[N+](C)(C)C.[Cl-]</td>\n",
       "    </tr>\n",
       "    <tr>\n",
       "      <th>7</th>\n",
       "      <td>CHEMBL103873</td>\n",
       "      <td>nM</td>\n",
       "      <td>2000.000</td>\n",
       "      <td>CCCCCSC(=O)OCC[N+](C)(C)C.[Cl-]</td>\n",
       "    </tr>\n",
       "    <tr>\n",
       "      <th>8</th>\n",
       "      <td>CHEMBL640</td>\n",
       "      <td>nM</td>\n",
       "      <td>1000.000</td>\n",
       "      <td>CCN(CC)CCNC(=O)c1ccc(N)cc1</td>\n",
       "    </tr>\n",
       "    <tr>\n",
       "      <th>9</th>\n",
       "      <td>CHEMBL75121</td>\n",
       "      <td>nM</td>\n",
       "      <td>21.700</td>\n",
       "      <td>COc1cc2cc(-c3ccc(CN(C)Cc4ccccc4)cc3)c(=O)oc2cc1OC</td>\n",
       "    </tr>\n",
       "  </tbody>\n",
       "</table>\n",
       "</div>"
      ],
      "text/plain": [
       "  molecule_chembl_id units         Ki  \\\n",
       "0        CHEMBL11805    nM      0.104   \n",
       "1       CHEMBL208599    nM      0.026   \n",
       "2        CHEMBL60745    nM      1.630   \n",
       "3           CHEMBL95    nM    151.000   \n",
       "4       CHEMBL173309    nM     12.200   \n",
       "5         CHEMBL1128    nM    200.000   \n",
       "6       CHEMBL102226    nM  20000.000   \n",
       "7       CHEMBL103873    nM   2000.000   \n",
       "8          CHEMBL640    nM   1000.000   \n",
       "9        CHEMBL75121    nM     21.700   \n",
       "\n",
       "                                              smiles  \n",
       "0  COc1ccccc1CN(C)CCCCCC(=O)N(C)CCCCCCCCN(C)C(=O)...  \n",
       "1         CCC1=CC2Cc3nc4cc(Cl)ccc4c(N)c3[C@@H](C1)C2  \n",
       "2                      CC[N+](C)(C)c1cccc(O)c1.[Br-]  \n",
       "3                            Nc1c2c(nc3ccccc13)CCCC2  \n",
       "4  CCN(CCCCCC(=O)N(C)CCCCCCCCN(C)C(=O)CCCCCN(CC)C...  \n",
       "5                      CC[N+](C)(C)c1cccc(O)c1.[Cl-]  \n",
       "6                  CCCCCCCSC(=O)OCC[N+](C)(C)C.[Cl-]  \n",
       "7                    CCCCCSC(=O)OCC[N+](C)(C)C.[Cl-]  \n",
       "8                         CCN(CC)CCNC(=O)c1ccc(N)cc1  \n",
       "9  COc1cc2cc(-c3ccc(CN(C)Cc4ccccc4)cc3)c(=O)oc2cc1OC  "
      ]
     },
     "execution_count": 118,
     "metadata": {},
     "output_type": "execute_result"
    }
   ],
   "source": [
    "Output_df.head(10)"
   ]
  },
  {
   "cell_type": "code",
   "execution_count": 122,
   "metadata": {},
   "outputs": [],
   "source": [
    "#delete the Ki = 0 because if they still in the dataset will give infinite values once converted to pKi\n",
    "Output_df = Output_df[Output_df[\"Ki\"] != 0]"
   ]
  },
  {
   "cell_type": "code",
   "execution_count": 123,
   "metadata": {},
   "outputs": [
    {
     "data": {
      "text/plain": [
       "count    4.220000e+02\n",
       "mean     3.243979e+05\n",
       "std      4.640601e+06\n",
       "min      1.700000e-03\n",
       "25%      2.927500e+01\n",
       "50%      2.615750e+02\n",
       "75%      6.164250e+03\n",
       "max      9.496300e+07\n",
       "Name: Ki, dtype: float64"
      ]
     },
     "execution_count": 123,
     "metadata": {},
     "output_type": "execute_result"
    }
   ],
   "source": [
    "Output_df.Ki.describe()"
   ]
  },
  {
   "cell_type": "markdown",
   "metadata": {},
   "source": [
    "Point to note: Values greater than 100,000,000 will be fixed at 100,000,000 otherwise the negative logarithmic value will become negative."
   ]
  },
  {
   "cell_type": "code",
   "execution_count": 101,
   "metadata": {},
   "outputs": [],
   "source": [
    "#For the moment we don't have a value greater than 100,000,000 in our dataset\n",
    "# def norm_value(input):\n",
    "#     norm = []\n",
    "\n",
    "#     for i in input['Ki']:\n",
    "#         if i > 100000000:\n",
    "#           i = 100000000\n",
    "#         norm.append(i)\n",
    "\n",
    "#     input['Ki'] = norm\n",
    "#     x = input\n",
    "        \n",
    "#     return x\n",
    "\n",
    "# df_nom = norm_value(Output_df)\n",
    "# df_nom.Ki.describe()"
   ]
  },
  {
   "cell_type": "markdown",
   "metadata": {},
   "source": [
    "#### Add pKi values"
   ]
  },
  {
   "cell_type": "markdown",
   "metadata": {},
   "source": [
    "As you can see the low Ki values are difficult to read (values are distributed over multiple scales), which is why we convert the Ki values to pKi."
   ]
  },
  {
   "cell_type": "code",
   "execution_count": 126,
   "metadata": {},
   "outputs": [
    {
     "data": {
      "text/plain": [
       "count    4.220000e+02\n",
       "mean     3.243979e+05\n",
       "std      4.640601e+06\n",
       "min      1.700000e-03\n",
       "25%      2.927500e+01\n",
       "50%      2.615750e+02\n",
       "75%      6.164250e+03\n",
       "max      9.496300e+07\n",
       "Name: Ki, dtype: float64"
      ]
     },
     "execution_count": 126,
     "metadata": {},
     "output_type": "execute_result"
    }
   ],
   "source": [
    "Output_df[\"Ki\"].describe()"
   ]
  },
  {
   "cell_type": "code",
   "execution_count": 127,
   "metadata": {},
   "outputs": [],
   "source": [
    "#We have changed the math.log10() by  np.log10() because math.log expects a single float value. It doesn't work on pandas Series objects. \n",
    "def convert_Ki_to_pKi(Ki_value):\n",
    "    pKi_value = 9 - np.log10(Ki_value)\n",
    "    return pKi_value\n",
    "\n",
    "#Other way to do it\n",
    "\n",
    "# def pKi(input):\n",
    "#     pki = []\n",
    "#     pKi = 9 - np.log10(input)\n",
    "#     return pKi"
   ]
  },
  {
   "cell_type": "code",
   "execution_count": 128,
   "metadata": {
    "scrolled": true
   },
   "outputs": [],
   "source": [
    "# Apply conversion to each row of the compounds DataFrame\n",
    "Output_df[\"pKi\"] = Output_df.apply(lambda x: convert_Ki_to_pKi(x[\"Ki\"]), axis=1)"
   ]
  },
  {
   "cell_type": "code",
   "execution_count": 131,
   "metadata": {},
   "outputs": [
    {
     "data": {
      "text/html": [
       "<div>\n",
       "<style scoped>\n",
       "    .dataframe tbody tr th:only-of-type {\n",
       "        vertical-align: middle;\n",
       "    }\n",
       "\n",
       "    .dataframe tbody tr th {\n",
       "        vertical-align: top;\n",
       "    }\n",
       "\n",
       "    .dataframe thead th {\n",
       "        text-align: right;\n",
       "    }\n",
       "</style>\n",
       "<table border=\"1\" class=\"dataframe\">\n",
       "  <thead>\n",
       "    <tr style=\"text-align: right;\">\n",
       "      <th></th>\n",
       "      <th>molecule_chembl_id</th>\n",
       "      <th>units</th>\n",
       "      <th>Ki</th>\n",
       "      <th>smiles</th>\n",
       "      <th>pKi</th>\n",
       "    </tr>\n",
       "  </thead>\n",
       "  <tbody>\n",
       "    <tr>\n",
       "      <th>0</th>\n",
       "      <td>CHEMBL11805</td>\n",
       "      <td>nM</td>\n",
       "      <td>0.104</td>\n",
       "      <td>COc1ccccc1CN(C)CCCCCC(=O)N(C)CCCCCCCCN(C)C(=O)...</td>\n",
       "      <td>9.982967</td>\n",
       "    </tr>\n",
       "    <tr>\n",
       "      <th>1</th>\n",
       "      <td>CHEMBL208599</td>\n",
       "      <td>nM</td>\n",
       "      <td>0.026</td>\n",
       "      <td>CCC1=CC2Cc3nc4cc(Cl)ccc4c(N)c3[C@@H](C1)C2</td>\n",
       "      <td>10.585027</td>\n",
       "    </tr>\n",
       "    <tr>\n",
       "      <th>2</th>\n",
       "      <td>CHEMBL60745</td>\n",
       "      <td>nM</td>\n",
       "      <td>1.630</td>\n",
       "      <td>CC[N+](C)(C)c1cccc(O)c1.[Br-]</td>\n",
       "      <td>8.787812</td>\n",
       "    </tr>\n",
       "    <tr>\n",
       "      <th>3</th>\n",
       "      <td>CHEMBL95</td>\n",
       "      <td>nM</td>\n",
       "      <td>151.000</td>\n",
       "      <td>Nc1c2c(nc3ccccc13)CCCC2</td>\n",
       "      <td>6.821023</td>\n",
       "    </tr>\n",
       "    <tr>\n",
       "      <th>4</th>\n",
       "      <td>CHEMBL173309</td>\n",
       "      <td>nM</td>\n",
       "      <td>12.200</td>\n",
       "      <td>CCN(CCCCCC(=O)N(C)CCCCCCCCN(C)C(=O)CCCCCN(CC)C...</td>\n",
       "      <td>7.913640</td>\n",
       "    </tr>\n",
       "    <tr>\n",
       "      <th>...</th>\n",
       "      <td>...</td>\n",
       "      <td>...</td>\n",
       "      <td>...</td>\n",
       "      <td>...</td>\n",
       "      <td>...</td>\n",
       "    </tr>\n",
       "    <tr>\n",
       "      <th>417</th>\n",
       "      <td>CHEMBL4456083</td>\n",
       "      <td>nM</td>\n",
       "      <td>88.500</td>\n",
       "      <td>CCOc1ccc(Cc2nc3cc(C(=O)N(CC)CC)ccc3n2CCCCCCNc2...</td>\n",
       "      <td>7.053057</td>\n",
       "    </tr>\n",
       "    <tr>\n",
       "      <th>418</th>\n",
       "      <td>CHEMBL4441666</td>\n",
       "      <td>nM</td>\n",
       "      <td>3.710</td>\n",
       "      <td>CCOc1ccc(Cc2nc3cc(C(=O)NCCCNc4c5c(nc6ccccc46)C...</td>\n",
       "      <td>8.430626</td>\n",
       "    </tr>\n",
       "    <tr>\n",
       "      <th>419</th>\n",
       "      <td>CHEMBL4447210</td>\n",
       "      <td>nM</td>\n",
       "      <td>16.700</td>\n",
       "      <td>CCOc1ccc(Cc2nc3cc(C(=O)NCCSSCCNc4c5c(nc6ccccc4...</td>\n",
       "      <td>7.777284</td>\n",
       "    </tr>\n",
       "    <tr>\n",
       "      <th>420</th>\n",
       "      <td>CHEMBL4474399</td>\n",
       "      <td>nM</td>\n",
       "      <td>129.000</td>\n",
       "      <td>Cc1ccc2oc(-c3ccc(OCCCCCCN4CCCCC4)cc3)cc(=O)c2c1</td>\n",
       "      <td>6.889410</td>\n",
       "    </tr>\n",
       "    <tr>\n",
       "      <th>421</th>\n",
       "      <td>CHEMBL4583534</td>\n",
       "      <td>nM</td>\n",
       "      <td>100.000</td>\n",
       "      <td>FC(F)(F)c1ccc(CNC2CCN(Cc3ccccc3)CC2)cc1</td>\n",
       "      <td>7.000000</td>\n",
       "    </tr>\n",
       "  </tbody>\n",
       "</table>\n",
       "<p>422 rows × 5 columns</p>\n",
       "</div>"
      ],
      "text/plain": [
       "    molecule_chembl_id units       Ki  \\\n",
       "0          CHEMBL11805    nM    0.104   \n",
       "1         CHEMBL208599    nM    0.026   \n",
       "2          CHEMBL60745    nM    1.630   \n",
       "3             CHEMBL95    nM  151.000   \n",
       "4         CHEMBL173309    nM   12.200   \n",
       "..                 ...   ...      ...   \n",
       "417      CHEMBL4456083    nM   88.500   \n",
       "418      CHEMBL4441666    nM    3.710   \n",
       "419      CHEMBL4447210    nM   16.700   \n",
       "420      CHEMBL4474399    nM  129.000   \n",
       "421      CHEMBL4583534    nM  100.000   \n",
       "\n",
       "                                                smiles        pKi  \n",
       "0    COc1ccccc1CN(C)CCCCCC(=O)N(C)CCCCCCCCN(C)C(=O)...   9.982967  \n",
       "1           CCC1=CC2Cc3nc4cc(Cl)ccc4c(N)c3[C@@H](C1)C2  10.585027  \n",
       "2                        CC[N+](C)(C)c1cccc(O)c1.[Br-]   8.787812  \n",
       "3                              Nc1c2c(nc3ccccc13)CCCC2   6.821023  \n",
       "4    CCN(CCCCCC(=O)N(C)CCCCCCCCN(C)C(=O)CCCCCN(CC)C...   7.913640  \n",
       "..                                                 ...        ...  \n",
       "417  CCOc1ccc(Cc2nc3cc(C(=O)N(CC)CC)ccc3n2CCCCCCNc2...   7.053057  \n",
       "418  CCOc1ccc(Cc2nc3cc(C(=O)NCCCNc4c5c(nc6ccccc46)C...   8.430626  \n",
       "419  CCOc1ccc(Cc2nc3cc(C(=O)NCCSSCCNc4c5c(nc6ccccc4...   7.777284  \n",
       "420    Cc1ccc2oc(-c3ccc(OCCCCCCN4CCCCC4)cc3)cc(=O)c2c1   6.889410  \n",
       "421            FC(F)(F)c1ccc(CNC2CCN(Cc3ccccc3)CC2)cc1   7.000000  \n",
       "\n",
       "[422 rows x 5 columns]"
      ]
     },
     "execution_count": 131,
     "metadata": {},
     "output_type": "execute_result"
    }
   ],
   "source": [
    "Output_df"
   ]
  },
  {
   "cell_type": "code",
   "execution_count": 132,
   "metadata": {},
   "outputs": [],
   "source": [
    "Output_df.to_csv('acetylcholinesterase_Ki_pKi_bioactivity_data_curated.csv', index=False)"
   ]
  }
 ],
 "metadata": {
  "kernelspec": {
   "display_name": "Python 3 (ipykernel)",
   "language": "python",
   "name": "python3"
  },
  "language_info": {
   "codemirror_mode": {
    "name": "ipython",
    "version": 3
   },
   "file_extension": ".py",
   "mimetype": "text/x-python",
   "name": "python",
   "nbconvert_exporter": "python",
   "pygments_lexer": "ipython3",
   "version": "3.9.7"
  }
 },
 "nbformat": 4,
 "nbformat_minor": 4
}
