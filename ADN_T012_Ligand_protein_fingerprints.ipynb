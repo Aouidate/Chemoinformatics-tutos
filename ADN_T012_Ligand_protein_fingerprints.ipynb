{
 "cells": [
  {
   "cell_type": "markdown",
   "id": "f100f2ee",
   "metadata": {},
   "source": [
    "# ADN_T012. Ligand Protein fingerprints\n",
    "\n",
    "Authors:\n",
    "\n",
    "* Adnane Aouidate, 2022, Structural Bioinformatics and Chemoinformatics, Institute of Organic and Analytical Chemistry (ICOA), Orléans, France.\n",
    "\n",
    "## Aim of this talktorial\n",
    "\n",
    "In the current tutorial we will learn how to use python combined with ODDT in order to calculate interaction fingerprints between a ligand and a protein.\n",
    "Let's get statrted \n",
    "\n",
    "For more details :\n",
    "\n",
    "https://oddt.readthedocs.io/en/latest/\n",
    "\n",
    "https://github.com/oddt/oddt"
   ]
  },
  {
   "cell_type": "code",
   "execution_count": 1,
   "id": "948d8269",
   "metadata": {},
   "outputs": [],
   "source": [
    "from pathlib import Path\n",
    "import oddt\n",
    "import rdkit\n",
    "from rdkit import Chem\n",
    "from oddt import interactions"
   ]
  },
  {
   "cell_type": "code",
   "execution_count": 15,
   "id": "a133bf0e-bd8f-432a-8bc3-9c65ea821c4d",
   "metadata": {},
   "outputs": [],
   "source": [
    "protein = next(oddt.toolkit.readfile('pdb', \"./PL/5R82_proteinH.pdb\"))\n",
    "protein.protein = True\n",
    "ligand = next(oddt.toolkit.readfile('sdf', \"./PL/5r82_ligandH.sdf\"))"
   ]
  },
  {
   "cell_type": "code",
   "execution_count": null,
   "id": "e561c18f-0d8a-4d64-b4ed-96890ede1f65",
   "metadata": {},
   "outputs": [],
   "source": [
    "IFP = InteractionFingerprint(ligand, protein)\n",
    "SIFP = SimpleInteractionFingerprint(ligand, protein)"
   ]
  },
  {
   "cell_type": "code",
   "execution_count": null,
   "id": "f23a37ba-efa3-42e7-b426-1e6538a39cb5",
   "metadata": {},
   "outputs": [],
   "source": [
    "\n",
    "oddt_prot = [x for x in oddt.toolkit.readfile('pdb', str(protein))][0]\n",
    "oddt_prot.protein=True # protein flag needs to be on for the molecule to be treated as a protein\n",
    "\n",
    "oddt_ligand = next(oddt.toolkit.readfile('sdf', str(ligand)))\n",
    "\n",
    "# Now, to find the interacting atoms on the protein and ligand\n",
    "prot_atoms, lig_atoms, strict = oddt.interactions.hbonds(oddt_prot, oddt_ligand)"
   ]
  },
  {
   "cell_type": "code",
   "execution_count": null,
   "id": "2cf6e73c-430c-433f-bd41-0a39ea9b63c9",
   "metadata": {},
   "outputs": [],
   "source": [
    "oddt_ligand"
   ]
  },
  {
   "cell_type": "code",
   "execution_count": 4,
   "id": "b6db9a27-f9b5-496b-996c-35bc89ec6039",
   "metadata": {},
   "outputs": [],
   "source": [
    "#oddt_prot"
   ]
  },
  {
   "cell_type": "code",
   "execution_count": 5,
   "id": "7b1b7349-5106-4cda-b43a-f991ea680ef1",
   "metadata": {},
   "outputs": [],
   "source": [
    "# Get the protein atom involved in the first H-bond\n",
    "p_at = prot_atoms[0]\n",
    "p_at_resname = p_at['resname']\n",
    "p_at_resnum = p_at['resnum']"
   ]
  },
  {
   "cell_type": "code",
   "execution_count": 6,
   "id": "5b866fd2-128a-4f56-a524-8b94e3cc9e12",
   "metadata": {},
   "outputs": [],
   "source": [
    "# Map back to the atom in the protein object\n",
    "main_struct_at = oddt_prot.atoms[p_at['id']]"
   ]
  },
  {
   "cell_type": "code",
   "execution_count": 10,
   "id": "695ab0c0-6919-4fb2-817b-2b21f3057703",
   "metadata": {},
   "outputs": [
    {
     "data": {
      "text/plain": [
       "<openbabel.openbabel.OBAtom; proxy of <Swig Object of type 'OpenBabel::OBAtom *' at 0x7fe3e2881de0> >"
      ]
     },
     "execution_count": 10,
     "metadata": {},
     "output_type": "execute_result"
    }
   ],
   "source": [
    "main_struct_at.OBAtom"
   ]
  },
  {
   "cell_type": "code",
   "execution_count": 8,
   "id": "f9841bb0-7a0e-4e27-98e2-0f4e9d92f025",
   "metadata": {},
   "outputs": [
    {
     "ename": "AttributeError",
     "evalue": "'Atom' object has no attribute 'Atom'",
     "output_type": "error",
     "traceback": [
      "\u001b[0;31m---------------------------------------------------------------------------\u001b[0m",
      "\u001b[0;31mAttributeError\u001b[0m                            Traceback (most recent call last)",
      "\u001b[0;32m/var/folders/lx/srv0s20d1vs78lcwbd1_625h0000gn/T/ipykernel_56364/1153819866.py\u001b[0m in \u001b[0;36m<module>\u001b[0;34m\u001b[0m\n\u001b[1;32m      2\u001b[0m \u001b[0mmain_struct_at\u001b[0m \u001b[0;34m=\u001b[0m \u001b[0moddt_prot\u001b[0m\u001b[0;34m.\u001b[0m\u001b[0matoms\u001b[0m\u001b[0;34m[\u001b[0m\u001b[0mp_at\u001b[0m\u001b[0;34m[\u001b[0m\u001b[0;34m'id'\u001b[0m\u001b[0;34m]\u001b[0m\u001b[0;34m]\u001b[0m\u001b[0;34m\u001b[0m\u001b[0;34m\u001b[0m\u001b[0m\n\u001b[1;32m      3\u001b[0m \u001b[0;31m# Get the underlying rdkit Atom object:\u001b[0m\u001b[0;34m\u001b[0m\u001b[0;34m\u001b[0m\u001b[0;34m\u001b[0m\u001b[0m\n\u001b[0;32m----> 4\u001b[0;31m \u001b[0mmain_struct_at_rdk\u001b[0m \u001b[0;34m=\u001b[0m \u001b[0mmain_struct_at\u001b[0m\u001b[0;34m.\u001b[0m\u001b[0mAtom\u001b[0m\u001b[0;34m\u001b[0m\u001b[0;34m\u001b[0m\u001b[0m\n\u001b[0m\u001b[1;32m      5\u001b[0m \u001b[0;31m# Get the chain ID and PDB-format atom name\u001b[0m\u001b[0;34m\u001b[0m\u001b[0;34m\u001b[0m\u001b[0;34m\u001b[0m\u001b[0m\n\u001b[1;32m      6\u001b[0m \u001b[0mchain_id\u001b[0m \u001b[0;34m=\u001b[0m \u001b[0mmain_struct_at_rdk\u001b[0m\u001b[0;34m.\u001b[0m\u001b[0mGetPDBResidueInfo\u001b[0m\u001b[0;34m(\u001b[0m\u001b[0;34m)\u001b[0m\u001b[0;34m.\u001b[0m\u001b[0mGetChainId\u001b[0m\u001b[0;34m(\u001b[0m\u001b[0;34m)\u001b[0m\u001b[0;34m\u001b[0m\u001b[0;34m\u001b[0m\u001b[0m\n",
      "\u001b[0;31mAttributeError\u001b[0m: 'Atom' object has no attribute 'Atom'"
     ]
    }
   ],
   "source": [
    "# Map back to the atom in the protein object\n",
    "main_struct_at = oddt_prot.atoms[p_at['id']]\n",
    "# Get the underlying rdkit Atom object:\n",
    "main_struct_at_rdk = main_struct_at.Atom\n",
    "# Get the chain ID and PDB-format atom name\n",
    "chain_id = main_struct_at_rdk.GetPDBResidueInfo().GetChainId()\n",
    "atom_name = main_struct_at_rdk.GetPDBResidueInfo().GetName()"
   ]
  },
  {
   "cell_type": "code",
   "execution_count": 13,
   "id": "034cf40d-6b4c-43cb-863d-3370db2951c7",
   "metadata": {},
   "outputs": [
    {
     "ename": "AttributeError",
     "evalue": "'Atom' object has no attribute 'Atom'",
     "output_type": "error",
     "traceback": [
      "\u001b[0;31m---------------------------------------------------------------------------\u001b[0m",
      "\u001b[0;31mAttributeError\u001b[0m                            Traceback (most recent call last)",
      "\u001b[0;32m/var/folders/lx/srv0s20d1vs78lcwbd1_625h0000gn/T/ipykernel_43191/1091911230.py\u001b[0m in \u001b[0;36m<module>\u001b[0;34m\u001b[0m\n\u001b[1;32m     13\u001b[0m     \u001b[0mmain_struct_at\u001b[0m \u001b[0;34m=\u001b[0m \u001b[0moddt_prot\u001b[0m\u001b[0;34m.\u001b[0m\u001b[0matoms\u001b[0m\u001b[0;34m[\u001b[0m\u001b[0mp_at\u001b[0m\u001b[0;34m[\u001b[0m\u001b[0;34m'id'\u001b[0m\u001b[0;34m]\u001b[0m\u001b[0;34m]\u001b[0m\u001b[0;34m\u001b[0m\u001b[0;34m\u001b[0m\u001b[0m\n\u001b[1;32m     14\u001b[0m     \u001b[0;31m# Get the underlying rdkit Atom object:\u001b[0m\u001b[0;34m\u001b[0m\u001b[0;34m\u001b[0m\u001b[0;34m\u001b[0m\u001b[0m\n\u001b[0;32m---> 15\u001b[0;31m     \u001b[0mmain_struct_at_rdk\u001b[0m \u001b[0;34m=\u001b[0m \u001b[0mmain_struct_at\u001b[0m\u001b[0;34m.\u001b[0m\u001b[0mAtom\u001b[0m\u001b[0;34m\u001b[0m\u001b[0;34m\u001b[0m\u001b[0m\n\u001b[0m\u001b[1;32m     16\u001b[0m     \u001b[0;31m# Get the chain ID and PDB-format atom name\u001b[0m\u001b[0;34m\u001b[0m\u001b[0;34m\u001b[0m\u001b[0;34m\u001b[0m\u001b[0m\n\u001b[1;32m     17\u001b[0m     \u001b[0mchains\u001b[0m\u001b[0;34m.\u001b[0m\u001b[0mappend\u001b[0m\u001b[0;34m(\u001b[0m\u001b[0mmain_struct_at_rdk\u001b[0m\u001b[0;34m.\u001b[0m\u001b[0mGetPDBResidueInfo\u001b[0m\u001b[0;34m(\u001b[0m\u001b[0;34m)\u001b[0m\u001b[0;34m.\u001b[0m\u001b[0mGetChainId\u001b[0m\u001b[0;34m(\u001b[0m\u001b[0;34m)\u001b[0m\u001b[0;34m)\u001b[0m\u001b[0;34m\u001b[0m\u001b[0;34m\u001b[0m\u001b[0m\n",
      "\u001b[0;31mAttributeError\u001b[0m: 'Atom' object has no attribute 'Atom'"
     ]
    }
   ],
   "source": [
    "import pandas as pd \n",
    "import numpy as np\n",
    "\n",
    "resis = []\n",
    "resns = []\n",
    "chains = []\n",
    "atomns = []\n",
    "\n",
    "for p_at in prot_atoms:\n",
    "    resis.append(p_at['resnum'])\n",
    "    resns.append(p_at['resname'])\n",
    "    # Map back to the atom in the protein object\n",
    "    main_struct_at = oddt_prot.atoms[p_at['id']]\n",
    "    # Get the underlying rdkit Atom object:\n",
    "    main_struct_at_rdk = main_struct_at.Atom\n",
    "    # Get the chain ID and PDB-format atom name\n",
    "    chains.append(main_struct_at_rdk.GetPDBResidueInfo().GetChainId())\n",
    "    atomns.append(main_struct_at_rdk.GetPDBResidueInfo().GetName())\n",
    "\n",
    "colnames = ['residue_number', 'residue_name', 'chain', 'atom']\n",
    "prot_df = pd.DataFrame(data=np.array([resis, resns, chains, atomns]).T, columns = colnames)\n",
    "prot_df"
   ]
  },
  {
   "cell_type": "code",
   "execution_count": null,
   "id": "03245e4c-1158-4888-a884-3921d6bb6c2d",
   "metadata": {},
   "outputs": [],
   "source": []
  }
 ],
 "metadata": {
  "kernelspec": {
   "display_name": "Python 3 (ipykernel)",
   "language": "python",
   "name": "python3"
  },
  "language_info": {
   "codemirror_mode": {
    "name": "ipython",
    "version": 3
   },
   "file_extension": ".py",
   "mimetype": "text/x-python",
   "name": "python",
   "nbconvert_exporter": "python",
   "pygments_lexer": "ipython3",
   "version": "3.7.13"
  }
 },
 "nbformat": 4,
 "nbformat_minor": 5
}
