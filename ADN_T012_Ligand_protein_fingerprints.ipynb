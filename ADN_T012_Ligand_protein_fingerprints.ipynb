{
 "cells": [
  {
   "cell_type": "markdown",
   "id": "f100f2ee",
   "metadata": {},
   "source": [
    "# ADN_T012. Ligand Protein fingerprints\n",
    "\n",
    "Authors:\n",
    "\n",
    "* Adnane Aouidate, 2022, Structural Bioinformatics and Chemoinformatics, Institute of Organic and Analytical Chemistry (ICOA), Orléans, France.\n",
    "\n",
    "## Aim of this talktorial\n",
    "\n",
    "# Calculating Interaction Fingerprints with Python and ODDT\n",
    "\n",
    "In the current tutorial, we will embark on a journey to explore the synergy between Python and the Open Drug Discovery Toolkit (ODDT). Our primary objective is to delve into the realm of cheminformatics and learn how to calculate interaction fingerprints that encapsulate the dynamic interactions between a ligand and a protein.\n",
    "\n",
    "Interaction fingerprints offer a multidimensional perspective on the binding events occurring at the molecular level. By combining Python's powerful scripting capabilities with the specialized tools offered by ODDT, we'll uncover the intricacies of these interactions and gain insights into molecular recognition.\n",
    "\n",
    "## Tutorial Highlights\n",
    "\n",
    "- **Introduction to Interaction Fingerprints**: Gain a clear understanding of what interaction fingerprints are and why they play a crucial role in drug discovery and molecular analysis.\n",
    "\n",
    "- **Handling Ligand-Protein Complexes**: Learn how to load and prepare ligand-protein complexes for analysis, ensuring that the structures are correctly formatted.\n",
    "\n",
    "- **Calculating Interaction Fingerprints**: Dive into the core of the tutorial as we explore how to calculate interaction fingerprints using ODDT's intuitive and robust functionalities.\n",
    "\n",
    "- **Interpreting Results**: Discover how to interpret the interaction fingerprints, understanding the significance of different interaction types and their contribution to binding.\n",
    "\n",
    "- **Visualization and Analysis**: Harness the power of Python's data visualization tools to create insightful visual representations of the interaction fingerprints, facilitating easier analysis and communication of results.\n",
    "\n",
    "## Prerequisites\n",
    "\n",
    "- Basic knowledge of Python programming.\n",
    "- Familiarity with fundamental concepts of cheminformatics and molecular biology.\n",
    "\n",
    "## Let's Get Started!\n",
    "\n",
    "We're excited to embark on this journey of exploration and discovery. By the end of this tutorial, you'll be equipped with the skills to harness Python and ODDT to calculate interaction fingerprints effectively. So, without further ado, let's dive in and begin our exploration of molecular interactions in the world of drug discovery!\n",
    "\n",
    "https://oddt.readthedocs.io/en/latest/\n",
    "\n",
    "https://github.com/oddt/oddt"
   ]
  },
  {
   "cell_type": "markdown",
   "id": "4f9889df-6459-4f8e-9f91-873ce98a2ef7",
   "metadata": {},
   "source": [
    "**Protein-ligand interactions**\n",
    "\n",
    "Non-covalent interactions between the ligand and the protein pocket or protein-protein interface play a fundamental role in governing ligand binding. This process relies on a combination of electrostatic and shape complementarities, induced adaptation, desolvation processes, and many other factors."
   ]
  },
  {
   "cell_type": "code",
   "execution_count": 4,
   "id": "948d8269",
   "metadata": {},
   "outputs": [],
   "source": [
    "from pathlib import Path\n",
    "import oddt\n",
    "import rdkit\n",
    "from rdkit import Chem\n",
    "from oddt import interactions\n",
    "from oddt.fingerprints import InteractionFingerprint, SimpleInteractionFingerprint"
   ]
  },
  {
   "cell_type": "markdown",
   "id": "9522e3c9-2d52-40b5-97b2-ffa87cd66930",
   "metadata": {},
   "source": [
    "**Prepare protein and ligand for ODDT**"
   ]
  },
  {
   "cell_type": "code",
   "execution_count": 5,
   "id": "a133bf0e-bd8f-432a-8bc3-9c65ea821c4d",
   "metadata": {},
   "outputs": [],
   "source": [
    "protein = next(oddt.toolkit.readfile('pdb', \"./PL/5R82_proteinH.pdb\"))\n",
    "protein.protein = True\n",
    "ligand = next(oddt.toolkit.readfile('sdf', \"./PL/5r82_ligandH.sdf\"))"
   ]
  },
  {
   "cell_type": "code",
   "execution_count": 6,
   "id": "e561c18f-0d8a-4d64-b4ed-96890ede1f65",
   "metadata": {},
   "outputs": [],
   "source": [
    "IFP = InteractionFingerprint(ligand, protein)\n",
    "SIFP = SimpleInteractionFingerprint(ligand, protein)"
   ]
  },
  {
   "cell_type": "code",
   "execution_count": 7,
   "id": "e95cb833-5843-431f-a98a-90a6d8d918cd",
   "metadata": {},
   "outputs": [
    {
     "data": {
      "text/plain": [
       "array([0, 0, 0, ..., 0, 0, 0], dtype=uint8)"
      ]
     },
     "execution_count": 7,
     "metadata": {},
     "output_type": "execute_result"
    }
   ],
   "source": [
    "IFP"
   ]
  },
  {
   "cell_type": "code",
   "execution_count": null,
   "id": "f23a37ba-efa3-42e7-b426-1e6538a39cb5",
   "metadata": {},
   "outputs": [],
   "source": [
    "data['plec'] = data['mol'].map(lambda x: list(PLEC(x, protein=receptor, \n",
    "                                                   size=4092, \n",
    "                                                   depth_protein=5,\n",
    "                                                   depth_ligand=1,\n",
    "                                                   distance_cutoff=4.5,\n",
    "                                                   sparse="
   ]
  },
  {
   "cell_type": "code",
   "execution_count": null,
   "id": "2cf6e73c-430c-433f-bd41-0a39ea9b63c9",
   "metadata": {},
   "outputs": [],
   "source": [
    "oddt_ligand"
   ]
  },
  {
   "cell_type": "code",
   "execution_count": 4,
   "id": "b6db9a27-f9b5-496b-996c-35bc89ec6039",
   "metadata": {},
   "outputs": [],
   "source": [
    "#oddt_prot"
   ]
  },
  {
   "cell_type": "code",
   "execution_count": 5,
   "id": "7b1b7349-5106-4cda-b43a-f991ea680ef1",
   "metadata": {},
   "outputs": [],
   "source": [
    "# Get the protein atom involved in the first H-bond\n",
    "p_at = prot_atoms[0]\n",
    "p_at_resname = p_at['resname']\n",
    "p_at_resnum = p_at['resnum']"
   ]
  },
  {
   "cell_type": "code",
   "execution_count": 6,
   "id": "5b866fd2-128a-4f56-a524-8b94e3cc9e12",
   "metadata": {},
   "outputs": [],
   "source": [
    "# Map back to the atom in the protein object\n",
    "main_struct_at = oddt_prot.atoms[p_at['id']]"
   ]
  },
  {
   "cell_type": "code",
   "execution_count": 10,
   "id": "695ab0c0-6919-4fb2-817b-2b21f3057703",
   "metadata": {},
   "outputs": [
    {
     "data": {
      "text/plain": [
       "<openbabel.openbabel.OBAtom; proxy of <Swig Object of type 'OpenBabel::OBAtom *' at 0x7fe3e2881de0> >"
      ]
     },
     "execution_count": 10,
     "metadata": {},
     "output_type": "execute_result"
    }
   ],
   "source": [
    "main_struct_at.OBAtom"
   ]
  },
  {
   "cell_type": "code",
   "execution_count": 8,
   "id": "f9841bb0-7a0e-4e27-98e2-0f4e9d92f025",
   "metadata": {},
   "outputs": [
    {
     "ename": "AttributeError",
     "evalue": "'Atom' object has no attribute 'Atom'",
     "output_type": "error",
     "traceback": [
      "\u001b[0;31m---------------------------------------------------------------------------\u001b[0m",
      "\u001b[0;31mAttributeError\u001b[0m                            Traceback (most recent call last)",
      "\u001b[0;32m/var/folders/lx/srv0s20d1vs78lcwbd1_625h0000gn/T/ipykernel_56364/1153819866.py\u001b[0m in \u001b[0;36m<module>\u001b[0;34m\u001b[0m\n\u001b[1;32m      2\u001b[0m \u001b[0mmain_struct_at\u001b[0m \u001b[0;34m=\u001b[0m \u001b[0moddt_prot\u001b[0m\u001b[0;34m.\u001b[0m\u001b[0matoms\u001b[0m\u001b[0;34m[\u001b[0m\u001b[0mp_at\u001b[0m\u001b[0;34m[\u001b[0m\u001b[0;34m'id'\u001b[0m\u001b[0;34m]\u001b[0m\u001b[0;34m]\u001b[0m\u001b[0;34m\u001b[0m\u001b[0;34m\u001b[0m\u001b[0m\n\u001b[1;32m      3\u001b[0m \u001b[0;31m# Get the underlying rdkit Atom object:\u001b[0m\u001b[0;34m\u001b[0m\u001b[0;34m\u001b[0m\u001b[0;34m\u001b[0m\u001b[0m\n\u001b[0;32m----> 4\u001b[0;31m \u001b[0mmain_struct_at_rdk\u001b[0m \u001b[0;34m=\u001b[0m \u001b[0mmain_struct_at\u001b[0m\u001b[0;34m.\u001b[0m\u001b[0mAtom\u001b[0m\u001b[0;34m\u001b[0m\u001b[0;34m\u001b[0m\u001b[0m\n\u001b[0m\u001b[1;32m      5\u001b[0m \u001b[0;31m# Get the chain ID and PDB-format atom name\u001b[0m\u001b[0;34m\u001b[0m\u001b[0;34m\u001b[0m\u001b[0;34m\u001b[0m\u001b[0m\n\u001b[1;32m      6\u001b[0m \u001b[0mchain_id\u001b[0m \u001b[0;34m=\u001b[0m \u001b[0mmain_struct_at_rdk\u001b[0m\u001b[0;34m.\u001b[0m\u001b[0mGetPDBResidueInfo\u001b[0m\u001b[0;34m(\u001b[0m\u001b[0;34m)\u001b[0m\u001b[0;34m.\u001b[0m\u001b[0mGetChainId\u001b[0m\u001b[0;34m(\u001b[0m\u001b[0;34m)\u001b[0m\u001b[0;34m\u001b[0m\u001b[0;34m\u001b[0m\u001b[0m\n",
      "\u001b[0;31mAttributeError\u001b[0m: 'Atom' object has no attribute 'Atom'"
     ]
    }
   ],
   "source": [
    "# Map back to the atom in the protein object\n",
    "main_struct_at = oddt_prot.atoms[p_at['id']]\n",
    "# Get the underlying rdkit Atom object:\n",
    "main_struct_at_rdk = main_struct_at.Atom\n",
    "# Get the chain ID and PDB-format atom name\n",
    "chain_id = main_struct_at_rdk.GetPDBResidueInfo().GetChainId()\n",
    "atom_name = main_struct_at_rdk.GetPDBResidueInfo().GetName()"
   ]
  },
  {
   "cell_type": "code",
   "execution_count": 13,
   "id": "034cf40d-6b4c-43cb-863d-3370db2951c7",
   "metadata": {},
   "outputs": [
    {
     "ename": "AttributeError",
     "evalue": "'Atom' object has no attribute 'Atom'",
     "output_type": "error",
     "traceback": [
      "\u001b[0;31m---------------------------------------------------------------------------\u001b[0m",
      "\u001b[0;31mAttributeError\u001b[0m                            Traceback (most recent call last)",
      "\u001b[0;32m/var/folders/lx/srv0s20d1vs78lcwbd1_625h0000gn/T/ipykernel_43191/1091911230.py\u001b[0m in \u001b[0;36m<module>\u001b[0;34m\u001b[0m\n\u001b[1;32m     13\u001b[0m     \u001b[0mmain_struct_at\u001b[0m \u001b[0;34m=\u001b[0m \u001b[0moddt_prot\u001b[0m\u001b[0;34m.\u001b[0m\u001b[0matoms\u001b[0m\u001b[0;34m[\u001b[0m\u001b[0mp_at\u001b[0m\u001b[0;34m[\u001b[0m\u001b[0;34m'id'\u001b[0m\u001b[0;34m]\u001b[0m\u001b[0;34m]\u001b[0m\u001b[0;34m\u001b[0m\u001b[0;34m\u001b[0m\u001b[0m\n\u001b[1;32m     14\u001b[0m     \u001b[0;31m# Get the underlying rdkit Atom object:\u001b[0m\u001b[0;34m\u001b[0m\u001b[0;34m\u001b[0m\u001b[0;34m\u001b[0m\u001b[0m\n\u001b[0;32m---> 15\u001b[0;31m     \u001b[0mmain_struct_at_rdk\u001b[0m \u001b[0;34m=\u001b[0m \u001b[0mmain_struct_at\u001b[0m\u001b[0;34m.\u001b[0m\u001b[0mAtom\u001b[0m\u001b[0;34m\u001b[0m\u001b[0;34m\u001b[0m\u001b[0m\n\u001b[0m\u001b[1;32m     16\u001b[0m     \u001b[0;31m# Get the chain ID and PDB-format atom name\u001b[0m\u001b[0;34m\u001b[0m\u001b[0;34m\u001b[0m\u001b[0;34m\u001b[0m\u001b[0m\n\u001b[1;32m     17\u001b[0m     \u001b[0mchains\u001b[0m\u001b[0;34m.\u001b[0m\u001b[0mappend\u001b[0m\u001b[0;34m(\u001b[0m\u001b[0mmain_struct_at_rdk\u001b[0m\u001b[0;34m.\u001b[0m\u001b[0mGetPDBResidueInfo\u001b[0m\u001b[0;34m(\u001b[0m\u001b[0;34m)\u001b[0m\u001b[0;34m.\u001b[0m\u001b[0mGetChainId\u001b[0m\u001b[0;34m(\u001b[0m\u001b[0;34m)\u001b[0m\u001b[0;34m)\u001b[0m\u001b[0;34m\u001b[0m\u001b[0;34m\u001b[0m\u001b[0m\n",
      "\u001b[0;31mAttributeError\u001b[0m: 'Atom' object has no attribute 'Atom'"
     ]
    }
   ],
   "source": [
    "import pandas as pd \n",
    "import numpy as np\n",
    "\n",
    "resis = []\n",
    "resns = []\n",
    "chains = []\n",
    "atomns = []\n",
    "\n",
    "for p_at in prot_atoms:\n",
    "    resis.append(p_at['resnum'])\n",
    "    resns.append(p_at['resname'])\n",
    "    # Map back to the atom in the protein object\n",
    "    main_struct_at = oddt_prot.atoms[p_at['id']]\n",
    "    # Get the underlying rdkit Atom object:\n",
    "    main_struct_at_rdk = main_struct_at.Atom\n",
    "    # Get the chain ID and PDB-format atom name\n",
    "    chains.append(main_struct_at_rdk.GetPDBResidueInfo().GetChainId())\n",
    "    atomns.append(main_struct_at_rdk.GetPDBResidueInfo().GetName())\n",
    "\n",
    "colnames = ['residue_number', 'residue_name', 'chain', 'atom']\n",
    "prot_df = pd.DataFrame(data=np.array([resis, resns, chains, atomns]).T, columns = colnames)\n",
    "prot_df"
   ]
  },
  {
   "cell_type": "code",
   "execution_count": null,
   "id": "03245e4c-1158-4888-a884-3921d6bb6c2d",
   "metadata": {},
   "outputs": [],
   "source": []
  }
 ],
 "metadata": {
  "kernelspec": {
   "display_name": "Python 3 (ipykernel)",
   "language": "python",
   "name": "python3"
  },
  "language_info": {
   "codemirror_mode": {
    "name": "ipython",
    "version": 3
   },
   "file_extension": ".py",
   "mimetype": "text/x-python",
   "name": "python",
   "nbconvert_exporter": "python",
   "pygments_lexer": "ipython3",
   "version": "3.7.13"
  }
 },
 "nbformat": 4,
 "nbformat_minor": 5
}
