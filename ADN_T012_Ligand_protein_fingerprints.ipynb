{
 "cells": [
  {
   "cell_type": "markdown",
   "id": "f100f2ee",
   "metadata": {},
   "source": [
    "# ADN_T012. Ligand Protein fingerprints\n",
    "\n",
    "Authors:\n",
    "\n",
    "* Adnane Aouidate, 2022, Structural Bioinformatics and Chemoinformatics, Institute of Organic and Analytical Chemistry (ICOA), Orléans, France.\n",
    "\n",
    "## Aim of this talktorial\n",
    "\n",
    "In the current tutorial we will learn how to use python combined with ODDT in order to calculate interaction fingerprints between a ligand and a protein.\n",
    "Let's get statrted \n",
    "\n",
    "For more details :\n",
    "\n",
    "https://oddt.readthedocs.io/en/latest/\n",
    "\n",
    "https://github.com/oddt/oddt"
   ]
  },
  {
   "cell_type": "code",
   "execution_count": 19,
   "id": "948d8269",
   "metadata": {},
   "outputs": [],
   "source": [
    "from pathlib import Path\n",
    "import oddt\n",
    "import rdkit\n",
    "from rdkit import Chem\n",
    "from oddt import interactions"
   ]
  },
  {
   "cell_type": "code",
   "execution_count": 2,
   "id": "f23a37ba-efa3-42e7-b426-1e6538a39cb5",
   "metadata": {},
   "outputs": [],
   "source": [
    "protein_path = Path('./PL', '5r82_proteinH.pdb')\n",
    "ligand_path = Path('./PL', '5r82_ligandH.sdf')\n",
    "\n",
    "oddt_prot = [x for x in oddt.toolkit.readfile('pdb', str(protein_path))][0]\n",
    "oddt_prot.protein=True # protein flag needs to be on for the molecule to be treated as a protein\n",
    "\n",
    "oddt_ligand = next(oddt.toolkit.readfile('sdf', str(ligand_path)))\n",
    "\n",
    "# Now, to find the interacting atoms on the protein and ligand\n",
    "prot_atoms, lig_atoms, strict = oddt.interactions.hbonds(oddt_prot, oddt_ligand)"
   ]
  },
  {
   "cell_type": "code",
   "execution_count": 3,
   "id": "2cf6e73c-430c-433f-bd41-0a39ea9b63c9",
   "metadata": {},
   "outputs": [
    {
     "data": {
      "image/png": "[encoded data removed]",
      "text/html": [
       "<img src=\"data:image/png;base64,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\" alt=\"5r82_ligand.pdb\">"
      ],
      "text/plain": [
       "<img src=\"data:image/png;base64,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\" alt=\"5r82_ligand.pdb\">"
      ]
     },
     "execution_count": 3,
     "metadata": {},
     "output_type": "execute_result"
    }
   ],
   "source": [
    "oddt_ligand"
   ]
  },
  {
   "cell_type": "code",
   "execution_count": null,
   "id": "b6db9a27-f9b5-496b-996c-35bc89ec6039",
   "metadata": {},
   "outputs": [],
   "source": [
    "#oddt_prot"
   ]
  },
  {
   "cell_type": "code",
   "execution_count": 4,
   "id": "7b1b7349-5106-4cda-b43a-f991ea680ef1",
   "metadata": {},
   "outputs": [],
   "source": [
    "# Get the protein atom involved in the first H-bond\n",
    "p_at = prot_atoms[0]\n",
    "p_at_resname = p_at['resname']\n",
    "p_at_resnum = p_at['resnum']"
   ]
  },
  {
   "cell_type": "code",
   "execution_count": 20,
   "id": "5b866fd2-128a-4f56-a524-8b94e3cc9e12",
   "metadata": {},
   "outputs": [],
   "source": [
    "# Map back to the atom in the protein object\n",
    "main_struct_at = oddt_prot.atoms[p_at['id']]"
   ]
  },
  {
   "cell_type": "code",
   "execution_count": 21,
   "id": "695ab0c0-6919-4fb2-817b-2b21f3057703",
   "metadata": {},
   "outputs": [
    {
     "data": {
      "text/plain": [
       "<openbabel.openbabel.OBAtom; proxy of <Swig Object of type 'OpenBabel::OBAtom *' at 0x7f79f2bfee10> >"
      ]
     },
     "execution_count": 21,
     "metadata": {},
     "output_type": "execute_result"
    }
   ],
   "source": [
    "main_struct_at.OBAtom"
   ]
  },
  {
   "cell_type": "code",
   "execution_count": 25,
   "id": "f9841bb0-7a0e-4e27-98e2-0f4e9d92f025",
   "metadata": {},
   "outputs": [
    {
     "ename": "SyntaxError",
     "evalue": "invalid syntax (3263592044.py, line 4)",
     "output_type": "error",
     "traceback": [
      "\u001b[0;36m  File \u001b[0;32m\"/var/folders/lx/srv0s20d1vs78lcwbd1_625h0000gn/T/ipykernel_43974/3263592044.py\"\u001b[0;36m, line \u001b[0;32m4\u001b[0m\n\u001b[0;31m    main_struct_at_rdk = main_struct_at.Atom.\u001b[0m\n\u001b[0m                                             ^\u001b[0m\n\u001b[0;31mSyntaxError\u001b[0m\u001b[0;31m:\u001b[0m invalid syntax\n"
     ]
    }
   ],
   "source": [
    "# Map back to the atom in the protein object\n",
    "main_struct_at = oddt_prot.atoms[p_at['id']]\n",
    "# Get the underlying rdkit Atom object:\n",
    "main_struct_at_rdk = main_struct_at.Atom\n",
    "# Get the chain ID and PDB-format atom name\n",
    "chain_id = main_struct_at_rdk.GetPDBResidueInfo().GetChainId()\n",
    "atom_name = main_struct_at_rdk.GetPDBResidueInfo().GetName()"
   ]
  },
  {
   "cell_type": "code",
   "execution_count": 13,
   "id": "034cf40d-6b4c-43cb-863d-3370db2951c7",
   "metadata": {},
   "outputs": [
    {
     "ename": "AttributeError",
     "evalue": "'Atom' object has no attribute 'Atom'",
     "output_type": "error",
     "traceback": [
      "\u001b[0;31m---------------------------------------------------------------------------\u001b[0m",
      "\u001b[0;31mAttributeError\u001b[0m                            Traceback (most recent call last)",
      "\u001b[0;32m/var/folders/lx/srv0s20d1vs78lcwbd1_625h0000gn/T/ipykernel_43191/1091911230.py\u001b[0m in \u001b[0;36m<module>\u001b[0;34m\u001b[0m\n\u001b[1;32m     13\u001b[0m     \u001b[0mmain_struct_at\u001b[0m \u001b[0;34m=\u001b[0m \u001b[0moddt_prot\u001b[0m\u001b[0;34m.\u001b[0m\u001b[0matoms\u001b[0m\u001b[0;34m[\u001b[0m\u001b[0mp_at\u001b[0m\u001b[0;34m[\u001b[0m\u001b[0;34m'id'\u001b[0m\u001b[0;34m]\u001b[0m\u001b[0;34m]\u001b[0m\u001b[0;34m\u001b[0m\u001b[0;34m\u001b[0m\u001b[0m\n\u001b[1;32m     14\u001b[0m     \u001b[0;31m# Get the underlying rdkit Atom object:\u001b[0m\u001b[0;34m\u001b[0m\u001b[0;34m\u001b[0m\u001b[0;34m\u001b[0m\u001b[0m\n\u001b[0;32m---> 15\u001b[0;31m     \u001b[0mmain_struct_at_rdk\u001b[0m \u001b[0;34m=\u001b[0m \u001b[0mmain_struct_at\u001b[0m\u001b[0;34m.\u001b[0m\u001b[0mAtom\u001b[0m\u001b[0;34m\u001b[0m\u001b[0;34m\u001b[0m\u001b[0m\n\u001b[0m\u001b[1;32m     16\u001b[0m     \u001b[0;31m# Get the chain ID and PDB-format atom name\u001b[0m\u001b[0;34m\u001b[0m\u001b[0;34m\u001b[0m\u001b[0;34m\u001b[0m\u001b[0m\n\u001b[1;32m     17\u001b[0m     \u001b[0mchains\u001b[0m\u001b[0;34m.\u001b[0m\u001b[0mappend\u001b[0m\u001b[0;34m(\u001b[0m\u001b[0mmain_struct_at_rdk\u001b[0m\u001b[0;34m.\u001b[0m\u001b[0mGetPDBResidueInfo\u001b[0m\u001b[0;34m(\u001b[0m\u001b[0;34m)\u001b[0m\u001b[0;34m.\u001b[0m\u001b[0mGetChainId\u001b[0m\u001b[0;34m(\u001b[0m\u001b[0;34m)\u001b[0m\u001b[0;34m)\u001b[0m\u001b[0;34m\u001b[0m\u001b[0;34m\u001b[0m\u001b[0m\n",
      "\u001b[0;31mAttributeError\u001b[0m: 'Atom' object has no attribute 'Atom'"
     ]
    }
   ],
   "source": [
    "import pandas as pd \n",
    "import numpy as np\n",
    "\n",
    "resis = []\n",
    "resns = []\n",
    "chains = []\n",
    "atomns = []\n",
    "\n",
    "for p_at in prot_atoms:\n",
    "    resis.append(p_at['resnum'])\n",
    "    resns.append(p_at['resname'])\n",
    "    # Map back to the atom in the protein object\n",
    "    main_struct_at = oddt_prot.atoms[p_at['id']]\n",
    "    # Get the underlying rdkit Atom object:\n",
    "    main_struct_at_rdk = main_struct_at.Atom\n",
    "    # Get the chain ID and PDB-format atom name\n",
    "    chains.append(main_struct_at_rdk.GetPDBResidueInfo().GetChainId())\n",
    "    atomns.append(main_struct_at_rdk.GetPDBResidueInfo().GetName())\n",
    "\n",
    "colnames = ['residue_number', 'residue_name', 'chain', 'atom']\n",
    "prot_df = pd.DataFrame(data=np.array([resis, resns, chains, atomns]).T, columns = colnames)\n",
    "prot_df"
   ]
  },
  {
   "cell_type": "code",
   "execution_count": null,
   "id": "03245e4c-1158-4888-a884-3921d6bb6c2d",
   "metadata": {},
   "outputs": [],
   "source": []
  }
 ],
 "metadata": {
  "kernelspec": {
   "display_name": "Python 3 (ipykernel)",
   "language": "python",
   "name": "python3"
  },
  "language_info": {
   "codemirror_mode": {
    "name": "ipython",
    "version": 3
   },
   "file_extension": ".py",
   "mimetype": "text/x-python",
   "name": "python",
   "nbconvert_exporter": "python",
   "pygments_lexer": "ipython3",
   "version": "3.7.13"
  }
 },
 "nbformat": 4,
 "nbformat_minor": 5
}
