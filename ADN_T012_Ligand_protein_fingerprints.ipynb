{
 "cells": [
  {
   "cell_type": "markdown",
   "id": "f100f2ee",
   "metadata": {},
   "source": [
    "# ADN_T012. Ligand Protein fingerprints\n",
    "\n",
    "Authors:\n",
    "\n",
    "* Adnane Aouidate, 2022, Structural Bioinformatics and Chemoinformatics, Institute of Organic and Analytical Chemistry (ICOA), Orléans, France.\n",
    "\n",
    "## Aim of this talktorial\n",
    "\n",
    "In the current tutorial we will learn how to use python combined with ODDT in order to calculate interaction fingerprints between a ligand and a protein.\n",
    "Let's get statrted \n",
    "\n",
    "For more details :\n",
    "\n",
    "https://oddt.readthedocs.io/en/latest/\n",
    "\n",
    "https://github.com/oddt/oddt"
   ]
  },
  {
   "cell_type": "code",
   "execution_count": null,
   "id": "948d8269",
   "metadata": {},
   "outputs": [],
   "source": []
  }
 ],
 "metadata": {
  "kernelspec": {
   "display_name": "Python 3 (ipykernel)",
   "language": "python",
   "name": "python3"
  },
  "language_info": {
   "codemirror_mode": {
    "name": "ipython",
    "version": 3
   },
   "file_extension": ".py",
   "mimetype": "text/x-python",
   "name": "python",
   "nbconvert_exporter": "python",
   "pygments_lexer": "ipython3",
   "version": "3.7.13"
  }
 },
 "nbformat": 4,
 "nbformat_minor": 5
}
